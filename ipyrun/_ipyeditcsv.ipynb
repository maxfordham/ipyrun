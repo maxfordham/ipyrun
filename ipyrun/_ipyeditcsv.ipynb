{
 "cells": [
  {
   "cell_type": "code",
   "execution_count": 2,
   "metadata": {},
   "outputs": [],
   "source": [
    "import os \n",
    "FDIR = os.path.dirname(os.path.realpath('__file__'))\n",
    "import pandas as pd\n",
    "from IPython.display import Markdown, clear_output\n",
    "import ipywidgets as widgets\n",
    "from ipysheet import from_dataframe, to_dataframe\n",
    "import ipysheet\n",
    "from datetime import datetime\n",
    "import time\n",
    "from mf_modules.file_operations import make_dir\n",
    "\n",
    "from pprint import pprint\n",
    "from mf_modules.datamine_functions import time_meta_data\n",
    "from mf_modules.pandas_operations import del_matching"
   ]
  },
  {
   "cell_type": "code",
   "execution_count": 3,
   "metadata": {},
   "outputs": [],
   "source": [
    "class EditCsv():\n",
    "\n",
    "    def __init__(self, fpth_in, fpth_out=None):\n",
    "        self.fpth_in = fpth_in\n",
    "        if fpth_out==None:\n",
    "            self.fpth_out = fpth_in\n",
    "        else:\n",
    "            self.fpth_out = fpth_out\n",
    "        self.sheet = self._sheet_from_fpth(self.fpth_in)\n",
    "        self.form()\n",
    "        self._init_controls()\n",
    "        self.out = widgets.Output()\n",
    "        \n",
    "    def form(self):\n",
    "        self.save_changes = widgets.Button(description='save changes',button_style='success')\n",
    "        self.button_bar = widgets.HBox([self.save_changes])\n",
    "        self.layout = self.sheet\n",
    "        \n",
    "    def _init_controls(self):\n",
    "        self.save_changes.on_click(self._save_changes)\n",
    "        \n",
    "    def _sheet_from_fpth(self, fpth):\n",
    "        df=del_matching(pd.read_csv(fpth),'Unnamed')\n",
    "        sheet = ipysheet.sheet(ipysheet.from_dataframe(df)) # initiate sheet\n",
    "        return sheet\n",
    "    \n",
    "    def _save_changes(self, sender):\n",
    "        self.data_out = to_dataframe(self.sheet)\n",
    "        self.data_out.to_csv(self.fpth_out)\n",
    "        display(Markdown('changes saved to: {0}'.format(self.fpth_out)))\n",
    "        with self.out:\n",
    "            clear_output()\n",
    "            dateTimeObj = datetime.now()\n",
    "            timestampStr = dateTimeObj.strftime(\"%d-%b-%Y %H:%M:%S:\")\n",
    "            display(Markdown('{0} changes saved to: {1}'.format(timestampStr,self.fpth_out)))\n",
    "        self.display()\n",
    "\n",
    "    def display(self):\n",
    "        display(self.button_bar, self.out, self.layout)\n",
    "        \n",
    "    def _ipython_display_(self):\n",
    "        self.display() "
   ]
  },
  {
   "cell_type": "code",
   "execution_count": 4,
   "metadata": {},
   "outputs": [
    {
     "data": {
      "application/vnd.jupyter.widget-view+json": {
       "model_id": "82335ef656354cac8d61c3280d416200",
       "version_major": 2,
       "version_minor": 0
      },
      "text/plain": [
       "HBox(children=(Button(button_style='success', description='save changes', style=ButtonStyle()),))"
      ]
     },
     "metadata": {},
     "output_type": "display_data"
    },
    {
     "data": {
      "application/vnd.jupyter.widget-view+json": {
       "model_id": "5f2610a2c36b43b49faf66115ae50572",
       "version_major": 2,
       "version_minor": 0
      },
      "text/plain": [
       "Output()"
      ]
     },
     "metadata": {},
     "output_type": "display_data"
    },
    {
     "data": {
      "application/vnd.jupyter.widget-view+json": {
       "model_id": "ecc573575ecf401688e67117029fa653",
       "version_major": 2,
       "version_minor": 0
      },
      "text/plain": [
       "Sheet(cells=(Cell(choice=[], column_end=0, column_start=0, numeric_format=None, row_end=1, row_start=0, squeez…"
      ]
     },
     "metadata": {},
     "output_type": "display_data"
    },
    {
     "name": "stdout",
     "output_type": "stream",
     "text": [
      "{'fdir': '.',\n",
      " 'fdir_config': '.\\\\appdata\\\\config',\n",
      " 'fdir_inputs': '.\\\\appdata\\\\inputs',\n",
      " 'fdir_inputs_archive': '.\\\\appdata\\\\inputs\\\\archive',\n",
      " 'fdir_log': '.\\\\appdata\\\\log',\n",
      " 'fnm_config': 'config-eplus_pipework_params.json',\n",
      " 'fnm_log': 'log-eplus_pipework_params.csv',\n",
      " 'fpth_config': '.\\\\appdata\\\\config\\\\config-eplus_pipework_params.json',\n",
      " 'fpth_inputs': '.\\\\appdata\\\\inputs\\\\inputs-eplus_pipework_params.csv',\n",
      " 'fpth_inputs_options': {'project': {'fdir': '.\\\\appdata\\\\inputs',\n",
      "                                     'fpths': ['.\\\\appdata\\\\inputs\\\\inputs-eplus_pipework_params-1.csv',\n",
      "                                               '.\\\\appdata\\\\inputs\\\\inputs-eplus_pipework_params.csv',\n",
      "                                               '.\\\\appdata\\\\inputs\\\\archive\\\\20200605-1625-inputs-eplus_pipework_params.csv',\n",
      "                                               '.\\\\appdata\\\\inputs\\\\archive\\\\20200605-1625inputs-eplus_pipework_params.csv',\n",
      "                                               '.\\\\appdata\\\\inputs\\\\archive\\\\20200607_1420-jg-inputs-eplus_pipework_params.csv']},\n",
      "                         'template': {'fdir': 'C:\\\\engDev\\\\git_mf\\\\MF_Toolbox\\\\dev\\\\mf_scripts\\\\template_inputs',\n",
      "                                      'fpths': ['C:\\\\engDev\\\\git_mf\\\\MF_Toolbox\\\\dev\\\\mf_scripts\\\\template_inputs\\\\inputs-eplus_pipework_params.csv']}},\n",
      " 'fpth_log': '.\\\\appdata\\\\log\\\\log-eplus_pipework_params.csv',\n",
      " 'fpth_script': 'C:\\\\engDev\\\\git_mf\\\\MF_Toolbox\\\\dev\\\\mf_scripts\\\\eplus_pipework_params.py',\n",
      " 'fpths_outputs': ['..\\\\data\\\\external\\\\eplus_pipework_params.csv'],\n",
      " 'jobno': 'engDev',\n",
      " 'pretty_name': 'eplus_pipework_params',\n",
      " 'process_name': 'eplus_pipework_params',\n",
      " 'script_outputs': {'0': {'description': 'a csv lookup table with the backend '\n",
      "                                         'nomenclature of how pipework '\n",
      "                                         'characteristics are named within '\n",
      "                                         'energyPlus.',\n",
      "                          'fdir': '..\\\\data\\\\external',\n",
      "                          'fnm': 'eplus_pipework_params.csv'}}}\n"
     ]
    }
   ],
   "source": [
    "if __name__ == \"__main__\":\n",
    "    import os\n",
    "    fpth = os.path.join(os.environ['mf_root'],r'MF_Toolbox\\dev\\mf_scripts\\configs\\eplus_pipework_params.csv')\n",
    "    editcsv = EditCsv(fpth)\n",
    "    display(editcsv)\n",
    "\n",
    "    \n",
    "    config={\n",
    "    'fpth_script':os.path.join(os.environ['mf_root'],r'MF_Toolbox\\dev\\mf_scripts\\eplus_pipework_params.py'),\n",
    "    'fdir':'.',\n",
    "    }\n",
    "    from _runconfig import RunConfig\n",
    "    from pprint import pprint\n",
    "    rc = RunConfig(config)\n",
    "    pprint(rc.config)\n",
    "    pd.read_csv(rc.fpth_log)"
   ]
  },
  {
   "cell_type": "code",
   "execution_count": 5,
   "metadata": {
    "lines_to_next_cell": 2
   },
   "outputs": [],
   "source": [
    "\n",
    "rc = RunConfig(config)"
   ]
  },
  {
   "cell_type": "code",
   "execution_count": 6,
   "metadata": {
    "lines_to_next_cell": 2
   },
   "outputs": [],
   "source": [
    "\n",
    "from mf_modules.pandas_operations import del_matching\n",
    "\n",
    "\n",
    "class EditRunCsv(EditCsv,RunConfig):\n",
    "    \n",
    "    def __init__(self, fpth_in, config, fpth_out=None):\n",
    "        self.out = widgets.Output()\n",
    "        self.config = config\n",
    "        self.user_keys = list(config.keys())\n",
    "        self.errors = []\n",
    "        self._update_config()\n",
    "        self.fpth_in = fpth_in\n",
    "        if fpth_out==None:\n",
    "            self.fpth_out = fpth_in\n",
    "        else:\n",
    "            self.fpth_out = fpth_out\n",
    "        self.sheet = self._sheet_from_fpth(self.fpth_in)\n",
    "        self.form()\n",
    "        self._init_controls()\n",
    "        self.iserror = False\n",
    "        self.errormessage = 'no error'\n",
    "        \n",
    "        \n",
    "    @property\n",
    "    def mf_layout(self):\n",
    "        return widgets.Layout(\n",
    "            display='flex',\n",
    "            flex_flow='row',\n",
    "            justify_content='flex-start',\n",
    "            #border='dashed 0.2px green',\n",
    "            grid_auto_columns='True',\n",
    "            width='100%',\n",
    "            align_items='stretch',  \n",
    "        )\n",
    "        \n",
    "    def form(self):\n",
    "        \n",
    "        # button bar\n",
    "        self.save_changes = widgets.Button(description='save changes',button_style='success',style={'font_weight':'bold'})\n",
    "        self.revert = widgets.Button(description='revert to last save',button_style='warning',style={'font_weight':'bold'})#,button_style='success'\n",
    "        self.load_inputs = widgets.ToggleButton(description='inputs from file',button_style='info',style={'font_weight':'bold'})\n",
    "        self.button_bar = widgets.HBox([self.save_changes,self.revert, self.load_inputs])\n",
    "        \n",
    "        # nested buttons\n",
    "        template_inputs = self.get_template_inputs()\n",
    "        project_inputs = self.get_logged_inputs()\n",
    "        options = dict(template_inputs, **project_inputs)\n",
    "        self.load_button = widgets.Button(description = 'load',icon='fa-upload',style={'font_weight':'bold'})\n",
    "        self.choose_inputs = widgets.RadioButtons(\n",
    "            options = options,\n",
    "            layout = self.mf_layout,\n",
    "        )\n",
    "        self.load = widgets.VBox([self.load_button,self.choose_inputs])\n",
    "        with self.out:\n",
    "            clear_output()\n",
    "            if self.load_inputs.value:\n",
    "                display(self.load_button)\n",
    "                display(self.choose_inputs)\n",
    "            display(self.sheet)\n",
    "        \n",
    "    def _init_controls(self):\n",
    "        self.save_changes.on_click(self._save_changes)\n",
    "        self.load_inputs.observe(self._load_inputs,'value')\n",
    "        self.load_button.on_click(self._load)\n",
    "        self.revert.on_click(self._revert)\n",
    "        \n",
    "    def _revert(self, sender):\n",
    "        self.sheet = self._sheet_from_fpth(self.fpth_inputs)\n",
    "        with self.out:\n",
    "            clear_output()\n",
    "            display(self.sheet)\n",
    "        \n",
    "        \n",
    "    def _save_changes(self, sender):\n",
    "        self.data_out = to_dataframe(self.sheet)\n",
    "        self.data_out.to_csv(self.fpth_out)\n",
    "        display(Markdown('changes saved to: {0}'.format(self.fpth_out)))\n",
    "        with self.out:\n",
    "            clear_output()\n",
    "            if self.load_inputs.value:\n",
    "                display(self.load_button)\n",
    "                display(self.choose_inputs)\n",
    "            dateTimeObj = datetime.now()\n",
    "            timestampStr = dateTimeObj.strftime(\"%d-%b-%Y %H:%M:%S:\")\n",
    "            display(Markdown('{0} changes saved to: {1}'.format(timestampStr,self.fpth_out)))\n",
    "            display(self.sheet)\n",
    "        self.display()\n",
    "\n",
    "    def _load(self,sender):\n",
    "        fpth = self.choose_inputs.value\n",
    "        try:\n",
    "            self.iserror = False\n",
    "            self.sheet = self._sheet_from_fpth(fpth)\n",
    "        except:\n",
    "            self.iserror = True\n",
    "            self.errormessage = '''__error__ loading : {0}.   \n",
    "            the file has either been deleted or modified such that it is unreadable'''.format(fpth)\n",
    "        \n",
    "        with self.out:\n",
    "            clear_output()\n",
    "            if self.load_inputs.value:\n",
    "                display(self.load_button)\n",
    "                display(self.choose_inputs)\n",
    "            if self.iserror:\n",
    "                display(Markdown(self.errormessage))\n",
    "            display(self.sheet)\n",
    "        self.display()\n",
    "        \n",
    "    def _load_inputs(self,sender):\n",
    "        with self.out:\n",
    "            clear_output()\n",
    "            if self.load_inputs.value:\n",
    "                display(self.load_button)\n",
    "                display(self.choose_inputs)\n",
    "            display(self.sheet)\n",
    "\n",
    "    def get_logged_inputs(self):\n",
    "\n",
    "        def _gettags(tags):\n",
    "            if tags == 'nan':\n",
    "                return 'no tags'\n",
    "            else:\n",
    "                return tags\n",
    "        def _getissue(formalIssue):\n",
    "            if formalIssue == 'nan':\n",
    "                return 'no formal issue'\n",
    "            else:\n",
    "                return formalIssue\n",
    "\n",
    "        df_log = del_matching(pd.read_csv(self.fpth_log),'Unnamed')\n",
    "        di = {}\n",
    "        for n in range(0,len(df_log)):\n",
    "            #description = str(self.jobno)+ ' PROJECT FILE' + ' - ' \\\n",
    "            #    + str(df_log.loc[n,'processName']) + ' - ' \\\n",
    "            #    + str(df_log.loc[n,'datetime']) + ' - ' \\\n",
    "            #    + str(df_log.loc[n,'user']) + ' - ' \\\n",
    "            #    + _getissue(str(df_log.loc[n,'formalIssue'])) + ' - ' \\\n",
    "            #    + _gettags(str(df_log.loc[n,'tags']))\n",
    "            description = 'PROJECT: ' + df_log.loc[n,'fpthInputs']\n",
    "            di[description] = df_log.loc[n,'fpthInputs']\n",
    "        return di\n",
    "\n",
    "    def get_template_inputs(self):\n",
    "        fpths = self.fpth_inputs_options['template']['fpths']\n",
    "        di = {}\n",
    "        for fpth in fpths:\n",
    "            #description = 'MXF TEMPLATE FILE' + ' - ' \\\n",
    "            #    + rc.process_name + ' - ' \\\n",
    "            #    + time_meta_data(fpth,as_DataFrame=True)['time_of_most_recent_content_modification'][0] + ' - ' \\\n",
    "            #    + os.path.basename(fpth) \n",
    "            description = 'TEMPLATE: '+ fpth\n",
    "            di[description] = fpth\n",
    "        return di\n",
    "\n",
    "    def display(self):\n",
    "        display(self.button_bar)\n",
    "        display(self.out)\n",
    "        "
   ]
  },
  {
   "cell_type": "code",
   "execution_count": 7,
   "metadata": {
    "lines_to_next_cell": 0
   },
   "outputs": [
    {
     "data": {
      "application/vnd.jupyter.widget-view+json": {
       "model_id": "5c5fbd4f16084ea3a9027c005881d4b4",
       "version_major": 2,
       "version_minor": 0
      },
      "text/plain": [
       "HBox(children=(Button(button_style='success', description='save changes', style=ButtonStyle(font_weight='bold'…"
      ]
     },
     "metadata": {},
     "output_type": "display_data"
    },
    {
     "data": {
      "application/vnd.jupyter.widget-view+json": {
       "model_id": "87439814715849ed8410f6461be2f533",
       "version_major": 2,
       "version_minor": 0
      },
      "text/plain": [
       "Output()"
      ]
     },
     "metadata": {},
     "output_type": "display_data"
    }
   ],
   "source": [
    "config={\n",
    "    'fpth_script':os.path.join(os.environ['mf_root'],r'MF_Toolbox\\dev\\mf_scripts\\eplus_pipework_params.py'),\n",
    "    'fdir':'.',\n",
    "    }\n",
    "#from pprint import pprint\n",
    "#rc = RunConfig(config)\n",
    "#pprint(rc.config)\n",
    "\n",
    "e = EditRunCsv(fpth,config)\n",
    "e"
   ]
  },
  {
   "cell_type": "code",
   "execution_count": 8,
   "metadata": {
    "lines_to_next_cell": 2
   },
   "outputs": [],
   "source": [
    "from mf_modules.pydtype_operations import read_json, read_yaml\n",
    "from shutil import copyfile\n",
    "\n",
    "class VersionController(EditCsv):\n",
    "\n",
    "    def __init__(self):\n",
    "        self.fpth_in = fpth_in\n",
    "        self.fpth_out = fpth_out\n",
    "        \n",
    "    @property\n",
    "    def _map(self):\n",
    "        return {\n",
    "            '.csv':self.read_csv,\n",
    "            '.json':self.read_json,\n",
    "            '.yaml':self.read_yaml,\n",
    "        }\n",
    "    \n",
    "    def read_csv(self):\n",
    "        self.existing_data = pd.read_csv(self.fpth_out)\n",
    "        \n",
    "    def read_json(self):\n",
    "        self.existing_data = read_json(self.fpth_out)\n",
    "        \n",
    "    def read_json(self):\n",
    "        self.existing_data = read_yaml(self.fpth_out)\n",
    "    \n",
    "    def detect_change(self):\n",
    "        if self.existing_data == self.data_out:\n",
    "            self.change = True\n",
    "        else:\n",
    "            self.change = False\n",
    "    \n",
    "    def archive_file(self):\n",
    "        fdir = os.path.join(os.path.dirname(self.fpth_out,'archive'))\n",
    "        timestamp = str(pd.to_datetime('today'))[:-9].replace(':','').replace('-','').replace(' ','-')\n",
    "        ext = os.path.splitext(self.fpth_out)[1]\n",
    "        fnm = timestamp + os.path.splitext(os.path.basename(self.fpth_out))[1] + ext\n",
    "        fpth = os.path.join(fdir,fnm)\n",
    "        copyfile(self.fpth_out,fpth)\n",
    "        \n"
   ]
  },
  {
   "cell_type": "code",
   "execution_count": 29,
   "metadata": {},
   "outputs": [],
   "source": [
    "\n"
   ]
  },
  {
   "cell_type": "code",
   "execution_count": 27,
   "metadata": {},
   "outputs": [],
   "source": [
    "    def _archive_config(self):\n",
    "        # JUST NEED TO COPY AND PASTE FOMR THE fpth_inputs FOLDER!\n",
    "        fdir = os.path.join(os.path.dirname(self.config['process_name']),'archive')\n",
    "        make_dir(fdir)\n",
    "        _time = str(pd.to_datetime('today'))[:-9].replace(':','').replace('-','').replace(' ','-')\n",
    "        _ext = os.path.splitext(self.config['process_name'])[1]\n",
    "        fnm = _time + self.config['process_name'] + _ext\n",
    "        fpth = os.path.join(fdir,fnm)\n",
    "        li = [\n",
    "            {\n",
    "                'old_fpth': 'adf'\n",
    "            }\n",
    "        ]\n",
    "        copy_rename(li, pr=False)"
   ]
  },
  {
   "cell_type": "code",
   "execution_count": 30,
   "metadata": {},
   "outputs": [
    {
     "data": {
      "application/vnd.jupyter.widget-view+json": {
       "model_id": "4284e632b20b448cac7a50ff1432676c",
       "version_major": 2,
       "version_minor": 0
      },
      "text/plain": [
       "HTML(value='<p><em>Markdown</em></p>')"
      ]
     },
     "metadata": {},
     "output_type": "display_data"
    }
   ],
   "source": []
  },
  {
   "cell_type": "code",
   "execution_count": 14,
   "metadata": {},
   "outputs": [],
   "source": [
    "#>>> from deepdiff import DeepDiff  # For Deep Difference of 2 objects\n",
    "#>>> from deepdiff import grep, DeepSearch  # For finding if item exists in an object\n",
    "#>>> from deepdiff import DeepHash  # For hashing objects based on their contents####\n",
    "#>>> t1 = {1:1, 2:2, 3:3, 4:{\"a\":\"hello\", \"b\":[1, 2, 3]}}\n",
    "#>>> t2 = {1:1, 2:2, 3:3, 4:{\"a\":\"hello\", \"b\":[1, 3, 2, 3]}}\n",
    "#>>> ddiff = DeepDiff(t1, t2, ignore_order=False)\n",
    "#>>> print (ddiff)\n",
    "#fpth = r'C:\\engDev\\git_mf\\ipyrun\\ipyrun\\appdata\\inputs\\inputs-eplus_pipework_params.csv'\n",
    "#fpth1 = r'C:\\engDev\\git_mf\\ipyrun\\ipyrun\\appdata\\inputs\\inputs-eplus_pipework_params-1.csv'"
   ]
  },
  {
   "cell_type": "code",
   "execution_count": 42,
   "metadata": {
    "lines_to_next_cell": 2
   },
   "outputs": [
    {
     "data": {
      "application/vnd.jupyter.widget-view+json": {
       "model_id": "d1f8a7e1e3464170a334d21cf19a924f",
       "version_major": 2,
       "version_minor": 0
      },
      "text/plain": [
       "VBox(children=(HBox(children=(Button(button_style='success', description='save changes', style=ButtonStyle(fon…"
      ]
     },
     "metadata": {},
     "output_type": "display_data"
    },
    {
     "data": {
      "application/vnd.jupyter.widget-view+json": {
       "model_id": "373306ba85a0471db3e82ad317968ceb",
       "version_major": 2,
       "version_minor": 0
      },
      "text/plain": [
       "Output()"
      ]
     },
     "metadata": {},
     "output_type": "display_data"
    }
   ],
   "source": [
    "\n",
    "from IPython.display import clear_output, display, Image, FileLink, FileLinks, JSON, Markdown, HTML\n",
    "from markdown import markdown\n",
    "def _markdown(value='_Markdown_',\n",
    "              **kwargs):\n",
    "    \"\"\"\n",
    "    a simple template for markdown text input that templates required input\n",
    "    fields. additional user defined fields can be added as kwargs\n",
    "    \"\"\"\n",
    "    _kwargs = {}\n",
    "    _kwargs['value'] = markdown(value)  # required field\n",
    "    _kwargs.update(kwargs)  # user overides\n",
    "    return widgets.HTML(**_kwargs)\n",
    "    \n",
    "class FileController():\n",
    "    \n",
    "    def __init__(self, fpth_inputs_options):\n",
    "        self.out = widgets.Output()\n",
    "        self.fpth_inputs_options = fpth_inputs_options\n",
    "        self.fpth_inputs = fpth_inputs_options['working']['fpths'][0]\n",
    "        self._errors()\n",
    "        self.form()\n",
    "        self._init_controls()\n",
    "    \n",
    "    @property\n",
    "    def mf_layout(self):\n",
    "        return widgets.Layout(\n",
    "            display='flex',\n",
    "            flex_flow='row',\n",
    "            justify_content='flex-start',\n",
    "            #border='dashed 0.2px green',\n",
    "            grid_auto_columns='True',\n",
    "            width='100%',\n",
    "            align_items='stretch',  \n",
    "        )\n",
    "        \n",
    "    def _errors(self):\n",
    "        self.errors=[]\n",
    "        self.iserror = False\n",
    "        self.errormessage = 'no error'\n",
    "        \n",
    "    def form(self):\n",
    "        \n",
    "        # button bar\n",
    "        self.save_changes = widgets.Button(description='save changes',button_style='success',style={'font_weight':'bold'})\n",
    "        self.revert = widgets.Button(description='revert to last save',button_style='warning',style={'font_weight':'bold'})#,button_style='success'\n",
    "        self.load_inputs = widgets.ToggleButton(description='inputs from file',button_style='info',style={'font_weight':'bold'})\n",
    "        self.button_bar = widgets.HBox([self.save_changes, self.revert, self.load_inputs])\n",
    "\n",
    "        # nested buttons\n",
    "        template_inputs = self.get_template_inputs()\n",
    "        project_inputs = self.get_project_inputs()\n",
    "        options = dict(template_inputs, **project_inputs)\n",
    "        self.load_button = widgets.Button(description = 'load',icon='fa-upload',style={'font_weight':'bold'})\n",
    "        self.choose_inputs = widgets.RadioButtons(\n",
    "            options = options,\n",
    "            layout = self.mf_layout,\n",
    "        )\n",
    "        self.load = widgets.VBox([self.load_button,self.choose_inputs])\n",
    "        self.inputform = _markdown(value='*TESTING*')\n",
    "    \n",
    "    def _init_controls(self):\n",
    "        self.save_changes.on_click(self._save_changes)\n",
    "        self.load_inputs.observe(self._load_inputs,'value')\n",
    "        self.load_button.on_click(self._load)\n",
    "        self.revert.on_click(self._revert)\n",
    "        \n",
    "    def _revert(self, sender):\n",
    "        fpth = self.fpth_inputs\n",
    "        self.inputform = _markdown(value='revert to inputs in last save of: {0}'.format(fpth))\n",
    "        self.update_display()\n",
    "        self.display()\n",
    "\n",
    "    def _save_changes(self, sender):\n",
    "        fpth = self.fpth_inputs\n",
    "        dateTimeObj = datetime.now()\n",
    "        self.save_timestampStr = dateTimeObj.strftime(\"%d-%b-%Y %H:%M:%S\")\n",
    "        self.inputform = _markdown(value='{0} saved at: {1}'.format(fpth, self.save_timestampStr))\n",
    "        self.update_display()\n",
    "        self.display()\n",
    "\n",
    "    def _load(self,sender):\n",
    "        self.update_display()\n",
    "        self.display()\n",
    "        fpth = self.choose_inputs.value\n",
    "        try:\n",
    "            self.iserror = False\n",
    "            message = 'load input form from: {0}'.format(fpth)\n",
    "        except:\n",
    "            self.iserror = True\n",
    "            self.errormessage = '''__error__ loading : {0}.   \n",
    "            the file has either been deleted or modified such that it is unreadable'''.format(fpth)\n",
    "\n",
    "        with self.out:\n",
    "            clear_output()\n",
    "            if self.load_inputs.value:\n",
    "                display(self.load_button)\n",
    "                display(self.choose_inputs)\n",
    "                display(Markdown(message))\n",
    "            if self.iserror:\n",
    "                display(Markdown(self.errormessage))\n",
    "            \n",
    "    def _load_inputs(self,sender):\n",
    "        self.update_display()\n",
    "        self.display()\n",
    "        with self.out:\n",
    "            clear_output()\n",
    "            if self.load_inputs.value:\n",
    "                display(self.load_button)\n",
    "                display(self.choose_inputs)\n",
    "                \n",
    "    def get_project_inputs(self):\n",
    "        fpths = self.fpth_inputs_options['project']['fpths']\n",
    "        di = {}\n",
    "        for fpth in fpths:\n",
    "            description = 'PROJECT: '+ fpth\n",
    "            di[description] = fpth\n",
    "        return di\n",
    "\n",
    "    def get_template_inputs(self):\n",
    "        fpths = self.fpth_inputs_options['template']['fpths']\n",
    "        di = {}\n",
    "        for fpth in fpths:\n",
    "            description = 'TEMPLATE: '+ fpth\n",
    "            di[description] = fpth\n",
    "        return di\n",
    "\n",
    "    def update_display(self):\n",
    "        self.layout = widgets.VBox([self.button_bar, self.inputform])\n",
    "\n",
    "    def display(self):\n",
    "        display(self.layout)\n",
    "        display(self.out)\n",
    "\n",
    "    def _ipython_display_(self):\n",
    "        self.update_display()\n",
    "        self.display()\n",
    "        \n",
    "        \n",
    "fpth_inputs_options = {\n",
    "    'template': {\n",
    "        'fdir': 'C:\\\\engDev\\\\git_mf\\\\MF_Toolbox\\\\dev\\\\mf_scripts\\\\template_inputs',\n",
    "        'fpths': ['C:\\\\engDev\\\\git_mf\\\\MF_Toolbox\\\\dev\\\\mf_scripts\\\\template_inputs\\\\inputs-eplus_pipework_params.csv']\n",
    "    },\n",
    "    'project': {\n",
    "        'fdir': '.\\\\appdata\\\\inputs\\\\archive',\n",
    "        'fpths': [\n",
    "            '.\\\\appdata\\\\inputs\\\\inputs-eplus_pipework_params-1.csv',\n",
    "            '.\\\\appdata\\\\inputs\\\\inputs-eplus_pipework_params.csv',\n",
    "            '.\\\\appdata\\\\inputs\\\\archive\\\\20200605-1625-inputs-eplus_pipework_params.csv',\n",
    "            '.\\\\appdata\\\\inputs\\\\archive\\\\20200605-1625inputs-eplus_pipework_params.csv',\n",
    "            '.\\\\appdata\\\\inputs\\\\archive\\\\20200607_1420-jg-inputs-eplus_pipework_params.csv']\n",
    "    },\n",
    "    'working': {\n",
    "        'fdir': '.\\\\appdata\\\\inputs',\n",
    "        'fpths': ['.\\\\appdata\\\\inputs\\\\inputs-eplus_pipework_params.csv']\n",
    "    },\n",
    "}\n",
    "d = FileController(fpth_inputs_options)\n",
    "d"
   ]
  },
  {
   "cell_type": "code",
   "execution_count": 45,
   "metadata": {},
   "outputs": [
    {
     "data": {
      "application/vnd.jupyter.widget-view+json": {
       "model_id": "324bb20192654aebb2b90087f02b7a7c",
       "version_major": 2,
       "version_minor": 0
      },
      "text/plain": [
       "VBox(children=(HBox(children=(Button(button_style='success', description='save changes', style=ButtonStyle(fon…"
      ]
     },
     "metadata": {},
     "output_type": "display_data"
    },
    {
     "data": {
      "application/vnd.jupyter.widget-view+json": {
       "model_id": "373306ba85a0471db3e82ad317968ceb",
       "version_major": 2,
       "version_minor": 0
      },
      "text/plain": [
       "Output()"
      ]
     },
     "metadata": {},
     "output_type": "display_data"
    }
   ],
   "source": [
    "d.update_display()\n",
    "d.display()"
   ]
  },
  {
   "cell_type": "code",
   "execution_count": 7,
   "metadata": {},
   "outputs": [],
   "source": [
    "from mf_modules.datamine_functions import time_meta_data\n",
    "from mf_modules.pandas_operations import del_matching\n",
    "\n",
    "\n",
    "class EditRunCsv(EditCsv,RunConfig):\n",
    "    \n",
    "    def __init__(self, fpth_in, config, fpth_out=None):\n",
    "        self.errors=[]\n",
    "        self.iserror = False\n",
    "        self.errormessage = 'no error'\n",
    "        self.config = config\n",
    "        self.user_keys = list(config.keys())\n",
    "        if fpth_out==None:\n",
    "            self.fpth_out = fpth_in\n",
    "        else:\n",
    "            self.fpth_out = fpth_out\n",
    "        self.sheet = self._sheet_from_fpth(self.fpth_in)\n",
    "        self.form()\n",
    "\n",
    "        \n",
    "    @property\n",
    "    def mf_layout(self):\n",
    "            display='flex',\n",
    "            flex_flow='row',\n",
    "            justify_content='flex-start',\n",
    "            #border='dashed 0.2px green',\n",
    "            grid_auto_columns='True',\n",
    "            align_items='stretch',  \n",
    "        )\n",
    "        \n",
    "    def form(self):\n",
    "        \n",
    "        # button bar\n",
    "        self.save_changes = widgets.Button(description='save changes',button_style='success',style={'font_weight':'bold'})\n",
    "        self.revert = widgets.Button(description='revert to last save',button_style='warning',style={'font_weight':'bold'})#,button_style='success'\n",
    "        self.load_inputs = widgets.ToggleButton(description='inputs from file',button_style='info',style={'font_weight':'bold'})\n",
    "        self.button_bar = widgets.HBox([self.save_changes, self.revert, self.load_inputs])\n",
    "        self.layout = self.sheet\n",
    "        \n",
    "        # nested buttons\n",
    "        template_inputs = self.get_template_inputs()\n",
    "        project_inputs = self.get_logged_inputs()\n",
    "        options = dict(template_inputs, **project_inputs)\n",
    "        self.load_button = widgets.Button(description = 'load',icon='fa-upload',style={'font_weight':'bold'})\n",
    "        self.choose_inputs = widgets.RadioButtons(\n",
    "            options = options,\n",
    "            layout = self.mf_layout,\n",
    "        )\n",
    "        self.load = widgets.VBox([self.load_button,self.choose_inputs])\n",
    "        #with self.out:\n",
    "        #    clear_output()\n",
    "        #    if self.load_inputs.value:\n",
    "        #        display(self.load_button)\n",
    "        #        display(self.choose_inputs)\n",
    "        #    display(self.sheet)\n",
    "        \n",
    "    def _init_controls(self):\n",
    "        self.save_changes.on_click(self._save_changes)\n",
    "        self.load_inputs.observe(self._load_inputs,'value')\n",
    "        self.load_button.on_click(self._load)\n",
    "        self.revert.on_click(self._revert)\n",
    "        \n",
    "    def _revert(self, sender):\n",
    "\n",
    "        print('adsfasdf asd')\n",
    "        self.sheet = self._sheet_from_fpth(self.fpth_inputs)\n",
    "        self.layout = widgets.Label('fuck you')\n",
    "        self.update_display()  \n",
    "        self.display() \n",
    "        #with self.out:\n",
    "        #    clear_output()\n",
    "        #    display(self.sheet)\n",
    "\n",
    "        \n",
    "        \n",
    "    def _save_changes(self, sender):\n",
    "        self.update_display()    \n",
    "        self.display()\n",
    "        self.data_out = to_dataframe(self.sheet)\n",
    "        self.data_out.to_csv(self.fpth_out)\n",
    "        display(Markdown('changes saved to: {0}'.format(self.fpth_out)))\n",
    "        with self.out:\n",
    "            clear_output()\n",
    "            if self.load_inputs.value:\n",
    "                display(self.load_button)\n",
    "                display(self.choose_inputs)\n",
    "            dateTimeObj = datetime.now()\n",
    "            timestampStr = dateTimeObj.strftime(\"%d-%b-%Y %H:%M:%S:\")\n",
    "            display(Markdown('{0} changes saved to: {1}'.format(timestampStr,self.fpth_out)))\n",
    "            display(self.sheet)\n",
    "\n",
    "\n",
    "    def _load(self,sender):\n",
    "        self.update_display()\n",
    "        self.display()\n",
    "        fpth = self.choose_inputs.value\n",
    "        try:\n",
    "            self.iserror = False\n",
    "            self.sheet = self._sheet_from_fpth(fpth)\n",
    "        except:\n",
    "            self.iserror = True\n",
    "            self.errormessage = '''__error__ loading : {0}.   \n",
    "            the file has either been deleted or modified such that it is unreadable'''.format(fpth)\n",
    "\n",
    "        with self.out:\n",
    "            clear_output()\n",
    "            if self.load_inputs.value:\n",
    "                display(self.load_button)\n",
    "                display(self.choose_inputs)\n",
    "            if self.iserror:\n",
    "                display(Markdown(self.errormessage))\n",
    "            display(self.sheet)\n",
    "\n",
    "        \n",
    "    def _load_inputs(self,sender):\n",
    "        self.update_display()\n",
    "        self.display()\n",
    "        with self.out:\n",
    "            clear_output()\n",
    "            if self.load_inputs.value:\n",
    "                display(self.load_button)\n",
    "            #display(self.sheet)\n",
    "\n",
    "\n",
    "    def get_logged_inputs(self):\n",
    "\n",
    "        def _gettags(tags):\n",
    "            if tags == 'nan':\n",
    "                return 'no tags'\n",
    "            else:\n",
    "                return tags\n",
    "        def _getissue(formalIssue):\n",
    "            if formalIssue == 'nan':\n",
    "                return 'no formal issue'\n",
    "            else:\n",
    "                return formalIssue\n",
    "\n",
    "        df_log = del_matching(pd.read_csv(self.fpth_log),'Unnamed')\n",
    "        di = {}\n",
    "        for n in range(0,len(df_log)):\n",
    "            #description = str(self.jobno)+ ' PROJECT FILE' + ' - ' \\\n",
    "            #    + str(df_log.loc[n,'processName']) + ' - ' \\\n",
    "            #    + str(df_log.loc[n,'datetime']) + ' - ' \\\n",
    "            #    + str(df_log.loc[n,'user']) + ' - ' \\\n",
    "            #    + _getissue(str(df_log.loc[n,'formalIssue'])) + ' - ' \\\n",
    "            #    + _gettags(str(df_log.loc[n,'tags']))\n",
    "            description = 'PROJECT: ' + df_log.loc[n,'fpthInputs']\n",
    "            di[description] = df_log.loc[n,'fpthInputs']\n",
    "        return di\n",
    "\n",
    "    def get_template_inputs(self):\n",
    "        fpths = self.fpth_inputs_options['template']['fpths']\n",
    "        di = {}\n",
    "        for fpth in fpths:\n",
    "            #description = 'MXF TEMPLATE FILE' + ' - ' \\\n",
    "            #    + rc.process_name + ' - ' \\\n",
    "            #    + time_meta_data(fpth,as_DataFrame=True)['time_of_most_recent_content_modification'][0] + ' - ' \\\n",
    "            #    + os.path.basename(fpth) \n",
    "            description = 'TEMPLATE: '+ fpth\n",
    "            di[description] = fpth\n",
    "        return di\n",
    "\n",
    "    def update_display(self):\n",
    "        print('asdf asdf')\n",
    "        self.layout = widgets.VBox([self.button_bar,self.sheet])\n",
    "    \n",
    "    def display(self):\n",
    "        #display(self.button_bar)\n",
    "        display(self.layout)\n",
    "        display(self.out)\n",
    "  \n",
    "    def _ipython_display_(self):\n",
    "        self.update_display()\n",
    "        self.display()"
   ]
  },
  {
   "cell_type": "code",
   "execution_count": 22,
   "metadata": {},
   "outputs": [
    {
     "data": {
      "text/plain": [
       "{'template': {'fdir': 'C:\\\\engDev\\\\git_mf\\\\MF_Toolbox\\\\dev\\\\mf_scripts\\\\template_inputs',\n",
       "  'fpths': ['C:\\\\engDev\\\\git_mf\\\\MF_Toolbox\\\\dev\\\\mf_scripts\\\\template_inputs\\\\inputs-eplus_pipework_params.csv']},\n",
       " 'project': {'fdir': '.\\\\appdata\\\\inputs',\n",
       "  'fpths': ['.\\\\appdata\\\\inputs\\\\inputs-eplus_pipework_params-1.csv',\n",
       "   '.\\\\appdata\\\\inputs\\\\inputs-eplus_pipework_params.csv',\n",
       "   '.\\\\appdata\\\\inputs\\\\archive\\\\20200605-1625-inputs-eplus_pipework_params.csv',\n",
       "   '.\\\\appdata\\\\inputs\\\\archive\\\\20200605-1625inputs-eplus_pipework_params.csv',\n",
       "   '.\\\\appdata\\\\inputs\\\\archive\\\\20200607_1420-jg-inputs-eplus_pipework_params.csv']}}"
      ]
     },
     "execution_count": 22,
     "metadata": {},
     "output_type": "execute_result"
    }
   ],
   "source": [
    "e.fpth_inputs_options"
   ]
  },
  {
   "cell_type": "code",
   "execution_count": null,
   "metadata": {},
   "outputs": [],
   "source": []
  },
  {
   "cell_type": "code",
   "execution_count": 8,
   "metadata": {
    "lines_to_next_cell": 0
   },
   "outputs": [
    {
     "name": "stdout",
     "output_type": "stream",
     "text": [
      "asdf asdf\n"
     ]
    },
    {
     "data": {
      "application/vnd.jupyter.widget-view+json": {
       "model_id": "55c6c7742fd24086a3ab898d3fbd4ee9",
       "version_major": 2,
       "version_minor": 0
      },
      "text/plain": [
       "VBox(children=(HBox(children=(Button(button_style='success', description='save changes', style=ButtonStyle(fon…"
      ]
     },
     "metadata": {},
     "output_type": "display_data"
    },
    {
     "data": {
      "application/vnd.jupyter.widget-view+json": {
       "model_id": "5a5d7d4c15204c89bded27659b009a64",
       "version_major": 2,
       "version_minor": 0
      },
      "text/plain": [
       "Output()"
      ]
     },
     "metadata": {},
     "output_type": "display_data"
    }
   ],
   "source": [
    "config={\n",
    "    'fpth_script':os.path.join(os.environ['mf_root'],r'MF_Toolbox\\dev\\mf_scripts\\eplus_pipework_params.py'),\n",
    "    'fdir':'.',\n",
    "    }\n",
    "#from pprint import pprint\n",
    "#rc = RunConfig(config)\n",
    "#pprint(rc.config)\n",
    "\n",
    "e = EditRunCsv(fpth,config)\n",
    "e"
   ]
  },
  {
   "cell_type": "code",
   "execution_count": 15,
   "metadata": {},
   "outputs": [
    {
     "data": {
      "application/vnd.jupyter.widget-view+json": {
       "model_id": "523ae3dc3a0d4ac2ba2b84ed2a1b8eb7",
       "version_major": 2,
       "version_minor": 0
      },
      "text/plain": [
       "Sheet(cells=(Cell(choice=[], column_end=0, column_start=0, numeric_format=None, row_end=1, row_start=0, squeez…"
      ]
     },
     "metadata": {},
     "output_type": "display_data"
    }
   ],
   "source": [
    "e.sheet"
   ]
  },
  {
   "cell_type": "code",
   "execution_count": null,
   "metadata": {},
   "outputs": [],
   "source": []
  },
  {
   "cell_type": "code",
   "execution_count": 13,
   "metadata": {},
   "outputs": [
    {
     "data": {
      "application/vnd.jupyter.widget-view+json": {
       "model_id": "58329dc9af8e41778eccc7674cc7faa1",
       "version_major": 2,
       "version_minor": 0
      },
      "text/plain": [
       "HBox(children=(Button(button_style='success', description='save changes', style=ButtonStyle()),))"
      ]
     },
     "metadata": {},
     "output_type": "display_data"
    },
    {
     "data": {
      "application/vnd.jupyter.widget-view+json": {
       "model_id": "74c1d75694674bc28d997e8220d7a58a",
       "version_major": 2,
       "version_minor": 0
      },
      "text/plain": [
       "Output()"
      ]
     },
     "metadata": {},
     "output_type": "display_data"
    },
    {
     "data": {
      "application/vnd.jupyter.widget-view+json": {
       "model_id": "9ebfadc2e29741d4a0c57b567908fcd7",
       "version_major": 2,
       "version_minor": 0
      },
      "text/plain": [
       "Sheet(cells=(Cell(choice=[], column_end=0, column_start=0, numeric_format=None, row_end=1, row_start=0, squeez…"
      ]
     },
     "metadata": {},
     "output_type": "display_data"
    }
   ],
   "source": [
    "class EditCsv():\n",
    "\n",
    "    def __init__(self, fpth_in, fpth_out=None):\n",
    "        self.fpth_in = fpth_in\n",
    "        if fpth_out==None:\n",
    "            self.fpth_out = fpth_in\n",
    "        else:\n",
    "            self.fpth_out = fpth_out\n",
    "        self.sheet = self._sheet_from_fpth(self.fpth_in)\n",
    "        self.form()\n",
    "        self._init_controls()\n",
    "        self.out = widgets.Output()\n",
    "        \n",
    "    def form(self):\n",
    "        self.save_changes = widgets.Button(description='save changes',button_style='success')\n",
    "        self.button_bar = widgets.HBox([self.save_changes])\n",
    "        self.layout = self.sheet\n",
    "        \n",
    "    def _init_controls(self):\n",
    "        self.save_changes.on_click(self._save_changes)\n",
    "        \n",
    "    def _sheet_from_fpth(self, fpth):\n",
    "        df=del_matching(pd.read_csv(fpth),'Unnamed')\n",
    "        sheet = ipysheet.sheet(ipysheet.from_dataframe(df)) # initiate sheet\n",
    "        return sheet\n",
    "    \n",
    "    def _save_changes(self, sender):\n",
    "        self.data_out = to_dataframe(self.sheet)\n",
    "        self.data_out.to_csv(self.fpth_out)\n",
    "        display(Markdown('changes saved to: {0}'.format(self.fpth_out)))\n",
    "        with self.out:\n",
    "            clear_output()\n",
    "            dateTimeObj = datetime.now()\n",
    "            timestampStr = dateTimeObj.strftime(\"%d-%b-%Y %H:%M:%S:\")\n",
    "            display(Markdown('{0} changes saved to: {1}'.format(timestampStr,self.fpth_out)))\n",
    "        self.display()\n",
    "\n",
    "    def display(self):\n",
    "        display(self.button_bar, self.out, self.layout)\n",
    "        \n",
    "    def _ipython_display_(self):\n",
    "        self.display() \n",
    "        \n",
    "ec = EditCsv(fpth)\n",
    "ec"
   ]
  },
  {
   "cell_type": "code",
   "execution_count": 14,
   "metadata": {},
   "outputs": [
    {
     "data": {
      "application/vnd.jupyter.widget-view+json": {
       "model_id": "9ebfadc2e29741d4a0c57b567908fcd7",
       "version_major": 2,
       "version_minor": 0
      },
      "text/plain": [
       "Sheet(cells=(Cell(choice=[], column_end=0, column_start=0, numeric_format=None, row_end=1, row_start=0, squeez…"
      ]
     },
     "metadata": {},
     "output_type": "display_data"
    }
   ],
   "source": [
    "ec.sheet"
   ]
  },
  {
   "cell_type": "code",
   "execution_count": null,
   "metadata": {
    "lines_to_next_cell": 2
   },
   "outputs": [],
   "source": []
  },
  {
   "cell_type": "code",
   "execution_count": 59,
   "metadata": {},
   "outputs": [],
   "source": [
    "import ipywidgets as widgets\n",
    "import logging\n",
    "\n",
    "class OutputWidgetHandler(logging.Handler):\n",
    "    \"\"\" Custom logging handler sending logs to an output widget \"\"\"\n",
    "\n",
    "    def __init__(self, *args, **kwargs):\n",
    "        super(OutputWidgetHandler, self).__init__(*args, **kwargs)\n",
    "        layout = {\n",
    "            'width': '100%',\n",
    "            'height': '160px',\n",
    "            'border': '1px solid black'\n",
    "        }\n",
    "        self.out = widgets.Output(layout=layout)\n",
    "\n",
    "    def emit(self, record):\n",
    "        \"\"\" Overload of logging.Handler method \"\"\"\n",
    "        formatted_record = self.format(record)\n",
    "        new_output = {\n",
    "            'name': 'stdout',\n",
    "            'output_type': 'stream',\n",
    "            'text': formatted_record+'\\n'\n",
    "        }\n",
    "        self.out.outputs = (new_output, ) + self.out.outputs\n",
    "\n",
    "    def show_logs(self):\n",
    "        \"\"\" Show the logs \"\"\"\n",
    "        display(self.out)\n",
    "\n",
    "    def clear_logs(self):\n",
    "        \"\"\" Clear the current logs \"\"\"\n",
    "        self.out.clear_output()\n",
    "\n",
    "\n",
    "logger = logging.getLogger(__name__)\n",
    "handler = OutputWidgetHandler()\n",
    "handler.setFormatter(logging.Formatter('%(asctime)s  - [%(levelname)s] %(message)s'))\n",
    "logger.addHandler(handler)\n",
    "logger.setLevel(logging.INFO)"
   ]
  },
  {
   "cell_type": "code",
   "execution_count": 62,
   "metadata": {},
   "outputs": [
    {
     "data": {
      "application/vnd.jupyter.widget-view+json": {
       "model_id": "f9ee3f9ad22a4439aef6df54dcc3c7b4",
       "version_major": 2,
       "version_minor": 0
      },
      "text/plain": [
       "Output(layout=Layout(border='1px solid black', height='160px', width='100%'))"
      ]
     },
     "metadata": {},
     "output_type": "display_data"
    }
   ],
   "source": [
    "handler.show_logs()"
   ]
  },
  {
   "cell_type": "code",
   "execution_count": null,
   "metadata": {},
   "outputs": [],
   "source": []
  }
 ],
 "metadata": {
  "jupytext": {
   "formats": "ipynb,py:light"
  },
  "kernelspec": {
   "display_name": "Python [conda env:mf_main] *",
   "language": "python",
   "name": "conda-env-mf_main-py"
  },
  "language_info": {
   "codemirror_mode": {
    "name": "ipython",
    "version": 3
   },
   "file_extension": ".py",
   "mimetype": "text/x-python",
   "name": "python",
   "nbconvert_exporter": "python",
   "pygments_lexer": "ipython3",
   "version": "3.7.7"
  },
  "widgets": {
   "application/vnd.jupyter.widget-state+json": {
    "state": {
     "002ba4008fa94e73b8f009e14fbbd8f5": {
      "model_module": "@jupyter-widgets/base",
      "model_module_version": "1.2.0",
      "model_name": "LayoutModel",
      "state": {}
     },
     "003b36600625472c923dd1572bab05b5": {
      "model_module": "@jupyter-widgets/controls",
      "model_module_version": "1.5.0",
      "model_name": "VBoxModel",
      "state": {
       "children": [
        "IPY_MODEL_ed6f6b5f782a4e2ebc2b374f395283e1",
        "IPY_MODEL_00d6458c19a74def870f1b0a691b3645"
       ],
       "layout": "IPY_MODEL_1ad129377c3e448db13731ade4a22c2a"
      }
     },
     "00d6458c19a74def870f1b0a691b3645": {
      "model_module": "@jupyter-widgets/controls",
      "model_module_version": "1.5.0",
      "model_name": "HTMLModel",
      "state": {
       "layout": "IPY_MODEL_20892c03ac644e93aef9f3886821d2e5",
       "style": "IPY_MODEL_388ddfab0ea94cbc8aa5b9db3d22d895",
       "value": "<p>revert to inputs in last save of: .\\appdata\\inputs\\inputs-eplus_pipework_params.csv</p>"
      }
     },
     "00e24a92bbc64bd59311c64f7d936569": {
      "model_module": "@jupyter-widgets/controls",
      "model_module_version": "1.5.0",
      "model_name": "ButtonModel",
      "state": {
       "button_style": "success",
       "description": "save changes",
       "layout": "IPY_MODEL_d156b85447f5471fae814587d89b6e68",
       "style": "IPY_MODEL_7ea57d16bdda46c8bb4e3175dc0b2ff1"
      }
     },
     "01050076c4cc499c97689dfe261d0602": {
      "model_module": "@jupyter-widgets/controls",
      "model_module_version": "1.5.0",
      "model_name": "DescriptionStyleModel",
      "state": {
       "description_width": ""
      }
     },
     "01237e96f30449069d11f2c9bd6e2e3d": {
      "model_module": "@jupyter-widgets/base",
      "model_module_version": "1.2.0",
      "model_name": "LayoutModel",
      "state": {
       "align_items": "stretch",
       "display": "flex",
       "flex_flow": "row",
       "grid_auto_columns": "True",
       "justify_content": "flex-start",
       "width": "100%"
      }
     },
     "0134bef7c70140939ec30fa2b0f21fef": {
      "model_module": "@jupyter-widgets/controls",
      "model_module_version": "1.5.0",
      "model_name": "HBoxModel",
      "state": {
       "children": [
        "IPY_MODEL_be94fefc466c4b3daa71a4c0c53804e6",
        "IPY_MODEL_9e1ff2fc40784afba864cca16cd9c5a1",
        "IPY_MODEL_799b5d48db58434ea40c8593cecf5002"
       ],
       "layout": "IPY_MODEL_07d2c6cde95c4d65a073d0abf5dea0e1"
      }
     },
     "017b409d0e2c4da581da4e610969d628": {
      "model_module": "@jupyter-widgets/controls",
      "model_module_version": "1.5.0",
      "model_name": "DescriptionStyleModel",
      "state": {
       "description_width": ""
      }
     },
     "0197f1a7fc1b402eb5d1de66de46880c": {
      "model_module": "@jupyter-widgets/controls",
      "model_module_version": "1.5.0",
      "model_name": "VBoxModel",
      "state": {
       "children": [
        "IPY_MODEL_be7a08aa0d4940e598e1b517e336deb6",
        "IPY_MODEL_2d7d465dd8074329bdb3588d5e2c156d"
       ],
       "layout": "IPY_MODEL_7bc79f7a6ba9427a9a6414ef4d873492"
      }
     },
     "023fa969799a46089c323a44d6323157": {
      "model_module": "@jupyter-widgets/controls",
      "model_module_version": "1.5.0",
      "model_name": "ButtonModel",
      "state": {
       "description": "load",
       "icon": "upload",
       "layout": "IPY_MODEL_cdc48254178a4d9484ab4057a7837c14",
       "style": "IPY_MODEL_9abd5ceacfc34efa8c8a9eef99cc4c07"
      }
     },
     "028576a1c7a54df6a0bca4fa5797ddc9": {
      "model_module": "@jupyter-widgets/base",
      "model_module_version": "1.2.0",
      "model_name": "LayoutModel",
      "state": {}
     },
     "0297193e43c2489aa5fd59358816d4c0": {
      "model_module": "@jupyter-widgets/base",
      "model_module_version": "1.2.0",
      "model_name": "LayoutModel",
      "state": {}
     },
     "02ee40ad81fc4c0b93117b69d498e89e": {
      "model_module": "@jupyter-widgets/controls",
      "model_module_version": "1.5.0",
      "model_name": "ButtonStyleModel",
      "state": {
       "font_weight": "bold"
      }
     },
     "03a57e3e970b46c8ad86d9e46cd2941c": {
      "model_module": "@jupyter-widgets/base",
      "model_module_version": "1.2.0",
      "model_name": "LayoutModel",
      "state": {}
     },
     "042cfb3916b14721a6017a8d28706e96": {
      "model_module": "@jupyter-widgets/base",
      "model_module_version": "1.2.0",
      "model_name": "LayoutModel",
      "state": {}
     },
     "044c450508ef48188094e6e54d53fb53": {
      "model_module": "@jupyter-widgets/controls",
      "model_module_version": "1.5.0",
      "model_name": "DescriptionStyleModel",
      "state": {
       "description_width": ""
      }
     },
     "04e75b85cb914e6e8167403d1bc575b1": {
      "model_module": "@jupyter-widgets/controls",
      "model_module_version": "1.5.0",
      "model_name": "HBoxModel",
      "state": {
       "children": [
        "IPY_MODEL_a2702d3ce4634797a95df482a7bf3ac0",
        "IPY_MODEL_e71c952dd10d4bde8505da2be58d465c",
        "IPY_MODEL_cf87352b4b4c4bdeba1098d14bdd44e1"
       ],
       "layout": "IPY_MODEL_695700630b3f4e49b5f9a2193a897490"
      }
     },
     "05872cecaadf4ac7b0d548d124397f1a": {
      "model_module": "@jupyter-widgets/base",
      "model_module_version": "1.2.0",
      "model_name": "LayoutModel",
      "state": {}
     },
     "0657c1b8369d4211bbc633979e8aa2ac": {
      "model_module": "@jupyter-widgets/base",
      "model_module_version": "1.2.0",
      "model_name": "LayoutModel",
      "state": {}
     },
     "065d5772c7474b14a80fa8c36cd555fa": {
      "model_module": "@jupyter-widgets/controls",
      "model_module_version": "1.5.0",
      "model_name": "ButtonStyleModel",
      "state": {
       "font_weight": "bold"
      }
     },
     "07091ab4f92643729324d96a9584e395": {
      "model_module": "@jupyter-widgets/base",
      "model_module_version": "1.2.0",
      "model_name": "LayoutModel",
      "state": {}
     },
     "072673ebd4a945dd90f2dd6ea8e8064c": {
      "model_module": "@jupyter-widgets/base",
      "model_module_version": "1.2.0",
      "model_name": "LayoutModel",
      "state": {}
     },
     "0779235b8cbe490da1b50c9822ea11db": {
      "model_module": "@jupyter-widgets/controls",
      "model_module_version": "1.5.0",
      "model_name": "ButtonModel",
      "state": {
       "description": "load",
       "icon": "upload",
       "layout": "IPY_MODEL_269bf43e922f4d1ea8c3b71a5ca9cc88",
       "style": "IPY_MODEL_6756ad044aad4e219472cae45c27832a"
      }
     },
     "07d2c6cde95c4d65a073d0abf5dea0e1": {
      "model_module": "@jupyter-widgets/base",
      "model_module_version": "1.2.0",
      "model_name": "LayoutModel",
      "state": {}
     },
     "083fafd8a7c6494fa934f91a22967350": {
      "model_module": "@jupyter-widgets/base",
      "model_module_version": "1.2.0",
      "model_name": "LayoutModel",
      "state": {}
     },
     "0870f5916f4347728632334ff052b77f": {
      "model_module": "@jupyter-widgets/base",
      "model_module_version": "1.2.0",
      "model_name": "LayoutModel",
      "state": {}
     },
     "089ebaf233b546089914eb351f34074d": {
      "model_module": "@jupyter-widgets/base",
      "model_module_version": "1.2.0",
      "model_name": "LayoutModel",
      "state": {}
     },
     "08f23adb4ed84405bbd3f5832f1e9702": {
      "model_module": "@jupyter-widgets/base",
      "model_module_version": "1.2.0",
      "model_name": "LayoutModel",
      "state": {}
     },
     "0910e97c841644d7a0cbf5bc5d5f70ce": {
      "model_module": "@jupyter-widgets/controls",
      "model_module_version": "1.5.0",
      "model_name": "HTMLModel",
      "state": {
       "layout": "IPY_MODEL_d8998b30507341a1a2d6212374695739",
       "style": "IPY_MODEL_1d29a07e64f14f06bb57d30bd7b39552",
       "value": "<p>revert to inputs in last save of: .\\appdata\\inputs\\inputs-eplus_pipework_params.csv</p>"
      }
     },
     "093dde088d614236bb4ccdb2629bbf70": {
      "model_module": "@jupyter-widgets/base",
      "model_module_version": "1.2.0",
      "model_name": "LayoutModel",
      "state": {}
     },
     "0a9cecf375d044da952aa20cd10e4704": {
      "model_module": "@jupyter-widgets/controls",
      "model_module_version": "1.5.0",
      "model_name": "RadioButtonsModel",
      "state": {
       "_options_labels": [
        "TEMPLATE: C:\\engDev\\git_mf\\MF_Toolbox\\dev\\mf_scripts\\template_inputs\\inputs-eplus_pipework_params.csv",
        "TEMPLATE: .\\appdata\\inputs\\inputs-eplus_pipework_params-1.csv",
        "TEMPLATE: .\\appdata\\inputs\\inputs-eplus_pipework_params.csv",
        "TEMPLATE: .\\appdata\\inputs\\archive\\20200605-1625-inputs-eplus_pipework_params.csv",
        "TEMPLATE: .\\appdata\\inputs\\archive\\20200605-1625inputs-eplus_pipework_params.csv",
        "TEMPLATE: .\\appdata\\inputs\\archive\\20200607_1420-jg-inputs-eplus_pipework_params.csv"
       ],
       "index": 0,
       "layout": "IPY_MODEL_658d53f22e5540fd9850444169ac90b7",
       "style": "IPY_MODEL_f3915759825f4681b1eb92f3cc06c99e"
      }
     },
     "0b3de509b26747bd948dc7e58ea92132": {
      "model_module": "@jupyter-widgets/base",
      "model_module_version": "1.2.0",
      "model_name": "LayoutModel",
      "state": {
       "align_items": "stretch",
       "display": "flex",
       "flex_flow": "row",
       "grid_auto_columns": "True",
       "justify_content": "flex-start",
       "width": "100%"
      }
     },
     "0c8fc088f36143349ce5069c64849e37": {
      "model_module": "@jupyter-widgets/controls",
      "model_module_version": "1.5.0",
      "model_name": "ButtonModel",
      "state": {
       "description": "load",
       "icon": "upload",
       "layout": "IPY_MODEL_477757021f6940af96f98fda86a36df5",
       "style": "IPY_MODEL_065d5772c7474b14a80fa8c36cd555fa"
      }
     },
     "0c900854086646c390605379e5b57352": {
      "model_module": "@jupyter-widgets/base",
      "model_module_version": "1.2.0",
      "model_name": "LayoutModel",
      "state": {}
     },
     "0cf84cc7bfc54be0a22fec1fa67a04ac": {
      "model_module": "@jupyter-widgets/controls",
      "model_module_version": "1.5.0",
      "model_name": "ButtonModel",
      "state": {
       "button_style": "success",
       "description": "save changes",
       "layout": "IPY_MODEL_b454427d4043443b99ee6cb6b3890763",
       "style": "IPY_MODEL_b901834a8a1d4cb4b8f4b00a57792ca2"
      }
     },
     "0d044d3e946c4d859b32eec63b81c8b0": {
      "model_module": "@jupyter-widgets/controls",
      "model_module_version": "1.5.0",
      "model_name": "VBoxModel",
      "state": {
       "children": [
        "IPY_MODEL_ed6f6b5f782a4e2ebc2b374f395283e1",
        "IPY_MODEL_7f431ce4a13e44ca8427159bb2010238"
       ],
       "layout": "IPY_MODEL_72cbe0e0cfe34a01b38b0603092a7a55"
      }
     },
     "0dfbeb49b97e4b229c90d0072404d96d": {
      "model_module": "@jupyter-widgets/controls",
      "model_module_version": "1.5.0",
      "model_name": "VBoxModel",
      "state": {
       "children": [
        "IPY_MODEL_ed6f6b5f782a4e2ebc2b374f395283e1",
        "IPY_MODEL_00d6458c19a74def870f1b0a691b3645"
       ],
       "layout": "IPY_MODEL_9fe1999ca2cd4db796f60a0a3a3f1083"
      }
     },
     "0e11271a6d4445b18aba2095884fdc94": {
      "model_module": "@jupyter-widgets/base",
      "model_module_version": "1.2.0",
      "model_name": "LayoutModel",
      "state": {}
     },
     "0e9962219fd14b5cbf798b26ebaf9901": {
      "model_module": "@jupyter-widgets/controls",
      "model_module_version": "1.5.0",
      "model_name": "ButtonStyleModel",
      "state": {
       "font_weight": "bold"
      }
     },
     "0ec401f5b01e4982a53b6e3ba97aba1a": {
      "model_module": "@jupyter-widgets/controls",
      "model_module_version": "1.5.0",
      "model_name": "VBoxModel",
      "state": {
       "children": [
        "IPY_MODEL_10175998aaa34d699475f1e1ac76759f",
        "IPY_MODEL_91219e8bdea5466b886d5db8de901f53"
       ],
       "layout": "IPY_MODEL_13453fdc674e4b3e8a2bfd44b0e9ab2f"
      }
     },
     "0ecc7334445147749f2d2628e394402e": {
      "model_module": "@jupyter-widgets/controls",
      "model_module_version": "1.5.0",
      "model_name": "DescriptionStyleModel",
      "state": {
       "description_width": ""
      }
     },
     "0edad5c566c64b98a9ffc5b3a36a7d82": {
      "model_module": "@jupyter-widgets/base",
      "model_module_version": "1.2.0",
      "model_name": "LayoutModel",
      "state": {}
     },
     "0f5d509dad664384b67781d4438f02a2": {
      "model_module": "@jupyter-widgets/base",
      "model_module_version": "1.2.0",
      "model_name": "LayoutModel",
      "state": {}
     },
     "0f8a69bd37c74767897474004bd88ca7": {
      "model_module": "@jupyter-widgets/controls",
      "model_module_version": "1.5.0",
      "model_name": "VBoxModel",
      "state": {
       "children": [
        "IPY_MODEL_653a7e2a2d694b7ea9ca45a5118afc01",
        "IPY_MODEL_a1028809efa94428bed7c358650abbac"
       ],
       "layout": "IPY_MODEL_fdeee0aa95944f6394460d0aee287dd8"
      }
     },
     "0fb0156e57af4c039922591d9e1b8e3d": {
      "model_module": "@jupyter-widgets/base",
      "model_module_version": "1.2.0",
      "model_name": "LayoutModel",
      "state": {}
     },
     "0fd6f30c11a6413782b9e0561f51fc2c": {
      "model_module": "@jupyter-widgets/controls",
      "model_module_version": "1.5.0",
      "model_name": "VBoxModel",
      "state": {
       "children": [
        "IPY_MODEL_595538c4eeff4515a92034303ad1cf65",
        "IPY_MODEL_4ae7cbdd39a6454990f2326395336969"
       ],
       "layout": "IPY_MODEL_a6e9093b46464be4ac7ff9a5f650baaf"
      }
     },
     "1013b6dc9ba7473f9b24bcc770a3de0f": {
      "model_module": "@jupyter-widgets/controls",
      "model_module_version": "1.5.0",
      "model_name": "HTMLModel",
      "state": {
       "layout": "IPY_MODEL_69eebb2c247e4c6ba5ae0392dcc3c0bb",
       "style": "IPY_MODEL_85c0514ad4e5410082920b36ffc98f7d",
       "value": "<p>file saved at: 09-Jun-2020 07:54:27:</p>"
      }
     },
     "10175998aaa34d699475f1e1ac76759f": {
      "model_module": "@jupyter-widgets/controls",
      "model_module_version": "1.5.0",
      "model_name": "HBoxModel",
      "state": {
       "children": [
        "IPY_MODEL_4cc98b110d07459d89ff8812834b5e65",
        "IPY_MODEL_f8794b53ccad4e2f981b0402877eb140",
        "IPY_MODEL_803b66e0f6044628b3bdc24eb6bad37a"
       ],
       "layout": "IPY_MODEL_4ce6e23b4cc343afabfafb78fd280c89"
      }
     },
     "1094bb43e5794f038b04baee6ca507e2": {
      "model_module": "@jupyter-widgets/base",
      "model_module_version": "1.2.0",
      "model_name": "LayoutModel",
      "state": {}
     },
     "114392d1580b437ba5211df4af428b37": {
      "model_module": "@jupyter-widgets/base",
      "model_module_version": "1.2.0",
      "model_name": "LayoutModel",
      "state": {}
     },
     "117d0443ee7d4aedaefbc3e98bb811fc": {
      "model_module": "@jupyter-widgets/controls",
      "model_module_version": "1.5.0",
      "model_name": "VBoxModel",
      "state": {
       "children": [
        "IPY_MODEL_023fa969799a46089c323a44d6323157",
        "IPY_MODEL_1d7b825540ab49c58f29a6b6e66de570"
       ],
       "layout": "IPY_MODEL_1d6581921d8b405988faead7101489b5"
      }
     },
     "118f3e601bc74e4c80ca5911e2ed284b": {
      "model_module": "@jupyter-widgets/base",
      "model_module_version": "1.2.0",
      "model_name": "LayoutModel",
      "state": {}
     },
     "12117185e86345498d15ac85a28dc62c": {
      "model_module": "@jupyter-widgets/controls",
      "model_module_version": "1.5.0",
      "model_name": "VBoxModel",
      "state": {
       "children": [
        "IPY_MODEL_a5967d61535d4bcc85ed56741a47b822",
        "IPY_MODEL_abae7d1d5d0540df978141055881b1a1"
       ],
       "layout": "IPY_MODEL_002ba4008fa94e73b8f009e14fbbd8f5"
      }
     },
     "12a73875139840b29762c469d04057bb": {
      "model_module": "@jupyter-widgets/base",
      "model_module_version": "1.2.0",
      "model_name": "LayoutModel",
      "state": {}
     },
     "13453fdc674e4b3e8a2bfd44b0e9ab2f": {
      "model_module": "@jupyter-widgets/base",
      "model_module_version": "1.2.0",
      "model_name": "LayoutModel",
      "state": {}
     },
     "149c1e634f0041a4b52e570be67e505d": {
      "model_module": "@jupyter-widgets/base",
      "model_module_version": "1.2.0",
      "model_name": "LayoutModel",
      "state": {}
     },
     "14a0481d7d394a628a75ac100e43dd65": {
      "model_module": "@jupyter-widgets/base",
      "model_module_version": "1.2.0",
      "model_name": "LayoutModel",
      "state": {}
     },
     "151e8f546092403897d88d3173af0d22": {
      "model_module": "@jupyter-widgets/controls",
      "model_module_version": "1.5.0",
      "model_name": "ButtonModel",
      "state": {
       "button_style": "success",
       "description": "save changes",
       "layout": "IPY_MODEL_2fcea11c21f64164ba637c135443e3ca",
       "style": "IPY_MODEL_7f54d4a47f5f4f4fa099fc39d2c35c09"
      }
     },
     "156e503588784cb4a329dac3eb9a090e": {
      "model_module": "@jupyter-widgets/controls",
      "model_module_version": "1.5.0",
      "model_name": "HBoxModel",
      "state": {
       "children": [
        "IPY_MODEL_d301b1d7d7014097ab5d8f8bc924cd99",
        "IPY_MODEL_e3465b39ba3a4cbb87c91876e0eca4f8",
        "IPY_MODEL_b1b2386ae8764ff3bf1daf5243ca560b"
       ],
       "layout": "IPY_MODEL_2c78f29d43ac411c96768e103a775a3a"
      }
     },
     "15d6948c383648919d6a6aeb636e934e": {
      "model_module": "@jupyter-widgets/controls",
      "model_module_version": "1.5.0",
      "model_name": "ButtonModel",
      "state": {
       "button_style": "success",
       "description": "save changes",
       "layout": "IPY_MODEL_d11993632cbb44afa59a2e099d82a23c",
       "style": "IPY_MODEL_d05561542cff483e9eb52948b0abf73e"
      }
     },
     "160a07fccce64daf8527fcd7242a2509": {
      "model_module": "@jupyter-widgets/base",
      "model_module_version": "1.2.0",
      "model_name": "LayoutModel",
      "state": {}
     },
     "181d3d5fbf2047dbb9ea34f67152964c": {
      "model_module": "@jupyter-widgets/controls",
      "model_module_version": "1.5.0",
      "model_name": "HTMLModel",
      "state": {
       "layout": "IPY_MODEL_03a57e3e970b46c8ad86d9e46cd2941c",
       "style": "IPY_MODEL_ead198bb087142e2b785df673f8a59c7",
       "value": "<p>.\\appdata\\inputs\\inputs-eplus_pipework_params.csv saved at: 09-Jun-2020 09:00:21</p>"
      }
     },
     "186de558c3a44af2b773663c0bf88272": {
      "model_module": "@jupyter-widgets/controls",
      "model_module_version": "1.5.0",
      "model_name": "DescriptionStyleModel",
      "state": {
       "description_width": ""
      }
     },
     "18e4def5745e4c6f831b921aaaba5737": {
      "model_module": "@jupyter-widgets/controls",
      "model_module_version": "1.5.0",
      "model_name": "HBoxModel",
      "state": {
       "children": [
        "IPY_MODEL_3c71fbb505c544efba74ffdb7013bd67",
        "IPY_MODEL_3d42d5d14f444267ba608194cdfc5bc0",
        "IPY_MODEL_d4e8b295016447948ff3ecfd1530c949"
       ],
       "layout": "IPY_MODEL_9cb892a9c2b74d0f886d7be016d9458c"
      }
     },
     "18f08031c5ca468b938ca1ad2926299f": {
      "model_module": "@jupyter-widgets/controls",
      "model_module_version": "1.5.0",
      "model_name": "ButtonStyleModel",
      "state": {
       "font_weight": "bold"
      }
     },
     "191db1eb12e44c17a64c246b8623257b": {
      "model_module": "@jupyter-widgets/base",
      "model_module_version": "1.2.0",
      "model_name": "LayoutModel",
      "state": {}
     },
     "195c977ea8b24d1298697f3344c5b387": {
      "model_module": "@jupyter-widgets/base",
      "model_module_version": "1.2.0",
      "model_name": "LayoutModel",
      "state": {}
     },
     "1960a9a76cca4ef1951bade0d03901be": {
      "model_module": "@jupyter-widgets/controls",
      "model_module_version": "1.5.0",
      "model_name": "VBoxModel",
      "state": {
       "children": [
        "IPY_MODEL_2fae3c484957421cb6b6e7e58ef349fa",
        "IPY_MODEL_19f63c04b2404f97a236f4d22de6a0e4"
       ],
       "layout": "IPY_MODEL_d6eb958f76c247deab2e5c69fd6b7d3a"
      }
     },
     "19bbdb80259b4e4982f064cd20e6c82e": {
      "model_module": "@jupyter-widgets/base",
      "model_module_version": "1.2.0",
      "model_name": "LayoutModel",
      "state": {}
     },
     "19d8a6e17c4e41ee9ec9683e0142d150": {
      "model_module": "@jupyter-widgets/controls",
      "model_module_version": "1.5.0",
      "model_name": "ButtonStyleModel",
      "state": {
       "font_weight": "bold"
      }
     },
     "19f63c04b2404f97a236f4d22de6a0e4": {
      "model_module": "@jupyter-widgets/controls",
      "model_module_version": "1.5.0",
      "model_name": "HTMLModel",
      "state": {
       "layout": "IPY_MODEL_c0453cce6e274f9391681fb4ad5c8eb2",
       "style": "IPY_MODEL_bd4de136c8434ca4ad08ec55eae5f819",
       "value": "<p><em>TESTING</em></p>"
      }
     },
     "1a1e7ae4b2f94c01b0670e5f931b11ba": {
      "model_module": "@jupyter-widgets/controls",
      "model_module_version": "1.5.0",
      "model_name": "VBoxModel",
      "state": {
       "children": [
        "IPY_MODEL_baeae56b975f4cb1b0556c6e3800066b",
        "IPY_MODEL_8e4dcff74fc14df4beef2420507832df"
       ],
       "layout": "IPY_MODEL_254bae466e8048fe8ab8287c9dd890c7"
      }
     },
     "1a4d2659ebc5430fbffcac312f5ee303": {
      "model_module": "@jupyter-widgets/base",
      "model_module_version": "1.2.0",
      "model_name": "LayoutModel",
      "state": {}
     },
     "1a8a0e4511bc4fe7b147eff765f52458": {
      "model_module": "@jupyter-widgets/controls",
      "model_module_version": "1.5.0",
      "model_name": "VBoxModel",
      "state": {
       "children": [
        "IPY_MODEL_18e4def5745e4c6f831b921aaaba5737",
        "IPY_MODEL_be3672d25c504a7c98c2187153f322b8"
       ],
       "layout": "IPY_MODEL_e656aa57e7a444feac93eb23e605e289"
      }
     },
     "1a934c904d8d40fa88a1e0a9e8913d6b": {
      "model_module": "@jupyter-widgets/output",
      "model_module_version": "1.0.0",
      "model_name": "OutputModel",
      "state": {
       "layout": "IPY_MODEL_e22252211e0e43f39a34229e73a5c2e9"
      }
     },
     "1ad129377c3e448db13731ade4a22c2a": {
      "model_module": "@jupyter-widgets/base",
      "model_module_version": "1.2.0",
      "model_name": "LayoutModel",
      "state": {}
     },
     "1aeec77a1c254c54ae490d57ceccbb94": {
      "model_module": "@jupyter-widgets/controls",
      "model_module_version": "1.5.0",
      "model_name": "ButtonStyleModel",
      "state": {
       "font_weight": "bold"
      }
     },
     "1af6da2eba3b4b5b9e7e8011dc559364": {
      "model_module": "@jupyter-widgets/controls",
      "model_module_version": "1.5.0",
      "model_name": "VBoxModel",
      "state": {
       "children": [
        "IPY_MODEL_beb71b640f55452fab21604b00846825",
        "IPY_MODEL_ab2ae044492c40f285c3748ebc833134"
       ],
       "layout": "IPY_MODEL_b1d25f745e9c48a9a71b476949639bf8"
      }
     },
     "1b72525ca09b4fee9afc512d10cf9979": {
      "model_module": "@jupyter-widgets/controls",
      "model_module_version": "1.5.0",
      "model_name": "ButtonModel",
      "state": {
       "description": "load",
       "icon": "upload",
       "layout": "IPY_MODEL_e15f9ff7aab442efa9757dc7b5a12014",
       "style": "IPY_MODEL_73fe2f2e34874871b4f648084ef57aef"
      }
     },
     "1b995c88990c4238890fe8671fd77b63": {
      "model_module": "@jupyter-widgets/controls",
      "model_module_version": "1.5.0",
      "model_name": "HTMLModel",
      "state": {
       "layout": "IPY_MODEL_d2efd66463704f748e2f5ce66f1e4191",
       "style": "IPY_MODEL_9f66d28b92b545e9a503bbbdb24d333e",
       "value": "<p><em>TESTING</em></p>"
      }
     },
     "1c395a0e9b544a88981b99651beb0eba": {
      "model_module": "@jupyter-widgets/controls",
      "model_module_version": "1.5.0",
      "model_name": "RadioButtonsModel",
      "state": {
       "_options_labels": [
        "TEMPLATE: C:\\engDev\\git_mf\\MF_Toolbox\\dev\\mf_scripts\\template_inputs\\inputs-eplus_pipework_params.csv",
        "PROJECT: .\\appdata\\inputs\\inputs-eplus_pipework_params-1.csv",
        "PROJECT: .\\appdata\\inputs\\inputs-eplus_pipework_params.csv",
        "PROJECT: .\\appdata\\inputs\\archive\\20200605-1625-inputs-eplus_pipework_params.csv",
        "PROJECT: .\\appdata\\inputs\\archive\\20200605-1625inputs-eplus_pipework_params.csv",
        "PROJECT: .\\appdata\\inputs\\archive\\20200607_1420-jg-inputs-eplus_pipework_params.csv"
       ],
       "index": 1,
       "layout": "IPY_MODEL_65bd27a0b22b4e65bc24a5fb2a0deb80",
       "style": "IPY_MODEL_93260950c5e1437ebfa968730d9e2b48"
      }
     },
     "1d0d82a30b1f4ab3855471f9aad07b5f": {
      "model_module": "@jupyter-widgets/base",
      "model_module_version": "1.2.0",
      "model_name": "LayoutModel",
      "state": {}
     },
     "1d15df0a29f44593ae4155a8baf96896": {
      "model_module": "@jupyter-widgets/controls",
      "model_module_version": "1.5.0",
      "model_name": "VBoxModel",
      "state": {
       "children": [
        "IPY_MODEL_595538c4eeff4515a92034303ad1cf65",
        "IPY_MODEL_fc2d4808ac844649a08977f6351fc87e"
       ],
       "layout": "IPY_MODEL_52ec8c0630c54365ab39c3095fc3934a"
      }
     },
     "1d29a07e64f14f06bb57d30bd7b39552": {
      "model_module": "@jupyter-widgets/controls",
      "model_module_version": "1.5.0",
      "model_name": "DescriptionStyleModel",
      "state": {
       "description_width": ""
      }
     },
     "1d459f9651f54eea9abc971e39c1e678": {
      "model_module": "@jupyter-widgets/base",
      "model_module_version": "1.2.0",
      "model_name": "LayoutModel",
      "state": {}
     },
     "1d6581921d8b405988faead7101489b5": {
      "model_module": "@jupyter-widgets/base",
      "model_module_version": "1.2.0",
      "model_name": "LayoutModel",
      "state": {}
     },
     "1d7b825540ab49c58f29a6b6e66de570": {
      "model_module": "@jupyter-widgets/controls",
      "model_module_version": "1.5.0",
      "model_name": "RadioButtonsModel",
      "state": {
       "_options_labels": [
        "TEMPLATE: C:\\engDev\\git_mf\\MF_Toolbox\\dev\\mf_scripts\\template_inputs\\inputs-eplus_pipework_params.csv",
        "PROJECT: .\\appdata\\inputs\\inputs-eplus_pipework_params-1.csv",
        "PROJECT: .\\appdata\\inputs\\inputs-eplus_pipework_params.csv",
        "PROJECT: .\\appdata\\inputs\\archive\\20200605-1625-inputs-eplus_pipework_params.csv",
        "PROJECT: .\\appdata\\inputs\\archive\\20200605-1625inputs-eplus_pipework_params.csv",
        "PROJECT: .\\appdata\\inputs\\archive\\20200607_1420-jg-inputs-eplus_pipework_params.csv"
       ],
       "index": 0,
       "layout": "IPY_MODEL_9315f625046a4737a597ce0d05e4b3ad",
       "style": "IPY_MODEL_0ecc7334445147749f2d2628e394402e"
      }
     },
     "1ddc27a9bbfe49e685648de9d6e6097b": {
      "model_module": "@jupyter-widgets/controls",
      "model_module_version": "1.5.0",
      "model_name": "DescriptionStyleModel",
      "state": {
       "description_width": ""
      }
     },
     "1ed9fb653c714ce9865e04c66c1a85f9": {
      "model_module": "@jupyter-widgets/controls",
      "model_module_version": "1.5.0",
      "model_name": "ButtonStyleModel",
      "state": {
       "font_weight": "bold"
      }
     },
     "1fcbdae1237242668fe9c88c080503b5": {
      "model_module": "@jupyter-widgets/base",
      "model_module_version": "1.2.0",
      "model_name": "LayoutModel",
      "state": {}
     },
     "20362f3546384e7b8de5fd385cd0bf65": {
      "model_module": "@jupyter-widgets/controls",
      "model_module_version": "1.5.0",
      "model_name": "ButtonStyleModel",
      "state": {
       "font_weight": "bold"
      }
     },
     "20892c03ac644e93aef9f3886821d2e5": {
      "model_module": "@jupyter-widgets/base",
      "model_module_version": "1.2.0",
      "model_name": "LayoutModel",
      "state": {}
     },
     "224d2f6b22154ad699d6884c85b8ab4f": {
      "model_module": "@jupyter-widgets/base",
      "model_module_version": "1.2.0",
      "model_name": "LayoutModel",
      "state": {}
     },
     "23b25622ef854694a3e0af7729f269e7": {
      "model_module": "@jupyter-widgets/base",
      "model_module_version": "1.2.0",
      "model_name": "LayoutModel",
      "state": {}
     },
     "242d1662264e4156afc27b4d6f1897fd": {
      "model_module": "@jupyter-widgets/controls",
      "model_module_version": "1.5.0",
      "model_name": "ButtonModel",
      "state": {
       "description": "load",
       "icon": "upload",
       "layout": "IPY_MODEL_6b1d1fdb0fe64b20a59d2437b16efbd2",
       "style": "IPY_MODEL_3b436f36323646e2a449929e023c311f"
      }
     },
     "24dea92328e1414eae9f3ac214e2b841": {
      "model_module": "@jupyter-widgets/controls",
      "model_module_version": "1.5.0",
      "model_name": "ButtonStyleModel",
      "state": {
       "font_weight": "bold"
      }
     },
     "254bae466e8048fe8ab8287c9dd890c7": {
      "model_module": "@jupyter-widgets/base",
      "model_module_version": "1.2.0",
      "model_name": "LayoutModel",
      "state": {}
     },
     "25bc86995a224394ab24b19d7fb66376": {
      "model_module": "@jupyter-widgets/controls",
      "model_module_version": "1.5.0",
      "model_name": "HTMLModel",
      "state": {
       "layout": "IPY_MODEL_cd9dbd8ac0ff4d26871bbe1ef21a27e8",
       "style": "IPY_MODEL_97b634e1e10145d09a17eb93fe2e1b64",
       "value": "<p><em>TESTING</em></p>"
      }
     },
     "25e91db427c1443684441591d1857e80": {
      "model_module": "@jupyter-widgets/controls",
      "model_module_version": "1.5.0",
      "model_name": "ToggleButtonModel",
      "state": {
       "button_style": "info",
       "description": "inputs from file",
       "layout": "IPY_MODEL_6e56b669027f41e2b2e519950b663c6f",
       "style": "IPY_MODEL_af5e8900b46b483a9fe16ca0fe2c2e4d",
       "value": true
      }
     },
     "26287591f80e41d48d71ec7daed9c029": {
      "model_module": "@jupyter-widgets/controls",
      "model_module_version": "1.5.0",
      "model_name": "VBoxModel",
      "state": {
       "children": [
        "IPY_MODEL_beb71b640f55452fab21604b00846825",
        "IPY_MODEL_ab2ae044492c40f285c3748ebc833134"
       ],
       "layout": "IPY_MODEL_6b42f62a783743a69f673a9087ae32c5"
      }
     },
     "269bf43e922f4d1ea8c3b71a5ca9cc88": {
      "model_module": "@jupyter-widgets/base",
      "model_module_version": "1.2.0",
      "model_name": "LayoutModel",
      "state": {}
     },
     "279ac9d0e942407aac077b4147eead8b": {
      "model_module": "@jupyter-widgets/controls",
      "model_module_version": "1.5.0",
      "model_name": "DescriptionStyleModel",
      "state": {
       "description_width": ""
      }
     },
     "27feea796d5e4ce0bfd2ffb680f6e1f7": {
      "model_module": "@jupyter-widgets/output",
      "model_module_version": "1.0.0",
      "model_name": "OutputModel",
      "state": {
       "layout": "IPY_MODEL_ae775c18225342d5a674af3802f72b35",
       "outputs": [
        {
         "data": {
          "application/vnd.jupyter.widget-view+json": {
           "model_id": "",
           "version_major": 2,
           "version_minor": 0
          },
          "text/plain": "Button(description='load', icon='upload', style=ButtonStyle(font_weight='bold'))"
         },
         "metadata": {},
         "output_type": "display_data"
        },
        {
         "data": {
          "application/vnd.jupyter.widget-view+json": {
           "model_id": "",
           "version_major": 2,
           "version_minor": 0
          },
          "text/plain": "RadioButtons(layout=Layout(align_items='stretch', display='flex', flex_flow='row', grid_auto_columns='True', j…"
         },
         "metadata": {},
         "output_type": "display_data"
        },
        {
         "data": {
          "text/markdown": "load input form from: C:\\engDev\\git_mf\\MF_Toolbox\\dev\\mf_scripts\\template_inputs\\inputs-eplus_pipework_params.csv",
          "text/plain": "<IPython.core.display.Markdown object>"
         },
         "metadata": {},
         "output_type": "display_data"
        }
       ]
      }
     },
     "28967a35cb9b4180a445378996729a20": {
      "model_module": "@jupyter-widgets/base",
      "model_module_version": "1.2.0",
      "model_name": "LayoutModel",
      "state": {}
     },
     "28cd96b9e46049e4b0210dbc6f6ce5b5": {
      "model_module": "@jupyter-widgets/controls",
      "model_module_version": "1.5.0",
      "model_name": "DescriptionStyleModel",
      "state": {
       "description_width": ""
      }
     },
     "291b6e74e80d4d019a23077875368f78": {
      "model_module": "@jupyter-widgets/base",
      "model_module_version": "1.2.0",
      "model_name": "LayoutModel",
      "state": {}
     },
     "295800a45a364fe2b75e2774c3c26977": {
      "model_module": "@jupyter-widgets/controls",
      "model_module_version": "1.5.0",
      "model_name": "DescriptionStyleModel",
      "state": {
       "description_width": ""
      }
     },
     "296b64c181954e7aaba9bf48bb0db96f": {
      "model_module": "@jupyter-widgets/base",
      "model_module_version": "1.2.0",
      "model_name": "LayoutModel",
      "state": {}
     },
     "2a38253c769a456f9062a16af593950e": {
      "model_module": "@jupyter-widgets/controls",
      "model_module_version": "1.5.0",
      "model_name": "RadioButtonsModel",
      "state": {
       "_options_labels": [
        "TEMPLATE: C:\\engDev\\git_mf\\MF_Toolbox\\dev\\mf_scripts\\template_inputs\\inputs-eplus_pipework_params.csv",
        "TEMPLATE: .\\appdata\\inputs\\inputs-eplus_pipework_params-1.csv",
        "TEMPLATE: .\\appdata\\inputs\\inputs-eplus_pipework_params.csv",
        "TEMPLATE: .\\appdata\\inputs\\archive\\20200605-1625-inputs-eplus_pipework_params.csv",
        "TEMPLATE: .\\appdata\\inputs\\archive\\20200605-1625inputs-eplus_pipework_params.csv",
        "TEMPLATE: .\\appdata\\inputs\\archive\\20200607_1420-jg-inputs-eplus_pipework_params.csv"
       ],
       "index": 0,
       "layout": "IPY_MODEL_ea6be275941948b69cab65baa57fde42",
       "style": "IPY_MODEL_cc7c9b4fcad2492bbebc17a565b4e918"
      }
     },
     "2afab85908cd4e878c594563f7a6d40e": {
      "model_module": "@jupyter-widgets/controls",
      "model_module_version": "1.5.0",
      "model_name": "ButtonModel",
      "state": {
       "description": "load",
       "icon": "upload",
       "layout": "IPY_MODEL_8fb62aae457e4521a9925c51576f8edc",
       "style": "IPY_MODEL_a476b4296fde4c9d8aeb0387e64a1eed"
      }
     },
     "2b1b6ed7ca274f79b4dd8dbdaf60a269": {
      "model_module": "@jupyter-widgets/controls",
      "model_module_version": "1.5.0",
      "model_name": "HTMLModel",
      "state": {
       "layout": "IPY_MODEL_042cfb3916b14721a6017a8d28706e96",
       "style": "IPY_MODEL_cd44eb70ac2e4b4495675e6f57751cc4",
       "value": "<p>revert to inputs in last save of: .\\appdata\\inputs\\inputs-eplus_pipework_params.csv</p>"
      }
     },
     "2b2b35b8d72041199f741fa12972e3f8": {
      "model_module": "@jupyter-widgets/base",
      "model_module_version": "1.2.0",
      "model_name": "LayoutModel",
      "state": {}
     },
     "2ba32debd64248b3867a08dd9a8bf493": {
      "model_module": "@jupyter-widgets/controls",
      "model_module_version": "1.5.0",
      "model_name": "DescriptionStyleModel",
      "state": {
       "description_width": ""
      }
     },
     "2c78f29d43ac411c96768e103a775a3a": {
      "model_module": "@jupyter-widgets/base",
      "model_module_version": "1.2.0",
      "model_name": "LayoutModel",
      "state": {}
     },
     "2c89518fac6d489fb027e653ca572803": {
      "model_module": "@jupyter-widgets/controls",
      "model_module_version": "1.5.0",
      "model_name": "ButtonStyleModel",
      "state": {
       "font_weight": "bold"
      }
     },
     "2ce5b801eea04b298459b160979cca45": {
      "model_module": "@jupyter-widgets/base",
      "model_module_version": "1.2.0",
      "model_name": "LayoutModel",
      "state": {}
     },
     "2d7d465dd8074329bdb3588d5e2c156d": {
      "model_module": "@jupyter-widgets/controls",
      "model_module_version": "1.5.0",
      "model_name": "HTMLModel",
      "state": {
       "layout": "IPY_MODEL_07091ab4f92643729324d96a9584e395",
       "style": "IPY_MODEL_b3dacfff3f694665ac9c8dd49e248017",
       "value": "<p>revert to inputs in last save of: .\\appdata\\inputs\\inputs-eplus_pipework_params.csv</p>"
      }
     },
     "2f9aed45394c47fbb78d8ce40d2197c3": {
      "model_module": "@jupyter-widgets/base",
      "model_module_version": "1.2.0",
      "model_name": "LayoutModel",
      "state": {}
     },
     "2fae3c484957421cb6b6e7e58ef349fa": {
      "model_module": "@jupyter-widgets/controls",
      "model_module_version": "1.5.0",
      "model_name": "HBoxModel",
      "state": {
       "children": [
        "IPY_MODEL_72abfacd6e3f48ad9fc41b2ca832d5d2",
        "IPY_MODEL_d126ee26b7044b2083e42cf70389295c",
        "IPY_MODEL_66abcdfd345443a89e8ce895749e3e07"
       ],
       "layout": "IPY_MODEL_80dbd651a9c846dbb5146b7edf1cbcff"
      }
     },
     "2fcea11c21f64164ba637c135443e3ca": {
      "model_module": "@jupyter-widgets/base",
      "model_module_version": "1.2.0",
      "model_name": "LayoutModel",
      "state": {}
     },
     "302bda1534f7435a87c89a0d2747d4e6": {
      "model_module": "@jupyter-widgets/base",
      "model_module_version": "1.2.0",
      "model_name": "LayoutModel",
      "state": {}
     },
     "304707429f804a99ad57d66a677b3ba7": {
      "model_module": "@jupyter-widgets/controls",
      "model_module_version": "1.5.0",
      "model_name": "VBoxModel",
      "state": {
       "children": [
        "IPY_MODEL_4e7980a1d6fa4b0b8d461233b3ccfd13",
        "IPY_MODEL_39375e16a6714860a23d351d71a4a192"
       ],
       "layout": "IPY_MODEL_fd561d538ce04ad09d15d2e884089c15"
      }
     },
     "304cc39837df4709a0292020f5a051b6": {
      "model_module": "@jupyter-widgets/controls",
      "model_module_version": "1.5.0",
      "model_name": "ButtonModel",
      "state": {
       "button_style": "success",
       "description": "save changes",
       "layout": "IPY_MODEL_8790eb7395a54ca18216af4544fe7c0f",
       "style": "IPY_MODEL_cec3dc218e434a68a2208006f4754051"
      }
     },
     "3116228e7f3a4eb9a3bca47431bb5bef": {
      "model_module": "@jupyter-widgets/controls",
      "model_module_version": "1.5.0",
      "model_name": "VBoxModel",
      "state": {
       "children": [
        "IPY_MODEL_be7a08aa0d4940e598e1b517e336deb6",
        "IPY_MODEL_2d7d465dd8074329bdb3588d5e2c156d"
       ],
       "layout": "IPY_MODEL_12a73875139840b29762c469d04057bb"
      }
     },
     "313beca433d64808a62405fc5fec5d87": {
      "model_module": "@jupyter-widgets/controls",
      "model_module_version": "1.5.0",
      "model_name": "VBoxModel",
      "state": {
       "children": [
        "IPY_MODEL_beb71b640f55452fab21604b00846825",
        "IPY_MODEL_ab2ae044492c40f285c3748ebc833134"
       ],
       "layout": "IPY_MODEL_05872cecaadf4ac7b0d548d124397f1a"
      }
     },
     "31ce8227bcc8468e909f84feb464887f": {
      "model_module": "@jupyter-widgets/controls",
      "model_module_version": "1.5.0",
      "model_name": "HTMLModel",
      "state": {
       "layout": "IPY_MODEL_b59b9cf0968348738bf3196c463f741e",
       "style": "IPY_MODEL_45b0f031a7394f708b4da37c52b47125",
       "value": "<p>revert to inputs in last save of: .\\appdata\\inputs\\inputs-eplus_pipework_params.csv</p>"
      }
     },
     "324bb20192654aebb2b90087f02b7a7c": {
      "model_module": "@jupyter-widgets/controls",
      "model_module_version": "1.5.0",
      "model_name": "VBoxModel",
      "state": {
       "children": [
        "IPY_MODEL_baeae56b975f4cb1b0556c6e3800066b",
        "IPY_MODEL_8e4dcff74fc14df4beef2420507832df"
       ],
       "layout": "IPY_MODEL_1d459f9651f54eea9abc971e39c1e678"
      }
     },
     "3328af3a64b84f3db6a89ef9bb067b29": {
      "model_module": "@jupyter-widgets/controls",
      "model_module_version": "1.5.0",
      "model_name": "VBoxModel",
      "state": {
       "children": [
        "IPY_MODEL_18e4def5745e4c6f831b921aaaba5737",
        "IPY_MODEL_fb3b374d19cd47ab923dd472770671cc"
       ],
       "layout": "IPY_MODEL_d8714e9802d4408098732bd71c408366"
      }
     },
     "33808698b7e54703bb0a9a4f896e5d41": {
      "model_module": "@jupyter-widgets/base",
      "model_module_version": "1.2.0",
      "model_name": "LayoutModel",
      "state": {}
     },
     "3411c75fe0eb4e9bbf1e8f0d25a2385b": {
      "model_module": "@jupyter-widgets/base",
      "model_module_version": "1.2.0",
      "model_name": "LayoutModel",
      "state": {}
     },
     "3488b25652584678b7d957dd16baf4e1": {
      "model_module": "@jupyter-widgets/controls",
      "model_module_version": "1.5.0",
      "model_name": "ButtonModel",
      "state": {
       "description": "load",
       "icon": "upload",
       "layout": "IPY_MODEL_c6545b9d1c1b4e1d97ebef182e22b886",
       "style": "IPY_MODEL_de620ecec9824d4fb1669e747d49b371"
      }
     },
     "34c3d763d9554fba974d3173425904d4": {
      "model_module": "@jupyter-widgets/controls",
      "model_module_version": "1.5.0",
      "model_name": "ButtonStyleModel",
      "state": {
       "font_weight": "bold"
      }
     },
     "35d7549ef3324a89ae2de4a9700535bd": {
      "model_module": "@jupyter-widgets/controls",
      "model_module_version": "1.5.0",
      "model_name": "HBoxModel",
      "state": {
       "children": [
        "IPY_MODEL_59f076d9123a4a0280fba53a0265d5b7",
        "IPY_MODEL_9fcf2f4b50614851a7425dc6ae7cb809",
        "IPY_MODEL_3dbcf33f3afa4dee93125b1a627ae51c"
       ],
       "layout": "IPY_MODEL_687677e1f6964e16a7d87ff8da5d9a1d"
      }
     },
     "365f0e5f7c404491bf028aa2c50cafaf": {
      "model_module": "@jupyter-widgets/output",
      "model_module_version": "1.0.0",
      "model_name": "OutputModel",
      "state": {
       "layout": "IPY_MODEL_38a25a3640a24dcf838ad701fa42163a",
       "outputs": [
        {
         "data": {
          "application/vnd.jupyter.widget-view+json": {
           "model_id": "",
           "version_major": 2,
           "version_minor": 0
          },
          "text/plain": "Button(description='load', icon='upload', style=ButtonStyle(font_weight='bold'))"
         },
         "metadata": {},
         "output_type": "display_data"
        },
        {
         "data": {
          "application/vnd.jupyter.widget-view+json": {
           "model_id": "",
           "version_major": 2,
           "version_minor": 0
          },
          "text/plain": "RadioButtons(layout=Layout(align_items='stretch', display='flex', flex_flow='row', grid_auto_columns='True', j…"
         },
         "metadata": {},
         "output_type": "display_data"
        },
        {
         "ename": "AttributeError",
         "evalue": "'FileController' object has no attribute 'message'",
         "output_type": "error",
         "traceback": [
          "\u001b[1;31m---------------------------------------------------------------------------\u001b[0m",
          "\u001b[1;31mAttributeError\u001b[0m                            Traceback (most recent call last)",
          "\u001b[1;32m<ipython-input-37-81a1a4006288>\u001b[0m in \u001b[0;36m_load\u001b[1;34m(self, sender)\u001b[0m\n\u001b[0;32m     96\u001b[0m                 \u001b[0mdisplay\u001b[0m\u001b[1;33m(\u001b[0m\u001b[0mself\u001b[0m\u001b[1;33m.\u001b[0m\u001b[0mload_button\u001b[0m\u001b[1;33m)\u001b[0m\u001b[1;33m\u001b[0m\u001b[1;33m\u001b[0m\u001b[0m\n\u001b[0;32m     97\u001b[0m                 \u001b[0mdisplay\u001b[0m\u001b[1;33m(\u001b[0m\u001b[0mself\u001b[0m\u001b[1;33m.\u001b[0m\u001b[0mchoose_inputs\u001b[0m\u001b[1;33m)\u001b[0m\u001b[1;33m\u001b[0m\u001b[1;33m\u001b[0m\u001b[0m\n\u001b[1;32m---> 98\u001b[1;33m                 \u001b[0mdisplay\u001b[0m\u001b[1;33m(\u001b[0m\u001b[0mMarkdown\u001b[0m\u001b[1;33m(\u001b[0m\u001b[0mself\u001b[0m\u001b[1;33m.\u001b[0m\u001b[0mmessage\u001b[0m\u001b[1;33m)\u001b[0m\u001b[1;33m)\u001b[0m\u001b[1;33m\u001b[0m\u001b[1;33m\u001b[0m\u001b[0m\n\u001b[0m\u001b[0;32m     99\u001b[0m             \u001b[1;32mif\u001b[0m \u001b[0mself\u001b[0m\u001b[1;33m.\u001b[0m\u001b[0miserror\u001b[0m\u001b[1;33m:\u001b[0m\u001b[1;33m\u001b[0m\u001b[1;33m\u001b[0m\u001b[0m\n\u001b[0;32m    100\u001b[0m                 \u001b[0mdisplay\u001b[0m\u001b[1;33m(\u001b[0m\u001b[0mMarkdown\u001b[0m\u001b[1;33m(\u001b[0m\u001b[0mself\u001b[0m\u001b[1;33m.\u001b[0m\u001b[0merrormessage\u001b[0m\u001b[1;33m)\u001b[0m\u001b[1;33m)\u001b[0m\u001b[1;33m\u001b[0m\u001b[1;33m\u001b[0m\u001b[0m\n",
          "\u001b[1;31mAttributeError\u001b[0m: 'FileController' object has no attribute 'message'"
         ]
        }
       ]
      }
     },
     "3698605f56904c56aafe52358a3647f0": {
      "model_module": "@jupyter-widgets/base",
      "model_module_version": "1.2.0",
      "model_name": "LayoutModel",
      "state": {}
     },
     "36a91ae925f6428494f7504508500446": {
      "model_module": "@jupyter-widgets/base",
      "model_module_version": "1.2.0",
      "model_name": "LayoutModel",
      "state": {}
     },
     "36ae33d78abc4a8cba5fcd8d6eb001b2": {
      "model_module": "@jupyter-widgets/controls",
      "model_module_version": "1.5.0",
      "model_name": "VBoxModel",
      "state": {
       "children": [
        "IPY_MODEL_be7a08aa0d4940e598e1b517e336deb6",
        "IPY_MODEL_2d7d465dd8074329bdb3588d5e2c156d"
       ],
       "layout": "IPY_MODEL_302bda1534f7435a87c89a0d2747d4e6"
      }
     },
     "36d2950727094e649cb025612fbe4b66": {
      "model_module": "@jupyter-widgets/controls",
      "model_module_version": "1.5.0",
      "model_name": "VBoxModel",
      "state": {
       "children": [
        "IPY_MODEL_a5967d61535d4bcc85ed56741a47b822",
        "IPY_MODEL_abae7d1d5d0540df978141055881b1a1"
       ],
       "layout": "IPY_MODEL_4ca3da15061d40569c297ad033e95530"
      }
     },
     "36d2fc965bc34b1895a671b3ac59ddd4": {
      "model_module": "@jupyter-widgets/controls",
      "model_module_version": "1.5.0",
      "model_name": "RadioButtonsModel",
      "state": {
       "_options_labels": [
        "TEMPLATE: C:\\engDev\\git_mf\\MF_Toolbox\\dev\\mf_scripts\\template_inputs\\inputs-eplus_pipework_params.csv",
        "TEMPLATE: .\\appdata\\inputs\\inputs-eplus_pipework_params-1.csv",
        "TEMPLATE: .\\appdata\\inputs\\inputs-eplus_pipework_params.csv",
        "TEMPLATE: .\\appdata\\inputs\\archive\\20200605-1625-inputs-eplus_pipework_params.csv",
        "TEMPLATE: .\\appdata\\inputs\\archive\\20200605-1625inputs-eplus_pipework_params.csv",
        "TEMPLATE: .\\appdata\\inputs\\archive\\20200607_1420-jg-inputs-eplus_pipework_params.csv"
       ],
       "index": 0,
       "layout": "IPY_MODEL_bfbbac06322142f2942b52bd294d28fc",
       "style": "IPY_MODEL_45f420decb374ce884b68e62181adbd7"
      }
     },
     "373306ba85a0471db3e82ad317968ceb": {
      "model_module": "@jupyter-widgets/output",
      "model_module_version": "1.0.0",
      "model_name": "OutputModel",
      "state": {
       "layout": "IPY_MODEL_ed4366e1a0a047749d4abdddc806eca6"
      }
     },
     "3785a6cc9a254b1aad28240a1583ef4c": {
      "model_module": "@jupyter-widgets/controls",
      "model_module_version": "1.5.0",
      "model_name": "HTMLModel",
      "state": {
       "layout": "IPY_MODEL_a2c8b7a00c1143618709013855f8a7b7",
       "style": "IPY_MODEL_bcd5db8ae1974334ba55ebf2435d2d05",
       "value": "<p><strong>TESTING</strong></p>"
      }
     },
     "38077edcb6bd44ea8a1414cc37ffd8e2": {
      "model_module": "@jupyter-widgets/controls",
      "model_module_version": "1.5.0",
      "model_name": "VBoxModel",
      "state": {
       "children": [
        "IPY_MODEL_b40969ce8d99489eb9a118886463c901",
        "IPY_MODEL_4a042846b9574933a96d8f32d18d1df0"
       ],
       "layout": "IPY_MODEL_6a53b490040a4935bfa4825eb5e82201"
      }
     },
     "3836ebc20f114df9890d897e11ffd318": {
      "model_module": "@jupyter-widgets/controls",
      "model_module_version": "1.5.0",
      "model_name": "HTMLModel",
      "state": {
       "layout": "IPY_MODEL_78399e2be41f4c7ebf9248d60d4ead89",
       "style": "IPY_MODEL_594e544af4af43b795553f89e81a84a7",
       "value": "<p>revert to inputs in last save of: .\\appdata\\inputs\\inputs-eplus_pipework_params.csv</p>"
      }
     },
     "387b5bb1daee45b29b04ec1dc4bcd0ed": {
      "model_module": "@jupyter-widgets/base",
      "model_module_version": "1.2.0",
      "model_name": "LayoutModel",
      "state": {
       "align_items": "stretch",
       "display": "flex",
       "flex_flow": "row",
       "grid_auto_columns": "True",
       "justify_content": "flex-start",
       "width": "100%"
      }
     },
     "388ddfab0ea94cbc8aa5b9db3d22d895": {
      "model_module": "@jupyter-widgets/controls",
      "model_module_version": "1.5.0",
      "model_name": "DescriptionStyleModel",
      "state": {
       "description_width": ""
      }
     },
     "38a25a3640a24dcf838ad701fa42163a": {
      "model_module": "@jupyter-widgets/base",
      "model_module_version": "1.2.0",
      "model_name": "LayoutModel",
      "state": {}
     },
     "38f99bda2c5d4a40aef4246218684888": {
      "model_module": "@jupyter-widgets/base",
      "model_module_version": "1.2.0",
      "model_name": "LayoutModel",
      "state": {}
     },
     "392e1b5e68b44b14b5ace477815f16b2": {
      "model_module": "ipysheet",
      "model_module_version": "~0.4.4",
      "model_name": "SheetModel",
      "state": {
       "cells": [
        "IPY_MODEL_bcd5d51d91e04e0a9ac03cedd2d00f8d",
        "IPY_MODEL_a231b410b70946ef90934c065189fa8f",
        "IPY_MODEL_92dc1dc7609b42eb9de052e1c526f708",
        "IPY_MODEL_6866cbac03c348ff9178f34d6bbfc6d1"
       ],
       "column_headers": [
        "index",
        "input/output?",
        "value",
        "description"
       ],
       "layout": "IPY_MODEL_fc355a35d2004e219b55ed6a4da01702",
       "row_headers": [
        "0",
        "1"
       ],
       "rows": 2
      }
     },
     "39375e16a6714860a23d351d71a4a192": {
      "model_module": "@jupyter-widgets/controls",
      "model_module_version": "1.5.0",
      "model_name": "RadioButtonsModel",
      "state": {
       "_options_labels": [
        "TEMPLATE: C:\\engDev\\git_mf\\MF_Toolbox\\dev\\mf_scripts\\template_inputs\\inputs-eplus_pipework_params.csv",
        "PROJECT: .\\appdata\\inputs\\inputs-eplus_pipework_params-1.csv",
        "PROJECT: .\\appdata\\inputs\\inputs-eplus_pipework_params.csv",
        "PROJECT: .\\appdata\\inputs\\archive\\20200605-1625-inputs-eplus_pipework_params.csv",
        "PROJECT: .\\appdata\\inputs\\archive\\20200605-1625inputs-eplus_pipework_params.csv",
        "PROJECT: .\\appdata\\inputs\\archive\\20200607_1420-jg-inputs-eplus_pipework_params.csv"
       ],
       "index": 0,
       "layout": "IPY_MODEL_a3a20804ad204b54bf67548b1d2dfa12",
       "style": "IPY_MODEL_b0a5351e68e14fd09db2dfc56706a83d"
      }
     },
     "3941289230d6416b9ee383f1000ff299": {
      "model_module": "@jupyter-widgets/base",
      "model_module_version": "1.2.0",
      "model_name": "LayoutModel",
      "state": {
       "align_items": "stretch",
       "display": "flex",
       "flex_flow": "row",
       "grid_auto_columns": "True",
       "justify_content": "flex-start",
       "width": "100%"
      }
     },
     "3a3f2ad6e3e04dbea1287508694954b1": {
      "model_module": "@jupyter-widgets/controls",
      "model_module_version": "1.5.0",
      "model_name": "ButtonModel",
      "state": {
       "button_style": "success",
       "description": "save changes",
       "layout": "IPY_MODEL_093dde088d614236bb4ccdb2629bbf70",
       "style": "IPY_MODEL_8473a455aea0464aac248e494c4fc9ea"
      }
     },
     "3b436f36323646e2a449929e023c311f": {
      "model_module": "@jupyter-widgets/controls",
      "model_module_version": "1.5.0",
      "model_name": "ButtonStyleModel",
      "state": {
       "font_weight": "bold"
      }
     },
     "3b7679b41c054656b1e10559eac25d71": {
      "model_module": "@jupyter-widgets/controls",
      "model_module_version": "1.5.0",
      "model_name": "HTMLModel",
      "state": {
       "layout": "IPY_MODEL_38f99bda2c5d4a40aef4246218684888",
       "style": "IPY_MODEL_2ba32debd64248b3867a08dd9a8bf493",
       "value": "<p><em>TESTING</em></p>"
      }
     },
     "3c02539d691b4f8e9d36499887c34872": {
      "model_module": "@jupyter-widgets/controls",
      "model_module_version": "1.5.0",
      "model_name": "DescriptionStyleModel",
      "state": {
       "description_width": ""
      }
     },
     "3c71fbb505c544efba74ffdb7013bd67": {
      "model_module": "@jupyter-widgets/controls",
      "model_module_version": "1.5.0",
      "model_name": "ButtonModel",
      "state": {
       "button_style": "success",
       "description": "save changes",
       "layout": "IPY_MODEL_160a07fccce64daf8527fcd7242a2509",
       "style": "IPY_MODEL_02ee40ad81fc4c0b93117b69d498e89e"
      }
     },
     "3cff2a518adc486f8f23891103f7ee8c": {
      "model_module": "@jupyter-widgets/controls",
      "model_module_version": "1.5.0",
      "model_name": "HBoxModel",
      "state": {
       "children": [
        "IPY_MODEL_e5c0f554434545acbb0a43273633b2dc",
        "IPY_MODEL_fe3db7cb24854d449ee92eebf67ab270",
        "IPY_MODEL_25e91db427c1443684441591d1857e80"
       ],
       "layout": "IPY_MODEL_40757e10d6f14af2af1ed135758634de"
      }
     },
     "3d42d5d14f444267ba608194cdfc5bc0": {
      "model_module": "@jupyter-widgets/controls",
      "model_module_version": "1.5.0",
      "model_name": "ButtonModel",
      "state": {
       "button_style": "warning",
       "description": "revert to last save",
       "layout": "IPY_MODEL_33808698b7e54703bb0a9a4f896e5d41",
       "style": "IPY_MODEL_58d04cef133d4e778c7069596e66bd4d"
      }
     },
     "3dbcf33f3afa4dee93125b1a627ae51c": {
      "model_module": "@jupyter-widgets/controls",
      "model_module_version": "1.5.0",
      "model_name": "ToggleButtonModel",
      "state": {
       "button_style": "info",
       "description": "inputs from file",
       "layout": "IPY_MODEL_e52b6f8f709a4ff09f041f43a2c72f5d",
       "style": "IPY_MODEL_ce6372ebbf404cb487fefb542ab2d299"
      }
     },
     "3e31004eaf9d4c7fbef1f1f4e825b691": {
      "model_module": "@jupyter-widgets/base",
      "model_module_version": "1.2.0",
      "model_name": "LayoutModel",
      "state": {}
     },
     "3e427c78cd8d4fcf9f8689794240cab3": {
      "model_module": "@jupyter-widgets/base",
      "model_module_version": "1.2.0",
      "model_name": "LayoutModel",
      "state": {}
     },
     "4067db6450be4f108a68da07b16ec115": {
      "model_module": "@jupyter-widgets/base",
      "model_module_version": "1.2.0",
      "model_name": "LayoutModel",
      "state": {}
     },
     "40757e10d6f14af2af1ed135758634de": {
      "model_module": "@jupyter-widgets/base",
      "model_module_version": "1.2.0",
      "model_name": "LayoutModel",
      "state": {}
     },
     "40a1a843658946918b72f60134c77559": {
      "model_module": "@jupyter-widgets/controls",
      "model_module_version": "1.5.0",
      "model_name": "HTMLModel",
      "state": {
       "layout": "IPY_MODEL_a964386bc6264640be13d4f1abd929bd",
       "style": "IPY_MODEL_cb1876f04f654c63944beaf01c9221b6",
       "value": "<p><strong>TESTING</strong></p>"
      }
     },
     "41037ed183804b5bb77f31f1f45bf899": {
      "model_module": "@jupyter-widgets/base",
      "model_module_version": "1.2.0",
      "model_name": "LayoutModel",
      "state": {}
     },
     "42d97bc87b2644bab66049378bc8c018": {
      "model_module": "@jupyter-widgets/base",
      "model_module_version": "1.2.0",
      "model_name": "LayoutModel",
      "state": {}
     },
     "4303fb8e96fb4a5a892c6c5e94576fc1": {
      "model_module": "@jupyter-widgets/base",
      "model_module_version": "1.2.0",
      "model_name": "LayoutModel",
      "state": {}
     },
     "4327482ac2fd4134a94d1d6fd8236211": {
      "model_module": "@jupyter-widgets/controls",
      "model_module_version": "1.5.0",
      "model_name": "ToggleButtonModel",
      "state": {
       "button_style": "info",
       "description": "inputs from file",
       "layout": "IPY_MODEL_2f9aed45394c47fbb78d8ce40d2197c3",
       "style": "IPY_MODEL_af66a504add949db80a9e1949ad6fe65"
      }
     },
     "435afd8dce1a41adbe3b5dabea4a8106": {
      "model_module": "@jupyter-widgets/base",
      "model_module_version": "1.2.0",
      "model_name": "LayoutModel",
      "state": {
       "align_items": "stretch",
       "display": "flex",
       "flex_flow": "row",
       "grid_auto_columns": "True",
       "justify_content": "flex-start",
       "width": "100%"
      }
     },
     "43778a9a31414331b2586b899663e251": {
      "model_module": "@jupyter-widgets/base",
      "model_module_version": "1.2.0",
      "model_name": "LayoutModel",
      "state": {}
     },
     "437da05f103740679195618eaf44da02": {
      "model_module": "@jupyter-widgets/base",
      "model_module_version": "1.2.0",
      "model_name": "LayoutModel",
      "state": {}
     },
     "439c9cb2b6424aca91fb73a947dead3b": {
      "model_module": "@jupyter-widgets/base",
      "model_module_version": "1.2.0",
      "model_name": "LayoutModel",
      "state": {}
     },
     "43bde61a2ec74205b9448a6e4d0ad384": {
      "model_module": "@jupyter-widgets/base",
      "model_module_version": "1.2.0",
      "model_name": "LayoutModel",
      "state": {}
     },
     "43d1936f793e421892cc2b8d144f9ef9": {
      "model_module": "@jupyter-widgets/controls",
      "model_module_version": "1.5.0",
      "model_name": "DescriptionStyleModel",
      "state": {
       "description_width": ""
      }
     },
     "43e0946a313049fea25f378024153412": {
      "model_module": "@jupyter-widgets/controls",
      "model_module_version": "1.5.0",
      "model_name": "VBoxModel",
      "state": {
       "children": [
        "IPY_MODEL_2fae3c484957421cb6b6e7e58ef349fa",
        "IPY_MODEL_19f63c04b2404f97a236f4d22de6a0e4"
       ],
       "layout": "IPY_MODEL_dd35d83580f7488a98469b7a4a0aac5e"
      }
     },
     "4542c379cf574f2b83c8aec8e6697170": {
      "model_module": "@jupyter-widgets/base",
      "model_module_version": "1.2.0",
      "model_name": "LayoutModel",
      "state": {}
     },
     "4569ae253267458db3d8823dd6404078": {
      "model_module": "@jupyter-widgets/base",
      "model_module_version": "1.2.0",
      "model_name": "LayoutModel",
      "state": {}
     },
     "45b0f031a7394f708b4da37c52b47125": {
      "model_module": "@jupyter-widgets/controls",
      "model_module_version": "1.5.0",
      "model_name": "DescriptionStyleModel",
      "state": {
       "description_width": ""
      }
     },
     "45cb7edfb8d04108a99f3f52b1e7756b": {
      "model_module": "@jupyter-widgets/base",
      "model_module_version": "1.2.0",
      "model_name": "LayoutModel",
      "state": {}
     },
     "45f420decb374ce884b68e62181adbd7": {
      "model_module": "@jupyter-widgets/controls",
      "model_module_version": "1.5.0",
      "model_name": "DescriptionStyleModel",
      "state": {
       "description_width": ""
      }
     },
     "461d11f75a14433ea810584ff49d84cd": {
      "model_module": "@jupyter-widgets/controls",
      "model_module_version": "1.5.0",
      "model_name": "VBoxModel",
      "state": {
       "children": [
        "IPY_MODEL_ed6f6b5f782a4e2ebc2b374f395283e1",
        "IPY_MODEL_d281d6867f85497d9c629ff3357b4b47"
       ],
       "layout": "IPY_MODEL_de1fb7e41a1741a98f34c94dc1310101"
      }
     },
     "466042fadddd40cc979732298bfbc1e5": {
      "model_module": "@jupyter-widgets/controls",
      "model_module_version": "1.5.0",
      "model_name": "ButtonModel",
      "state": {
       "button_style": "success",
       "description": "save changes",
       "layout": "IPY_MODEL_477d9f0207af4a8b86b553933b3aa868",
       "style": "IPY_MODEL_c17774e57bae4198a9cfc65d0b60ef44"
      }
     },
     "46c78dcc16224e55b8a0a8e54046c9bb": {
      "model_module": "@jupyter-widgets/controls",
      "model_module_version": "1.5.0",
      "model_name": "DescriptionStyleModel",
      "state": {
       "description_width": ""
      }
     },
     "477757021f6940af96f98fda86a36df5": {
      "model_module": "@jupyter-widgets/base",
      "model_module_version": "1.2.0",
      "model_name": "LayoutModel",
      "state": {}
     },
     "477d9f0207af4a8b86b553933b3aa868": {
      "model_module": "@jupyter-widgets/base",
      "model_module_version": "1.2.0",
      "model_name": "LayoutModel",
      "state": {}
     },
     "47d5a649edb94b118141563ed7a6803b": {
      "model_module": "@jupyter-widgets/base",
      "model_module_version": "1.2.0",
      "model_name": "LayoutModel",
      "state": {}
     },
     "47f921afea5a4442b5011f0c7f872858": {
      "model_module": "@jupyter-widgets/base",
      "model_module_version": "1.2.0",
      "model_name": "LayoutModel",
      "state": {}
     },
     "4853021bfa69498a8d727e70a4936320": {
      "model_module": "@jupyter-widgets/output",
      "model_module_version": "1.0.0",
      "model_name": "OutputModel",
      "state": {
       "layout": "IPY_MODEL_ca757bf66bf948c0b5072cdc23a50f3b"
      }
     },
     "48cf7eed67484cac9b7177ae933feee4": {
      "model_module": "@jupyter-widgets/controls",
      "model_module_version": "1.5.0",
      "model_name": "HTMLModel",
      "state": {
       "layout": "IPY_MODEL_e8dd39e71cad465997799cbd85d378a8",
       "style": "IPY_MODEL_5cab9b744b7243f0981684bdc276fdee",
       "value": "<p>revert to inputs in last save of: .\\appdata\\inputs\\inputs-eplus_pipework_params.csv</p>"
      }
     },
     "492bd51eb2884cb5a0e7e0e05d1e14c7": {
      "model_module": "@jupyter-widgets/base",
      "model_module_version": "1.2.0",
      "model_name": "LayoutModel",
      "state": {}
     },
     "4a028e813fec4f098130205cd6214e92": {
      "model_module": "@jupyter-widgets/controls",
      "model_module_version": "1.5.0",
      "model_name": "DescriptionStyleModel",
      "state": {
       "description_width": ""
      }
     },
     "4a042846b9574933a96d8f32d18d1df0": {
      "model_module": "@jupyter-widgets/controls",
      "model_module_version": "1.5.0",
      "model_name": "RadioButtonsModel",
      "state": {
       "_options_labels": [
        "TEMPLATE: C:\\engDev\\git_mf\\MF_Toolbox\\dev\\mf_scripts\\template_inputs\\inputs-eplus_pipework_params.csv",
        "TEMPLATE: .\\appdata\\inputs\\inputs-eplus_pipework_params-1.csv",
        "TEMPLATE: .\\appdata\\inputs\\inputs-eplus_pipework_params.csv",
        "TEMPLATE: .\\appdata\\inputs\\archive\\20200605-1625-inputs-eplus_pipework_params.csv",
        "TEMPLATE: .\\appdata\\inputs\\archive\\20200605-1625inputs-eplus_pipework_params.csv",
        "TEMPLATE: .\\appdata\\inputs\\archive\\20200607_1420-jg-inputs-eplus_pipework_params.csv"
       ],
       "index": 0,
       "layout": "IPY_MODEL_87925d9616054791bb4bd8d28251b3ea",
       "style": "IPY_MODEL_1ddc27a9bbfe49e685648de9d6e6097b"
      }
     },
     "4a5cc22ab71d4a8993e0529484a68533": {
      "model_module": "@jupyter-widgets/base",
      "model_module_version": "1.2.0",
      "model_name": "LayoutModel",
      "state": {}
     },
     "4ae7cbdd39a6454990f2326395336969": {
      "model_module": "@jupyter-widgets/controls",
      "model_module_version": "1.5.0",
      "model_name": "HTMLModel",
      "state": {
       "layout": "IPY_MODEL_69b5ca51b8c644df9a2501d3df33ff3c",
       "style": "IPY_MODEL_54a6f59627194005a52b33dd42c80e45",
       "value": "<p><strong>TESTING</strong></p>"
      }
     },
     "4b06823563da4b06bf7603607745a4af": {
      "model_module": "@jupyter-widgets/base",
      "model_module_version": "1.2.0",
      "model_name": "LayoutModel",
      "state": {}
     },
     "4bddbe154fb24a83a9c7ad1c374b7f1b": {
      "model_module": "@jupyter-widgets/controls",
      "model_module_version": "1.5.0",
      "model_name": "ButtonStyleModel",
      "state": {
       "font_weight": "bold"
      }
     },
     "4c39751e88204e4f977063dfdc8d336c": {
      "model_module": "@jupyter-widgets/controls",
      "model_module_version": "1.5.0",
      "model_name": "ButtonStyleModel",
      "state": {
       "font_weight": "bold"
      }
     },
     "4c81ec5332c94042ac53778c738ae1e7": {
      "model_module": "@jupyter-widgets/base",
      "model_module_version": "1.2.0",
      "model_name": "LayoutModel",
      "state": {}
     },
     "4c9d7cebd23c4268950119208bb2339c": {
      "model_module": "@jupyter-widgets/base",
      "model_module_version": "1.2.0",
      "model_name": "LayoutModel",
      "state": {}
     },
     "4ca3da15061d40569c297ad033e95530": {
      "model_module": "@jupyter-widgets/base",
      "model_module_version": "1.2.0",
      "model_name": "LayoutModel",
      "state": {}
     },
     "4cc98b110d07459d89ff8812834b5e65": {
      "model_module": "@jupyter-widgets/controls",
      "model_module_version": "1.5.0",
      "model_name": "ButtonModel",
      "state": {
       "button_style": "success",
       "description": "save changes",
       "layout": "IPY_MODEL_47d5a649edb94b118141563ed7a6803b",
       "style": "IPY_MODEL_f819e5937a2549659605eddfe7d0dc53"
      }
     },
     "4ce6e23b4cc343afabfafb78fd280c89": {
      "model_module": "@jupyter-widgets/base",
      "model_module_version": "1.2.0",
      "model_name": "LayoutModel",
      "state": {}
     },
     "4e7980a1d6fa4b0b8d461233b3ccfd13": {
      "model_module": "@jupyter-widgets/controls",
      "model_module_version": "1.5.0",
      "model_name": "ButtonModel",
      "state": {
       "description": "load",
       "icon": "upload",
       "layout": "IPY_MODEL_191db1eb12e44c17a64c246b8623257b",
       "style": "IPY_MODEL_cf25a2f9a38143b28459b7c1720d23da"
      }
     },
     "51276320ff764f5e94d5f1fb97004c32": {
      "model_module": "@jupyter-widgets/controls",
      "model_module_version": "1.5.0",
      "model_name": "ButtonModel",
      "state": {
       "button_style": "warning",
       "description": "revert to last save",
       "layout": "IPY_MODEL_b551d19768754e6c8a2e4c6a325562c1",
       "style": "IPY_MODEL_1ed9fb653c714ce9865e04c66c1a85f9"
      }
     },
     "515fa4c731764b0680281c8de1965b02": {
      "model_module": "@jupyter-widgets/base",
      "model_module_version": "1.2.0",
      "model_name": "LayoutModel",
      "state": {}
     },
     "520aa2124e9644edb6b8c54cdc8fd4bf": {
      "model_module": "@jupyter-widgets/base",
      "model_module_version": "1.2.0",
      "model_name": "LayoutModel",
      "state": {}
     },
     "52874bad02b644d2b14a8f1fc3c45532": {
      "model_module": "@jupyter-widgets/base",
      "model_module_version": "1.2.0",
      "model_name": "LayoutModel",
      "state": {}
     },
     "52a85f65227a474db07d7f376fdc969f": {
      "model_module": "@jupyter-widgets/controls",
      "model_module_version": "1.5.0",
      "model_name": "VBoxModel",
      "state": {
       "children": [
        "IPY_MODEL_04e75b85cb914e6e8167403d1bc575b1",
        "IPY_MODEL_25bc86995a224394ab24b19d7fb66376"
       ],
       "layout": "IPY_MODEL_90dc507c507e4e0e83f5e325ba4b3f01"
      }
     },
     "52ec8c0630c54365ab39c3095fc3934a": {
      "model_module": "@jupyter-widgets/base",
      "model_module_version": "1.2.0",
      "model_name": "LayoutModel",
      "state": {}
     },
     "53dae2c6f5884613a9dd2c0c875c130c": {
      "model_module": "@jupyter-widgets/controls",
      "model_module_version": "1.5.0",
      "model_name": "VBoxModel",
      "state": {
       "children": [
        "IPY_MODEL_3cff2a518adc486f8f23891103f7ee8c",
        "IPY_MODEL_cf6d4038b1bb4517a27e72229a3e714f"
       ],
       "layout": "IPY_MODEL_88c1c30d14194f66a0461f5ec01e0988"
      }
     },
     "544e569c3e9c45758a688e7c41974499": {
      "model_module": "@jupyter-widgets/base",
      "model_module_version": "1.2.0",
      "model_name": "LayoutModel",
      "state": {}
     },
     "54a6f59627194005a52b33dd42c80e45": {
      "model_module": "@jupyter-widgets/controls",
      "model_module_version": "1.5.0",
      "model_name": "DescriptionStyleModel",
      "state": {
       "description_width": ""
      }
     },
     "566837038ca6437998a018c7eaae3b14": {
      "model_module": "@jupyter-widgets/controls",
      "model_module_version": "1.5.0",
      "model_name": "ButtonStyleModel",
      "state": {
       "font_weight": "bold"
      }
     },
     "57480986e3864d1ebc20afcb30b9c465": {
      "model_module": "@jupyter-widgets/base",
      "model_module_version": "1.2.0",
      "model_name": "LayoutModel",
      "state": {}
     },
     "57801ddc975a48648af7dd4f2b43a176": {
      "model_module": "@jupyter-widgets/output",
      "model_module_version": "1.0.0",
      "model_name": "OutputModel",
      "state": {
       "layout": "IPY_MODEL_089ebaf233b546089914eb351f34074d",
       "outputs": [
        {
         "data": {
          "application/vnd.jupyter.widget-view+json": {
           "model_id": "",
           "version_major": 2,
           "version_minor": 0
          },
          "text/plain": "Button(description='load', icon='upload', style=ButtonStyle(font_weight='bold'))"
         },
         "metadata": {},
         "output_type": "display_data"
        },
        {
         "data": {
          "application/vnd.jupyter.widget-view+json": {
           "model_id": "",
           "version_major": 2,
           "version_minor": 0
          },
          "text/plain": "RadioButtons(index=1, layout=Layout(align_items='stretch', display='flex', flex_flow='row', grid_auto_columns=…"
         },
         "metadata": {},
         "output_type": "display_data"
        },
        {
         "data": {
          "text/markdown": "__error__ loading : .\\appdata\\inputs\\inputs-eplus_pipework_params-1.csv.   \n            the file has either been deleted or modified such that it is unreadable",
          "text/plain": "<IPython.core.display.Markdown object>"
         },
         "metadata": {},
         "output_type": "display_data"
        },
        {
         "ename": "AttributeError",
         "evalue": "'FileController' object has no attribute 'sheet'",
         "output_type": "error",
         "traceback": [
          "\u001b[1;31m---------------------------------------------------------------------------\u001b[0m",
          "\u001b[1;31mAttributeError\u001b[0m                            Traceback (most recent call last)",
          "\u001b[1;32m<ipython-input-31-083b777638ff>\u001b[0m in \u001b[0;36m_load\u001b[1;34m(self, sender)\u001b[0m\n\u001b[0;32m     98\u001b[0m             \u001b[1;32mif\u001b[0m \u001b[0mself\u001b[0m\u001b[1;33m.\u001b[0m\u001b[0miserror\u001b[0m\u001b[1;33m:\u001b[0m\u001b[1;33m\u001b[0m\u001b[1;33m\u001b[0m\u001b[0m\n\u001b[0;32m     99\u001b[0m                 \u001b[0mdisplay\u001b[0m\u001b[1;33m(\u001b[0m\u001b[0mMarkdown\u001b[0m\u001b[1;33m(\u001b[0m\u001b[0mself\u001b[0m\u001b[1;33m.\u001b[0m\u001b[0merrormessage\u001b[0m\u001b[1;33m)\u001b[0m\u001b[1;33m)\u001b[0m\u001b[1;33m\u001b[0m\u001b[1;33m\u001b[0m\u001b[0m\n\u001b[1;32m--> 100\u001b[1;33m             \u001b[0mdisplay\u001b[0m\u001b[1;33m(\u001b[0m\u001b[0mself\u001b[0m\u001b[1;33m.\u001b[0m\u001b[0msheet\u001b[0m\u001b[1;33m)\u001b[0m\u001b[1;33m\u001b[0m\u001b[1;33m\u001b[0m\u001b[0m\n\u001b[0m\u001b[0;32m    101\u001b[0m \u001b[1;33m\u001b[0m\u001b[0m\n\u001b[0;32m    102\u001b[0m \u001b[1;33m\u001b[0m\u001b[0m\n",
          "\u001b[1;31mAttributeError\u001b[0m: 'FileController' object has no attribute 'sheet'"
         ]
        }
       ]
      }
     },
     "579cebbcb81c41d58cb950d2dd90c64a": {
      "model_module": "@jupyter-widgets/controls",
      "model_module_version": "1.5.0",
      "model_name": "DescriptionStyleModel",
      "state": {
       "description_width": ""
      }
     },
     "57f28af6a7484bb5aeb0fba5ecc507d1": {
      "model_module": "@jupyter-widgets/controls",
      "model_module_version": "1.5.0",
      "model_name": "VBoxModel",
      "state": {
       "children": [
        "IPY_MODEL_ed6f6b5f782a4e2ebc2b374f395283e1",
        "IPY_MODEL_00d6458c19a74def870f1b0a691b3645"
       ],
       "layout": "IPY_MODEL_aeac3a0e3b464832a2646888a6f47e4e"
      }
     },
     "58d04cef133d4e778c7069596e66bd4d": {
      "model_module": "@jupyter-widgets/controls",
      "model_module_version": "1.5.0",
      "model_name": "ButtonStyleModel",
      "state": {
       "font_weight": "bold"
      }
     },
     "58f9968d3c3a4faa87b2ac8cfef84683": {
      "model_module": "@jupyter-widgets/base",
      "model_module_version": "1.2.0",
      "model_name": "LayoutModel",
      "state": {}
     },
     "5925627c2fec4f3f9276be2b71a5008f": {
      "model_module": "@jupyter-widgets/controls",
      "model_module_version": "1.5.0",
      "model_name": "ButtonStyleModel",
      "state": {
       "font_weight": "bold"
      }
     },
     "594e544af4af43b795553f89e81a84a7": {
      "model_module": "@jupyter-widgets/controls",
      "model_module_version": "1.5.0",
      "model_name": "DescriptionStyleModel",
      "state": {
       "description_width": ""
      }
     },
     "595538c4eeff4515a92034303ad1cf65": {
      "model_module": "@jupyter-widgets/controls",
      "model_module_version": "1.5.0",
      "model_name": "HBoxModel",
      "state": {
       "children": [
        "IPY_MODEL_151e8f546092403897d88d3173af0d22",
        "IPY_MODEL_97e10efcf2654c1dbf248bdf4d40a4cd",
        "IPY_MODEL_afef26b167784f29b7addcc121585fdd"
       ],
       "layout": "IPY_MODEL_74e2874e3ae141ae8c6bdc1b580a975f"
      }
     },
     "59f076d9123a4a0280fba53a0265d5b7": {
      "model_module": "@jupyter-widgets/controls",
      "model_module_version": "1.5.0",
      "model_name": "ButtonModel",
      "state": {
       "button_style": "success",
       "description": "save changes",
       "layout": "IPY_MODEL_52874bad02b644d2b14a8f1fc3c45532",
       "style": "IPY_MODEL_566837038ca6437998a018c7eaae3b14"
      }
     },
     "5a3bb5d3eb904c0c9c195b73d1f0b59c": {
      "model_module": "@jupyter-widgets/controls",
      "model_module_version": "1.5.0",
      "model_name": "ToggleButtonModel",
      "state": {
       "button_style": "info",
       "description": "inputs from file",
       "layout": "IPY_MODEL_1d0d82a30b1f4ab3855471f9aad07b5f",
       "style": "IPY_MODEL_db077e2526914173b635fee01c94b5b2"
      }
     },
     "5ade483392704b24bdc97ecdb78744fe": {
      "model_module": "@jupyter-widgets/controls",
      "model_module_version": "1.5.0",
      "model_name": "ButtonStyleModel",
      "state": {
       "font_weight": "bold"
      }
     },
     "5c0985ad0c944d20bc09ee330f083f0c": {
      "model_module": "@jupyter-widgets/controls",
      "model_module_version": "1.5.0",
      "model_name": "RadioButtonsModel",
      "state": {
       "_options_labels": [
        "TEMPLATE: C:\\engDev\\git_mf\\MF_Toolbox\\dev\\mf_scripts\\template_inputs\\inputs-eplus_pipework_params.csv",
        "PROJECT: .\\appdata\\inputs\\inputs-eplus_pipework_params-1.csv",
        "PROJECT: .\\appdata\\inputs\\inputs-eplus_pipework_params.csv",
        "PROJECT: .\\appdata\\inputs\\archive\\20200605-1625-inputs-eplus_pipework_params.csv",
        "PROJECT: .\\appdata\\inputs\\archive\\20200605-1625inputs-eplus_pipework_params.csv",
        "PROJECT: .\\appdata\\inputs\\archive\\20200607_1420-jg-inputs-eplus_pipework_params.csv"
       ],
       "index": 1,
       "layout": "IPY_MODEL_620835d9c60147e89338c19b6f7e8182",
       "style": "IPY_MODEL_4a028e813fec4f098130205cd6214e92"
      }
     },
     "5c5fbd4f16084ea3a9027c005881d4b4": {
      "model_module": "@jupyter-widgets/controls",
      "model_module_version": "1.5.0",
      "model_name": "HBoxModel",
      "state": {
       "children": [
        "IPY_MODEL_466042fadddd40cc979732298bfbc1e5",
        "IPY_MODEL_51276320ff764f5e94d5f1fb97004c32",
        "IPY_MODEL_97838881d9cc4735bc5b1343c2818f1d"
       ],
       "layout": "IPY_MODEL_9797aad8a76b41c481136a5106e78cf0"
      }
     },
     "5c938c99ff43429f88d1607ac3c0ea75": {
      "model_module": "@jupyter-widgets/controls",
      "model_module_version": "1.5.0",
      "model_name": "HTMLModel",
      "state": {
       "layout": "IPY_MODEL_8d53d982b9034bfd9c33afa706bcbe2b",
       "style": "IPY_MODEL_e3c5e0c9cacb431ca0f3528326eef250",
       "value": "<p>revert to inputs in last save of: .\\appdata\\inputs\\inputs-eplus_pipework_params.csv</p>"
      }
     },
     "5cab9b744b7243f0981684bdc276fdee": {
      "model_module": "@jupyter-widgets/controls",
      "model_module_version": "1.5.0",
      "model_name": "DescriptionStyleModel",
      "state": {
       "description_width": ""
      }
     },
     "5cc00916e1b248e0a025db4e3697f12c": {
      "model_module": "@jupyter-widgets/base",
      "model_module_version": "1.2.0",
      "model_name": "LayoutModel",
      "state": {}
     },
     "5d4a9699c5914777bf4690c1f445c93e": {
      "model_module": "@jupyter-widgets/controls",
      "model_module_version": "1.5.0",
      "model_name": "DescriptionStyleModel",
      "state": {
       "description_width": ""
      }
     },
     "5d507b79fe9f4437b6b453f52fd9b53f": {
      "model_module": "@jupyter-widgets/base",
      "model_module_version": "1.2.0",
      "model_name": "LayoutModel",
      "state": {}
     },
     "5d6ed1a8646c489ebfe404b06bf8fa43": {
      "model_module": "@jupyter-widgets/base",
      "model_module_version": "1.2.0",
      "model_name": "LayoutModel",
      "state": {}
     },
     "5e2b058cec2c4be5a33733aaea7dcfe2": {
      "model_module": "@jupyter-widgets/base",
      "model_module_version": "1.2.0",
      "model_name": "LayoutModel",
      "state": {}
     },
     "5e7150b8c70a43ff93bebb1aa6745335": {
      "model_module": "@jupyter-widgets/base",
      "model_module_version": "1.2.0",
      "model_name": "LayoutModel",
      "state": {}
     },
     "5f2610a2c36b43b49faf66115ae50572": {
      "model_module": "@jupyter-widgets/output",
      "model_module_version": "1.0.0",
      "model_name": "OutputModel",
      "state": {
       "layout": "IPY_MODEL_86bbd148820640cfa5b2157caad4d151"
      }
     },
     "5f841efcd68d459da79b3215a427b9da": {
      "model_module": "@jupyter-widgets/controls",
      "model_module_version": "1.5.0",
      "model_name": "ButtonStyleModel",
      "state": {
       "font_weight": "bold"
      }
     },
     "5fc7722b076845858ad543a41cd9cdee": {
      "model_module": "@jupyter-widgets/controls",
      "model_module_version": "1.5.0",
      "model_name": "HBoxModel",
      "state": {
       "children": [
        "IPY_MODEL_7b396448520e4e19aeb90ca9b89667a9",
        "IPY_MODEL_ea93c14860584727849d1cee0a28a19c",
        "IPY_MODEL_a73dd344048144bcb9398143619f3292"
       ],
       "layout": "IPY_MODEL_a33c33e10a964c8ea7daa5467397f428"
      }
     },
     "5fe56a7f0d944f15820f009c9f740e98": {
      "model_module": "@jupyter-widgets/controls",
      "model_module_version": "1.5.0",
      "model_name": "VBoxModel",
      "state": {
       "children": [
        "IPY_MODEL_18e4def5745e4c6f831b921aaaba5737",
        "IPY_MODEL_a59b8ed2c26546ad8eb4eae98d4d8d0e"
       ],
       "layout": "IPY_MODEL_5d6ed1a8646c489ebfe404b06bf8fa43"
      }
     },
     "613a8f48b1a74132946ce88f09d8f58b": {
      "model_module": "@jupyter-widgets/base",
      "model_module_version": "1.2.0",
      "model_name": "LayoutModel",
      "state": {}
     },
     "61c61559fbae4dc8b37a12f1e588d336": {
      "model_module": "@jupyter-widgets/controls",
      "model_module_version": "1.5.0",
      "model_name": "ButtonStyleModel",
      "state": {
       "font_weight": "bold"
      }
     },
     "61e5fb95922d43b3b1c40cf8905cb184": {
      "model_module": "@jupyter-widgets/base",
      "model_module_version": "1.2.0",
      "model_name": "LayoutModel",
      "state": {}
     },
     "620835d9c60147e89338c19b6f7e8182": {
      "model_module": "@jupyter-widgets/base",
      "model_module_version": "1.2.0",
      "model_name": "LayoutModel",
      "state": {
       "align_items": "stretch",
       "display": "flex",
       "flex_flow": "row",
       "grid_auto_columns": "True",
       "justify_content": "flex-start",
       "width": "100%"
      }
     },
     "622a0def7f6644b281139b2da243c49b": {
      "model_module": "@jupyter-widgets/controls",
      "model_module_version": "1.5.0",
      "model_name": "ButtonStyleModel",
      "state": {
       "font_weight": "bold"
      }
     },
     "622f5036baca425f96984d77abb728bd": {
      "model_module": "@jupyter-widgets/controls",
      "model_module_version": "1.5.0",
      "model_name": "DescriptionStyleModel",
      "state": {
       "description_width": ""
      }
     },
     "628324b5ab184117af39d94502df91c9": {
      "model_module": "@jupyter-widgets/controls",
      "model_module_version": "1.5.0",
      "model_name": "ButtonModel",
      "state": {
       "button_style": "warning",
       "description": "revert to last save",
       "layout": "IPY_MODEL_149c1e634f0041a4b52e570be67e505d",
       "style": "IPY_MODEL_d4e490cf0b324080a58dd2a337b89180"
      }
     },
     "62ef8a9ea629424889572afa645df2f6": {
      "model_module": "@jupyter-widgets/controls",
      "model_module_version": "1.5.0",
      "model_name": "VBoxModel",
      "state": {
       "children": [
        "IPY_MODEL_5fc7722b076845858ad543a41cd9cdee",
        "IPY_MODEL_dc9f2e55cb4348138735892f5d0d80e1"
       ],
       "layout": "IPY_MODEL_0e11271a6d4445b18aba2095884fdc94"
      }
     },
     "630f14e3322042dca8fa0f53b6860650": {
      "model_module": "@jupyter-widgets/controls",
      "model_module_version": "1.5.0",
      "model_name": "DescriptionStyleModel",
      "state": {
       "description_width": ""
      }
     },
     "653a7e2a2d694b7ea9ca45a5118afc01": {
      "model_module": "@jupyter-widgets/controls",
      "model_module_version": "1.5.0",
      "model_name": "ButtonModel",
      "state": {
       "description": "load",
       "icon": "upload",
       "layout": "IPY_MODEL_2ce5b801eea04b298459b160979cca45",
       "style": "IPY_MODEL_c76d206d53b44e279d6b8c5df242d239"
      }
     },
     "65525e106f634ed1922598f02a84e1f5": {
      "model_module": "@jupyter-widgets/controls",
      "model_module_version": "1.5.0",
      "model_name": "RadioButtonsModel",
      "state": {
       "_options_labels": [
        "TEMPLATE: C:\\engDev\\git_mf\\MF_Toolbox\\dev\\mf_scripts\\template_inputs\\inputs-eplus_pipework_params.csv",
        "TEMPLATE: .\\appdata\\inputs\\inputs-eplus_pipework_params-1.csv",
        "TEMPLATE: .\\appdata\\inputs\\inputs-eplus_pipework_params.csv",
        "TEMPLATE: .\\appdata\\inputs\\archive\\20200605-1625-inputs-eplus_pipework_params.csv",
        "TEMPLATE: .\\appdata\\inputs\\archive\\20200605-1625inputs-eplus_pipework_params.csv",
        "TEMPLATE: .\\appdata\\inputs\\archive\\20200607_1420-jg-inputs-eplus_pipework_params.csv"
       ],
       "index": 0,
       "layout": "IPY_MODEL_01237e96f30449069d11f2c9bd6e2e3d",
       "style": "IPY_MODEL_295800a45a364fe2b75e2774c3c26977"
      }
     },
     "658d53f22e5540fd9850444169ac90b7": {
      "model_module": "@jupyter-widgets/base",
      "model_module_version": "1.2.0",
      "model_name": "LayoutModel",
      "state": {
       "align_items": "stretch",
       "display": "flex",
       "flex_flow": "row",
       "grid_auto_columns": "True",
       "justify_content": "flex-start",
       "width": "100%"
      }
     },
     "65ba6e6a1155404b9b028952fe5809d5": {
      "model_module": "@jupyter-widgets/controls",
      "model_module_version": "1.5.0",
      "model_name": "DescriptionStyleModel",
      "state": {
       "description_width": ""
      }
     },
     "65bd27a0b22b4e65bc24a5fb2a0deb80": {
      "model_module": "@jupyter-widgets/base",
      "model_module_version": "1.2.0",
      "model_name": "LayoutModel",
      "state": {
       "align_items": "stretch",
       "display": "flex",
       "flex_flow": "row",
       "grid_auto_columns": "True",
       "justify_content": "flex-start",
       "width": "100%"
      }
     },
     "664431cc7e6147cfa563937841cce174": {
      "model_module": "@jupyter-widgets/base",
      "model_module_version": "1.2.0",
      "model_name": "LayoutModel",
      "state": {}
     },
     "6678ddfef8d54a7692b2d7eb92e87a44": {
      "model_module": "@jupyter-widgets/base",
      "model_module_version": "1.2.0",
      "model_name": "LayoutModel",
      "state": {}
     },
     "66abcdfd345443a89e8ce895749e3e07": {
      "model_module": "@jupyter-widgets/controls",
      "model_module_version": "1.5.0",
      "model_name": "ToggleButtonModel",
      "state": {
       "button_style": "info",
       "description": "inputs from file",
       "layout": "IPY_MODEL_36a91ae925f6428494f7504508500446",
       "style": "IPY_MODEL_579cebbcb81c41d58cb950d2dd90c64a",
       "value": true
      }
     },
     "6756ad044aad4e219472cae45c27832a": {
      "model_module": "@jupyter-widgets/controls",
      "model_module_version": "1.5.0",
      "model_name": "ButtonStyleModel",
      "state": {
       "font_weight": "bold"
      }
     },
     "676c2d6866c54047b2ef985c5861458c": {
      "model_module": "@jupyter-widgets/base",
      "model_module_version": "1.2.0",
      "model_name": "LayoutModel",
      "state": {}
     },
     "6866cbac03c348ff9178f34d6bbfc6d1": {
      "model_module": "ipysheet",
      "model_module_version": "~0.4.4",
      "model_name": "CellRangeModel",
      "state": {
       "_view_module": null,
       "_view_module_version": "",
       "choice": [],
       "column_end": 3,
       "column_start": 3,
       "numeric_format": null,
       "row_start": 0,
       "squeeze_row": false,
       "type": "text",
       "value": [
        "generally the working directory of (same folder as) the app/notebook. outputs will be relative to this location",
        "filepath to an energyPlus software C++ script file that will be extract for parameter fields"
       ]
      }
     },
     "687677e1f6964e16a7d87ff8da5d9a1d": {
      "model_module": "@jupyter-widgets/base",
      "model_module_version": "1.2.0",
      "model_name": "LayoutModel",
      "state": {}
     },
     "69077031e48240129993d33449c59dd6": {
      "model_module": "@jupyter-widgets/base",
      "model_module_version": "1.2.0",
      "model_name": "LayoutModel",
      "state": {}
     },
     "695700630b3f4e49b5f9a2193a897490": {
      "model_module": "@jupyter-widgets/base",
      "model_module_version": "1.2.0",
      "model_name": "LayoutModel",
      "state": {}
     },
     "69b5ca51b8c644df9a2501d3df33ff3c": {
      "model_module": "@jupyter-widgets/base",
      "model_module_version": "1.2.0",
      "model_name": "LayoutModel",
      "state": {}
     },
     "69b601a9ea4b416d9c1af852deeef16b": {
      "model_module": "@jupyter-widgets/controls",
      "model_module_version": "1.5.0",
      "model_name": "VBoxModel",
      "state": {
       "children": [
        "IPY_MODEL_18e4def5745e4c6f831b921aaaba5737",
        "IPY_MODEL_48cf7eed67484cac9b7177ae933feee4"
       ],
       "layout": "IPY_MODEL_69077031e48240129993d33449c59dd6"
      }
     },
     "69eebb2c247e4c6ba5ae0392dcc3c0bb": {
      "model_module": "@jupyter-widgets/base",
      "model_module_version": "1.2.0",
      "model_name": "LayoutModel",
      "state": {}
     },
     "6a53b490040a4935bfa4825eb5e82201": {
      "model_module": "@jupyter-widgets/base",
      "model_module_version": "1.2.0",
      "model_name": "LayoutModel",
      "state": {}
     },
     "6b1d1fdb0fe64b20a59d2437b16efbd2": {
      "model_module": "@jupyter-widgets/base",
      "model_module_version": "1.2.0",
      "model_name": "LayoutModel",
      "state": {}
     },
     "6b42f62a783743a69f673a9087ae32c5": {
      "model_module": "@jupyter-widgets/base",
      "model_module_version": "1.2.0",
      "model_name": "LayoutModel",
      "state": {}
     },
     "6b4d45e6a8d74500ab4ac8a474c093c8": {
      "model_module": "@jupyter-widgets/controls",
      "model_module_version": "1.5.0",
      "model_name": "VBoxModel",
      "state": {
       "children": [
        "IPY_MODEL_a5967d61535d4bcc85ed56741a47b822",
        "IPY_MODEL_abae7d1d5d0540df978141055881b1a1"
       ],
       "layout": "IPY_MODEL_aa2930e4de464625a70a2df04c43a9a9"
      }
     },
     "6c9f27343fd4454b9cbbc7f80c6c6b56": {
      "model_module": "@jupyter-widgets/base",
      "model_module_version": "1.2.0",
      "model_name": "LayoutModel",
      "state": {}
     },
     "6cb0cfc3d3b046e890e874edb74eeefe": {
      "model_module": "@jupyter-widgets/controls",
      "model_module_version": "1.5.0",
      "model_name": "VBoxModel",
      "state": {
       "children": [
        "IPY_MODEL_35d7549ef3324a89ae2de4a9700535bd",
        "IPY_MODEL_6da89572bfaf41378085425b5a91a776"
       ],
       "layout": "IPY_MODEL_87cfa721f14743a0b6d9b7d83f585bbb"
      }
     },
     "6da89572bfaf41378085425b5a91a776": {
      "model_module": "@jupyter-widgets/controls",
      "model_module_version": "1.5.0",
      "model_name": "HTMLModel",
      "state": {
       "layout": "IPY_MODEL_b25fda599bd0498994e71675d8c32484",
       "style": "IPY_MODEL_d44e41917c2146c2820f86f366361ba8",
       "value": "<p>revert to inputs in last save of: .\\appdata\\inputs\\inputs-eplus_pipework_params.csv</p>"
      }
     },
     "6de30eff92eb4975a1ee3725fd421c07": {
      "model_module": "@jupyter-widgets/controls",
      "model_module_version": "1.5.0",
      "model_name": "ButtonModel",
      "state": {
       "button_style": "success",
       "description": "save changes",
       "layout": "IPY_MODEL_f8207c6c276446e78d34e440c7e1d11d",
       "style": "IPY_MODEL_809ddff5b0af49b3912e658088de54f1"
      }
     },
     "6e1896c3523543ce96bb908ce10fc2dc": {
      "model_module": "@jupyter-widgets/controls",
      "model_module_version": "1.5.0",
      "model_name": "VBoxModel",
      "state": {
       "children": [
        "IPY_MODEL_a5967d61535d4bcc85ed56741a47b822",
        "IPY_MODEL_abae7d1d5d0540df978141055881b1a1"
       ],
       "layout": "IPY_MODEL_e9b97fd14ec04bcfbe91681b2af86399"
      }
     },
     "6e56b669027f41e2b2e519950b663c6f": {
      "model_module": "@jupyter-widgets/base",
      "model_module_version": "1.2.0",
      "model_name": "LayoutModel",
      "state": {}
     },
     "6f22e3eeecc24341a2b2d61c81abd323": {
      "model_module": "@jupyter-widgets/controls",
      "model_module_version": "1.5.0",
      "model_name": "ButtonModel",
      "state": {
       "description": "load",
       "icon": "upload",
       "layout": "IPY_MODEL_492bd51eb2884cb5a0e7e0e05d1e14c7",
       "style": "IPY_MODEL_907f4c0854f0492dbc8db0e2da3604ee"
      }
     },
     "6ffecd0ff4e34e3dbf6ec2a0411ae5eb": {
      "model_module": "@jupyter-widgets/controls",
      "model_module_version": "1.5.0",
      "model_name": "DescriptionStyleModel",
      "state": {
       "description_width": ""
      }
     },
     "72abfacd6e3f48ad9fc41b2ca832d5d2": {
      "model_module": "@jupyter-widgets/controls",
      "model_module_version": "1.5.0",
      "model_name": "ButtonModel",
      "state": {
       "button_style": "success",
       "description": "save changes",
       "layout": "IPY_MODEL_41037ed183804b5bb77f31f1f45bf899",
       "style": "IPY_MODEL_2c89518fac6d489fb027e653ca572803"
      }
     },
     "72cbe0e0cfe34a01b38b0603092a7a55": {
      "model_module": "@jupyter-widgets/base",
      "model_module_version": "1.2.0",
      "model_name": "LayoutModel",
      "state": {}
     },
     "72ea5f44ff644dacbcc5670ab62850fb": {
      "model_module": "@jupyter-widgets/base",
      "model_module_version": "1.2.0",
      "model_name": "LayoutModel",
      "state": {}
     },
     "732da286fa974d908f874875c713b383": {
      "model_module": "@jupyter-widgets/controls",
      "model_module_version": "1.5.0",
      "model_name": "VBoxModel",
      "state": {
       "children": [
        "IPY_MODEL_04e75b85cb914e6e8167403d1bc575b1",
        "IPY_MODEL_181d3d5fbf2047dbb9ea34f67152964c"
       ],
       "layout": "IPY_MODEL_3411c75fe0eb4e9bbf1e8f0d25a2385b"
      }
     },
     "734f4e0f4d5d4ce1b6a0dfc18f8f51eb": {
      "model_module": "@jupyter-widgets/controls",
      "model_module_version": "1.5.0",
      "model_name": "ButtonModel",
      "state": {
       "button_style": "warning",
       "description": "revert to last save",
       "layout": "IPY_MODEL_d44ed8e352a44b45a142d0a725acf80c",
       "style": "IPY_MODEL_9f952efb5dfb47b3ba81141a530a5f82"
      }
     },
     "73dc5a55a5844c0e9bee02fd1cf86229": {
      "model_module": "@jupyter-widgets/controls",
      "model_module_version": "1.5.0",
      "model_name": "ToggleButtonModel",
      "state": {
       "button_style": "info",
       "description": "inputs from file",
       "layout": "IPY_MODEL_072673ebd4a945dd90f2dd6ea8e8064c",
       "style": "IPY_MODEL_88a0b28dd8a44913a34d2c2c9ab4fccb"
      }
     },
     "73fe2f2e34874871b4f648084ef57aef": {
      "model_module": "@jupyter-widgets/controls",
      "model_module_version": "1.5.0",
      "model_name": "ButtonStyleModel",
      "state": {
       "font_weight": "bold"
      }
     },
     "7414a9302e0f4b519564dcb361617d61": {
      "model_module": "@jupyter-widgets/output",
      "model_module_version": "1.0.0",
      "model_name": "OutputModel",
      "state": {
       "layout": "IPY_MODEL_4542c379cf574f2b83c8aec8e6697170"
      }
     },
     "7419f71d4ac74c0fb072a846e6d20e49": {
      "model_module": "@jupyter-widgets/base",
      "model_module_version": "1.2.0",
      "model_name": "LayoutModel",
      "state": {}
     },
     "74c79321bbe34fd5ac3204b32c9230e1": {
      "model_module": "@jupyter-widgets/output",
      "model_module_version": "1.0.0",
      "model_name": "OutputModel",
      "state": {
       "layout": "IPY_MODEL_f50527daffdc4b57ad8686073ecc74a3"
      }
     },
     "74e2874e3ae141ae8c6bdc1b580a975f": {
      "model_module": "@jupyter-widgets/base",
      "model_module_version": "1.2.0",
      "model_name": "LayoutModel",
      "state": {}
     },
     "7595e90efced424a85d373d7fbeac921": {
      "model_module": "@jupyter-widgets/base",
      "model_module_version": "1.2.0",
      "model_name": "LayoutModel",
      "state": {}
     },
     "7614b530a08f4c8d9cdea43155dc2993": {
      "model_module": "@jupyter-widgets/controls",
      "model_module_version": "1.5.0",
      "model_name": "HTMLModel",
      "state": {
       "layout": "IPY_MODEL_ddeb78caefd846c5a8b93127f1c2d13a",
       "style": "IPY_MODEL_279ac9d0e942407aac077b4147eead8b",
       "value": "<p><strong>TESTING</strong></p>"
      }
     },
     "766feeb3230b4dcc81a5bb8498107ae9": {
      "model_module": "@jupyter-widgets/base",
      "model_module_version": "1.2.0",
      "model_name": "LayoutModel",
      "state": {}
     },
     "78399e2be41f4c7ebf9248d60d4ead89": {
      "model_module": "@jupyter-widgets/base",
      "model_module_version": "1.2.0",
      "model_name": "LayoutModel",
      "state": {}
     },
     "789d17e5469e41b9b68c8fa09417ae0c": {
      "model_module": "@jupyter-widgets/base",
      "model_module_version": "1.2.0",
      "model_name": "LayoutModel",
      "state": {}
     },
     "7930e116897d433db5be2391eba03eed": {
      "model_module": "@jupyter-widgets/controls",
      "model_module_version": "1.5.0",
      "model_name": "VBoxModel",
      "state": {
       "children": [
        "IPY_MODEL_ed6f6b5f782a4e2ebc2b374f395283e1",
        "IPY_MODEL_7f431ce4a13e44ca8427159bb2010238"
       ],
       "layout": "IPY_MODEL_3e31004eaf9d4c7fbef1f1f4e825b691"
      }
     },
     "799b5d48db58434ea40c8593cecf5002": {
      "model_module": "@jupyter-widgets/controls",
      "model_module_version": "1.5.0",
      "model_name": "ToggleButtonModel",
      "state": {
       "button_style": "info",
       "description": "inputs from file",
       "layout": "IPY_MODEL_23b25622ef854694a3e0af7729f269e7",
       "style": "IPY_MODEL_b1e7fe87f69b4f3795e98bcf94f69d89"
      }
     },
     "79b37431903642fe98d9ce0c643166e9": {
      "model_module": "@jupyter-widgets/controls",
      "model_module_version": "1.5.0",
      "model_name": "RadioButtonsModel",
      "state": {
       "_options_labels": [
        "TEMPLATE: C:\\engDev\\git_mf\\MF_Toolbox\\dev\\mf_scripts\\template_inputs\\inputs-eplus_pipework_params.csv",
        "TEMPLATE: .\\appdata\\inputs\\inputs-eplus_pipework_params-1.csv",
        "TEMPLATE: .\\appdata\\inputs\\inputs-eplus_pipework_params.csv",
        "TEMPLATE: .\\appdata\\inputs\\archive\\20200605-1625-inputs-eplus_pipework_params.csv",
        "TEMPLATE: .\\appdata\\inputs\\archive\\20200605-1625inputs-eplus_pipework_params.csv",
        "TEMPLATE: .\\appdata\\inputs\\archive\\20200607_1420-jg-inputs-eplus_pipework_params.csv"
       ],
       "index": 0,
       "layout": "IPY_MODEL_88edd11cc6204d1ba07cce0533e39196",
       "style": "IPY_MODEL_01050076c4cc499c97689dfe261d0602"
      }
     },
     "7a011f3ee5f14ff18e20012ca5920c48": {
      "model_module": "@jupyter-widgets/base",
      "model_module_version": "1.2.0",
      "model_name": "LayoutModel",
      "state": {}
     },
     "7b396448520e4e19aeb90ca9b89667a9": {
      "model_module": "@jupyter-widgets/controls",
      "model_module_version": "1.5.0",
      "model_name": "ButtonModel",
      "state": {
       "button_style": "success",
       "description": "save changes",
       "layout": "IPY_MODEL_e310c1f6b3ea45cb9ba2a3576fd3fb8a",
       "style": "IPY_MODEL_a74f4828759a4b8a97c0dc0c910eb173"
      }
     },
     "7bc79f7a6ba9427a9a6414ef4d873492": {
      "model_module": "@jupyter-widgets/base",
      "model_module_version": "1.2.0",
      "model_name": "LayoutModel",
      "state": {}
     },
     "7cbaf6f84c3f41599e72ffa23f48c5d4": {
      "model_module": "@jupyter-widgets/controls",
      "model_module_version": "1.5.0",
      "model_name": "ButtonModel",
      "state": {
       "button_style": "warning",
       "description": "revert to last save",
       "layout": "IPY_MODEL_ea598030e7ba4f60b31de6eb4e0035af",
       "style": "IPY_MODEL_4c39751e88204e4f977063dfdc8d336c"
      }
     },
     "7d82715b52b54ac28406cc54c0d30046": {
      "model_module": "@jupyter-widgets/controls",
      "model_module_version": "1.5.0",
      "model_name": "VBoxModel",
      "state": {
       "children": [
        "IPY_MODEL_8daa7038f00740fa81412bec048846f4",
        "IPY_MODEL_8fff4aac7d32412a9ca270245001998a"
       ],
       "layout": "IPY_MODEL_47f921afea5a4442b5011f0c7f872858"
      }
     },
     "7dd46d3631474b34bb6c9304dd7081bf": {
      "model_module": "@jupyter-widgets/controls",
      "model_module_version": "1.5.0",
      "model_name": "ButtonModel",
      "state": {
       "button_style": "success",
       "description": "save changes",
       "layout": "IPY_MODEL_e5818ffd062a474f8449e7d74d85f6ad",
       "style": "IPY_MODEL_9b07994990764e6ca7ee2649e34ff09a"
      }
     },
     "7ea57d16bdda46c8bb4e3175dc0b2ff1": {
      "model_module": "@jupyter-widgets/controls",
      "model_module_version": "1.5.0",
      "model_name": "ButtonStyleModel",
      "state": {
       "font_weight": "bold"
      }
     },
     "7f431ce4a13e44ca8427159bb2010238": {
      "model_module": "@jupyter-widgets/controls",
      "model_module_version": "1.5.0",
      "model_name": "HTMLModel",
      "state": {
       "layout": "IPY_MODEL_08f23adb4ed84405bbd3f5832f1e9702",
       "style": "IPY_MODEL_828ccf815e4544caa36d0ca90c38278d",
       "value": "<p>.\\appdata\\inputs\\inputs-eplus_pipework_params.csv saved at: 09-Jun-2020 08:51:36</p>"
      }
     },
     "7f54d4a47f5f4f4fa099fc39d2c35c09": {
      "model_module": "@jupyter-widgets/controls",
      "model_module_version": "1.5.0",
      "model_name": "ButtonStyleModel",
      "state": {
       "font_weight": "bold"
      }
     },
     "803b66e0f6044628b3bdc24eb6bad37a": {
      "model_module": "@jupyter-widgets/controls",
      "model_module_version": "1.5.0",
      "model_name": "ToggleButtonModel",
      "state": {
       "button_style": "info",
       "description": "inputs from file",
       "layout": "IPY_MODEL_ab55406e92d44b8b81f5fd785371830a",
       "style": "IPY_MODEL_044c450508ef48188094e6e54d53fb53",
       "value": true
      }
     },
     "809ddff5b0af49b3912e658088de54f1": {
      "model_module": "@jupyter-widgets/controls",
      "model_module_version": "1.5.0",
      "model_name": "ButtonStyleModel",
      "state": {
       "font_weight": "bold"
      }
     },
     "80d86773931a4c999ac0ca76048bcd31": {
      "model_module": "@jupyter-widgets/output",
      "model_module_version": "1.0.0",
      "model_name": "OutputModel",
      "state": {
       "layout": "IPY_MODEL_86c6f1ffed284087bf58a8e9dfeabd22"
      }
     },
     "80dbd651a9c846dbb5146b7edf1cbcff": {
      "model_module": "@jupyter-widgets/base",
      "model_module_version": "1.2.0",
      "model_name": "LayoutModel",
      "state": {}
     },
     "811c17dc483c4becb5d113de1acd6704": {
      "model_module": "ipysheet",
      "model_module_version": "~0.4.4",
      "model_name": "CellRangeModel",
      "state": {
       "_view_module": null,
       "_view_module_version": "",
       "choice": [],
       "column_end": 2,
       "column_start": 2,
       "numeric_format": null,
       "row_start": 0,
       "squeeze_row": false,
       "type": "text",
       "value": [
        "FUCK",
        "C:\\\\engDev\\\\git_extrnl\\\\EnergyPlus-develop\\\\EnergyPlus-develop\\\\src\\\\EnergyPlus\\\\PipeHeatTransfer.hh"
       ]
      }
     },
     "8164062d714d4173b459d25ba3a6fdf6": {
      "model_module": "@jupyter-widgets/controls",
      "model_module_version": "1.5.0",
      "model_name": "ButtonStyleModel",
      "state": {
       "font_weight": "bold"
      }
     },
     "81eba833dfba447c990d3dc95d54454d": {
      "model_module": "@jupyter-widgets/base",
      "model_module_version": "1.2.0",
      "model_name": "LayoutModel",
      "state": {}
     },
     "82335ef656354cac8d61c3280d416200": {
      "model_module": "@jupyter-widgets/controls",
      "model_module_version": "1.5.0",
      "model_name": "HBoxModel",
      "state": {
       "children": [
        "IPY_MODEL_3a3f2ad6e3e04dbea1287508694954b1"
       ],
       "layout": "IPY_MODEL_45cb7edfb8d04108a99f3f52b1e7756b"
      }
     },
     "828ccf815e4544caa36d0ca90c38278d": {
      "model_module": "@jupyter-widgets/controls",
      "model_module_version": "1.5.0",
      "model_name": "DescriptionStyleModel",
      "state": {
       "description_width": ""
      }
     },
     "8361f7251df94c3fa13c02b0c9ddb44b": {
      "model_module": "ipysheet",
      "model_module_version": "~0.4.4",
      "model_name": "CellRangeModel",
      "state": {
       "_view_module": null,
       "_view_module_version": "",
       "choice": [],
       "numeric_format": null,
       "row_start": 0,
       "squeeze_row": false,
       "type": "text",
       "value": [
        "input",
        "input"
       ]
      }
     },
     "845cb2dbba3e45908afecdba160695ed": {
      "model_module": "@jupyter-widgets/base",
      "model_module_version": "1.2.0",
      "model_name": "LayoutModel",
      "state": {
       "align_items": "stretch",
       "display": "flex",
       "flex_flow": "row",
       "grid_auto_columns": "True",
       "justify_content": "flex-start",
       "width": "100%"
      }
     },
     "8473a455aea0464aac248e494c4fc9ea": {
      "model_module": "@jupyter-widgets/controls",
      "model_module_version": "1.5.0",
      "model_name": "ButtonStyleModel",
      "state": {}
     },
     "85c0514ad4e5410082920b36ffc98f7d": {
      "model_module": "@jupyter-widgets/controls",
      "model_module_version": "1.5.0",
      "model_name": "DescriptionStyleModel",
      "state": {
       "description_width": ""
      }
     },
     "86379e034d5b426f9cf999939f5b74f0": {
      "model_module": "@jupyter-widgets/base",
      "model_module_version": "1.2.0",
      "model_name": "LayoutModel",
      "state": {}
     },
     "864d23c5f4fc4e48ac89641502524a38": {
      "model_module": "@jupyter-widgets/base",
      "model_module_version": "1.2.0",
      "model_name": "LayoutModel",
      "state": {
       "align_items": "stretch",
       "display": "flex",
       "flex_flow": "row",
       "grid_auto_columns": "True",
       "justify_content": "flex-start",
       "width": "100%"
      }
     },
     "86bbd148820640cfa5b2157caad4d151": {
      "model_module": "@jupyter-widgets/base",
      "model_module_version": "1.2.0",
      "model_name": "LayoutModel",
      "state": {}
     },
     "86c6f1ffed284087bf58a8e9dfeabd22": {
      "model_module": "@jupyter-widgets/base",
      "model_module_version": "1.2.0",
      "model_name": "LayoutModel",
      "state": {}
     },
     "87439814715849ed8410f6461be2f533": {
      "model_module": "@jupyter-widgets/output",
      "model_module_version": "1.0.0",
      "model_name": "OutputModel",
      "state": {
       "layout": "IPY_MODEL_b254c6d6cc8d4d7ea14188d572ccb52f",
       "outputs": [
        {
         "data": {
          "application/vnd.jupyter.widget-view+json": {
           "model_id": "392e1b5e68b44b14b5ace477815f16b2",
           "version_major": 2,
           "version_minor": 0
          },
          "text/plain": "Sheet(cells=(Cell(choice=[], column_end=0, column_start=0, numeric_format=None, row_end=1, row_start=0, squeez…"
         },
         "metadata": {},
         "output_type": "display_data"
        }
       ]
      }
     },
     "8790eb7395a54ca18216af4544fe7c0f": {
      "model_module": "@jupyter-widgets/base",
      "model_module_version": "1.2.0",
      "model_name": "LayoutModel",
      "state": {}
     },
     "87925d9616054791bb4bd8d28251b3ea": {
      "model_module": "@jupyter-widgets/base",
      "model_module_version": "1.2.0",
      "model_name": "LayoutModel",
      "state": {
       "align_items": "stretch",
       "display": "flex",
       "flex_flow": "row",
       "grid_auto_columns": "True",
       "justify_content": "flex-start",
       "width": "100%"
      }
     },
     "87cfa721f14743a0b6d9b7d83f585bbb": {
      "model_module": "@jupyter-widgets/base",
      "model_module_version": "1.2.0",
      "model_name": "LayoutModel",
      "state": {}
     },
     "88a0b28dd8a44913a34d2c2c9ab4fccb": {
      "model_module": "@jupyter-widgets/controls",
      "model_module_version": "1.5.0",
      "model_name": "DescriptionStyleModel",
      "state": {
       "description_width": ""
      }
     },
     "88c1c30d14194f66a0461f5ec01e0988": {
      "model_module": "@jupyter-widgets/base",
      "model_module_version": "1.2.0",
      "model_name": "LayoutModel",
      "state": {}
     },
     "88edd11cc6204d1ba07cce0533e39196": {
      "model_module": "@jupyter-widgets/base",
      "model_module_version": "1.2.0",
      "model_name": "LayoutModel",
      "state": {
       "align_items": "stretch",
       "display": "flex",
       "flex_flow": "row",
       "grid_auto_columns": "True",
       "justify_content": "flex-start",
       "width": "100%"
      }
     },
     "898a827df9a2495dae40dbe6461b86a6": {
      "model_module": "@jupyter-widgets/controls",
      "model_module_version": "1.5.0",
      "model_name": "DescriptionStyleModel",
      "state": {
       "description_width": ""
      }
     },
     "899b84ddf7fd4ec1abf09c5474295532": {
      "model_module": "@jupyter-widgets/controls",
      "model_module_version": "1.5.0",
      "model_name": "DescriptionStyleModel",
      "state": {
       "description_width": ""
      }
     },
     "89f9fd6bccfa44279dbddf36e42ffce9": {
      "model_module": "@jupyter-widgets/controls",
      "model_module_version": "1.5.0",
      "model_name": "VBoxModel",
      "state": {
       "children": [
        "IPY_MODEL_3cff2a518adc486f8f23891103f7ee8c",
        "IPY_MODEL_cf6d4038b1bb4517a27e72229a3e714f"
       ],
       "layout": "IPY_MODEL_5d507b79fe9f4437b6b453f52fd9b53f"
      }
     },
     "8afbbc96ec46462f9be538e61b556d44": {
      "model_module": "@jupyter-widgets/output",
      "model_module_version": "1.0.0",
      "model_name": "OutputModel",
      "state": {
       "layout": "IPY_MODEL_7a011f3ee5f14ff18e20012ca5920c48"
      }
     },
     "8b1158a45f154464a5042ac7112cea29": {
      "model_module": "@jupyter-widgets/base",
      "model_module_version": "1.2.0",
      "model_name": "LayoutModel",
      "state": {}
     },
     "8c8b1e3f74594eb8b5749ef4c708be69": {
      "model_module": "@jupyter-widgets/controls",
      "model_module_version": "1.5.0",
      "model_name": "VBoxModel",
      "state": {
       "children": [
        "IPY_MODEL_10175998aaa34d699475f1e1ac76759f",
        "IPY_MODEL_91219e8bdea5466b886d5db8de901f53"
       ],
       "layout": "IPY_MODEL_ebaef15c20ee4fcb8eb611298886e85a"
      }
     },
     "8d53d982b9034bfd9c33afa706bcbe2b": {
      "model_module": "@jupyter-widgets/base",
      "model_module_version": "1.2.0",
      "model_name": "LayoutModel",
      "state": {}
     },
     "8daa7038f00740fa81412bec048846f4": {
      "model_module": "@jupyter-widgets/controls",
      "model_module_version": "1.5.0",
      "model_name": "ButtonModel",
      "state": {
       "description": "load",
       "icon": "upload",
       "layout": "IPY_MODEL_a9e23b5608024888a9f3b4cd19d14bbf",
       "style": "IPY_MODEL_f5d4ac06cd844cefbcac0858ffb50b06"
      }
     },
     "8e4dcff74fc14df4beef2420507832df": {
      "model_module": "@jupyter-widgets/controls",
      "model_module_version": "1.5.0",
      "model_name": "HTMLModel",
      "state": {
       "layout": "IPY_MODEL_dc869c4933e94600ab085a2bc0965ba9",
       "style": "IPY_MODEL_9dac6d422c3e4ec487edbed8e7f73d6f",
       "value": "<p>revert to inputs in last save of: .\\appdata\\inputs\\inputs-eplus_pipework_params.csv</p>"
      }
     },
     "8ef084c9f4f94ddbab28b760aa373d71": {
      "model_module": "@jupyter-widgets/base",
      "model_module_version": "1.2.0",
      "model_name": "LayoutModel",
      "state": {}
     },
     "8f6cf5c400f04f3285fa67ecc889e004": {
      "model_module": "@jupyter-widgets/controls",
      "model_module_version": "1.5.0",
      "model_name": "VBoxModel",
      "state": {
       "children": [
        "IPY_MODEL_18e4def5745e4c6f831b921aaaba5737",
        "IPY_MODEL_5c938c99ff43429f88d1607ac3c0ea75"
       ],
       "layout": "IPY_MODEL_520aa2124e9644edb6b8c54cdc8fd4bf"
      }
     },
     "8fb62aae457e4521a9925c51576f8edc": {
      "model_module": "@jupyter-widgets/base",
      "model_module_version": "1.2.0",
      "model_name": "LayoutModel",
      "state": {}
     },
     "8fff4aac7d32412a9ca270245001998a": {
      "model_module": "@jupyter-widgets/controls",
      "model_module_version": "1.5.0",
      "model_name": "RadioButtonsModel",
      "state": {
       "_options_labels": [
        "TEMPLATE: C:\\engDev\\git_mf\\MF_Toolbox\\dev\\mf_scripts\\template_inputs\\inputs-eplus_pipework_params.csv",
        "TEMPLATE: .\\appdata\\inputs\\inputs-eplus_pipework_params-1.csv",
        "TEMPLATE: .\\appdata\\inputs\\inputs-eplus_pipework_params.csv",
        "TEMPLATE: .\\appdata\\inputs\\archive\\20200605-1625-inputs-eplus_pipework_params.csv",
        "TEMPLATE: .\\appdata\\inputs\\archive\\20200605-1625inputs-eplus_pipework_params.csv",
        "TEMPLATE: .\\appdata\\inputs\\archive\\20200607_1420-jg-inputs-eplus_pipework_params.csv"
       ],
       "index": 0,
       "layout": "IPY_MODEL_0b3de509b26747bd948dc7e58ea92132",
       "style": "IPY_MODEL_fbbb38bf47494f9d9526e6f8a5141e50"
      }
     },
     "9039e7f5588b4baebf3fbfe8ba88a22b": {
      "model_module": "@jupyter-widgets/controls",
      "model_module_version": "1.5.0",
      "model_name": "DescriptionStyleModel",
      "state": {
       "description_width": ""
      }
     },
     "907f4c0854f0492dbc8db0e2da3604ee": {
      "model_module": "@jupyter-widgets/controls",
      "model_module_version": "1.5.0",
      "model_name": "ButtonStyleModel",
      "state": {
       "font_weight": "bold"
      }
     },
     "90946dc27316454aada4c33bc76b1e56": {
      "model_module": "@jupyter-widgets/controls",
      "model_module_version": "1.5.0",
      "model_name": "RadioButtonsModel",
      "state": {
       "_options_labels": [
        "TEMPLATE: C:\\engDev\\git_mf\\MF_Toolbox\\dev\\mf_scripts\\template_inputs\\inputs-eplus_pipework_params.csv",
        "TEMPLATE: .\\appdata\\inputs\\inputs-eplus_pipework_params-1.csv",
        "TEMPLATE: .\\appdata\\inputs\\inputs-eplus_pipework_params.csv",
        "TEMPLATE: .\\appdata\\inputs\\archive\\20200605-1625-inputs-eplus_pipework_params.csv",
        "TEMPLATE: .\\appdata\\inputs\\archive\\20200605-1625inputs-eplus_pipework_params.csv",
        "TEMPLATE: .\\appdata\\inputs\\archive\\20200607_1420-jg-inputs-eplus_pipework_params.csv"
       ],
       "index": 0,
       "layout": "IPY_MODEL_864d23c5f4fc4e48ac89641502524a38",
       "style": "IPY_MODEL_899b84ddf7fd4ec1abf09c5474295532"
      }
     },
     "90dc507c507e4e0e83f5e325ba4b3f01": {
      "model_module": "@jupyter-widgets/base",
      "model_module_version": "1.2.0",
      "model_name": "LayoutModel",
      "state": {}
     },
     "90eaca80a4674a6e8f5fe22da7e33327": {
      "model_module": "@jupyter-widgets/controls",
      "model_module_version": "1.5.0",
      "model_name": "DescriptionStyleModel",
      "state": {
       "description_width": ""
      }
     },
     "91219e8bdea5466b886d5db8de901f53": {
      "model_module": "@jupyter-widgets/controls",
      "model_module_version": "1.5.0",
      "model_name": "HTMLModel",
      "state": {
       "layout": "IPY_MODEL_8ef084c9f4f94ddbab28b760aa373d71",
       "style": "IPY_MODEL_b25f9bb88e4c40dc80d5a41e4f4ddcbc",
       "value": "<p><strong>TESTING</strong></p>"
      }
     },
     "91509f1dba224e17ac8670bdedd77e1a": {
      "model_module": "@jupyter-widgets/controls",
      "model_module_version": "1.5.0",
      "model_name": "VBoxModel",
      "state": {
       "children": [
        "IPY_MODEL_10175998aaa34d699475f1e1ac76759f",
        "IPY_MODEL_91219e8bdea5466b886d5db8de901f53"
       ],
       "layout": "IPY_MODEL_4c9d7cebd23c4268950119208bb2339c"
      }
     },
     "91d61f5fa5b943ffafab430fd1a23c8b": {
      "model_module": "@jupyter-widgets/base",
      "model_module_version": "1.2.0",
      "model_name": "LayoutModel",
      "state": {}
     },
     "91f794a17a374b39872980c626a5df4b": {
      "model_module": "@jupyter-widgets/controls",
      "model_module_version": "1.5.0",
      "model_name": "RadioButtonsModel",
      "state": {
       "_options_labels": [
        "TEMPLATE: C:\\engDev\\git_mf\\MF_Toolbox\\dev\\mf_scripts\\template_inputs\\inputs-eplus_pipework_params.csv",
        "TEMPLATE: .\\appdata\\inputs\\inputs-eplus_pipework_params-1.csv",
        "TEMPLATE: .\\appdata\\inputs\\inputs-eplus_pipework_params.csv",
        "TEMPLATE: .\\appdata\\inputs\\archive\\20200605-1625-inputs-eplus_pipework_params.csv",
        "TEMPLATE: .\\appdata\\inputs\\archive\\20200605-1625inputs-eplus_pipework_params.csv",
        "TEMPLATE: .\\appdata\\inputs\\archive\\20200607_1420-jg-inputs-eplus_pipework_params.csv"
       ],
       "index": 0,
       "layout": "IPY_MODEL_e2586f17e10d401d8a9710686f81fcef",
       "style": "IPY_MODEL_898a827df9a2495dae40dbe6461b86a6"
      }
     },
     "921ad2ea487b4ef1b0718b195219c00e": {
      "model_module": "@jupyter-widgets/controls",
      "model_module_version": "1.5.0",
      "model_name": "VBoxModel",
      "state": {
       "children": [
        "IPY_MODEL_cd1556639d4145afad9b5bc884bdf255",
        "IPY_MODEL_5c0985ad0c944d20bc09ee330f083f0c"
       ],
       "layout": "IPY_MODEL_b1ff34e1dc794e91ae3f35f8872337d3"
      }
     },
     "92997b5e3acb4d13820f2a0574a34b3f": {
      "model_module": "@jupyter-widgets/controls",
      "model_module_version": "1.5.0",
      "model_name": "VBoxModel",
      "state": {
       "children": [
        "IPY_MODEL_be7a08aa0d4940e598e1b517e336deb6",
        "IPY_MODEL_1013b6dc9ba7473f9b24bcc770a3de0f"
       ],
       "layout": "IPY_MODEL_0297193e43c2489aa5fd59358816d4c0"
      }
     },
     "92ce8ed65aa144dc98cd97c688273e69": {
      "model_module": "@jupyter-widgets/controls",
      "model_module_version": "1.5.0",
      "model_name": "HTMLModel",
      "state": {
       "layout": "IPY_MODEL_0edad5c566c64b98a9ffc5b3a36a7d82",
       "style": "IPY_MODEL_43d1936f793e421892cc2b8d144f9ef9",
       "value": "<p>revert to inputs in last save of: .\\appdata\\inputs\\inputs-eplus_pipework_params.csv</p>"
      }
     },
     "92dc1dc7609b42eb9de052e1c526f708": {
      "model_module": "ipysheet",
      "model_module_version": "~0.4.4",
      "model_name": "CellRangeModel",
      "state": {
       "_view_module": null,
       "_view_module_version": "",
       "choice": [],
       "column_end": 2,
       "column_start": 2,
       "numeric_format": null,
       "row_start": 0,
       "squeeze_row": false,
       "type": "text",
       "value": [
        "FUCK",
        "C:\\\\engDev\\\\git_extrnl\\\\EnergyPlus-develop\\\\EnergyPlus-develop\\\\src\\\\EnergyPlus\\\\PipeHeatTransfer.hh"
       ]
      }
     },
     "9315f625046a4737a597ce0d05e4b3ad": {
      "model_module": "@jupyter-widgets/base",
      "model_module_version": "1.2.0",
      "model_name": "LayoutModel",
      "state": {
       "align_items": "stretch",
       "display": "flex",
       "flex_flow": "row",
       "grid_auto_columns": "True",
       "justify_content": "flex-start",
       "width": "100%"
      }
     },
     "93260950c5e1437ebfa968730d9e2b48": {
      "model_module": "@jupyter-widgets/controls",
      "model_module_version": "1.5.0",
      "model_name": "DescriptionStyleModel",
      "state": {
       "description_width": ""
      }
     },
     "93b869d4a83e41338200d223ec67a6f1": {
      "model_module": "@jupyter-widgets/controls",
      "model_module_version": "1.5.0",
      "model_name": "VBoxModel",
      "state": {
       "children": [
        "IPY_MODEL_d08034c1df864e8fac69a3f0909b5f1f",
        "IPY_MODEL_7614b530a08f4c8d9cdea43155dc2993"
       ],
       "layout": "IPY_MODEL_544e569c3e9c45758a688e7c41974499"
      }
     },
     "93ec47d2452b4942969d1f109a432053": {
      "model_module": "@jupyter-widgets/controls",
      "model_module_version": "1.5.0",
      "model_name": "VBoxModel",
      "state": {
       "children": [
        "IPY_MODEL_3cff2a518adc486f8f23891103f7ee8c",
        "IPY_MODEL_cf6d4038b1bb4517a27e72229a3e714f"
       ],
       "layout": "IPY_MODEL_9be3018f50984de6b19ce0c23f25ed44"
      }
     },
     "940ee0e355bf40aaa32f6bd55a5b524e": {
      "model_module": "@jupyter-widgets/base",
      "model_module_version": "1.2.0",
      "model_name": "LayoutModel",
      "state": {}
     },
     "95567205332a4f1facc371757e9141fd": {
      "model_module": "@jupyter-widgets/controls",
      "model_module_version": "1.5.0",
      "model_name": "VBoxModel",
      "state": {
       "children": [
        "IPY_MODEL_be7a08aa0d4940e598e1b517e336deb6",
        "IPY_MODEL_2d7d465dd8074329bdb3588d5e2c156d"
       ],
       "layout": "IPY_MODEL_9c133c3ac9d04c78adfb65e7a8cd06d6"
      }
     },
     "95845796d1bd445baf79be243c773446": {
      "model_module": "@jupyter-widgets/controls",
      "model_module_version": "1.5.0",
      "model_name": "VBoxModel",
      "state": {
       "children": [
        "IPY_MODEL_18e4def5745e4c6f831b921aaaba5737",
        "IPY_MODEL_caabb500071748dea8b4ddca7bfb9006"
       ],
       "layout": "IPY_MODEL_3e427c78cd8d4fcf9f8689794240cab3"
      }
     },
     "960c847d5e8c415ebff793636cfc4b33": {
      "model_module": "@jupyter-widgets/base",
      "model_module_version": "1.2.0",
      "model_name": "LayoutModel",
      "state": {}
     },
     "96e594177d1643378c2b9f43dd9ed36a": {
      "model_module": "@jupyter-widgets/controls",
      "model_module_version": "1.5.0",
      "model_name": "RadioButtonsModel",
      "state": {
       "_options_labels": [
        "TEMPLATE: C:\\engDev\\git_mf\\MF_Toolbox\\dev\\mf_scripts\\template_inputs\\inputs-eplus_pipework_params.csv",
        "TEMPLATE: .\\appdata\\inputs\\inputs-eplus_pipework_params-1.csv",
        "TEMPLATE: .\\appdata\\inputs\\inputs-eplus_pipework_params.csv",
        "TEMPLATE: .\\appdata\\inputs\\archive\\20200605-1625-inputs-eplus_pipework_params.csv",
        "TEMPLATE: .\\appdata\\inputs\\archive\\20200605-1625inputs-eplus_pipework_params.csv",
        "TEMPLATE: .\\appdata\\inputs\\archive\\20200607_1420-jg-inputs-eplus_pipework_params.csv"
       ],
       "index": 0,
       "layout": "IPY_MODEL_3941289230d6416b9ee383f1000ff299",
       "style": "IPY_MODEL_dfb6362c09c54693b8abf4e16e19459e"
      }
     },
     "97838881d9cc4735bc5b1343c2818f1d": {
      "model_module": "@jupyter-widgets/controls",
      "model_module_version": "1.5.0",
      "model_name": "ToggleButtonModel",
      "state": {
       "button_style": "info",
       "description": "inputs from file",
       "layout": "IPY_MODEL_db56076f59d04b7ea8f7d7f2ee1d0f22",
       "style": "IPY_MODEL_c9dc967ccd2844c7aa398d8d674c3a27"
      }
     },
     "9797aad8a76b41c481136a5106e78cf0": {
      "model_module": "@jupyter-widgets/base",
      "model_module_version": "1.2.0",
      "model_name": "LayoutModel",
      "state": {}
     },
     "97b458d910b74041907e84443f0bd099": {
      "model_module": "@jupyter-widgets/output",
      "model_module_version": "1.0.0",
      "model_name": "OutputModel",
      "state": {
       "layout": "IPY_MODEL_d7efbaa4c4054ae7b71ce4793599bd1c",
       "outputs": [
        {
         "data": {
          "application/vnd.jupyter.widget-view+json": {
           "model_id": "",
           "version_major": 2,
           "version_minor": 0
          },
          "text/plain": "Button(description='load', icon='upload', style=ButtonStyle(font_weight='bold'))"
         },
         "metadata": {},
         "output_type": "display_data"
        },
        {
         "data": {
          "application/vnd.jupyter.widget-view+json": {
           "model_id": "",
           "version_major": 2,
           "version_minor": 0
          },
          "text/plain": "RadioButtons(layout=Layout(align_items='stretch', display='flex', flex_flow='row', grid_auto_columns='True', j…"
         },
         "metadata": {},
         "output_type": "display_data"
        },
        {
         "data": {
          "text/markdown": "no error",
          "text/plain": "<IPython.core.display.Markdown object>"
         },
         "metadata": {},
         "output_type": "display_data"
        }
       ]
      }
     },
     "97b634e1e10145d09a17eb93fe2e1b64": {
      "model_module": "@jupyter-widgets/controls",
      "model_module_version": "1.5.0",
      "model_name": "DescriptionStyleModel",
      "state": {
       "description_width": ""
      }
     },
     "97e10efcf2654c1dbf248bdf4d40a4cd": {
      "model_module": "@jupyter-widgets/controls",
      "model_module_version": "1.5.0",
      "model_name": "ButtonModel",
      "state": {
       "button_style": "warning",
       "description": "revert to last save",
       "layout": "IPY_MODEL_f32fe8407afd4f2dae7ccc51f8d644b5",
       "style": "IPY_MODEL_baa801fab4854a7bbb9f2b7e09549545"
      }
     },
     "98425380dbb34c9bbd1b72e23527dfd8": {
      "model_module": "@jupyter-widgets/base",
      "model_module_version": "1.2.0",
      "model_name": "LayoutModel",
      "state": {}
     },
     "99bc98c137a94cea9c364dc442c9c0e4": {
      "model_module": "@jupyter-widgets/controls",
      "model_module_version": "1.5.0",
      "model_name": "VBoxModel",
      "state": {
       "children": [
        "IPY_MODEL_2fae3c484957421cb6b6e7e58ef349fa",
        "IPY_MODEL_19f63c04b2404f97a236f4d22de6a0e4"
       ],
       "layout": "IPY_MODEL_bf01ba57bd7d4013a19ae116deb65cb9"
      }
     },
     "99f5b2a07bda4a1ca93225144b922da7": {
      "model_module": "@jupyter-widgets/controls",
      "model_module_version": "1.5.0",
      "model_name": "VBoxModel",
      "state": {
       "children": [
        "IPY_MODEL_0c8fc088f36143349ce5069c64849e37",
        "IPY_MODEL_79b37431903642fe98d9ce0c643166e9"
       ],
       "layout": "IPY_MODEL_f9a53fffbbd54150811f839e66a8aed5"
      }
     },
     "9a162ebc094f49b5a104c866a0402505": {
      "model_module": "@jupyter-widgets/controls",
      "model_module_version": "1.5.0",
      "model_name": "ToggleButtonModel",
      "state": {
       "button_style": "info",
       "description": "inputs from file",
       "layout": "IPY_MODEL_789d17e5469e41b9b68c8fa09417ae0c",
       "style": "IPY_MODEL_f7d85d5c09594e7dad1f01a942a8c51e",
       "value": true
      }
     },
     "9abd5ceacfc34efa8c8a9eef99cc4c07": {
      "model_module": "@jupyter-widgets/controls",
      "model_module_version": "1.5.0",
      "model_name": "ButtonStyleModel",
      "state": {
       "font_weight": "bold"
      }
     },
     "9b07994990764e6ca7ee2649e34ff09a": {
      "model_module": "@jupyter-widgets/controls",
      "model_module_version": "1.5.0",
      "model_name": "ButtonStyleModel",
      "state": {
       "font_weight": "bold"
      }
     },
     "9ba47e0e734c45c488f3da306512f90d": {
      "model_module": "@jupyter-widgets/controls",
      "model_module_version": "1.5.0",
      "model_name": "ButtonStyleModel",
      "state": {
       "font_weight": "bold"
      }
     },
     "9be3018f50984de6b19ce0c23f25ed44": {
      "model_module": "@jupyter-widgets/base",
      "model_module_version": "1.2.0",
      "model_name": "LayoutModel",
      "state": {}
     },
     "9c133c3ac9d04c78adfb65e7a8cd06d6": {
      "model_module": "@jupyter-widgets/base",
      "model_module_version": "1.2.0",
      "model_name": "LayoutModel",
      "state": {}
     },
     "9c6cb0242b6e46d0a0157822eb701d0a": {
      "model_module": "@jupyter-widgets/controls",
      "model_module_version": "1.5.0",
      "model_name": "VBoxModel",
      "state": {
       "children": [
        "IPY_MODEL_04e75b85cb914e6e8167403d1bc575b1",
        "IPY_MODEL_3836ebc20f114df9890d897e11ffd318"
       ],
       "layout": "IPY_MODEL_fb7cd118e7714cdb950168d213ad27ed"
      }
     },
     "9c93bcb8d76c454498d5cc83d6dced4d": {
      "model_module": "@jupyter-widgets/controls",
      "model_module_version": "1.5.0",
      "model_name": "VBoxModel",
      "state": {
       "children": [
        "IPY_MODEL_35d7549ef3324a89ae2de4a9700535bd",
        "IPY_MODEL_b063119975634f1f9c50d34f1f266c49"
       ],
       "layout": "IPY_MODEL_b8927b070a80474b92a9bee6712c66b2"
      }
     },
     "9cb892a9c2b74d0f886d7be016d9458c": {
      "model_module": "@jupyter-widgets/base",
      "model_module_version": "1.2.0",
      "model_name": "LayoutModel",
      "state": {}
     },
     "9d41d98029554815bc8871a9ae14777c": {
      "model_module": "@jupyter-widgets/controls",
      "model_module_version": "1.5.0",
      "model_name": "DescriptionStyleModel",
      "state": {
       "description_width": ""
      }
     },
     "9d4690d322bc4d4abde4576b08f4b1d6": {
      "model_module": "@jupyter-widgets/base",
      "model_module_version": "1.2.0",
      "model_name": "LayoutModel",
      "state": {}
     },
     "9dac6d422c3e4ec487edbed8e7f73d6f": {
      "model_module": "@jupyter-widgets/controls",
      "model_module_version": "1.5.0",
      "model_name": "DescriptionStyleModel",
      "state": {
       "description_width": ""
      }
     },
     "9e1ff2fc40784afba864cca16cd9c5a1": {
      "model_module": "@jupyter-widgets/controls",
      "model_module_version": "1.5.0",
      "model_name": "ButtonModel",
      "state": {
       "button_style": "warning",
       "description": "revert to last save",
       "layout": "IPY_MODEL_b510bc1208f244e489bc023f37f0b27a",
       "style": "IPY_MODEL_5f841efcd68d459da79b3215a427b9da"
      }
     },
     "9f66d28b92b545e9a503bbbdb24d333e": {
      "model_module": "@jupyter-widgets/controls",
      "model_module_version": "1.5.0",
      "model_name": "DescriptionStyleModel",
      "state": {
       "description_width": ""
      }
     },
     "9f952efb5dfb47b3ba81141a530a5f82": {
      "model_module": "@jupyter-widgets/controls",
      "model_module_version": "1.5.0",
      "model_name": "ButtonStyleModel",
      "state": {
       "font_weight": "bold"
      }
     },
     "9fc3d9d1a16c42cd9a31b83ad7bd4883": {
      "model_module": "@jupyter-widgets/base",
      "model_module_version": "1.2.0",
      "model_name": "LayoutModel",
      "state": {}
     },
     "9fcf2f4b50614851a7425dc6ae7cb809": {
      "model_module": "@jupyter-widgets/controls",
      "model_module_version": "1.5.0",
      "model_name": "ButtonModel",
      "state": {
       "button_style": "warning",
       "description": "revert to last save",
       "layout": "IPY_MODEL_b18f34208f7443bba0e4ed991826e57f",
       "style": "IPY_MODEL_5ade483392704b24bdc97ecdb78744fe"
      }
     },
     "9fe1999ca2cd4db796f60a0a3a3f1083": {
      "model_module": "@jupyter-widgets/base",
      "model_module_version": "1.2.0",
      "model_name": "LayoutModel",
      "state": {}
     },
     "9fe4dfebcfe4413ea361e701f52a1060": {
      "model_module": "@jupyter-widgets/base",
      "model_module_version": "1.2.0",
      "model_name": "LayoutModel",
      "state": {}
     },
     "a073e40f81d347c0ad1fb0199b178553": {
      "model_module": "@jupyter-widgets/base",
      "model_module_version": "1.2.0",
      "model_name": "LayoutModel",
      "state": {}
     },
     "a1028809efa94428bed7c358650abbac": {
      "model_module": "@jupyter-widgets/controls",
      "model_module_version": "1.5.0",
      "model_name": "RadioButtonsModel",
      "state": {
       "_options_labels": [
        "TEMPLATE: C:\\engDev\\git_mf\\MF_Toolbox\\dev\\mf_scripts\\template_inputs\\inputs-eplus_pipework_params.csv",
        "PROJECT: C:\\engDev\\git_mf\\ipyrun\\ipyrun\\appdata\\inputs\\archive\\20200605-1742-inputs-eplus_pipework_params.csv",
        "PROJECT: C:\\engDev\\git_mf\\ipyrun\\ipyrun\\appdata\\inputs\\archive\\20200607_1420-jg-inputs-eplus_pipework_params.csv"
       ],
       "index": 0,
       "layout": "IPY_MODEL_435afd8dce1a41adbe3b5dabea4a8106",
       "style": "IPY_MODEL_dd3b1a20ef0f4572952db040b199c899"
      }
     },
     "a221e0ebbfbb4008a2cb878ec905db8e": {
      "model_module": "@jupyter-widgets/controls",
      "model_module_version": "1.5.0",
      "model_name": "ButtonStyleModel",
      "state": {
       "font_weight": "bold"
      }
     },
     "a231b410b70946ef90934c065189fa8f": {
      "model_module": "ipysheet",
      "model_module_version": "~0.4.4",
      "model_name": "CellRangeModel",
      "state": {
       "_view_module": null,
       "_view_module_version": "",
       "choice": [],
       "numeric_format": null,
       "row_start": 0,
       "squeeze_row": false,
       "type": "text",
       "value": [
        "input",
        "input"
       ]
      }
     },
     "a2702d3ce4634797a95df482a7bf3ac0": {
      "model_module": "@jupyter-widgets/controls",
      "model_module_version": "1.5.0",
      "model_name": "ButtonModel",
      "state": {
       "button_style": "success",
       "description": "save changes",
       "layout": "IPY_MODEL_f55dece3e64d499ab229dd9e80797df1",
       "style": "IPY_MODEL_0e9962219fd14b5cbf798b26ebaf9901"
      }
     },
     "a2c8b7a00c1143618709013855f8a7b7": {
      "model_module": "@jupyter-widgets/base",
      "model_module_version": "1.2.0",
      "model_name": "LayoutModel",
      "state": {}
     },
     "a33c33e10a964c8ea7daa5467397f428": {
      "model_module": "@jupyter-widgets/base",
      "model_module_version": "1.2.0",
      "model_name": "LayoutModel",
      "state": {}
     },
     "a37e62eb2e0744a7abac855e5862845e": {
      "model_module": "@jupyter-widgets/controls",
      "model_module_version": "1.5.0",
      "model_name": "ButtonModel",
      "state": {
       "description": "load",
       "icon": "upload",
       "layout": "IPY_MODEL_43bde61a2ec74205b9448a6e4d0ad384",
       "style": "IPY_MODEL_f47df0a1dae943db80668f2c67f3543f"
      }
     },
     "a3a20804ad204b54bf67548b1d2dfa12": {
      "model_module": "@jupyter-widgets/base",
      "model_module_version": "1.2.0",
      "model_name": "LayoutModel",
      "state": {
       "align_items": "stretch",
       "display": "flex",
       "flex_flow": "row",
       "grid_auto_columns": "True",
       "justify_content": "flex-start",
       "width": "100%"
      }
     },
     "a476b4296fde4c9d8aeb0387e64a1eed": {
      "model_module": "@jupyter-widgets/controls",
      "model_module_version": "1.5.0",
      "model_name": "ButtonStyleModel",
      "state": {
       "font_weight": "bold"
      }
     },
     "a4846a7029a545f280eabc164fa0d2df": {
      "model_module": "@jupyter-widgets/controls",
      "model_module_version": "1.5.0",
      "model_name": "VBoxModel",
      "state": {
       "children": [
        "IPY_MODEL_be7a08aa0d4940e598e1b517e336deb6",
        "IPY_MODEL_3785a6cc9a254b1aad28240a1583ef4c"
       ],
       "layout": "IPY_MODEL_61e5fb95922d43b3b1c40cf8905cb184"
      }
     },
     "a548dfa9a2554a01b7dd61db642c47d3": {
      "model_module": "@jupyter-widgets/base",
      "model_module_version": "1.2.0",
      "model_name": "LayoutModel",
      "state": {}
     },
     "a5967d61535d4bcc85ed56741a47b822": {
      "model_module": "@jupyter-widgets/controls",
      "model_module_version": "1.5.0",
      "model_name": "HBoxModel",
      "state": {
       "children": [
        "IPY_MODEL_6de30eff92eb4975a1ee3725fd421c07",
        "IPY_MODEL_de22f8d79bce409a82cdd2ad20039b78",
        "IPY_MODEL_b6f597feee244f2a94074a718ad49cdc"
       ],
       "layout": "IPY_MODEL_f9389f688124425c92a5afd6aff8455e"
      }
     },
     "a59b8ed2c26546ad8eb4eae98d4d8d0e": {
      "model_module": "@jupyter-widgets/controls",
      "model_module_version": "1.5.0",
      "model_name": "HTMLModel",
      "state": {
       "layout": "IPY_MODEL_b8f444f640cf4ba39b080400e4984a49",
       "style": "IPY_MODEL_d581132b43e24c51b57fd6bb6783b191",
       "value": "<p>revert to inputs in last save of: .\\appdata\\inputs\\inputs-eplus_pipework_params.csv</p>"
      }
     },
     "a5eabe71512b436ebf28e350ec078f18": {
      "model_module": "@jupyter-widgets/output",
      "model_module_version": "1.0.0",
      "model_name": "OutputModel",
      "state": {
       "layout": "IPY_MODEL_c9b97195e6c242e6b5770a4ad1035d0b"
      }
     },
     "a5f20d20d8784c9d979e1f65a94dff31": {
      "model_module": "@jupyter-widgets/base",
      "model_module_version": "1.2.0",
      "model_name": "LayoutModel",
      "state": {}
     },
     "a681748a68b04b6984a6d61067890563": {
      "model_module": "@jupyter-widgets/controls",
      "model_module_version": "1.5.0",
      "model_name": "VBoxModel",
      "state": {
       "children": [
        "IPY_MODEL_be7a08aa0d4940e598e1b517e336deb6",
        "IPY_MODEL_1013b6dc9ba7473f9b24bcc770a3de0f"
       ],
       "layout": "IPY_MODEL_b2f864cb10514670b7d4ebff5a91b474"
      }
     },
     "a6e9093b46464be4ac7ff9a5f650baaf": {
      "model_module": "@jupyter-widgets/base",
      "model_module_version": "1.2.0",
      "model_name": "LayoutModel",
      "state": {}
     },
     "a73dd344048144bcb9398143619f3292": {
      "model_module": "@jupyter-widgets/controls",
      "model_module_version": "1.5.0",
      "model_name": "ToggleButtonModel",
      "state": {
       "button_style": "info",
       "description": "inputs from file",
       "layout": "IPY_MODEL_da334d02ad30444a8682e6d54c9b2c07",
       "style": "IPY_MODEL_e5bf6eec124943a7902d641448466bd5"
      }
     },
     "a74f4828759a4b8a97c0dc0c910eb173": {
      "model_module": "@jupyter-widgets/controls",
      "model_module_version": "1.5.0",
      "model_name": "ButtonStyleModel",
      "state": {
       "font_weight": "bold"
      }
     },
     "a863577407f8440f90bc50d55f27a77c": {
      "model_module": "@jupyter-widgets/base",
      "model_module_version": "1.2.0",
      "model_name": "LayoutModel",
      "state": {}
     },
     "a964386bc6264640be13d4f1abd929bd": {
      "model_module": "@jupyter-widgets/base",
      "model_module_version": "1.2.0",
      "model_name": "LayoutModel",
      "state": {}
     },
     "a9e23b5608024888a9f3b4cd19d14bbf": {
      "model_module": "@jupyter-widgets/base",
      "model_module_version": "1.2.0",
      "model_name": "LayoutModel",
      "state": {}
     },
     "aa2930e4de464625a70a2df04c43a9a9": {
      "model_module": "@jupyter-widgets/base",
      "model_module_version": "1.2.0",
      "model_name": "LayoutModel",
      "state": {}
     },
     "aa4ac3b6d189427b8d0982a81797142f": {
      "model_module": "@jupyter-widgets/controls",
      "model_module_version": "1.5.0",
      "model_name": "ButtonModel",
      "state": {
       "description": "load",
       "icon": "upload",
       "layout": "IPY_MODEL_72ea5f44ff644dacbcc5670ab62850fb",
       "style": "IPY_MODEL_18f08031c5ca468b938ca1ad2926299f"
      }
     },
     "aa8e68f9080d4edab4bda4e1fd495320": {
      "model_module": "@jupyter-widgets/base",
      "model_module_version": "1.2.0",
      "model_name": "LayoutModel",
      "state": {}
     },
     "aaa19793847b43a6b20346efd165e4cc": {
      "model_module": "@jupyter-widgets/controls",
      "model_module_version": "1.5.0",
      "model_name": "RadioButtonsModel",
      "state": {
       "_options_labels": [
        "TEMPLATE: C:\\engDev\\git_mf\\MF_Toolbox\\dev\\mf_scripts\\template_inputs\\inputs-eplus_pipework_params.csv",
        "PROJECT: .\\appdata\\inputs\\inputs-eplus_pipework_params-1.csv",
        "PROJECT: .\\appdata\\inputs\\inputs-eplus_pipework_params.csv",
        "PROJECT: .\\appdata\\inputs\\archive\\20200605-1625-inputs-eplus_pipework_params.csv",
        "PROJECT: .\\appdata\\inputs\\archive\\20200605-1625inputs-eplus_pipework_params.csv",
        "PROJECT: .\\appdata\\inputs\\archive\\20200607_1420-jg-inputs-eplus_pipework_params.csv"
       ],
       "index": 5,
       "layout": "IPY_MODEL_387b5bb1daee45b29b04ec1dc4bcd0ed",
       "style": "IPY_MODEL_d47902c2fff54597a1d591bbaeda4625"
      }
     },
     "ab2ae044492c40f285c3748ebc833134": {
      "model_module": "@jupyter-widgets/controls",
      "model_module_version": "1.5.0",
      "model_name": "HTMLModel",
      "state": {
       "layout": "IPY_MODEL_114392d1580b437ba5211df4af428b37",
       "style": "IPY_MODEL_46c78dcc16224e55b8a0a8e54046c9bb",
       "value": "<p><em>TESTING</em></p>"
      }
     },
     "ab55406e92d44b8b81f5fd785371830a": {
      "model_module": "@jupyter-widgets/base",
      "model_module_version": "1.2.0",
      "model_name": "LayoutModel",
      "state": {}
     },
     "aba9ba791e7443228c4400dd696054f1": {
      "model_module": "@jupyter-widgets/controls",
      "model_module_version": "1.5.0",
      "model_name": "HTMLModel",
      "state": {
       "layout": "IPY_MODEL_d6b855b1f7ae4251a049a47d15bc4dfa",
       "style": "IPY_MODEL_fc90661aab864c1e9b3ce05d39933064",
       "value": "<p>.\\appdata\\inputs\\inputs-eplus_pipework_params.csv saved at: 09-Jun-2020 08:50:40</p>"
      }
     },
     "abae7d1d5d0540df978141055881b1a1": {
      "model_module": "@jupyter-widgets/controls",
      "model_module_version": "1.5.0",
      "model_name": "HTMLModel",
      "state": {
       "layout": "IPY_MODEL_940ee0e355bf40aaa32f6bd55a5b524e",
       "style": "IPY_MODEL_90eaca80a4674a6e8f5fe22da7e33327",
       "value": "<p>revert to inputs in last save of: .\\appdata\\inputs\\inputs-eplus_pipework_params.csv</p>"
      }
     },
     "ac9e5b1735e34073af74a3a770315f67": {
      "model_module": "@jupyter-widgets/output",
      "model_module_version": "1.0.0",
      "model_name": "OutputModel",
      "state": {
       "layout": "IPY_MODEL_c25352e2577a47a58358ccba8b68df52"
      }
     },
     "acf58098df81402bb5a240c608ddf388": {
      "model_module": "@jupyter-widgets/output",
      "model_module_version": "1.0.0",
      "model_name": "OutputModel",
      "state": {
       "layout": "IPY_MODEL_439c9cb2b6424aca91fb73a947dead3b",
       "outputs": [
        {
         "data": {
          "application/vnd.jupyter.widget-view+json": {
           "model_id": "",
           "version_major": 2,
           "version_minor": 0
          },
          "text/plain": "Button(description='load', icon='upload', style=ButtonStyle(font_weight='bold'))"
         },
         "metadata": {},
         "output_type": "display_data"
        },
        {
         "data": {
          "application/vnd.jupyter.widget-view+json": {
           "model_id": "",
           "version_major": 2,
           "version_minor": 0
          },
          "text/plain": "RadioButtons(index=1, layout=Layout(align_items='stretch', display='flex', flex_flow='row', grid_auto_columns=…"
         },
         "metadata": {},
         "output_type": "display_data"
        },
        {
         "ename": "AttributeError",
         "evalue": "'FileController' object has no attribute 'errormessage'",
         "output_type": "error",
         "traceback": [
          "\u001b[1;31m---------------------------------------------------------------------------\u001b[0m",
          "\u001b[1;31mAttributeError\u001b[0m                            Traceback (most recent call last)",
          "\u001b[1;32m<ipython-input-33-87c5b62375b7>\u001b[0m in \u001b[0;36m_load\u001b[1;34m(self, sender)\u001b[0m\n\u001b[0;32m     95\u001b[0m                 \u001b[0mdisplay\u001b[0m\u001b[1;33m(\u001b[0m\u001b[0mself\u001b[0m\u001b[1;33m.\u001b[0m\u001b[0mload_button\u001b[0m\u001b[1;33m)\u001b[0m\u001b[1;33m\u001b[0m\u001b[1;33m\u001b[0m\u001b[0m\n\u001b[0;32m     96\u001b[0m                 \u001b[0mdisplay\u001b[0m\u001b[1;33m(\u001b[0m\u001b[0mself\u001b[0m\u001b[1;33m.\u001b[0m\u001b[0mchoose_inputs\u001b[0m\u001b[1;33m)\u001b[0m\u001b[1;33m\u001b[0m\u001b[1;33m\u001b[0m\u001b[0m\n\u001b[1;32m---> 97\u001b[1;33m                 \u001b[0mdisplay\u001b[0m\u001b[1;33m(\u001b[0m\u001b[0mMarkdown\u001b[0m\u001b[1;33m(\u001b[0m\u001b[0mself\u001b[0m\u001b[1;33m.\u001b[0m\u001b[0merrormessage\u001b[0m\u001b[1;33m)\u001b[0m\u001b[1;33m)\u001b[0m\u001b[1;33m\u001b[0m\u001b[1;33m\u001b[0m\u001b[0m\n\u001b[0m\u001b[0;32m     98\u001b[0m             \u001b[1;32mif\u001b[0m \u001b[0mself\u001b[0m\u001b[1;33m.\u001b[0m\u001b[0miserror\u001b[0m\u001b[1;33m:\u001b[0m\u001b[1;33m\u001b[0m\u001b[1;33m\u001b[0m\u001b[0m\n\u001b[0;32m     99\u001b[0m                 \u001b[0mdisplay\u001b[0m\u001b[1;33m(\u001b[0m\u001b[0mMarkdown\u001b[0m\u001b[1;33m(\u001b[0m\u001b[0mself\u001b[0m\u001b[1;33m.\u001b[0m\u001b[0merrormessage\u001b[0m\u001b[1;33m)\u001b[0m\u001b[1;33m)\u001b[0m\u001b[1;33m\u001b[0m\u001b[1;33m\u001b[0m\u001b[0m\n",
          "\u001b[1;31mAttributeError\u001b[0m: 'FileController' object has no attribute 'errormessage'"
         ]
        }
       ]
      }
     },
     "ae134a658bca4adca2b02e96aafbb44c": {
      "model_module": "@jupyter-widgets/controls",
      "model_module_version": "1.5.0",
      "model_name": "ButtonModel",
      "state": {
       "button_style": "warning",
       "description": "revert to last save",
       "layout": "IPY_MODEL_d01e3ac9b7d44880ba2d9ae220714042",
       "style": "IPY_MODEL_dd09ed36594645778ed908e5b7d262a3"
      }
     },
     "ae775c18225342d5a674af3802f72b35": {
      "model_module": "@jupyter-widgets/base",
      "model_module_version": "1.2.0",
      "model_name": "LayoutModel",
      "state": {}
     },
     "aeac3a0e3b464832a2646888a6f47e4e": {
      "model_module": "@jupyter-widgets/base",
      "model_module_version": "1.2.0",
      "model_name": "LayoutModel",
      "state": {}
     },
     "aed6b240fc054662af4452704df9f3b0": {
      "model_module": "@jupyter-widgets/controls",
      "model_module_version": "1.5.0",
      "model_name": "VBoxModel",
      "state": {
       "children": [
        "IPY_MODEL_ed6f6b5f782a4e2ebc2b374f395283e1",
        "IPY_MODEL_7f431ce4a13e44ca8427159bb2010238"
       ],
       "layout": "IPY_MODEL_437da05f103740679195618eaf44da02"
      }
     },
     "af5e8900b46b483a9fe16ca0fe2c2e4d": {
      "model_module": "@jupyter-widgets/controls",
      "model_module_version": "1.5.0",
      "model_name": "DescriptionStyleModel",
      "state": {
       "description_width": ""
      }
     },
     "af66a504add949db80a9e1949ad6fe65": {
      "model_module": "@jupyter-widgets/controls",
      "model_module_version": "1.5.0",
      "model_name": "DescriptionStyleModel",
      "state": {
       "description_width": ""
      }
     },
     "af796a7c93844199a85bf86ec4a33882": {
      "model_module": "@jupyter-widgets/controls",
      "model_module_version": "1.5.0",
      "model_name": "HTMLModel",
      "state": {
       "layout": "IPY_MODEL_a548dfa9a2554a01b7dd61db642c47d3",
       "style": "IPY_MODEL_b103541c90ca413586883cf9e3f08f3a",
       "value": "<p><strong>TESTING</strong></p>"
      }
     },
     "af8c1aa36c014bbb83b785849ab54a11": {
      "model_module": "@jupyter-widgets/controls",
      "model_module_version": "1.5.0",
      "model_name": "VBoxModel",
      "state": {
       "children": [
        "IPY_MODEL_04e75b85cb914e6e8167403d1bc575b1",
        "IPY_MODEL_25bc86995a224394ab24b19d7fb66376"
       ],
       "layout": "IPY_MODEL_118f3e601bc74e4c80ca5911e2ed284b"
      }
     },
     "afef26b167784f29b7addcc121585fdd": {
      "model_module": "@jupyter-widgets/controls",
      "model_module_version": "1.5.0",
      "model_name": "ToggleButtonModel",
      "state": {
       "button_style": "info",
       "description": "inputs from file",
       "layout": "IPY_MODEL_a073e40f81d347c0ad1fb0199b178553",
       "style": "IPY_MODEL_9039e7f5588b4baebf3fbfe8ba88a22b"
      }
     },
     "b063119975634f1f9c50d34f1f266c49": {
      "model_module": "@jupyter-widgets/controls",
      "model_module_version": "1.5.0",
      "model_name": "HTMLModel",
      "state": {
       "layout": "IPY_MODEL_e5ebcf6185564226b9a000c5e4c3c057",
       "style": "IPY_MODEL_65ba6e6a1155404b9b028952fe5809d5",
       "value": "<p><strong>TESTING</strong></p>"
      }
     },
     "b0a5351e68e14fd09db2dfc56706a83d": {
      "model_module": "@jupyter-widgets/controls",
      "model_module_version": "1.5.0",
      "model_name": "DescriptionStyleModel",
      "state": {
       "description_width": ""
      }
     },
     "b103541c90ca413586883cf9e3f08f3a": {
      "model_module": "@jupyter-widgets/controls",
      "model_module_version": "1.5.0",
      "model_name": "DescriptionStyleModel",
      "state": {
       "description_width": ""
      }
     },
     "b18f34208f7443bba0e4ed991826e57f": {
      "model_module": "@jupyter-widgets/base",
      "model_module_version": "1.2.0",
      "model_name": "LayoutModel",
      "state": {}
     },
     "b1b2386ae8764ff3bf1daf5243ca560b": {
      "model_module": "@jupyter-widgets/controls",
      "model_module_version": "1.5.0",
      "model_name": "ToggleButtonModel",
      "state": {
       "button_style": "info",
       "description": "inputs from file",
       "layout": "IPY_MODEL_d54f17206f5c463c92a75d9b6d829a63",
       "style": "IPY_MODEL_5d4a9699c5914777bf4690c1f445c93e"
      }
     },
     "b1d25f745e9c48a9a71b476949639bf8": {
      "model_module": "@jupyter-widgets/base",
      "model_module_version": "1.2.0",
      "model_name": "LayoutModel",
      "state": {}
     },
     "b1e7fe87f69b4f3795e98bcf94f69d89": {
      "model_module": "@jupyter-widgets/controls",
      "model_module_version": "1.5.0",
      "model_name": "DescriptionStyleModel",
      "state": {
       "description_width": ""
      }
     },
     "b1ff34e1dc794e91ae3f35f8872337d3": {
      "model_module": "@jupyter-widgets/base",
      "model_module_version": "1.2.0",
      "model_name": "LayoutModel",
      "state": {}
     },
     "b254c6d6cc8d4d7ea14188d572ccb52f": {
      "model_module": "@jupyter-widgets/base",
      "model_module_version": "1.2.0",
      "model_name": "LayoutModel",
      "state": {}
     },
     "b25f9bb88e4c40dc80d5a41e4f4ddcbc": {
      "model_module": "@jupyter-widgets/controls",
      "model_module_version": "1.5.0",
      "model_name": "DescriptionStyleModel",
      "state": {
       "description_width": ""
      }
     },
     "b25fda599bd0498994e71675d8c32484": {
      "model_module": "@jupyter-widgets/base",
      "model_module_version": "1.2.0",
      "model_name": "LayoutModel",
      "state": {}
     },
     "b2f864cb10514670b7d4ebff5a91b474": {
      "model_module": "@jupyter-widgets/base",
      "model_module_version": "1.2.0",
      "model_name": "LayoutModel",
      "state": {}
     },
     "b37ff0d0ad7a47bb8f4ec77aa1d591ce": {
      "model_module": "@jupyter-widgets/controls",
      "model_module_version": "1.5.0",
      "model_name": "VBoxModel",
      "state": {
       "children": [
        "IPY_MODEL_dd3afc3379f14d28aa978e8b6653a369",
        "IPY_MODEL_65525e106f634ed1922598f02a84e1f5"
       ],
       "layout": "IPY_MODEL_cc59a33b796c4fa4b5cfeb3c34397f64"
      }
     },
     "b3dacfff3f694665ac9c8dd49e248017": {
      "model_module": "@jupyter-widgets/controls",
      "model_module_version": "1.5.0",
      "model_name": "DescriptionStyleModel",
      "state": {
       "description_width": ""
      }
     },
     "b3dc59c3e7b84e56a28efda6ab621875": {
      "model_module": "@jupyter-widgets/controls",
      "model_module_version": "1.5.0",
      "model_name": "VBoxModel",
      "state": {
       "children": [
        "IPY_MODEL_baeae56b975f4cb1b0556c6e3800066b",
        "IPY_MODEL_3b7679b41c054656b1e10559eac25d71"
       ],
       "layout": "IPY_MODEL_1a4d2659ebc5430fbffcac312f5ee303"
      }
     },
     "b40969ce8d99489eb9a118886463c901": {
      "model_module": "@jupyter-widgets/controls",
      "model_module_version": "1.5.0",
      "model_name": "ButtonModel",
      "state": {
       "description": "load",
       "icon": "upload",
       "layout": "IPY_MODEL_42d97bc87b2644bab66049378bc8c018",
       "style": "IPY_MODEL_19d8a6e17c4e41ee9ec9683e0142d150"
      }
     },
     "b454427d4043443b99ee6cb6b3890763": {
      "model_module": "@jupyter-widgets/base",
      "model_module_version": "1.2.0",
      "model_name": "LayoutModel",
      "state": {}
     },
     "b48b64512b2e40a38a6322dea554d879": {
      "model_module": "@jupyter-widgets/controls",
      "model_module_version": "1.5.0",
      "model_name": "ButtonStyleModel",
      "state": {
       "font_weight": "bold"
      }
     },
     "b49423f0b8324addb38e8e211ebdd2af": {
      "model_module": "@jupyter-widgets/controls",
      "model_module_version": "1.5.0",
      "model_name": "DescriptionStyleModel",
      "state": {
       "description_width": ""
      }
     },
     "b503806e5d014f608187c3fcaedcca34": {
      "model_module": "@jupyter-widgets/controls",
      "model_module_version": "1.5.0",
      "model_name": "HBoxModel",
      "state": {
       "children": [
        "IPY_MODEL_0cf84cc7bfc54be0a22fec1fa67a04ac",
        "IPY_MODEL_628324b5ab184117af39d94502df91c9",
        "IPY_MODEL_73dc5a55a5844c0e9bee02fd1cf86229"
       ],
       "layout": "IPY_MODEL_1fcbdae1237242668fe9c88c080503b5"
      }
     },
     "b510bc1208f244e489bc023f37f0b27a": {
      "model_module": "@jupyter-widgets/base",
      "model_module_version": "1.2.0",
      "model_name": "LayoutModel",
      "state": {}
     },
     "b551d19768754e6c8a2e4c6a325562c1": {
      "model_module": "@jupyter-widgets/base",
      "model_module_version": "1.2.0",
      "model_name": "LayoutModel",
      "state": {}
     },
     "b5613ef3adbd4f478dfc870c0b95fa97": {
      "model_module": "@jupyter-widgets/controls",
      "model_module_version": "1.5.0",
      "model_name": "ButtonModel",
      "state": {
       "button_style": "warning",
       "description": "revert to last save",
       "layout": "IPY_MODEL_613a8f48b1a74132946ce88f09d8f58b",
       "style": "IPY_MODEL_e36a075009864605871e76da740593bc"
      }
     },
     "b59b9cf0968348738bf3196c463f741e": {
      "model_module": "@jupyter-widgets/base",
      "model_module_version": "1.2.0",
      "model_name": "LayoutModel",
      "state": {}
     },
     "b6bbb8fb187f4e0babe597d1f8e53d06": {
      "model_module": "@jupyter-widgets/base",
      "model_module_version": "1.2.0",
      "model_name": "LayoutModel",
      "state": {}
     },
     "b6f597feee244f2a94074a718ad49cdc": {
      "model_module": "@jupyter-widgets/controls",
      "model_module_version": "1.5.0",
      "model_name": "ToggleButtonModel",
      "state": {
       "button_style": "info",
       "description": "inputs from file",
       "layout": "IPY_MODEL_6678ddfef8d54a7692b2d7eb92e87a44",
       "style": "IPY_MODEL_6ffecd0ff4e34e3dbf6ec2a0411ae5eb"
      }
     },
     "b83a4c55d51e4cc5b0c7df49d86057b0": {
      "model_module": "@jupyter-widgets/controls",
      "model_module_version": "1.5.0",
      "model_name": "VBoxModel",
      "state": {
       "children": [
        "IPY_MODEL_1b72525ca09b4fee9afc512d10cf9979",
        "IPY_MODEL_1c395a0e9b544a88981b99651beb0eba"
       ],
       "layout": "IPY_MODEL_a863577407f8440f90bc50d55f27a77c"
      }
     },
     "b8927b070a80474b92a9bee6712c66b2": {
      "model_module": "@jupyter-widgets/base",
      "model_module_version": "1.2.0",
      "model_name": "LayoutModel",
      "state": {}
     },
     "b8f444f640cf4ba39b080400e4984a49": {
      "model_module": "@jupyter-widgets/base",
      "model_module_version": "1.2.0",
      "model_name": "LayoutModel",
      "state": {}
     },
     "b901834a8a1d4cb4b8f4b00a57792ca2": {
      "model_module": "@jupyter-widgets/controls",
      "model_module_version": "1.5.0",
      "model_name": "ButtonStyleModel",
      "state": {
       "font_weight": "bold"
      }
     },
     "b9a7010a67ae455fba49c9ba1e618d80": {
      "model_module": "@jupyter-widgets/base",
      "model_module_version": "1.2.0",
      "model_name": "LayoutModel",
      "state": {}
     },
     "baa801fab4854a7bbb9f2b7e09549545": {
      "model_module": "@jupyter-widgets/controls",
      "model_module_version": "1.5.0",
      "model_name": "ButtonStyleModel",
      "state": {
       "font_weight": "bold"
      }
     },
     "baeae56b975f4cb1b0556c6e3800066b": {
      "model_module": "@jupyter-widgets/controls",
      "model_module_version": "1.5.0",
      "model_name": "HBoxModel",
      "state": {
       "children": [
        "IPY_MODEL_7dd46d3631474b34bb6c9304dd7081bf",
        "IPY_MODEL_b5613ef3adbd4f478dfc870c0b95fa97",
        "IPY_MODEL_4327482ac2fd4134a94d1d6fd8236211"
       ],
       "layout": "IPY_MODEL_664431cc7e6147cfa563937841cce174"
      }
     },
     "bcab1707d0c84d43a35dae1a0a742005": {
      "model_module": "@jupyter-widgets/base",
      "model_module_version": "1.2.0",
      "model_name": "LayoutModel",
      "state": {}
     },
     "bcd5d51d91e04e0a9ac03cedd2d00f8d": {
      "model_module": "ipysheet",
      "model_module_version": "~0.4.4",
      "model_name": "CellRangeModel",
      "state": {
       "_view_module": null,
       "_view_module_version": "",
       "choice": [],
       "column_end": 0,
       "column_start": 0,
       "numeric_format": null,
       "row_start": 0,
       "squeeze_row": false,
       "type": "text",
       "value": [
        "FDIR",
        "fpth_eplus"
       ]
      }
     },
     "bcd5db8ae1974334ba55ebf2435d2d05": {
      "model_module": "@jupyter-widgets/controls",
      "model_module_version": "1.5.0",
      "model_name": "DescriptionStyleModel",
      "state": {
       "description_width": ""
      }
     },
     "bcd8ec6a48804de09f8fc965f8340065": {
      "model_module": "@jupyter-widgets/controls",
      "model_module_version": "1.5.0",
      "model_name": "VBoxModel",
      "state": {
       "children": [
        "IPY_MODEL_e12a6a0542e34ecfb315b810a5ac9461",
        "IPY_MODEL_2a38253c769a456f9062a16af593950e"
       ],
       "layout": "IPY_MODEL_4b06823563da4b06bf7603607745a4af"
      }
     },
     "bcfcfba2e0474597ad3591e4f5a2e7f4": {
      "model_module": "@jupyter-widgets/controls",
      "model_module_version": "1.5.0",
      "model_name": "VBoxModel",
      "state": {
       "children": [
        "IPY_MODEL_baeae56b975f4cb1b0556c6e3800066b",
        "IPY_MODEL_3b7679b41c054656b1e10559eac25d71"
       ],
       "layout": "IPY_MODEL_5e2b058cec2c4be5a33733aaea7dcfe2"
      }
     },
     "bd4de136c8434ca4ad08ec55eae5f819": {
      "model_module": "@jupyter-widgets/controls",
      "model_module_version": "1.5.0",
      "model_name": "DescriptionStyleModel",
      "state": {
       "description_width": ""
      }
     },
     "bd9f90126e5d4496b275df0988fd0be1": {
      "model_module": "@jupyter-widgets/controls",
      "model_module_version": "1.5.0",
      "model_name": "VBoxModel",
      "state": {
       "children": [
        "IPY_MODEL_04e75b85cb914e6e8167403d1bc575b1",
        "IPY_MODEL_25bc86995a224394ab24b19d7fb66376"
       ],
       "layout": "IPY_MODEL_9fe4dfebcfe4413ea361e701f52a1060"
      }
     },
     "be3672d25c504a7c98c2187153f322b8": {
      "model_module": "@jupyter-widgets/controls",
      "model_module_version": "1.5.0",
      "model_name": "HTMLModel",
      "state": {
       "layout": "IPY_MODEL_d3f1e94ed53140e6bb459022cf49f239",
       "style": "IPY_MODEL_3c02539d691b4f8e9d36499887c34872",
       "value": "<p>revert to inputs in last save of: .\\appdata\\inputs\\inputs-eplus_pipework_params.csv</p>"
      }
     },
     "be7a08aa0d4940e598e1b517e336deb6": {
      "model_module": "@jupyter-widgets/controls",
      "model_module_version": "1.5.0",
      "model_name": "HBoxModel",
      "state": {
       "children": [
        "IPY_MODEL_304cc39837df4709a0292020f5a051b6",
        "IPY_MODEL_7cbaf6f84c3f41599e72ffa23f48c5d4",
        "IPY_MODEL_f3e47a7db4a54058920d9cd45d965fbf"
       ],
       "layout": "IPY_MODEL_4a5cc22ab71d4a8993e0529484a68533"
      }
     },
     "be94fefc466c4b3daa71a4c0c53804e6": {
      "model_module": "@jupyter-widgets/controls",
      "model_module_version": "1.5.0",
      "model_name": "ButtonModel",
      "state": {
       "button_style": "success",
       "description": "save changes",
       "layout": "IPY_MODEL_d5407abe1c7c4405903a2b934bbef20b",
       "style": "IPY_MODEL_a221e0ebbfbb4008a2cb878ec905db8e"
      }
     },
     "beb71b640f55452fab21604b00846825": {
      "model_module": "@jupyter-widgets/controls",
      "model_module_version": "1.5.0",
      "model_name": "HBoxModel",
      "state": {
       "children": [
        "IPY_MODEL_15d6948c383648919d6a6aeb636e934e",
        "IPY_MODEL_ae134a658bca4adca2b02e96aafbb44c",
        "IPY_MODEL_9a162ebc094f49b5a104c866a0402505"
       ],
       "layout": "IPY_MODEL_960c847d5e8c415ebff793636cfc4b33"
      }
     },
     "bf01ba57bd7d4013a19ae116deb65cb9": {
      "model_module": "@jupyter-widgets/base",
      "model_module_version": "1.2.0",
      "model_name": "LayoutModel",
      "state": {}
     },
     "bf221b5d5f3746f49f819cd5620ad87c": {
      "model_module": "@jupyter-widgets/controls",
      "model_module_version": "1.5.0",
      "model_name": "VBoxModel",
      "state": {
       "children": [
        "IPY_MODEL_3488b25652584678b7d957dd16baf4e1",
        "IPY_MODEL_aaa19793847b43a6b20346efd165e4cc"
       ],
       "layout": "IPY_MODEL_3698605f56904c56aafe52358a3647f0"
      }
     },
     "bfbbac06322142f2942b52bd294d28fc": {
      "model_module": "@jupyter-widgets/base",
      "model_module_version": "1.2.0",
      "model_name": "LayoutModel",
      "state": {
       "align_items": "stretch",
       "display": "flex",
       "flex_flow": "row",
       "grid_auto_columns": "True",
       "justify_content": "flex-start",
       "width": "100%"
      }
     },
     "bfff0e079e784de89e315f4311ede8e5": {
      "model_module": "@jupyter-widgets/output",
      "model_module_version": "1.0.0",
      "model_name": "OutputModel",
      "state": {
       "layout": "IPY_MODEL_bcab1707d0c84d43a35dae1a0a742005"
      }
     },
     "c0453cce6e274f9391681fb4ad5c8eb2": {
      "model_module": "@jupyter-widgets/base",
      "model_module_version": "1.2.0",
      "model_name": "LayoutModel",
      "state": {}
     },
     "c0b88b5bfe3b4f0f9219a88863eb831b": {
      "model_module": "@jupyter-widgets/controls",
      "model_module_version": "1.5.0",
      "model_name": "ButtonStyleModel",
      "state": {
       "font_weight": "bold"
      }
     },
     "c0c1f5cdb6b8441fba496e86990df3c8": {
      "model_module": "@jupyter-widgets/controls",
      "model_module_version": "1.5.0",
      "model_name": "ButtonStyleModel",
      "state": {
       "font_weight": "bold"
      }
     },
     "c17774e57bae4198a9cfc65d0b60ef44": {
      "model_module": "@jupyter-widgets/controls",
      "model_module_version": "1.5.0",
      "model_name": "ButtonStyleModel",
      "state": {
       "font_weight": "bold"
      }
     },
     "c25352e2577a47a58358ccba8b68df52": {
      "model_module": "@jupyter-widgets/base",
      "model_module_version": "1.2.0",
      "model_name": "LayoutModel",
      "state": {}
     },
     "c257b23e09964b6f9605b11c5c6ee8a4": {
      "model_module": "@jupyter-widgets/controls",
      "model_module_version": "1.5.0",
      "model_name": "HTMLModel",
      "state": {
       "layout": "IPY_MODEL_515fa4c731764b0680281c8de1965b02",
       "style": "IPY_MODEL_630f14e3322042dca8fa0f53b6860650",
       "value": "<p><strong>TESTING</strong></p>"
      }
     },
     "c38eddc8d4b847288b0c03656ba97515": {
      "model_module": "@jupyter-widgets/base",
      "model_module_version": "1.2.0",
      "model_name": "LayoutModel",
      "state": {}
     },
     "c3995bcd76b4473093535721b4b10373": {
      "model_module": "@jupyter-widgets/controls",
      "model_module_version": "1.5.0",
      "model_name": "VBoxModel",
      "state": {
       "children": [
        "IPY_MODEL_aa4ac3b6d189427b8d0982a81797142f",
        "IPY_MODEL_90946dc27316454aada4c33bc76b1e56"
       ],
       "layout": "IPY_MODEL_0fb0156e57af4c039922591d9e1b8e3d"
      }
     },
     "c499acf5e75c4f6181d20adf0ed45d6a": {
      "model_module": "@jupyter-widgets/controls",
      "model_module_version": "1.5.0",
      "model_name": "DescriptionStyleModel",
      "state": {
       "description_width": ""
      }
     },
     "c5c7d47a95b546ee8e353c4cafa03086": {
      "model_module": "@jupyter-widgets/controls",
      "model_module_version": "1.5.0",
      "model_name": "RadioButtonsModel",
      "state": {
       "_options_labels": [
        "TEMPLATE: C:\\engDev\\git_mf\\MF_Toolbox\\dev\\mf_scripts\\template_inputs\\inputs-eplus_pipework_params.csv",
        "PROJECT: .\\appdata\\inputs\\inputs-eplus_pipework_params-1.csv",
        "PROJECT: .\\appdata\\inputs\\inputs-eplus_pipework_params.csv",
        "PROJECT: .\\appdata\\inputs\\archive\\20200605-1625-inputs-eplus_pipework_params.csv",
        "PROJECT: .\\appdata\\inputs\\archive\\20200605-1625inputs-eplus_pipework_params.csv",
        "PROJECT: .\\appdata\\inputs\\archive\\20200607_1420-jg-inputs-eplus_pipework_params.csv"
       ],
       "index": 0,
       "layout": "IPY_MODEL_f10860c9a59343d882a3fc0b9c80752b",
       "style": "IPY_MODEL_017b409d0e2c4da581da4e610969d628"
      }
     },
     "c5dec6ebae19485b9c767307646798ab": {
      "model_module": "@jupyter-widgets/base",
      "model_module_version": "1.2.0",
      "model_name": "LayoutModel",
      "state": {}
     },
     "c6545b9d1c1b4e1d97ebef182e22b886": {
      "model_module": "@jupyter-widgets/base",
      "model_module_version": "1.2.0",
      "model_name": "LayoutModel",
      "state": {}
     },
     "c76d206d53b44e279d6b8c5df242d239": {
      "model_module": "@jupyter-widgets/controls",
      "model_module_version": "1.5.0",
      "model_name": "ButtonStyleModel",
      "state": {
       "font_weight": "bold"
      }
     },
     "c89bb7830cad41d19cbe336a9f22ea95": {
      "model_module": "@jupyter-widgets/controls",
      "model_module_version": "1.5.0",
      "model_name": "RadioButtonsModel",
      "state": {
       "_options_labels": [
        "TEMPLATE: C:\\engDev\\git_mf\\MF_Toolbox\\dev\\mf_scripts\\template_inputs\\inputs-eplus_pipework_params.csv",
        "PROJECT: .\\appdata\\inputs\\inputs-eplus_pipework_params-1.csv",
        "PROJECT: .\\appdata\\inputs\\inputs-eplus_pipework_params.csv",
        "PROJECT: .\\appdata\\inputs\\archive\\20200605-1625-inputs-eplus_pipework_params.csv",
        "PROJECT: .\\appdata\\inputs\\archive\\20200605-1625inputs-eplus_pipework_params.csv",
        "PROJECT: .\\appdata\\inputs\\archive\\20200607_1420-jg-inputs-eplus_pipework_params.csv"
       ],
       "index": 0,
       "layout": "IPY_MODEL_845cb2dbba3e45908afecdba160695ed",
       "style": "IPY_MODEL_e1c14d3aa5cb4eb9bb49aace07bfd3d0"
      }
     },
     "c9b97195e6c242e6b5770a4ad1035d0b": {
      "model_module": "@jupyter-widgets/base",
      "model_module_version": "1.2.0",
      "model_name": "LayoutModel",
      "state": {}
     },
     "c9bf57e3897841829adfea8050a6c93b": {
      "model_module": "@jupyter-widgets/controls",
      "model_module_version": "1.5.0",
      "model_name": "VBoxModel",
      "state": {
       "children": [
        "IPY_MODEL_d08034c1df864e8fac69a3f0909b5f1f",
        "IPY_MODEL_aba9ba791e7443228c4400dd696054f1"
       ],
       "layout": "IPY_MODEL_b6bbb8fb187f4e0babe597d1f8e53d06"
      }
     },
     "c9dc967ccd2844c7aa398d8d674c3a27": {
      "model_module": "@jupyter-widgets/controls",
      "model_module_version": "1.5.0",
      "model_name": "DescriptionStyleModel",
      "state": {
       "description_width": ""
      }
     },
     "ca757bf66bf948c0b5072cdc23a50f3b": {
      "model_module": "@jupyter-widgets/base",
      "model_module_version": "1.2.0",
      "model_name": "LayoutModel",
      "state": {}
     },
     "caabb500071748dea8b4ddca7bfb9006": {
      "model_module": "@jupyter-widgets/controls",
      "model_module_version": "1.5.0",
      "model_name": "HTMLModel",
      "state": {
       "layout": "IPY_MODEL_7595e90efced424a85d373d7fbeac921",
       "style": "IPY_MODEL_c499acf5e75c4f6181d20adf0ed45d6a",
       "value": "<p>revert to inputs in last save of: .\\appdata\\inputs\\inputs-eplus_pipework_params.csv</p>"
      }
     },
     "cabb37abceab4202bdf7933275483f14": {
      "model_module": "@jupyter-widgets/controls",
      "model_module_version": "1.5.0",
      "model_name": "VBoxModel",
      "state": {
       "children": [
        "IPY_MODEL_ed6f6b5f782a4e2ebc2b374f395283e1",
        "IPY_MODEL_2b1b6ed7ca274f79b4dd8dbdaf60a269"
       ],
       "layout": "IPY_MODEL_c38eddc8d4b847288b0c03656ba97515"
      }
     },
     "caf9e99952854a778f49da67d7e3d33a": {
      "model_module": "@jupyter-widgets/controls",
      "model_module_version": "1.5.0",
      "model_name": "VBoxModel",
      "state": {
       "children": [
        "IPY_MODEL_595538c4eeff4515a92034303ad1cf65",
        "IPY_MODEL_fc2d4808ac844649a08977f6351fc87e"
       ],
       "layout": "IPY_MODEL_81eba833dfba447c990d3dc95d54454d"
      }
     },
     "cb1876f04f654c63944beaf01c9221b6": {
      "model_module": "@jupyter-widgets/controls",
      "model_module_version": "1.5.0",
      "model_name": "DescriptionStyleModel",
      "state": {
       "description_width": ""
      }
     },
     "cb204cdba6f7437a814223218d9a32ba": {
      "model_module": "@jupyter-widgets/base",
      "model_module_version": "1.2.0",
      "model_name": "LayoutModel",
      "state": {}
     },
     "cb2a6ac22140479f9f4d85566fe41b0d": {
      "model_module": "@jupyter-widgets/output",
      "model_module_version": "1.0.0",
      "model_name": "OutputModel",
      "state": {
       "layout": "IPY_MODEL_58f9968d3c3a4faa87b2ac8cfef84683"
      }
     },
     "cc59a33b796c4fa4b5cfeb3c34397f64": {
      "model_module": "@jupyter-widgets/base",
      "model_module_version": "1.2.0",
      "model_name": "LayoutModel",
      "state": {}
     },
     "cc7c9b4fcad2492bbebc17a565b4e918": {
      "model_module": "@jupyter-widgets/controls",
      "model_module_version": "1.5.0",
      "model_name": "DescriptionStyleModel",
      "state": {
       "description_width": ""
      }
     },
     "cd1556639d4145afad9b5bc884bdf255": {
      "model_module": "@jupyter-widgets/controls",
      "model_module_version": "1.5.0",
      "model_name": "ButtonModel",
      "state": {
       "description": "load",
       "icon": "upload",
       "layout": "IPY_MODEL_e51d8799d6ab4df38006249914645e7d",
       "style": "IPY_MODEL_e9b70eb16cb5452bad49b467196010cc"
      }
     },
     "cd44eb70ac2e4b4495675e6f57751cc4": {
      "model_module": "@jupyter-widgets/controls",
      "model_module_version": "1.5.0",
      "model_name": "DescriptionStyleModel",
      "state": {
       "description_width": ""
      }
     },
     "cd9dbd8ac0ff4d26871bbe1ef21a27e8": {
      "model_module": "@jupyter-widgets/base",
      "model_module_version": "1.2.0",
      "model_name": "LayoutModel",
      "state": {}
     },
     "cdc48254178a4d9484ab4057a7837c14": {
      "model_module": "@jupyter-widgets/base",
      "model_module_version": "1.2.0",
      "model_name": "LayoutModel",
      "state": {}
     },
     "ce6372ebbf404cb487fefb542ab2d299": {
      "model_module": "@jupyter-widgets/controls",
      "model_module_version": "1.5.0",
      "model_name": "DescriptionStyleModel",
      "state": {
       "description_width": ""
      }
     },
     "cec3dc218e434a68a2208006f4754051": {
      "model_module": "@jupyter-widgets/controls",
      "model_module_version": "1.5.0",
      "model_name": "ButtonStyleModel",
      "state": {
       "font_weight": "bold"
      }
     },
     "cf25a2f9a38143b28459b7c1720d23da": {
      "model_module": "@jupyter-widgets/controls",
      "model_module_version": "1.5.0",
      "model_name": "ButtonStyleModel",
      "state": {
       "font_weight": "bold"
      }
     },
     "cf6d4038b1bb4517a27e72229a3e714f": {
      "model_module": "@jupyter-widgets/controls",
      "model_module_version": "1.5.0",
      "model_name": "HTMLModel",
      "state": {
       "layout": "IPY_MODEL_2b2b35b8d72041199f741fa12972e3f8",
       "style": "IPY_MODEL_28cd96b9e46049e4b0210dbc6f6ce5b5",
       "value": "<p><em>TESTING</em></p>"
      }
     },
     "cf87352b4b4c4bdeba1098d14bdd44e1": {
      "model_module": "@jupyter-widgets/controls",
      "model_module_version": "1.5.0",
      "model_name": "ToggleButtonModel",
      "state": {
       "button_style": "info",
       "description": "inputs from file",
       "layout": "IPY_MODEL_aa8e68f9080d4edab4bda4e1fd495320",
       "style": "IPY_MODEL_622f5036baca425f96984d77abb728bd",
       "value": true
      }
     },
     "d01e3ac9b7d44880ba2d9ae220714042": {
      "model_module": "@jupyter-widgets/base",
      "model_module_version": "1.2.0",
      "model_name": "LayoutModel",
      "state": {}
     },
     "d05561542cff483e9eb52948b0abf73e": {
      "model_module": "@jupyter-widgets/controls",
      "model_module_version": "1.5.0",
      "model_name": "ButtonStyleModel",
      "state": {
       "font_weight": "bold"
      }
     },
     "d08034c1df864e8fac69a3f0909b5f1f": {
      "model_module": "@jupyter-widgets/controls",
      "model_module_version": "1.5.0",
      "model_name": "HBoxModel",
      "state": {
       "children": [
        "IPY_MODEL_00e24a92bbc64bd59311c64f7d936569",
        "IPY_MODEL_fb8fc06ef1904161a1d48ddc47278b34",
        "IPY_MODEL_eb86f30255304582b42105cc1ae6270b"
       ],
       "layout": "IPY_MODEL_98425380dbb34c9bbd1b72e23527dfd8"
      }
     },
     "d0a0a0d0a4a040a5b558f141ccfc5ae3": {
      "model_module": "@jupyter-widgets/controls",
      "model_module_version": "1.5.0",
      "model_name": "DescriptionStyleModel",
      "state": {
       "description_width": ""
      }
     },
     "d11993632cbb44afa59a2e099d82a23c": {
      "model_module": "@jupyter-widgets/base",
      "model_module_version": "1.2.0",
      "model_name": "LayoutModel",
      "state": {}
     },
     "d126ee26b7044b2083e42cf70389295c": {
      "model_module": "@jupyter-widgets/controls",
      "model_module_version": "1.5.0",
      "model_name": "ButtonModel",
      "state": {
       "button_style": "warning",
       "description": "revert to last save",
       "layout": "IPY_MODEL_9d4690d322bc4d4abde4576b08f4b1d6",
       "style": "IPY_MODEL_df38a4183eac4a87a1fdf448ef293108"
      }
     },
     "d156b85447f5471fae814587d89b6e68": {
      "model_module": "@jupyter-widgets/base",
      "model_module_version": "1.2.0",
      "model_name": "LayoutModel",
      "state": {}
     },
     "d1f8a7e1e3464170a334d21cf19a924f": {
      "model_module": "@jupyter-widgets/controls",
      "model_module_version": "1.5.0",
      "model_name": "VBoxModel",
      "state": {
       "children": [
        "IPY_MODEL_baeae56b975f4cb1b0556c6e3800066b",
        "IPY_MODEL_3b7679b41c054656b1e10559eac25d71"
       ],
       "layout": "IPY_MODEL_14a0481d7d394a628a75ac100e43dd65"
      }
     },
     "d281d6867f85497d9c629ff3357b4b47": {
      "model_module": "@jupyter-widgets/controls",
      "model_module_version": "1.5.0",
      "model_name": "HTMLModel",
      "state": {
       "layout": "IPY_MODEL_083fafd8a7c6494fa934f91a22967350",
       "style": "IPY_MODEL_d0a0a0d0a4a040a5b558f141ccfc5ae3",
       "value": "<p><strong>TESTING</strong></p>"
      }
     },
     "d2efd66463704f748e2f5ce66f1e4191": {
      "model_module": "@jupyter-widgets/base",
      "model_module_version": "1.2.0",
      "model_name": "LayoutModel",
      "state": {}
     },
     "d301b1d7d7014097ab5d8f8bc924cd99": {
      "model_module": "@jupyter-widgets/controls",
      "model_module_version": "1.5.0",
      "model_name": "ButtonModel",
      "state": {
       "button_style": "success",
       "description": "save changes",
       "layout": "IPY_MODEL_e1304bb4ca2e4aab97e66840b75ae6e8",
       "style": "IPY_MODEL_c0b88b5bfe3b4f0f9219a88863eb831b"
      }
     },
     "d3f1e94ed53140e6bb459022cf49f239": {
      "model_module": "@jupyter-widgets/base",
      "model_module_version": "1.2.0",
      "model_name": "LayoutModel",
      "state": {}
     },
     "d44e41917c2146c2820f86f366361ba8": {
      "model_module": "@jupyter-widgets/controls",
      "model_module_version": "1.5.0",
      "model_name": "DescriptionStyleModel",
      "state": {
       "description_width": ""
      }
     },
     "d44ed8e352a44b45a142d0a725acf80c": {
      "model_module": "@jupyter-widgets/base",
      "model_module_version": "1.2.0",
      "model_name": "LayoutModel",
      "state": {}
     },
     "d47902c2fff54597a1d591bbaeda4625": {
      "model_module": "@jupyter-widgets/controls",
      "model_module_version": "1.5.0",
      "model_name": "DescriptionStyleModel",
      "state": {
       "description_width": ""
      }
     },
     "d4e490cf0b324080a58dd2a337b89180": {
      "model_module": "@jupyter-widgets/controls",
      "model_module_version": "1.5.0",
      "model_name": "ButtonStyleModel",
      "state": {
       "font_weight": "bold"
      }
     },
     "d4e8b295016447948ff3ecfd1530c949": {
      "model_module": "@jupyter-widgets/controls",
      "model_module_version": "1.5.0",
      "model_name": "ToggleButtonModel",
      "state": {
       "button_style": "info",
       "description": "inputs from file",
       "layout": "IPY_MODEL_5e7150b8c70a43ff93bebb1aa6745335",
       "style": "IPY_MODEL_186de558c3a44af2b773663c0bf88272"
      }
     },
     "d50dbbe9ff5242d59d2d2278b0903ae7": {
      "model_module": "ipysheet",
      "model_module_version": "~0.4.4",
      "model_name": "CellRangeModel",
      "state": {
       "_view_module": null,
       "_view_module_version": "",
       "choice": [],
       "column_end": 0,
       "column_start": 0,
       "numeric_format": null,
       "row_start": 0,
       "squeeze_row": false,
       "type": "text",
       "value": [
        "FDIR",
        "fpth_eplus"
       ]
      }
     },
     "d5407abe1c7c4405903a2b934bbef20b": {
      "model_module": "@jupyter-widgets/base",
      "model_module_version": "1.2.0",
      "model_name": "LayoutModel",
      "state": {}
     },
     "d54f17206f5c463c92a75d9b6d829a63": {
      "model_module": "@jupyter-widgets/base",
      "model_module_version": "1.2.0",
      "model_name": "LayoutModel",
      "state": {}
     },
     "d581132b43e24c51b57fd6bb6783b191": {
      "model_module": "@jupyter-widgets/controls",
      "model_module_version": "1.5.0",
      "model_name": "DescriptionStyleModel",
      "state": {
       "description_width": ""
      }
     },
     "d5a71996223e441bbf8c3ce12f314a21": {
      "model_module": "@jupyter-widgets/controls",
      "model_module_version": "1.5.0",
      "model_name": "DescriptionStyleModel",
      "state": {
       "description_width": ""
      }
     },
     "d5d81badcb9f479eb09902d33a737801": {
      "model_module": "@jupyter-widgets/controls",
      "model_module_version": "1.5.0",
      "model_name": "VBoxModel",
      "state": {
       "children": [
        "IPY_MODEL_2afab85908cd4e878c594563f7a6d40e",
        "IPY_MODEL_c89bb7830cad41d19cbe336a9f22ea95"
       ],
       "layout": "IPY_MODEL_4303fb8e96fb4a5a892c6c5e94576fc1"
      }
     },
     "d6a9fa7bd3134501ad5d9292155cbfd8": {
      "model_module": "@jupyter-widgets/controls",
      "model_module_version": "1.5.0",
      "model_name": "VBoxModel",
      "state": {
       "children": [
        "IPY_MODEL_6f22e3eeecc24341a2b2d61c81abd323",
        "IPY_MODEL_36d2fc965bc34b1895a671b3ac59ddd4"
       ],
       "layout": "IPY_MODEL_a5f20d20d8784c9d979e1f65a94dff31"
      }
     },
     "d6b855b1f7ae4251a049a47d15bc4dfa": {
      "model_module": "@jupyter-widgets/base",
      "model_module_version": "1.2.0",
      "model_name": "LayoutModel",
      "state": {}
     },
     "d6eb958f76c247deab2e5c69fd6b7d3a": {
      "model_module": "@jupyter-widgets/base",
      "model_module_version": "1.2.0",
      "model_name": "LayoutModel",
      "state": {}
     },
     "d7efbaa4c4054ae7b71ce4793599bd1c": {
      "model_module": "@jupyter-widgets/base",
      "model_module_version": "1.2.0",
      "model_name": "LayoutModel",
      "state": {}
     },
     "d8714e9802d4408098732bd71c408366": {
      "model_module": "@jupyter-widgets/base",
      "model_module_version": "1.2.0",
      "model_name": "LayoutModel",
      "state": {}
     },
     "d87406d0ecbd443fa3ea6348e91b8efd": {
      "model_module": "@jupyter-widgets/base",
      "model_module_version": "1.2.0",
      "model_name": "LayoutModel",
      "state": {}
     },
     "d8998b30507341a1a2d6212374695739": {
      "model_module": "@jupyter-widgets/base",
      "model_module_version": "1.2.0",
      "model_name": "LayoutModel",
      "state": {}
     },
     "d9eb09334a744da6adf2c12df5863086": {
      "model_module": "@jupyter-widgets/controls",
      "model_module_version": "1.5.0",
      "model_name": "DescriptionStyleModel",
      "state": {
       "description_width": ""
      }
     },
     "da334d02ad30444a8682e6d54c9b2c07": {
      "model_module": "@jupyter-widgets/base",
      "model_module_version": "1.2.0",
      "model_name": "LayoutModel",
      "state": {}
     },
     "db077e2526914173b635fee01c94b5b2": {
      "model_module": "@jupyter-widgets/controls",
      "model_module_version": "1.5.0",
      "model_name": "DescriptionStyleModel",
      "state": {
       "description_width": ""
      }
     },
     "db4051e9b506435d9f4ae8402b39ff1a": {
      "model_module": "@jupyter-widgets/output",
      "model_module_version": "1.0.0",
      "model_name": "OutputModel",
      "state": {
       "layout": "IPY_MODEL_43778a9a31414331b2586b899663e251"
      }
     },
     "db56076f59d04b7ea8f7d7f2ee1d0f22": {
      "model_module": "@jupyter-widgets/base",
      "model_module_version": "1.2.0",
      "model_name": "LayoutModel",
      "state": {}
     },
     "dc869c4933e94600ab085a2bc0965ba9": {
      "model_module": "@jupyter-widgets/base",
      "model_module_version": "1.2.0",
      "model_name": "LayoutModel",
      "state": {}
     },
     "dc9f2e55cb4348138735892f5d0d80e1": {
      "model_module": "@jupyter-widgets/controls",
      "model_module_version": "1.5.0",
      "model_name": "HTMLModel",
      "state": {
       "layout": "IPY_MODEL_195c977ea8b24d1298697f3344c5b387",
       "style": "IPY_MODEL_d5a71996223e441bbf8c3ce12f314a21",
       "value": "<p><strong>TESTING</strong></p>"
      }
     },
     "dd05d8fb7493411cba014bb4c29c8a7e": {
      "model_module": "@jupyter-widgets/controls",
      "model_module_version": "1.5.0",
      "model_name": "VBoxModel",
      "state": {
       "children": [
        "IPY_MODEL_18e4def5745e4c6f831b921aaaba5737",
        "IPY_MODEL_0910e97c841644d7a0cbf5bc5d5f70ce"
       ],
       "layout": "IPY_MODEL_c5dec6ebae19485b9c767307646798ab"
      }
     },
     "dd09ed36594645778ed908e5b7d262a3": {
      "model_module": "@jupyter-widgets/controls",
      "model_module_version": "1.5.0",
      "model_name": "ButtonStyleModel",
      "state": {
       "font_weight": "bold"
      }
     },
     "dd35d83580f7488a98469b7a4a0aac5e": {
      "model_module": "@jupyter-widgets/base",
      "model_module_version": "1.2.0",
      "model_name": "LayoutModel",
      "state": {}
     },
     "dd3afc3379f14d28aa978e8b6653a369": {
      "model_module": "@jupyter-widgets/controls",
      "model_module_version": "1.5.0",
      "model_name": "ButtonModel",
      "state": {
       "description": "load",
       "icon": "upload",
       "layout": "IPY_MODEL_cb204cdba6f7437a814223218d9a32ba",
       "style": "IPY_MODEL_20362f3546384e7b8de5fd385cd0bf65"
      }
     },
     "dd3b1a20ef0f4572952db040b199c899": {
      "model_module": "@jupyter-widgets/controls",
      "model_module_version": "1.5.0",
      "model_name": "DescriptionStyleModel",
      "state": {
       "description_width": ""
      }
     },
     "ddeb78caefd846c5a8b93127f1c2d13a": {
      "model_module": "@jupyter-widgets/base",
      "model_module_version": "1.2.0",
      "model_name": "LayoutModel",
      "state": {}
     },
     "de1fb7e41a1741a98f34c94dc1310101": {
      "model_module": "@jupyter-widgets/base",
      "model_module_version": "1.2.0",
      "model_name": "LayoutModel",
      "state": {}
     },
     "de22f8d79bce409a82cdd2ad20039b78": {
      "model_module": "@jupyter-widgets/controls",
      "model_module_version": "1.5.0",
      "model_name": "ButtonModel",
      "state": {
       "button_style": "warning",
       "description": "revert to last save",
       "layout": "IPY_MODEL_296b64c181954e7aaba9bf48bb0db96f",
       "style": "IPY_MODEL_622a0def7f6644b281139b2da243c49b"
      }
     },
     "de620ecec9824d4fb1669e747d49b371": {
      "model_module": "@jupyter-widgets/controls",
      "model_module_version": "1.5.0",
      "model_name": "ButtonStyleModel",
      "state": {
       "font_weight": "bold"
      }
     },
     "deb2afe487e445eb963053b284f37144": {
      "model_module": "@jupyter-widgets/controls",
      "model_module_version": "1.5.0",
      "model_name": "VBoxModel",
      "state": {
       "children": [
        "IPY_MODEL_156e503588784cb4a329dac3eb9a090e",
        "IPY_MODEL_1b995c88990c4238890fe8671fd77b63"
       ],
       "layout": "IPY_MODEL_19bbdb80259b4e4982f064cd20e6c82e"
      }
     },
     "df2f0696729147809e59b71a28931691": {
      "model_module": "@jupyter-widgets/controls",
      "model_module_version": "1.5.0",
      "model_name": "ButtonModel",
      "state": {
       "button_style": "success",
       "description": "save changes",
       "layout": "IPY_MODEL_91d61f5fa5b943ffafab430fd1a23c8b",
       "style": "IPY_MODEL_24dea92328e1414eae9f3ac214e2b841"
      }
     },
     "df38a4183eac4a87a1fdf448ef293108": {
      "model_module": "@jupyter-widgets/controls",
      "model_module_version": "1.5.0",
      "model_name": "ButtonStyleModel",
      "state": {
       "font_weight": "bold"
      }
     },
     "dfb6362c09c54693b8abf4e16e19459e": {
      "model_module": "@jupyter-widgets/controls",
      "model_module_version": "1.5.0",
      "model_name": "DescriptionStyleModel",
      "state": {
       "description_width": ""
      }
     },
     "e0478e0ccd7b4156962ba334e5929517": {
      "model_module": "ipysheet",
      "model_module_version": "~0.4.4",
      "model_name": "CellRangeModel",
      "state": {
       "_view_module": null,
       "_view_module_version": "",
       "choice": [],
       "column_end": 3,
       "column_start": 3,
       "numeric_format": null,
       "row_start": 0,
       "squeeze_row": false,
       "type": "text",
       "value": [
        "generally the working directory of (same folder as) the app/notebook. outputs will be relative to this location",
        "filepath to an energyPlus software C++ script file that will be extract for parameter fields"
       ]
      }
     },
     "e12a6a0542e34ecfb315b810a5ac9461": {
      "model_module": "@jupyter-widgets/controls",
      "model_module_version": "1.5.0",
      "model_name": "ButtonModel",
      "state": {
       "description": "load",
       "icon": "upload",
       "layout": "IPY_MODEL_676c2d6866c54047b2ef985c5861458c",
       "style": "IPY_MODEL_8164062d714d4173b459d25ba3a6fdf6"
      }
     },
     "e1304bb4ca2e4aab97e66840b75ae6e8": {
      "model_module": "@jupyter-widgets/base",
      "model_module_version": "1.2.0",
      "model_name": "LayoutModel",
      "state": {}
     },
     "e15f9ff7aab442efa9757dc7b5a12014": {
      "model_module": "@jupyter-widgets/base",
      "model_module_version": "1.2.0",
      "model_name": "LayoutModel",
      "state": {}
     },
     "e16de8af9c8b49cfad2c293794c9cbce": {
      "model_module": "@jupyter-widgets/base",
      "model_module_version": "1.2.0",
      "model_name": "LayoutModel",
      "state": {
       "height": "auto",
       "width": "auto"
      }
     },
     "e1c14d3aa5cb4eb9bb49aace07bfd3d0": {
      "model_module": "@jupyter-widgets/controls",
      "model_module_version": "1.5.0",
      "model_name": "DescriptionStyleModel",
      "state": {
       "description_width": ""
      }
     },
     "e22252211e0e43f39a34229e73a5c2e9": {
      "model_module": "@jupyter-widgets/base",
      "model_module_version": "1.2.0",
      "model_name": "LayoutModel",
      "state": {}
     },
     "e2586f17e10d401d8a9710686f81fcef": {
      "model_module": "@jupyter-widgets/base",
      "model_module_version": "1.2.0",
      "model_name": "LayoutModel",
      "state": {
       "align_items": "stretch",
       "display": "flex",
       "flex_flow": "row",
       "grid_auto_columns": "True",
       "justify_content": "flex-start",
       "width": "100%"
      }
     },
     "e310c1f6b3ea45cb9ba2a3576fd3fb8a": {
      "model_module": "@jupyter-widgets/base",
      "model_module_version": "1.2.0",
      "model_name": "LayoutModel",
      "state": {}
     },
     "e310f595ff5844f49b56b585717d5b38": {
      "model_module": "@jupyter-widgets/controls",
      "model_module_version": "1.5.0",
      "model_name": "ButtonModel",
      "state": {
       "description": "load",
       "icon": "upload",
       "layout": "IPY_MODEL_0f5d509dad664384b67781d4438f02a2",
       "style": "IPY_MODEL_9ba47e0e734c45c488f3da306512f90d"
      }
     },
     "e3465b39ba3a4cbb87c91876e0eca4f8": {
      "model_module": "@jupyter-widgets/controls",
      "model_module_version": "1.5.0",
      "model_name": "ButtonModel",
      "state": {
       "button_style": "warning",
       "description": "revert to last save",
       "layout": "IPY_MODEL_1094bb43e5794f038b04baee6ca507e2",
       "style": "IPY_MODEL_b48b64512b2e40a38a6322dea554d879"
      }
     },
     "e36a075009864605871e76da740593bc": {
      "model_module": "@jupyter-widgets/controls",
      "model_module_version": "1.5.0",
      "model_name": "ButtonStyleModel",
      "state": {
       "font_weight": "bold"
      }
     },
     "e376da0541a24565a828b1014f630fe0": {
      "model_module": "@jupyter-widgets/controls",
      "model_module_version": "1.5.0",
      "model_name": "VBoxModel",
      "state": {
       "children": [
        "IPY_MODEL_242d1662264e4156afc27b4d6f1897fd",
        "IPY_MODEL_91f794a17a374b39872980c626a5df4b"
       ],
       "layout": "IPY_MODEL_8b1158a45f154464a5042ac7112cea29"
      }
     },
     "e3c5e0c9cacb431ca0f3528326eef250": {
      "model_module": "@jupyter-widgets/controls",
      "model_module_version": "1.5.0",
      "model_name": "DescriptionStyleModel",
      "state": {
       "description_width": ""
      }
     },
     "e51d8799d6ab4df38006249914645e7d": {
      "model_module": "@jupyter-widgets/base",
      "model_module_version": "1.2.0",
      "model_name": "LayoutModel",
      "state": {}
     },
     "e52b6f8f709a4ff09f041f43a2c72f5d": {
      "model_module": "@jupyter-widgets/base",
      "model_module_version": "1.2.0",
      "model_name": "LayoutModel",
      "state": {}
     },
     "e5818ffd062a474f8449e7d74d85f6ad": {
      "model_module": "@jupyter-widgets/base",
      "model_module_version": "1.2.0",
      "model_name": "LayoutModel",
      "state": {}
     },
     "e5bf6eec124943a7902d641448466bd5": {
      "model_module": "@jupyter-widgets/controls",
      "model_module_version": "1.5.0",
      "model_name": "DescriptionStyleModel",
      "state": {
       "description_width": ""
      }
     },
     "e5c0f554434545acbb0a43273633b2dc": {
      "model_module": "@jupyter-widgets/controls",
      "model_module_version": "1.5.0",
      "model_name": "ButtonModel",
      "state": {
       "button_style": "success",
       "description": "save changes",
       "layout": "IPY_MODEL_5cc00916e1b248e0a025db4e3697f12c",
       "style": "IPY_MODEL_1aeec77a1c254c54ae490d57ceccbb94"
      }
     },
     "e5ebcf6185564226b9a000c5e4c3c057": {
      "model_module": "@jupyter-widgets/base",
      "model_module_version": "1.2.0",
      "model_name": "LayoutModel",
      "state": {}
     },
     "e5ed75bed00d4a81b39c385d72b3b668": {
      "model_module": "@jupyter-widgets/controls",
      "model_module_version": "1.5.0",
      "model_name": "VBoxModel",
      "state": {
       "children": [
        "IPY_MODEL_0134bef7c70140939ec30fa2b0f21fef",
        "IPY_MODEL_c257b23e09964b6f9605b11c5c6ee8a4"
       ],
       "layout": "IPY_MODEL_291b6e74e80d4d019a23077875368f78"
      }
     },
     "e63b274a08254276898d78430d036215": {
      "model_module": "@jupyter-widgets/controls",
      "model_module_version": "1.5.0",
      "model_name": "VBoxModel",
      "state": {
       "children": [
        "IPY_MODEL_5fc7722b076845858ad543a41cd9cdee",
        "IPY_MODEL_dc9f2e55cb4348138735892f5d0d80e1"
       ],
       "layout": "IPY_MODEL_9fc3d9d1a16c42cd9a31b83ad7bd4883"
      }
     },
     "e656aa57e7a444feac93eb23e605e289": {
      "model_module": "@jupyter-widgets/base",
      "model_module_version": "1.2.0",
      "model_name": "LayoutModel",
      "state": {}
     },
     "e71c952dd10d4bde8505da2be58d465c": {
      "model_module": "@jupyter-widgets/controls",
      "model_module_version": "1.5.0",
      "model_name": "ButtonModel",
      "state": {
       "button_style": "warning",
       "description": "revert to last save",
       "layout": "IPY_MODEL_ec595fa501ba4470b29d5ed561207728",
       "style": "IPY_MODEL_5925627c2fec4f3f9276be2b71a5008f"
      }
     },
     "e8dd39e71cad465997799cbd85d378a8": {
      "model_module": "@jupyter-widgets/base",
      "model_module_version": "1.2.0",
      "model_name": "LayoutModel",
      "state": {}
     },
     "e9b70eb16cb5452bad49b467196010cc": {
      "model_module": "@jupyter-widgets/controls",
      "model_module_version": "1.5.0",
      "model_name": "ButtonStyleModel",
      "state": {
       "font_weight": "bold"
      }
     },
     "e9b97fd14ec04bcfbe91681b2af86399": {
      "model_module": "@jupyter-widgets/base",
      "model_module_version": "1.2.0",
      "model_name": "LayoutModel",
      "state": {}
     },
     "ea598030e7ba4f60b31de6eb4e0035af": {
      "model_module": "@jupyter-widgets/base",
      "model_module_version": "1.2.0",
      "model_name": "LayoutModel",
      "state": {}
     },
     "ea6be275941948b69cab65baa57fde42": {
      "model_module": "@jupyter-widgets/base",
      "model_module_version": "1.2.0",
      "model_name": "LayoutModel",
      "state": {
       "align_items": "stretch",
       "display": "flex",
       "flex_flow": "row",
       "grid_auto_columns": "True",
       "justify_content": "flex-start",
       "width": "100%"
      }
     },
     "ea93c14860584727849d1cee0a28a19c": {
      "model_module": "@jupyter-widgets/controls",
      "model_module_version": "1.5.0",
      "model_name": "ButtonModel",
      "state": {
       "button_style": "warning",
       "description": "revert to last save",
       "layout": "IPY_MODEL_028576a1c7a54df6a0bca4fa5797ddc9",
       "style": "IPY_MODEL_c0c1f5cdb6b8441fba496e86990df3c8"
      }
     },
     "ead198bb087142e2b785df673f8a59c7": {
      "model_module": "@jupyter-widgets/controls",
      "model_module_version": "1.5.0",
      "model_name": "DescriptionStyleModel",
      "state": {
       "description_width": ""
      }
     },
     "eaf5daea03524fcca2de40922a5cf044": {
      "model_module": "@jupyter-widgets/controls",
      "model_module_version": "1.5.0",
      "model_name": "VBoxModel",
      "state": {
       "children": [
        "IPY_MODEL_18e4def5745e4c6f831b921aaaba5737",
        "IPY_MODEL_92ce8ed65aa144dc98cd97c688273e69"
       ],
       "layout": "IPY_MODEL_4067db6450be4f108a68da07b16ec115"
      }
     },
     "eb86f30255304582b42105cc1ae6270b": {
      "model_module": "@jupyter-widgets/controls",
      "model_module_version": "1.5.0",
      "model_name": "ToggleButtonModel",
      "state": {
       "button_style": "info",
       "description": "inputs from file",
       "layout": "IPY_MODEL_86379e034d5b426f9cf999939f5b74f0",
       "style": "IPY_MODEL_d9eb09334a744da6adf2c12df5863086"
      }
     },
     "ebaef15c20ee4fcb8eb611298886e85a": {
      "model_module": "@jupyter-widgets/base",
      "model_module_version": "1.2.0",
      "model_name": "LayoutModel",
      "state": {}
     },
     "ebf4ccf42a304f8db699884ec09c470f": {
      "model_module": "@jupyter-widgets/controls",
      "model_module_version": "1.5.0",
      "model_name": "VBoxModel",
      "state": {
       "children": [
        "IPY_MODEL_18e4def5745e4c6f831b921aaaba5737",
        "IPY_MODEL_40a1a843658946918b72f60134c77559"
       ],
       "layout": "IPY_MODEL_766feeb3230b4dcc81a5bb8498107ae9"
      }
     },
     "ec595fa501ba4470b29d5ed561207728": {
      "model_module": "@jupyter-widgets/base",
      "model_module_version": "1.2.0",
      "model_name": "LayoutModel",
      "state": {}
     },
     "ecc573575ecf401688e67117029fa653": {
      "model_module": "ipysheet",
      "model_module_version": "~0.4.4",
      "model_name": "SheetModel",
      "state": {
       "cells": [
        "IPY_MODEL_d50dbbe9ff5242d59d2d2278b0903ae7",
        "IPY_MODEL_8361f7251df94c3fa13c02b0c9ddb44b",
        "IPY_MODEL_811c17dc483c4becb5d113de1acd6704",
        "IPY_MODEL_e0478e0ccd7b4156962ba334e5929517"
       ],
       "column_headers": [
        "index",
        "input/output?",
        "value",
        "description"
       ],
       "layout": "IPY_MODEL_e16de8af9c8b49cfad2c293794c9cbce",
       "row_headers": [
        "0",
        "1"
       ],
       "rows": 2
      }
     },
     "ed140f7f64694bf596122de50b9f0973": {
      "model_module": "@jupyter-widgets/controls",
      "model_module_version": "1.5.0",
      "model_name": "VBoxModel",
      "state": {
       "children": [
        "IPY_MODEL_a5967d61535d4bcc85ed56741a47b822",
        "IPY_MODEL_af796a7c93844199a85bf86ec4a33882"
       ],
       "layout": "IPY_MODEL_6c9f27343fd4454b9cbbc7f80c6c6b56"
      }
     },
     "ed4366e1a0a047749d4abdddc806eca6": {
      "model_module": "@jupyter-widgets/base",
      "model_module_version": "1.2.0",
      "model_name": "LayoutModel",
      "state": {}
     },
     "ed6f6b5f782a4e2ebc2b374f395283e1": {
      "model_module": "@jupyter-widgets/controls",
      "model_module_version": "1.5.0",
      "model_name": "HBoxModel",
      "state": {
       "children": [
        "IPY_MODEL_df2f0696729147809e59b71a28931691",
        "IPY_MODEL_734f4e0f4d5d4ce1b6a0dfc18f8f51eb",
        "IPY_MODEL_5a3bb5d3eb904c0c9c195b73d1f0b59c"
       ],
       "layout": "IPY_MODEL_f3e60d9fa40846db873fe8bd8a273473"
      }
     },
     "edad798200114bc8ad4c8487dca94c85": {
      "model_module": "@jupyter-widgets/controls",
      "model_module_version": "1.5.0",
      "model_name": "VBoxModel",
      "state": {
       "children": [
        "IPY_MODEL_0779235b8cbe490da1b50c9822ea11db",
        "IPY_MODEL_96e594177d1643378c2b9f43dd9ed36a"
       ],
       "layout": "IPY_MODEL_28967a35cb9b4180a445378996729a20"
      }
     },
     "f04fa717e3994a4a97fc7aaf3f3ca8ad": {
      "model_module": "@jupyter-widgets/controls",
      "model_module_version": "1.5.0",
      "model_name": "VBoxModel",
      "state": {
       "children": [
        "IPY_MODEL_d08034c1df864e8fac69a3f0909b5f1f",
        "IPY_MODEL_31ce8227bcc8468e909f84feb464887f"
       ],
       "layout": "IPY_MODEL_0c900854086646c390605379e5b57352"
      }
     },
     "f07beb954df14018b8c19625010c41f2": {
      "model_module": "@jupyter-widgets/output",
      "model_module_version": "1.0.0",
      "model_name": "OutputModel",
      "state": {
       "layout": "IPY_MODEL_7419f71d4ac74c0fb072a846e6d20e49"
      }
     },
     "f10860c9a59343d882a3fc0b9c80752b": {
      "model_module": "@jupyter-widgets/base",
      "model_module_version": "1.2.0",
      "model_name": "LayoutModel",
      "state": {
       "align_items": "stretch",
       "display": "flex",
       "flex_flow": "row",
       "grid_auto_columns": "True",
       "justify_content": "flex-start",
       "width": "100%"
      }
     },
     "f2926f3f9d1341be938b28d31f6fdc00": {
      "model_module": "@jupyter-widgets/controls",
      "model_module_version": "1.5.0",
      "model_name": "VBoxModel",
      "state": {
       "children": [
        "IPY_MODEL_04e75b85cb914e6e8167403d1bc575b1",
        "IPY_MODEL_181d3d5fbf2047dbb9ea34f67152964c"
       ],
       "layout": "IPY_MODEL_57480986e3864d1ebc20afcb30b9c465"
      }
     },
     "f32fe8407afd4f2dae7ccc51f8d644b5": {
      "model_module": "@jupyter-widgets/base",
      "model_module_version": "1.2.0",
      "model_name": "LayoutModel",
      "state": {}
     },
     "f3915759825f4681b1eb92f3cc06c99e": {
      "model_module": "@jupyter-widgets/controls",
      "model_module_version": "1.5.0",
      "model_name": "DescriptionStyleModel",
      "state": {
       "description_width": ""
      }
     },
     "f3e47a7db4a54058920d9cd45d965fbf": {
      "model_module": "@jupyter-widgets/controls",
      "model_module_version": "1.5.0",
      "model_name": "ToggleButtonModel",
      "state": {
       "button_style": "info",
       "description": "inputs from file",
       "layout": "IPY_MODEL_4c81ec5332c94042ac53778c738ae1e7",
       "style": "IPY_MODEL_9d41d98029554815bc8871a9ae14777c"
      }
     },
     "f3e60d9fa40846db873fe8bd8a273473": {
      "model_module": "@jupyter-widgets/base",
      "model_module_version": "1.2.0",
      "model_name": "LayoutModel",
      "state": {}
     },
     "f47df0a1dae943db80668f2c67f3543f": {
      "model_module": "@jupyter-widgets/controls",
      "model_module_version": "1.5.0",
      "model_name": "ButtonStyleModel",
      "state": {
       "font_weight": "bold"
      }
     },
     "f50527daffdc4b57ad8686073ecc74a3": {
      "model_module": "@jupyter-widgets/base",
      "model_module_version": "1.2.0",
      "model_name": "LayoutModel",
      "state": {}
     },
     "f55dece3e64d499ab229dd9e80797df1": {
      "model_module": "@jupyter-widgets/base",
      "model_module_version": "1.2.0",
      "model_name": "LayoutModel",
      "state": {}
     },
     "f598a345782743c4ba940612e6ece571": {
      "model_module": "@jupyter-widgets/base",
      "model_module_version": "1.2.0",
      "model_name": "LayoutModel",
      "state": {}
     },
     "f5d4ac06cd844cefbcac0858ffb50b06": {
      "model_module": "@jupyter-widgets/controls",
      "model_module_version": "1.5.0",
      "model_name": "ButtonStyleModel",
      "state": {
       "font_weight": "bold"
      }
     },
     "f7d85d5c09594e7dad1f01a942a8c51e": {
      "model_module": "@jupyter-widgets/controls",
      "model_module_version": "1.5.0",
      "model_name": "DescriptionStyleModel",
      "state": {
       "description_width": ""
      }
     },
     "f819e5937a2549659605eddfe7d0dc53": {
      "model_module": "@jupyter-widgets/controls",
      "model_module_version": "1.5.0",
      "model_name": "ButtonStyleModel",
      "state": {
       "font_weight": "bold"
      }
     },
     "f8207c6c276446e78d34e440c7e1d11d": {
      "model_module": "@jupyter-widgets/base",
      "model_module_version": "1.2.0",
      "model_name": "LayoutModel",
      "state": {}
     },
     "f8794b53ccad4e2f981b0402877eb140": {
      "model_module": "@jupyter-widgets/controls",
      "model_module_version": "1.5.0",
      "model_name": "ButtonModel",
      "state": {
       "button_style": "warning",
       "description": "revert to last save",
       "layout": "IPY_MODEL_0657c1b8369d4211bbc633979e8aa2ac",
       "style": "IPY_MODEL_61c61559fbae4dc8b37a12f1e588d336"
      }
     },
     "f8b89baaba08427cb1437e99e076849c": {
      "model_module": "@jupyter-widgets/controls",
      "model_module_version": "1.5.0",
      "model_name": "VBoxModel",
      "state": {
       "children": [
        "IPY_MODEL_a37e62eb2e0744a7abac855e5862845e",
        "IPY_MODEL_c5c7d47a95b546ee8e353c4cafa03086"
       ],
       "layout": "IPY_MODEL_4569ae253267458db3d8823dd6404078"
      }
     },
     "f9389f688124425c92a5afd6aff8455e": {
      "model_module": "@jupyter-widgets/base",
      "model_module_version": "1.2.0",
      "model_name": "LayoutModel",
      "state": {}
     },
     "f9a53fffbbd54150811f839e66a8aed5": {
      "model_module": "@jupyter-widgets/base",
      "model_module_version": "1.2.0",
      "model_name": "LayoutModel",
      "state": {}
     },
     "fa0f496c706b466ca4a49999429079aa": {
      "model_module": "@jupyter-widgets/controls",
      "model_module_version": "1.5.0",
      "model_name": "VBoxModel",
      "state": {
       "children": [
        "IPY_MODEL_e310f595ff5844f49b56b585717d5b38",
        "IPY_MODEL_0a9cecf375d044da952aa20cd10e4704"
       ],
       "layout": "IPY_MODEL_b9a7010a67ae455fba49c9ba1e618d80"
      }
     },
     "fb3b374d19cd47ab923dd472770671cc": {
      "model_module": "@jupyter-widgets/controls",
      "model_module_version": "1.5.0",
      "model_name": "HTMLModel",
      "state": {
       "layout": "IPY_MODEL_224d2f6b22154ad699d6884c85b8ab4f",
       "style": "IPY_MODEL_fe479bcb91f742fe93667b9312af5c1e",
       "value": "<p>revert to inputs in last save of: .\\appdata\\inputs\\inputs-eplus_pipework_params.csv</p>"
      }
     },
     "fb7cd118e7714cdb950168d213ad27ed": {
      "model_module": "@jupyter-widgets/base",
      "model_module_version": "1.2.0",
      "model_name": "LayoutModel",
      "state": {}
     },
     "fb8fc06ef1904161a1d48ddc47278b34": {
      "model_module": "@jupyter-widgets/controls",
      "model_module_version": "1.5.0",
      "model_name": "ButtonModel",
      "state": {
       "button_style": "warning",
       "description": "revert to last save",
       "layout": "IPY_MODEL_0870f5916f4347728632334ff052b77f",
       "style": "IPY_MODEL_34c3d763d9554fba974d3173425904d4"
      }
     },
     "fbbb38bf47494f9d9526e6f8a5141e50": {
      "model_module": "@jupyter-widgets/controls",
      "model_module_version": "1.5.0",
      "model_name": "DescriptionStyleModel",
      "state": {
       "description_width": ""
      }
     },
     "fc2d4808ac844649a08977f6351fc87e": {
      "model_module": "@jupyter-widgets/controls",
      "model_module_version": "1.5.0",
      "model_name": "HTMLModel",
      "state": {
       "layout": "IPY_MODEL_f598a345782743c4ba940612e6ece571",
       "style": "IPY_MODEL_b49423f0b8324addb38e8e211ebdd2af",
       "value": "<p>revert to inputs in last save of: .\\appdata\\inputs\\inputs-eplus_pipework_params.csv</p>"
      }
     },
     "fc355a35d2004e219b55ed6a4da01702": {
      "model_module": "@jupyter-widgets/base",
      "model_module_version": "1.2.0",
      "model_name": "LayoutModel",
      "state": {
       "height": "auto",
       "width": "auto"
      }
     },
     "fc90661aab864c1e9b3ce05d39933064": {
      "model_module": "@jupyter-widgets/controls",
      "model_module_version": "1.5.0",
      "model_name": "DescriptionStyleModel",
      "state": {
       "description_width": ""
      }
     },
     "fd561d538ce04ad09d15d2e884089c15": {
      "model_module": "@jupyter-widgets/base",
      "model_module_version": "1.2.0",
      "model_name": "LayoutModel",
      "state": {}
     },
     "fdeee0aa95944f6394460d0aee287dd8": {
      "model_module": "@jupyter-widgets/base",
      "model_module_version": "1.2.0",
      "model_name": "LayoutModel",
      "state": {}
     },
     "fe3db7cb24854d449ee92eebf67ab270": {
      "model_module": "@jupyter-widgets/controls",
      "model_module_version": "1.5.0",
      "model_name": "ButtonModel",
      "state": {
       "button_style": "warning",
       "description": "revert to last save",
       "layout": "IPY_MODEL_d87406d0ecbd443fa3ea6348e91b8efd",
       "style": "IPY_MODEL_4bddbe154fb24a83a9c7ad1c374b7f1b"
      }
     },
     "fe479bcb91f742fe93667b9312af5c1e": {
      "model_module": "@jupyter-widgets/controls",
      "model_module_version": "1.5.0",
      "model_name": "DescriptionStyleModel",
      "state": {
       "description_width": ""
      }
     }
    },
    "version_major": 2,
    "version_minor": 0
   }
  }
 },
 "nbformat": 4,
 "nbformat_minor": 4
}
