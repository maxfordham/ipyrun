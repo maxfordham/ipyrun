{
 "cells": [
  {
   "cell_type": "code",
   "execution_count": 1,
   "metadata": {},
   "outputs": [],
   "source": [
    "# main imports\n",
    "import os \n",
    "FDIR = os.path.dirname(os.path.realpath('__file__'))\n",
    "import pandas as pd\n",
    "from IPython.display import Markdown, clear_output\n",
    "from markdown import markdown\n",
    "from datetime import datetime\n",
    "import time\n",
    "from pprint import pprint\n",
    "\n",
    "# widget stuff\n",
    "import ipywidgets as widgets\n",
    "from ipysheet import from_dataframe, to_dataframe\n",
    "import ipysheet\n",
    "\n",
    "# core mf_modules\n",
    "from mf_modules.file_operations import make_dir\n",
    "from mf_modules.datamine_functions import time_meta_data\n",
    "from mf_modules.pandas_operations import del_matching\n",
    "\n",
    "\n",
    "# from this repo\n",
    "# this is an unpleasant hack. should aim to find a better solution\n",
    "try:\n",
    "    from ipyrun._runconfig import RunConfig\n",
    "    from ipyrun._filecontroller import FileConfigController\n",
    "except:\n",
    "    from _runconfig import RunConfig\n",
    "    from _filecontroller import FileConfigController\n"
   ]
  },
  {
   "cell_type": "code",
   "execution_count": 2,
   "metadata": {},
   "outputs": [],
   "source": [
    "class SimpleEditCsv():\n",
    "    \"\"\"NOT IN USE\"\"\"\n",
    "    def __init__(self, fpth_in, fpth_out=None):\n",
    "        self.fpth_in = fpth_in\n",
    "        if fpth_out==None:\n",
    "            self.fpth_out = fpth_in\n",
    "        else:\n",
    "            self.fpth_out = fpth_out\n",
    "        self.sheet = self._sheet_from_fpth(self.fpth_in)\n",
    "        self.form()\n",
    "        self._init_controls()\n",
    "        self.out = widgets.Output()\n",
    "        \n",
    "    def form(self):\n",
    "        self.save_changes = widgets.Button(description='save changes',button_style='success')\n",
    "        self.button_bar = widgets.HBox([self.save_changes])\n",
    "        self.layout = self.sheet\n",
    "        \n",
    "    def _init_controls(self):\n",
    "        self.save_changes.on_click(self._save_changes)\n",
    "        \n",
    "    def _sheet_from_fpth(self, fpth):\n",
    "        df=del_matching(pd.read_csv(fpth),'Unnamed')\n",
    "        sheet = ipysheet.sheet(ipysheet.from_dataframe(df)) # initiate sheet\n",
    "        return sheet\n",
    "    \n",
    "    def _save_changes(self, sender):\n",
    "        self.data_out = to_dataframe(self.sheet)\n",
    "        self.data_out.to_csv(self.fpth_out)\n",
    "        display(Markdown('changes saved to: {0}'.format(self.fpth_out)))\n",
    "        with self.out:\n",
    "            clear_output()\n",
    "            dateTimeObj = datetime.now()\n",
    "            timestampStr = dateTimeObj.strftime(\"%d-%b-%Y %H:%M:%S:\")\n",
    "            display(Markdown('{0} changes saved to: {1}'.format(timestampStr,self.fpth_out)))\n",
    "        self.display()\n",
    "\n",
    "    def display(self):\n",
    "        display(self.button_bar, self.out, self.layout)\n",
    "        \n",
    "    def _ipython_display_(self):\n",
    "        self.display() "
   ]
  },
  {
   "cell_type": "code",
   "execution_count": 3,
   "metadata": {},
   "outputs": [],
   "source": [
    "class ShowHideEditCsv():\n",
    "    \"\"\"a simple csv editor that allows the user to add and remove rows from the table\"\"\"\n",
    "    def __init__(self, fpth_in, fpth_out=None, title=None):\n",
    "        self.fpth_in = fpth_in\n",
    "        if fpth_out==None:\n",
    "            self.fpth_out = fpth_in\n",
    "        else:\n",
    "            self.fpth_out = fpth_out\n",
    "        if title==None:\n",
    "            self.title = 'edit: {0}'.format(self.fpth_out)\n",
    "        else:\n",
    "            self.title = title\n",
    "        self.sheet = self._sheet_from_fpth(self.fpth_in)\n",
    "        self.form()\n",
    "        self._init_controls()\n",
    "        self.out = widgets.Output()\n",
    "        \n",
    "    def form(self):\n",
    "        self.save_changes = widgets.Button(description='save changes',button_style='success')\n",
    "        self.add_row = widgets.Button(description='add row',button_style='info')\n",
    "        self.remove_row = widgets.Button(description='remove row',button_style='danger')\n",
    "        self.button_bar = widgets.HBox([self.save_changes,self.add_row,self.remove_row])\n",
    "        self.layout = self.sheet\n",
    "        self.box = widgets.VBox([self.button_bar,self.layout])\n",
    "        self.acc = widgets.Accordion(children=[self.box])\n",
    "        self.acc.set_title(0,self.title)\n",
    "        self.acc.selected_index = None\n",
    "        \n",
    "    def _init_controls(self):\n",
    "        self.save_changes.on_click(self._save_changes)\n",
    "        self.add_row.on_click(self._add_row)\n",
    "        self.remove_row.on_click(self._remove_row)\n",
    "        \n",
    "    def _sheet_from_fpth(self, fpth):\n",
    "        df=del_matching(pd.read_csv(fpth),'Unnamed')\n",
    "        sheet = ipysheet.sheet(ipysheet.from_dataframe(df)) # initiate sheet\n",
    "        return sheet\n",
    "    \n",
    "    def _save_changes(self, sender):\n",
    "        self.data_out = to_dataframe(self.sheet)\n",
    "        self.data_out.to_csv(self.fpth_out)\n",
    "        display(Markdown('changes saved to: {0}'.format(self.fpth_out)))\n",
    "        with self.out:\n",
    "            clear_output()\n",
    "            dateTimeObj = datetime.now()\n",
    "            timestampStr = dateTimeObj.strftime(\"%d-%b-%Y %H:%M:%S:\")\n",
    "            display(Markdown('{0} changes saved to: {1}'.format(timestampStr,self.fpth_out)))\n",
    "        self.display()\n",
    "    \n",
    "    def _add_row(self, sender):\n",
    "        df = to_dataframe(self.sheet)\n",
    "        df = df.append(pd.DataFrame({c:[''] for c in list(df)}), ignore_index=True)\n",
    "        self.sheet = from_dataframe(df)\n",
    "        self.layout = self.sheet\n",
    "        self.box.children = [widgets.VBox([self.button_bar,self.layout])]\n",
    "        self.display()\n",
    "        \n",
    "    def _remove_row(self, sender):\n",
    "        df = to_dataframe(self.sheet)\n",
    "        ind = df.index.tolist()[:-1] # get a list of indexes drpping the last one\n",
    "        df = df.loc[ind]\n",
    "        self.sheet = from_dataframe(df)\n",
    "        self.layout = self.sheet\n",
    "        self.box.children = [widgets.VBox([self.button_bar,self.layout])]\n",
    "        self.display()\n",
    "        \n",
    "    def display(self):\n",
    "        display(self.acc)\n",
    "        \n",
    "    def _ipython_display_(self):\n",
    "        self.display() "
   ]
  },
  {
   "cell_type": "code",
   "execution_count": 4,
   "metadata": {
    "lines_to_end_of_cell_marker": 2
   },
   "outputs": [],
   "source": [
    "class EditCsv(FileConfigController):\n",
    "    \"\"\"\n",
    "    for use when csv is the argument to a script\n",
    "    \"\"\"\n",
    "\n",
    "    def __init__(self,config):\n",
    "        self.config = config\n",
    "        self.out = widgets.Output()\n",
    "        self._errors()\n",
    "        self.user_keys = list(config.keys())\n",
    "        self._update_config()\n",
    "        self.file_control_form()\n",
    "        self._init_file_controller()\n",
    "        self.sheet = self._sheet_from_fpth(self.fpth_inputs)\n",
    "        self.display_sheet()\n",
    "        \n",
    "    def _sheet_from_fpth(self, fpth):\n",
    "        df=del_matching(pd.read_csv(fpth),'Unnamed')\n",
    "        sheet = ipysheet.sheet(ipysheet.from_dataframe(df)) # initiate sheet\n",
    "        return sheet\n",
    "    \n",
    "    def display_sheet(self):\n",
    "        with self.out:\n",
    "            clear_output()\n",
    "            display(self.sheet)\n",
    "            \n",
    "    def _revert(self, sender):\n",
    "        \"\"\"revert to last save of working inputs file\"\"\"\n",
    "        fpth = self.fpth_inputs\n",
    "        self.temp_message.value = markdown('revert to inputs in last save of: {0}'.format(fpth))\n",
    "        \n",
    "        # add code here to revert to last save\n",
    "        self.sheet = self._sheet_from_fpth(self.fpth_inputs)\n",
    "        \n",
    "        self.display_sheet()\n",
    "        self.update_display()\n",
    "        self.display()\n",
    "\n",
    "\n",
    "    def _save_changes(self, sender):\n",
    "        \"\"\"save changes to working inputs file\"\"\"\n",
    "        fpth = self.fpth_inputs\n",
    "        dateTimeObj = datetime.now()\n",
    "        self.save_timestampStr = dateTimeObj.strftime(\"%d-%b-%Y %H:%M:%S\")\n",
    "        self.temp_message.value = markdown('{0} saved at: {1}'.format(fpth, self.save_timestampStr))\n",
    "        \n",
    "        # add code here to save changes to file\n",
    "        self.data_out = to_dataframe(self.sheet)\n",
    "        self.data_out.to_csv(self.fpth_inputs)\n",
    "        \n",
    "        self.update_display()\n",
    "        self.display()\n",
    "        \n",
    "    def _load_inputs(self,sender):\n",
    "        \"\"\"launches the inputs from file dialog\"\"\"\n",
    "        self.temp_message.value = markdown('update the user input form with data from file')\n",
    "        if self.load_inputs.value:\n",
    "            self.inputform.children = [self.load_button, self.choose_inputs]\n",
    "        else:\n",
    "            self.temp_message.value = markdown('')\n",
    "            self.inputform.children = []\n",
    "        self.update_display()\n",
    "        self.display()\n",
    "\n",
    "    def _load(self,sender):\n",
    "\n",
    "        fpth = self.choose_inputs.value\n",
    "        \n",
    "        # add code here to load form from file\n",
    "        self.sheet = self._sheet_from_fpth(fpth)\n",
    "        self.temp_message.value = markdown('input form load data from: {0}'.format(fpth))\n",
    "        \n",
    "        self.display_sheet()\n",
    "        self.update_display()\n",
    "        self.display()"
   ]
  },
  {
   "cell_type": "code",
   "execution_count": 8,
   "metadata": {
    "lines_to_next_cell": 2
   },
   "outputs": [
    {
     "data": {
      "text/markdown": [
       "### Example0"
      ],
      "text/plain": [
       "<IPython.core.display.Markdown object>"
      ]
     },
     "metadata": {},
     "output_type": "display_data"
    },
    {
     "data": {
      "text/markdown": [
       "ShowHideEditCsv"
      ],
      "text/plain": [
       "<IPython.core.display.Markdown object>"
      ]
     },
     "metadata": {},
     "output_type": "display_data"
    },
    {
     "data": {
      "application/vnd.jupyter.widget-view+json": {
       "model_id": "820d1049982e4c5e992c6304559c111c",
       "version_major": 2,
       "version_minor": 0
      },
      "text/plain": [
       "Accordion(children=(VBox(children=(HBox(children=(Button(button_style='success', description='save changes', s…"
      ]
     },
     "metadata": {},
     "output_type": "display_data"
    },
    {
     "data": {
      "text/markdown": [
       "---"
      ],
      "text/plain": [
       "<IPython.core.display.Markdown object>"
      ]
     },
     "metadata": {},
     "output_type": "display_data"
    },
    {
     "data": {
      "text/markdown": [],
      "text/plain": [
       "<IPython.core.display.Markdown object>"
      ]
     },
     "metadata": {},
     "output_type": "display_data"
    }
   ],
   "source": [
    "if __name__ =='__main__':\n",
    "\n",
    "    # FORM ONLY EXAMPLE\n",
    "    NBFDIR = os.path.dirname(os.path.realpath('__file__'))\n",
    "    fpth = os.path.realpath(os.path.join(NBFDIR,r'..\\data\\eg_filetypes\\eg_csv.csv'))\n",
    "    \n",
    "    #fpth = r'C:\\engDev\\git_mf\\ipyrun\\examples\\notebooks\\appdata\\inputs\\inputs-expansion_vessel_sizing.json'\n",
    "    a = ShowHideEditCsv(fpth)\n",
    "    display(Markdown('### Example0'))\n",
    "    display(Markdown('''ShowHideEditCsv'''))\n",
    "    display(a)\n",
    "    display(Markdown('---'))  \n",
    "    display(Markdown('')) \n",
    "    \n",
    "    \n",
    "    \n",
    "    #b = EditCsv(fpth)\n",
    "    #display(Markdown('### Example1'))\n",
    "    #display(Markdown('''EditCsv'''))\n",
    "    #display(b)\n",
    "    #display(Markdown('---'))  \n",
    "    #display(Markdown('')) "
   ]
  },
  {
   "cell_type": "code",
   "execution_count": null,
   "metadata": {},
   "outputs": [],
   "source": []
  }
 ],
 "metadata": {
  "jupytext": {
   "formats": "ipynb,py:light"
  },
  "kernelspec": {
   "display_name": "Python [conda env:mf_main] *",
   "language": "python",
   "name": "conda-env-mf_main-py"
  },
  "language_info": {
   "codemirror_mode": {
    "name": "ipython",
    "version": 3
   },
   "file_extension": ".py",
   "mimetype": "text/x-python",
   "name": "python",
   "nbconvert_exporter": "python",
   "pygments_lexer": "ipython3",
   "version": "3.7.7"
  },
  "widgets": {
   "application/vnd.jupyter.widget-state+json": {
    "state": {},
    "version_major": 2,
    "version_minor": 0
   }
  }
 },
 "nbformat": 4,
 "nbformat_minor": 4
}
