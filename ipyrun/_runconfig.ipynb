{
 "cells": [
  {
   "cell_type": "code",
   "execution_count": 1,
   "metadata": {},
   "outputs": [],
   "source": [
    "import os\n",
    "import importlib.util\n",
    "from shutil import copyfile\n",
    "from mf_modules.datamine_functions import recursive_glob\n",
    "from mf_modules.file_operations import make_dir\n",
    "from mf_modules.pydtype_operations import write_json    \n",
    "import copy\n",
    "FDIR = os.path.dirname(os.path.realpath('__file__'))"
   ]
  },
  {
   "cell_type": "code",
   "execution_count": 2,
   "metadata": {},
   "outputs": [],
   "source": [
    "from pydantic import BaseModel, FilePath\n",
    "import pathlib"
   ]
  },
  {
   "cell_type": "code",
   "execution_count": 40,
   "metadata": {},
   "outputs": [
    {
     "data": {
      "text/plain": [
       "PureWindowsPath('.')"
      ]
     },
     "execution_count": 40,
     "metadata": {},
     "output_type": "execute_result"
    }
   ],
   "source": [
    "pathlib.PureWindowsPath()"
   ]
  },
  {
   "cell_type": "code",
   "execution_count": 58,
   "metadata": {},
   "outputs": [
    {
     "data": {
      "text/plain": [
       "Config(jobno=9999, fpth_script='C:\\\\engDev\\\\git_mf\\\\MF_Toolbox\\\\dev\\\\mf_scripts\\\\eplus_pipework_params.py', process_name='pipework', pretty_name='pipework', fdir_appdata='C:\\\\engDev\\\\git_mf\\\\ipyrun\\\\ipyrun\\\\appdata', fdir_inputs='C:\\\\engDev\\\\git_mf\\\\ipyrun\\\\ipyrun\\\\appdata\\\\inputs', fdir_inputs_archive='C:\\\\engDev\\\\git_mf\\\\ipyrun\\\\ipyrun\\\\appdata\\\\archive', fdir_template_inputs='C:\\\\engDev\\\\git_mf\\\\MF_Toolbox\\\\dev\\\\mf_scripts\\\\template_inputs')"
      ]
     },
     "execution_count": 58,
     "metadata": {},
     "output_type": "execute_result"
    }
   ],
   "source": [
    "from dataclasses import dataclass, field, asdict\n",
    "\n",
    "@dataclass\n",
    "class Config:\n",
    "    \n",
    "    jobno: int\n",
    "    fpth_script: str\n",
    "    #script_outputs_template: str\n",
    "    process_name: str\n",
    "    pretty_name: str\n",
    "    fdir_appdata: str\n",
    "    fdir_inputs: str\n",
    "    fdir_inputs_archive: str\n",
    "    fdir_template_inputs: str\n",
    "    #fpth_template_input: str\n",
    "    #fdir: pathlib.Path = '.'\n",
    "\n",
    "from_dict(data=rc.config,data_class=Config)"
   ]
  },
  {
   "cell_type": "code",
   "execution_count": 53,
   "metadata": {},
   "outputs": [
    {
     "data": {
      "text/plain": [
       "{'fpth_script': 'C:\\\\engDev\\\\git_mf\\\\MF_Toolbox\\\\dev\\\\mf_scripts\\\\eplus_pipework_params.py',\n",
       " 'process_name': 'pipework',\n",
       " 'fdir': 'C:\\\\engDev\\\\git_mf\\\\ipyrun\\\\ipyrun',\n",
       " 'jobno': 9999,\n",
       " 'pretty_name': 'pipework',\n",
       " 'fdir_appdata': 'C:\\\\engDev\\\\git_mf\\\\ipyrun\\\\ipyrun\\\\appdata',\n",
       " 'fdir_inputs': 'C:\\\\engDev\\\\git_mf\\\\ipyrun\\\\ipyrun\\\\appdata\\\\inputs',\n",
       " 'fdir_inputs_archive': 'C:\\\\engDev\\\\git_mf\\\\ipyrun\\\\ipyrun\\\\appdata\\\\archive',\n",
       " 'fpth_inputs': 'C:\\\\engDev\\\\git_mf\\\\ipyrun\\\\ipyrun\\\\appdata\\\\inputs\\\\inputs-pipework.csv',\n",
       " 'fpth_inputs_options': {'template': {'fdir': 'C:\\\\engDev\\\\git_mf\\\\MF_Toolbox\\\\dev\\\\mf_scripts\\\\template_inputs',\n",
       "   'fpths': ['C:\\\\engDev\\\\git_mf\\\\MF_Toolbox\\\\dev\\\\mf_scripts\\\\template_inputs\\\\inputs-eplus_pipework_params.csv']},\n",
       "  'project': {'fdir': 'C:\\\\engDev\\\\git_mf\\\\ipyrun\\\\ipyrun\\\\appdata\\\\inputs',\n",
       "   'fpths': ['C:\\\\engDev\\\\git_mf\\\\ipyrun\\\\ipyrun\\\\appdata\\\\inputs\\\\inputs-eplus_pipework_params.csv',\n",
       "    'C:\\\\engDev\\\\git_mf\\\\ipyrun\\\\ipyrun\\\\appdata\\\\inputs\\\\inputs-pipework.json',\n",
       "    'C:\\\\engDev\\\\git_mf\\\\ipyrun\\\\ipyrun\\\\appdata\\\\inputs\\\\inputs-pipework.csv']}},\n",
       " 'script_outputs': {'0': {'fdir': '..\\\\data\\\\external',\n",
       "   'fnm': 'eplus_pipework_params.csv',\n",
       "   'description': 'a csv lookup table with the backend nomenclature of how pipework characteristics are named within energyPlus.'}},\n",
       " 'fpths_outputs': {'0': 'C:\\\\engDev\\\\git_mf\\\\ipyrun\\\\data\\\\external\\\\eplus_pipework_params.csv'},\n",
       " 'fdir_log': 'C:\\\\engDev\\\\git_mf\\\\ipyrun\\\\ipyrun\\\\appdata\\\\log',\n",
       " 'fnm_log': 'log-pipework.csv',\n",
       " 'fpth_log': 'C:\\\\engDev\\\\git_mf\\\\ipyrun\\\\ipyrun\\\\appdata\\\\log\\\\log-pipework.csv',\n",
       " 'fdir_config': 'C:\\\\engDev\\\\git_mf\\\\ipyrun\\\\ipyrun\\\\appdata\\\\config',\n",
       " 'fnm_config': 'config-pipework.json',\n",
       " 'fpth_config': 'C:\\\\engDev\\\\git_mf\\\\ipyrun\\\\ipyrun\\\\appdata\\\\config\\\\config-pipework.json',\n",
       " 'fdir_outputs': ['C:\\\\engDev\\\\git_mf\\\\ipyrun\\\\data\\\\external']}"
      ]
     },
     "execution_count": 53,
     "metadata": {},
     "output_type": "execute_result"
    }
   ],
   "source": [
    "rc.config"
   ]
  },
  {
   "cell_type": "code",
   "execution_count": null,
   "metadata": {},
   "outputs": [],
   "source": []
  },
  {
   "cell_type": "code",
   "execution_count": 47,
   "metadata": {},
   "outputs": [
    {
     "data": {
      "text/plain": [
       "\u001b[1;31mInit signature:\u001b[0m \u001b[0mFilePath\u001b[0m\u001b[1;33m(\u001b[0m\u001b[1;33m*\u001b[0m\u001b[0margs\u001b[0m\u001b[1;33m,\u001b[0m \u001b[1;33m**\u001b[0m\u001b[0mkwargs\u001b[0m\u001b[1;33m)\u001b[0m\u001b[1;33m\u001b[0m\u001b[1;33m\u001b[0m\u001b[0m\n",
       "\u001b[1;31mDocstring:\u001b[0m     \n",
       "PurePath subclass that can make system calls.\n",
       "\n",
       "Path represents a filesystem path but unlike PurePath, also offers\n",
       "methods to do system calls on path objects. Depending on your system,\n",
       "instantiating a Path will return either a PosixPath or a WindowsPath\n",
       "object. You can also instantiate a PosixPath or WindowsPath directly,\n",
       "but cannot instantiate a WindowsPath on a POSIX system or vice versa.\n",
       "\u001b[1;31mFile:\u001b[0m           c:\\users\\j.gunstone\\miniconda3\\envs\\mf_main\\lib\\site-packages\\pydantic\\types.py\n",
       "\u001b[1;31mType:\u001b[0m           type\n",
       "\u001b[1;31mSubclasses:\u001b[0m     \n"
      ]
     },
     "metadata": {},
     "output_type": "display_data"
    }
   ],
   "source": [
    "?FilePath"
   ]
  },
  {
   "cell_type": "code",
   "execution_count": 37,
   "metadata": {},
   "outputs": [
    {
     "data": {
      "text/plain": [
       "True"
      ]
     },
     "execution_count": 37,
     "metadata": {},
     "output_type": "execute_result"
    }
   ],
   "source": [
    "type(pathlib.Path(di['fpth_script'])) == type(pathlib.Path())"
   ]
  },
  {
   "cell_type": "code",
   "execution_count": 30,
   "metadata": {},
   "outputs": [
    {
     "data": {
      "text/plain": [
       "['jobno',\n",
       " 'fpth_script',\n",
       " 'process_name',\n",
       " 'pretty_name',\n",
       " 'fdir_appdata',\n",
       " 'fdir_inputs',\n",
       " 'fdir_inputs_archive',\n",
       " 'fdir_template_inputs',\n",
       " 'fpth_template_input',\n",
       " 'fdir']"
      ]
     },
     "execution_count": 30,
     "metadata": {},
     "output_type": "execute_result"
    }
   ],
   "source": [
    "li = list(Config.__dict__['__annotations__'].keys())\n",
    "li"
   ]
  },
  {
   "cell_type": "code",
   "execution_count": 31,
   "metadata": {},
   "outputs": [],
   "source": [
    "di = {l:rc.config[l] for l in li if l in rc.config.keys()}"
   ]
  },
  {
   "cell_type": "code",
   "execution_count": 32,
   "metadata": {},
   "outputs": [
    {
     "data": {
      "text/plain": [
       "{'jobno': 9999,\n",
       " 'fpth_script': 'C:\\\\engDev\\\\git_mf\\\\MF_Toolbox\\\\dev\\\\mf_scripts\\\\eplus_pipework_params.py',\n",
       " 'process_name': 'pipework',\n",
       " 'pretty_name': 'pipework',\n",
       " 'fdir_appdata': 'C:\\\\engDev\\\\git_mf\\\\ipyrun\\\\ipyrun\\\\appdata',\n",
       " 'fdir_inputs': 'C:\\\\engDev\\\\git_mf\\\\ipyrun\\\\ipyrun\\\\appdata\\\\inputs',\n",
       " 'fdir_inputs_archive': 'C:\\\\engDev\\\\git_mf\\\\ipyrun\\\\ipyrun\\\\appdata\\\\archive',\n",
       " 'fdir': 'C:\\\\engDev\\\\git_mf\\\\ipyrun\\\\ipyrun'}"
      ]
     },
     "execution_count": 32,
     "metadata": {},
     "output_type": "execute_result"
    }
   ],
   "source": [
    "di"
   ]
  },
  {
   "cell_type": "code",
   "execution_count": 4,
   "metadata": {},
   "outputs": [],
   "source": [
    "from dacite import from_dict"
   ]
  },
  {
   "cell_type": "markdown",
   "metadata": {},
   "source": [
    "from dataclasses import dataclass, field, asdict\n",
    "@dataclass\n",
    "class Config:\n",
    "    fdir: str\n",
    "    jobno: int\n",
    "    fpth_script: FilePath\n",
    "    script_outputs_template: pathlib.Path\n",
    "    process_name: str\n",
    "    pretty_name: str\n",
    "    fdir_appdata: pathlib.Path\n",
    "    fdir_inputs: pathlib.Path\n",
    "    fdir_inputs_archive: pathlib.Path\n",
    "    fdir_template_inputs: pathlib.Path\n",
    "    fpth_template_input: pathlib.Path\n",
    "    template_input_ext \n",
    "    fpth_inputs\n",
    "    fpth_inputs_options #dict\n",
    "    script_outputs#dict\n",
    "    fnms_outputs #list\n",
    "    fpths_outputs #list\n",
    "    fdir_log \n",
    "    fnm_log \n",
    "    fpth_log \n",
    "    fdir_config \n",
    "    fnm_config\n",
    "    fpth_config \n",
    "    fdir_outputs"
   ]
  },
  {
   "cell_type": "code",
   "execution_count": 54,
   "metadata": {
    "lines_to_next_cell": 2
   },
   "outputs": [],
   "source": [
    "\n",
    "\n",
    "class RunConfig():\n",
    "\n",
    "    def __init__(self,config,lkup_script=True):\n",
    "        \"\"\"\n",
    "        class that creates a default configuration of filepaths for:\n",
    "            - script filepath\n",
    "            - data outputs directories and filename\n",
    "            - log file directory and filename\n",
    "            - script input file (passed as argument to script) filepath\n",
    "            - a list of template or user modified script input files\n",
    "                (the user can then choose from templates or previous versions)\n",
    "        for simplicity and standardisation, it is strongly suggested that the defaults\n",
    "        defined by this class are used. This allows the developer to pass minimal information\n",
    "        and receive an out-of-the-box configuration. That said, if more information is passed\n",
    "        in the config dict the user-defined inputs will always be favoured allowing for custom\n",
    "        configurations. The required folders are created when the script runs.\n",
    "\n",
    "        Args:\n",
    "            config (di): a user configuration dict defining the script location and file\n",
    "                locations of outputs and log file\n",
    "\n",
    "        Example:\n",
    "            ```\n",
    "            config={\n",
    "                'fpth_script':os.path.join(os.environ['MF_ROOT'],r'MF_Toolbox\\dev\\mf_scripts\\eplus_pipework_params.py'),\n",
    "                'fdir':'.',\n",
    "                }\n",
    "            m = RunConfig(config)\n",
    "            from pprint import pprint\n",
    "            >>> pprint(m.config)\n",
    "            {'fdir': '.',\n",
    "             'fdir_config': '.\\\\appdata\\\\config',\n",
    "             'fdir_inputs': '.\\\\appdata\\\\inputs',\n",
    "             'fdir_log': '.\\\\appdata\\\\log',\n",
    "             'fnm_config': 'config-eplus_pipework_params.json',\n",
    "             'fnm_log': 'log-eplus_pipework_params.csv',\n",
    "             'fpth_config': '.\\\\appdata\\\\config\\\\config-eplus_pipework_params.json',\n",
    "             'fpth_inputs': '.\\\\appdata\\\\inputs\\\\eplus_pipework_params.csv',\n",
    "             'fpth_inputs_options': {'project': {'fdir': '.\\\\appdata\\\\inputs',\n",
    "                                                 'fpths': ['.\\\\appdata\\\\inputs\\\\eplus_pipework_params.csv']},\n",
    "                                     'template': {'fdir': 'C:\\\\engDev\\\\git_mf\\\\MF_Toolbox\\\\dev\\\\mf_scripts\\\\template_inputs',\n",
    "                                                  'fpths': ['C:\\\\engDev\\\\git_mf\\\\MF_Toolbox\\\\dev\\\\mf_scripts\\\\template_inputs\\\\eplus_pipework_params.csv']}},\n",
    "             'fpth_log': '.\\\\appdata\\\\log\\\\log-eplus_pipework_params.csv',\n",
    "             'fpth_script': 'C:\\\\engDev\\\\git_mf\\\\MF_Toolbox\\\\dev\\\\mf_scripts\\\\eplus_pipework_params.py',\n",
    "             'script_outputs': {'0': {'description': 'a csv lookup table with the backend '\n",
    "                                                    'nomenclature of how pipework '\n",
    "                                                    'characteristics are named within '\n",
    "                                                    'energyPlus.',\n",
    "                                     'fdir': '..\\\\data\\\\external',\n",
    "                                     'fnm': 'eplus_pipework_params.csv'}},\n",
    "             'pretty_name': 'eplus_pipework_params',\n",
    "             'process_name': 'eplus_pipework_params'}\n",
    "             ```\n",
    "        \"\"\"\n",
    "        self._init_RunConfig(config,lkup_script=lkup_script)\n",
    "        \n",
    "    def _init_RunConfig(self,config,lkup_script=True):\n",
    "        self.config = config\n",
    "        self.lkup_script = lkup_script\n",
    "        self.user_keys = list(config.keys())\n",
    "        self.errors = []\n",
    "        self._update_config()\n",
    "        self.make_dirs()\n",
    "    \n",
    "    def _update_config(self):\n",
    "        \"\"\"\n",
    "        a configuration dict is passed to the app that defines the configuration variables\n",
    "        of the app. e.g filepaths for the script path, user inputs template file etc.\n",
    "        where explicit inputs are not given this function updates the config dict with\n",
    "        default values, flagging any errors that are spotted on the way.\n",
    "        \"\"\"\n",
    "\n",
    "        # assign vars\n",
    "        self.fdir = os.path.realpath(self._check_or_make_var('fdir',default='.'))\n",
    "        self.jobno = self._jobno()\n",
    "        self.fpth_script = self.config['fpth_script']\n",
    "        self.script_name = os.path.splitext(os.path.split(self.config['fpth_script'])[1])[0]\n",
    "        self.script_outputs_template = self._script_outputs_template()\n",
    "        self.process_name = self._check_or_make_var('process_name',default=self.script_name)\n",
    "        self.pretty_name = self._check_or_make_var('pretty_name',default=self.process_name)\n",
    "        self.fdir_appdata = self._check_or_make_var('fdir_appdata',default=os.path.join(self.fdir,r'appdata')) \n",
    "        self.fdir_inputs = self._check_or_make_var('fdir_inputs',default=os.path.join(self.fdir,self.fdir_appdata,'inputs')) \n",
    "        self.fdir_inputs_archive = self._check_or_make_var('fdir_inputs_archive',default=os.path.join(self.fdir,self.fdir_appdata,'archive')) \n",
    "        self.fdir_template_inputs = self._check_or_make_var('fdir_inputs_archive',default=os.path.join(os.path.dirname(self.config['fpth_script']),r'template_inputs')) \n",
    "        self.fpth_template_input = self._fpth_template_input()\n",
    "        self.template_input_ext = self._template_input_ext()\n",
    "        self.fpth_inputs = self._fpth_inputs()\n",
    "        self.fpth_inputs_options = self._fpth_inputs_options() #dict\n",
    "        self.script_outputs = self._update_script_outputs() #dict\n",
    "        self.fnms_outputs, self.fpths_outputs = self._fpths_outputs()\n",
    "        self.fdir_log = self._check_or_make_var('fdir_log',default=os.path.join(self.fdir_appdata,'log'))\n",
    "        self.fnm_log = self._check_or_make_var('fdir_log',default='log-' + self.process_name + '.csv')\n",
    "        self.fpth_log = os.path.join(self.fdir_log, self.fnm_log)\n",
    "        self.fdir_config = self._check_or_make_var('fdir_config',default=os.path.join(self.fdir_appdata,'config'))\n",
    "        self.fnm_config = self._check_or_make_var('fdir_config',default='config-' + self.process_name + '.json') ## self._fnm_config()\n",
    "        self.fpth_config = os.path.join(self.fdir_config, self.fnm_config)\n",
    "        self.fdir_outputs = self._fdir_outputs()\n",
    "\n",
    "        # update config\n",
    "        self.config['fdir'] = self.fdir\n",
    "        self.config['jobno'] = self.jobno\n",
    "        self.config['process_name'] = self.process_name\n",
    "        self.config['pretty_name'] = self.pretty_name\n",
    "        self.config['fdir_appdata'] = self.fdir_appdata\n",
    "        self.config['fdir_inputs'] = self.fdir_inputs\n",
    "        self.config['fdir_inputs_archive'] = self.fdir_inputs_archive\n",
    "        self.config['fdir_template_inputs'] = self.fdir_template_inputs \n",
    "        self.config['fpth_inputs'] = self.fpth_inputs\n",
    "        self.config['fpth_inputs_options'] = self.fpth_inputs_options #dict\n",
    "        self.config['script_outputs'] = self.script_outputs #dict\n",
    "        self.config['fpths_outputs'] = self.fpths_outputs\n",
    "        self.config['fdir_log'] = self.fdir_log\n",
    "        self.config['fnm_log'] = self.fnm_log\n",
    "        self.config['fpth_log'] = self.fpth_log\n",
    "        self.config['fdir_config'] = self.fdir_config\n",
    "        self.config['fnm_config'] = self.fnm_config\n",
    "        self.config['fpth_config'] = self.fpth_config\n",
    "        self.config['fdir_outputs'] = self.fdir_outputs  \n",
    "\n",
    "    def make_dirs(self):\n",
    "        for k,v in self.config.items():\n",
    "            if 'fdir' in k:\n",
    "                try:\n",
    "                    make_dir(v)\n",
    "                except:\n",
    "                    pass\n",
    "        \n",
    "    def _check_or_make_var(self,varname,default=None):\n",
    "        if varname in self.user_keys:\n",
    "            return self.config[varname]\n",
    "        else:\n",
    "            return default\n",
    "\n",
    "    def _fdir_outputs(self):\n",
    "        try:\n",
    "            return [os.path.realpath(v['fdir']) for k, v in self.script_outputs.items()]\n",
    "        except:\n",
    "            pass\n",
    "\n",
    "    def _jobno(self):\n",
    "        \"\"\"check if fdir given, otherwise put it local to app\"\"\"\n",
    "        if self.fdir == '.':\n",
    "            return 'engDev'\n",
    "        else:\n",
    "            path = os.path.normpath(self.fdir)\n",
    "            try:\n",
    "                job_no = int(path.split(os.sep)[1][1:])\n",
    "            except:\n",
    "                job_no = 9999\n",
    "            return job_no\n",
    "\n",
    "    def _fpth_template_input(self):\n",
    "        fpth = recursive_glob(rootdir=self.fdir_template_inputs,\n",
    "                              pattern='*'+'inputs-' + self.script_name+'.*',\n",
    "                              recursive=True)\n",
    "        if len(fpth)==0:\n",
    "            tmp = 'could not find template input: {0}'.format(os.path.join(self.fdir_inputs, self.process_name))\n",
    "            self.errors.append(tmp)\n",
    "            fpth.append(tmp)\n",
    "        return fpth[0]\n",
    "\n",
    "    def _template_input_ext(self):\n",
    "        return os.path.splitext(self.fpth_template_input)[1]\n",
    "\n",
    "    def _fpth_inputs(self):\n",
    "        src = self.fpth_template_input\n",
    "        ext = os.path.splitext(src)[1]\n",
    "        if 'fpth_inputs' in self.user_keys:\n",
    "            dstn = self.config['fpth_inputs']\n",
    "        elif self.process_name is not self.script_name:\n",
    "            dstn = os.path.join(self.fdir_inputs, 'inputs-'+self.process_name+ext)\n",
    "        else:\n",
    "            dstn = os.path.join(self.fdir_inputs, os.path.basename(src))\n",
    "\n",
    "        if not os.path.isfile(dstn) and os.path.isfile(src):\n",
    "            copyfile(src, dstn)\n",
    "        return dstn\n",
    "\n",
    "    def _fpth_inputs_options(self):\n",
    "        patterns = ['*' + self.process_name + '*', '*' + self.script_name + '*']\n",
    "        patterns = list(set(patterns))\n",
    "\n",
    "        di = {\n",
    "            'template':{\n",
    "                'fdir': self.fdir_template_inputs,\n",
    "                'fpths':[]\n",
    "            },\n",
    "            'project':{\n",
    "                'fdir': self.fdir_inputs,\n",
    "                'fpths':[]\n",
    "            },\n",
    "        }\n",
    "        # NOTE. this is no longer how it gets the project files...\n",
    "        # these are taken from the log.csv ouptut.\n",
    "\n",
    "        cnt = 0\n",
    "        valid_exts = ['.csv','.json']\n",
    "        for k,v in di.items():\n",
    "            for pattern in patterns:\n",
    "                fpths = recursive_glob(rootdir=v['fdir'],pattern=pattern,recursive=True)\n",
    "                fpths = [fpth for fpth in fpths if '.ipynb_checkpoints' not in fpth]\n",
    "                di[k]['fpths'].extend(fpths)\n",
    "                di[k]['fpths'] = list(set(di[k]['fpths']))\n",
    "                cnt += len(fpths)\n",
    "                self.errors.append(['{0} not csv or json'.format(fpth) for fpth in fpths if os.path.splitext(fpth)[1] not in valid_exts])\n",
    "        if cnt == 0:\n",
    "            self.errors.append('couldnt find and input files within the templates folder or in the project folder')\n",
    "        return di\n",
    "\n",
    "    def _script_outputs_template(self):\n",
    "        \"\"\"\n",
    "        looks in the script file and finds and returns object called \"script_outputs\"\n",
    "        \"\"\"\n",
    "        if self.lkup_script:\n",
    "            if os.path.isfile(self.fpth_script):\n",
    "                try:\n",
    "                    spec = importlib.util.spec_from_file_location(self.script_name, self.fpth_script)\n",
    "                    foo = importlib.util.module_from_spec(spec)\n",
    "                    spec.loader.exec_module(foo)\n",
    "                    script_outputs = foo.script_outputs\n",
    "                except:\n",
    "                    print('error loading script: {0}'.format(self.fpth_script)) #  add to logging instead\n",
    "                    script_outputs = {}\n",
    "            else:\n",
    "                print('script not exist: {0}'.format(self.fpth_script)) #  add to logging instead\n",
    "                script_outputs = {}\n",
    "        else:\n",
    "            print('user says skip: {0}'.format(self.fpth_script)) #  add to logging instead\n",
    "            script_outputs = {}\n",
    "        return script_outputs\n",
    "\n",
    "    def _update_script_outputs(self):\n",
    "        \"\"\"overwrites the template fpth outputs with the user defined ones\"\"\"\n",
    "        if 'script_outputs' not in self.user_keys:\n",
    "            return self.script_outputs_template\n",
    "        else:\n",
    "            di = {}\n",
    "            for k, v in self.script_outputs_template.items():\n",
    "                di[k] = v\n",
    "                for _k,_v in v.items():\n",
    "                    di[k][_k] = self.config['script_outputs'][k][_k]\n",
    "            return di\n",
    "\n",
    "    def _fpths_outputs(self):\n",
    "        fnms = {}\n",
    "        fpths = {}\n",
    "        for k, v in self.script_outputs.items():\n",
    "            try:\n",
    "                fnms.update({k:v['fnm']})\n",
    "                fpths.update({k:os.path.realpath(os.path.join(v['fdir'],v['fnm']))})\n",
    "            except:\n",
    "                pass\n",
    "        return fnms, fpths\n",
    "\n",
    "    def config_to_json(self):\n",
    "        write_json(self.config,\n",
    "                   sort_keys=True,\n",
    "                   indent=4,\n",
    "                   fpth=self.config['fpth_config'],\n",
    "                   print_fpth=False,\n",
    "                   openFile=False)\n",
    "\n",
    "\n"
   ]
  },
  {
   "cell_type": "code",
   "execution_count": 55,
   "metadata": {
    "lines_to_end_of_cell_marker": 2,
    "lines_to_next_cell": 2
   },
   "outputs": [
    {
     "name": "stdout",
     "output_type": "stream",
     "text": [
      "{'fdir': 'C:\\\\engDev\\\\git_mf\\\\ipyrun\\\\ipyrun',\n",
      " 'fdir_appdata': 'C:\\\\engDev\\\\git_mf\\\\ipyrun\\\\ipyrun\\\\appdata',\n",
      " 'fdir_config': 'C:\\\\engDev\\\\git_mf\\\\ipyrun\\\\ipyrun\\\\appdata\\\\config',\n",
      " 'fdir_inputs': 'C:\\\\engDev\\\\git_mf\\\\ipyrun\\\\ipyrun\\\\appdata\\\\inputs',\n",
      " 'fdir_inputs_archive': 'C:\\\\engDev\\\\git_mf\\\\ipyrun\\\\ipyrun\\\\appdata\\\\archive',\n",
      " 'fdir_log': 'C:\\\\engDev\\\\git_mf\\\\ipyrun\\\\ipyrun\\\\appdata\\\\log',\n",
      " 'fdir_outputs': ['C:\\\\engDev\\\\git_mf\\\\ipyrun\\\\data\\\\external'],\n",
      " 'fdir_template_inputs': 'C:\\\\engDev\\\\git_mf\\\\MF_Toolbox\\\\dev\\\\mf_scripts\\\\template_inputs',\n",
      " 'fnm_config': 'config-pipework.json',\n",
      " 'fnm_log': 'log-pipework.csv',\n",
      " 'fpth_config': 'C:\\\\engDev\\\\git_mf\\\\ipyrun\\\\ipyrun\\\\appdata\\\\config\\\\config-pipework.json',\n",
      " 'fpth_inputs': 'C:\\\\engDev\\\\git_mf\\\\ipyrun\\\\ipyrun\\\\appdata\\\\inputs\\\\inputs-pipework.csv',\n",
      " 'fpth_inputs_options': {'project': {'fdir': 'C:\\\\engDev\\\\git_mf\\\\ipyrun\\\\ipyrun\\\\appdata\\\\inputs',\n",
      "                                     'fpths': ['C:\\\\engDev\\\\git_mf\\\\ipyrun\\\\ipyrun\\\\appdata\\\\inputs\\\\inputs-eplus_pipework_params.csv',\n",
      "                                               'C:\\\\engDev\\\\git_mf\\\\ipyrun\\\\ipyrun\\\\appdata\\\\inputs\\\\inputs-pipework.json',\n",
      "                                               'C:\\\\engDev\\\\git_mf\\\\ipyrun\\\\ipyrun\\\\appdata\\\\inputs\\\\inputs-pipework.csv']},\n",
      "                         'template': {'fdir': 'C:\\\\engDev\\\\git_mf\\\\MF_Toolbox\\\\dev\\\\mf_scripts\\\\template_inputs',\n",
      "                                      'fpths': ['C:\\\\engDev\\\\git_mf\\\\MF_Toolbox\\\\dev\\\\mf_scripts\\\\template_inputs\\\\inputs-eplus_pipework_params.csv']}},\n",
      " 'fpth_log': 'C:\\\\engDev\\\\git_mf\\\\ipyrun\\\\ipyrun\\\\appdata\\\\log\\\\log-pipework.csv',\n",
      " 'fpth_script': 'C:\\\\engDev\\\\git_mf\\\\MF_Toolbox\\\\dev\\\\mf_scripts\\\\eplus_pipework_params.py',\n",
      " 'fpths_outputs': {'0': 'C:\\\\engDev\\\\git_mf\\\\ipyrun\\\\data\\\\external\\\\eplus_pipework_params.csv'},\n",
      " 'jobno': 9999,\n",
      " 'pretty_name': 'pipework',\n",
      " 'process_name': 'pipework',\n",
      " 'script_outputs': {'0': {'description': 'a csv lookup table with the backend '\n",
      "                                         'nomenclature of how pipework '\n",
      "                                         'characteristics are named within '\n",
      "                                         'energyPlus.',\n",
      "                          'fdir': '..\\\\data\\\\external',\n",
      "                          'fnm': 'eplus_pipework_params.csv'}}}\n"
     ]
    }
   ],
   "source": [
    "#  THIS CONFIG SETUP SHOULD BE BROKEN IN MULTIPLE SMALLER CLASSES THAT ARE COMBINED TO CREATE THE ONE BELOW. \n",
    "#  THIS WOULD ALLOW FOR, SAY, THE GENERATION OF THE INPUTS FILEPATHS WITHOUT THINKING ABOUT THE SCRIPT, ETC... \n",
    "\n",
    "if __name__ =='__main__':\n",
    "    config = {\n",
    "        'fpth_script':r'C:\\engDev\\git_mf\\ipypdt\\ipypdt\\rvttxt_to_schedule.py',#os.path.join(os.environ['MF_ROOT'],r'MF_Toolbox\\dev\\mf_scripts\\eplus_pipework_params.py'),\n",
    "        'process_name':'pipework',\n",
    "        'fdir':'.',\n",
    "        #'fpth_inputs':r'C:\\engDev\\git_mf\\ipyrun\\ipyrun\\appdata\\inputs\\test\\test.csv',\n",
    "        #'fdir_inputs':r'C:\\engDev\\git_mf\\ipyrun\\ipyrun\\appdata\\inputs\\test'\n",
    "        }\n",
    "    \n",
    "    config = {\n",
    "        'fpth_script':os.path.join(os.environ['MF_ROOT'],r'MF_Toolbox\\dev\\mf_scripts\\eplus_pipework_params.py'),#,\n",
    "        'process_name':'pipework',\n",
    "        'fdir':'.',\n",
    "        #'fpth_inputs':r'C:\\engDev\\git_mf\\ipyrun\\ipyrun\\appdata\\inputs\\test\\test.csv',\n",
    "        #'fdir_inputs':r'C:\\engDev\\git_mf\\ipyrun\\ipyrun\\appdata\\inputs\\test'\n",
    "        }\n",
    "    from pprint import pprint\n",
    "    rc = RunConfig(config,lkup_script=True)\n",
    "    pprint(rc.config)\n",
    "\n"
   ]
  },
  {
   "cell_type": "code",
   "execution_count": null,
   "metadata": {},
   "outputs": [],
   "source": []
  }
 ],
 "metadata": {
  "jupytext": {
   "formats": "ipynb,py:light"
  },
  "kernelspec": {
   "display_name": "Python [conda env:mf_main] *",
   "language": "python",
   "name": "conda-env-mf_main-py"
  },
  "language_info": {
   "codemirror_mode": {
    "name": "ipython",
    "version": 3
   },
   "file_extension": ".py",
   "mimetype": "text/x-python",
   "name": "python",
   "nbconvert_exporter": "python",
   "pygments_lexer": "ipython3",
   "version": "3.7.7"
  },
  "widgets": {
   "application/vnd.jupyter.widget-state+json": {
    "state": {},
    "version_major": 2,
    "version_minor": 0
   }
  }
 },
 "nbformat": 4,
 "nbformat_minor": 4
}
