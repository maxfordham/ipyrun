{
 "cells": [
  {
   "cell_type": "code",
   "execution_count": 1,
   "metadata": {
    "lines_to_next_cell": 0
   },
   "outputs": [
    {
     "ename": "IndentationError",
     "evalue": "unexpected indent (_runconfig.py, line 150)",
     "output_type": "error",
     "traceback": [
      "Traceback \u001b[1;36m(most recent call last)\u001b[0m:\n",
      "\u001b[1;36m  File \u001b[1;32m\"C:\\engDev\\git_mf\\ipyrun\\ipyrun\\ipyrun.py\"\u001b[1;36m, line \u001b[1;32m48\u001b[1;36m, in \u001b[1;35m<module>\u001b[1;36m\u001b[0m\n\u001b[1;33m    from ipyrun._runconfig import RunConfig\u001b[0m\n",
      "\u001b[1;31mModuleNotFoundError\u001b[0m\u001b[1;31m:\u001b[0m No module named 'ipyrun._runconfig'; 'ipyrun' is not a package\n",
      "\nDuring handling of the above exception, another exception occurred:\n",
      "Traceback \u001b[1;36m(most recent call last)\u001b[0m:\n",
      "  File \u001b[0;32m\"<ipython-input-1-2c8efe1f0a6b>\"\u001b[0m, line \u001b[0;32m17\u001b[0m, in \u001b[0;35m<module>\u001b[0m\n    from ipyrun._runconfig import RunConfig\n",
      "\u001b[1;36m  File \u001b[1;32m\"C:\\engDev\\git_mf\\ipyrun\\ipyrun\\ipyrun.py\"\u001b[1;36m, line \u001b[1;32m53\u001b[1;36m, in \u001b[1;35m<module>\u001b[1;36m\u001b[0m\n\u001b[1;33m    from _runconfig import RunConfig\u001b[0m\n",
      "\u001b[1;36m  File \u001b[1;32m\"C:\\engDev\\git_mf\\ipyrun\\ipyrun\\_runconfig.py\"\u001b[1;36m, line \u001b[1;32m150\u001b[0m\n\u001b[1;33m    def __init__(self, job_no, rootdir=r'J:', make_dirs=False):\u001b[0m\n\u001b[1;37m    ^\u001b[0m\n\u001b[1;31mIndentationError\u001b[0m\u001b[1;31m:\u001b[0m unexpected indent\n",
      "\nDuring handling of the above exception, another exception occurred:\n",
      "Traceback \u001b[1;36m(most recent call last)\u001b[0m:\n",
      "  File \u001b[0;32m\"C:\\Users\\j.gunstone\\Miniconda3\\envs\\mf_main\\lib\\site-packages\\IPython\\core\\interactiveshell.py\"\u001b[0m, line \u001b[0;32m3331\u001b[0m, in \u001b[0;35mrun_code\u001b[0m\n    exec(code_obj, self.user_global_ns, self.user_ns)\n",
      "\u001b[1;36m  File \u001b[1;32m\"<ipython-input-1-2c8efe1f0a6b>\"\u001b[1;36m, line \u001b[1;32m19\u001b[1;36m, in \u001b[1;35m<module>\u001b[1;36m\u001b[0m\n\u001b[1;33m    from _runconfig import RunConfig\u001b[0m\n",
      "\u001b[1;36m  File \u001b[1;32m\"C:\\engDev\\git_mf\\ipyrun\\ipyrun\\_runconfig.py\"\u001b[1;36m, line \u001b[1;32m150\u001b[0m\n\u001b[1;33m    def __init__(self, job_no, rootdir=r'J:', make_dirs=False):\u001b[0m\n\u001b[1;37m    ^\u001b[0m\n\u001b[1;31mIndentationError\u001b[0m\u001b[1;31m:\u001b[0m unexpected indent\n"
     ]
    }
   ],
   "source": [
    "import os \n",
    "FDIR = os.path.dirname(os.path.realpath('__file__'))\n",
    "\n",
    "from IPython.display import clear_output, display, Image, FileLink, FileLinks, JSON, Markdown, HTML\n",
    "import ipywidgets as widgets\n",
    "from shutil import copyfile\n",
    "from markdown import markdown\n",
    "from datetime import datetime\n",
    "import time\n",
    "\n",
    "from mf_modules.pydtype_operations import read_json, read_yaml\n",
    "from ipyfilechooser import FileChooser\n",
    "\n",
    "# from this repo\n",
    "# this is an unpleasant hack. should aim to find a better solution\n",
    "try:\n",
    "    from ipyrun._runconfig import RunConfig\n",
    "except:\n",
    "    from _runconfig import RunConfig\n",
    "\n",
    "def _markdown(value='_Markdown_',\n",
    "              **kwargs):\n",
    "    \"\"\"\n",
    "    a simple template for markdown text input that templates required input\n",
    "    fields. additional user defined fields can be added as kwargs\n",
    "    \"\"\"\n",
    "    _kwargs = {}\n",
    "    _kwargs['value'] = markdown(value)  # required field\n",
    "    _kwargs.update(kwargs)  # user overides\n",
    "    return widgets.HTML(**_kwargs)\n",
    "\n",
    "\n",
    "class Errors():\n",
    "        \n",
    "    def _errors(self):\n",
    "        self.errors=[]\n",
    "        self.iserror = False\n",
    "        self.errormessage = 'no error'\n",
    "        \n",
    "        \n",
    "class FileController(Errors):\n",
    "    \n",
    "    def __init__(self, fpth_inputs_options):\n",
    "        self.out = widgets.Output()\n",
    "        self.fpth_inputs_options = fpth_inputs_options\n",
    "        self.fpth_inputs = fpth_inputs_options['working']['fpths'][0]\n",
    "        self._errors()\n",
    "        self.file_control_form()\n",
    "        self._init_file_controller()\n",
    "    \n",
    "    @property\n",
    "    def mf_layout(self):\n",
    "        return widgets.Layout(\n",
    "            display='flex',\n",
    "            flex_flow='row',\n",
    "            justify_content='flex-start',\n",
    "            #border='dashed 0.2px green',\n",
    "            grid_auto_columns='False',\n",
    "            width='100%',\n",
    "            #align_items='stretch',  \n",
    "        )\n",
    "        \n",
    "    def file_control_form(self):\n",
    "        \n",
    "        # button bar\n",
    "        self.load_inputs = widgets.ToggleButton(description='inputs from file',button_style='info',style={'font_weight':'bold'})\n",
    "        self.revert = widgets.Button(description='revert to last save',button_style='warning',style={'font_weight':'bold'})#,button_style='success'\n",
    "        self.save_changes = widgets.Button(description='save changes',button_style='success',style={'font_weight':'bold'})\n",
    "        self.button_bar = widgets.HBox([ self.load_inputs, self.revert, self.save_changes])\n",
    "\n",
    "        # nested buttons\n",
    "        template_inputs = self.get_template_inputs()\n",
    "        project_inputs = self.get_project_inputs()\n",
    "        options = dict(template_inputs, **project_inputs)\n",
    "        self.load_button = widgets.Button(description = 'load',icon='fa-upload',style={'font_weight':'bold'})\n",
    "        self.choose_inputs = widgets.RadioButtons(\n",
    "            options = options,\n",
    "            layout = self.mf_layout,\n",
    "        )\n",
    "        self.load = widgets.VBox([self.load_button,self.choose_inputs])\n",
    "        self.temp_message = widgets.HTML(markdown('edit user input form below'))\n",
    "        self.inputform = widgets.VBox([], layout = self.mf_layout)\n",
    "    \n",
    "    def _init_file_controller(self):\n",
    "        self.save_changes.on_click(self._save_changes)\n",
    "        self.load_inputs.observe(self._load_inputs,'value')\n",
    "        self.load_button.on_click(self._load)\n",
    "        self.revert.on_click(self._revert)\n",
    "        \n",
    "    def _revert(self, sender):\n",
    "        \"\"\"revert to last save of working inputs file\"\"\"\n",
    "        fpth = self.fpth_inputs\n",
    "        self.temp_message.value = markdown('revert to inputs in last save of: {0}'.format(fpth))\n",
    "        \n",
    "        # add code here to revert to last save\n",
    "        \n",
    "        self.update_display()\n",
    "        self.display()\n",
    "\n",
    "    def _save_changes(self, sender):\n",
    "        \"\"\"save changes to working inputs file\"\"\"\n",
    "        fpth = self.fpth_inputs\n",
    "        dateTimeObj = datetime.now()\n",
    "        self.save_timestampStr = dateTimeObj.strftime(\"%d-%b-%Y %H:%M:%S\")\n",
    "        self.temp_message.value = markdown('{0} saved at: {1}'.format(fpth, self.save_timestampStr))\n",
    "        \n",
    "        # add code here to save changes to file\n",
    "        \n",
    "        self.update_display()\n",
    "        self.display()\n",
    "        \n",
    "    def _load_inputs(self,sender):\n",
    "        \"\"\"launches the inputs from file dialog\"\"\"\n",
    "        self.temp_message.value = markdown('update the user input form with data from file')\n",
    "        if self.load_inputs.value:\n",
    "            self.inputform.children = [self.load_button, self.choose_inputs]\n",
    "        else:\n",
    "            self.temp_message.value = markdown('')\n",
    "            self.inputform.children = []\n",
    "        self.update_display()\n",
    "        self.display()\n",
    "\n",
    "    def _load(self,sender):\n",
    "        self.update_display()\n",
    "        self.display()\n",
    "        fpth = self.choose_inputs.value\n",
    "        \n",
    "        # add code here to load form from file\n",
    "         \n",
    "        self.temp_message.value = markdown('input form load data from: {0}'.format(fpth))\n",
    "        try:\n",
    "            self.iserror = False\n",
    "            message = 'load input form from: {0}'.format(fpth)\n",
    "        except:\n",
    "            self.iserror = True\n",
    "            self.errormessage = '''__error__ loading : {0}.   \n",
    "            the file has either been deleted or modified such that it is unreadable'''.format(fpth)\n",
    "        with self.out:\n",
    "            clear_output()\n",
    "            if self.load_inputs.value:\n",
    "                display(Markdown(message))\n",
    "            if self.iserror:\n",
    "                display(Markdown(self.errormessage))\n",
    "                \n",
    "    def get_project_inputs(self):\n",
    "        fpths = self.fpth_inputs_options['project']['fpths']\n",
    "        di = {}\n",
    "        for fpth in fpths:\n",
    "            description = 'PROJECT: '+ fpth\n",
    "            di[description] = fpth\n",
    "        return di\n",
    "\n",
    "    def get_template_inputs(self):\n",
    "        fpths = self.fpth_inputs_options['template']['fpths']\n",
    "        di = {}\n",
    "        for fpth in fpths:\n",
    "            description = 'TEMPLATE: '+ fpth\n",
    "            di[description] = fpth\n",
    "        return di\n",
    "\n",
    "    def update_display(self):\n",
    "        box = widgets.VBox([\n",
    "            self.button_bar,\n",
    "            self.temp_message,\n",
    "            self.inputform,\n",
    "        ])\n",
    "        self.layout = box\n",
    "\n",
    "    def display(self):\n",
    "        display(self.layout)\n",
    "        display(self.out)\n",
    "\n",
    "    def _ipython_display_(self):\n",
    "        self.update_display()\n",
    "        self.display()\n",
    "             \n",
    "        \n",
    "class FileConfigController(RunConfig, FileController, Errors):\n",
    "    \n",
    "    \"\"\"\n",
    "    class that combines RunConfig and FileController - generating the filepaths \n",
    "    of the inputs and working files \n",
    "    \"\"\"\n",
    "\n",
    "    def __init__(self,config):\n",
    "        self.config = config\n",
    "        self.out = widgets.Output()\n",
    "        self._errors()\n",
    "        self.user_keys = list(config.keys())\n",
    "        self._init_RunConfig(config)\n",
    "        self.file_control_form()\n",
    "        self._init_file_controller()\n",
    "  \n",
    "    def _revert(self, sender):\n",
    "        \"\"\"revert to last save of working inputs file\"\"\"\n",
    "        fpth = self.fpth_inputs\n",
    "        self.temp_message.value = markdown('revert to inputs in last save of: {0}'.format(fpth))\n",
    "        \n",
    "        # add code here to revert to last save\n",
    "        \n",
    "        self.update_display()\n",
    "        self.display()\n",
    "\n",
    "    def _save_changes(self, sender):\n",
    "        \"\"\"save changes to working inputs file\"\"\"\n",
    "        fpth = self.fpth_inputs\n",
    "        dateTimeObj = datetime.now()\n",
    "        self.save_timestampStr = dateTimeObj.strftime(\"%d-%b-%Y %H:%M:%S\")\n",
    "        self.temp_message.value = markdown('{0} saved at: {1}'.format(fpth, self.save_timestampStr))\n",
    "        \n",
    "        # add code here to save changes to file\n",
    "        \n",
    "        self.update_display()\n",
    "        self.display()\n",
    "        \n",
    "    def _load_inputs(self,sender):\n",
    "        \"\"\"launches the inputs from file dialog\"\"\"\n",
    "        self.temp_message.value = markdown('update the user input form with data from file')\n",
    "        if self.load_inputs.value:\n",
    "            self.inputform.children = [self.load_button, self.choose_inputs]\n",
    "        else:\n",
    "            self.temp_message.value = markdown('')\n",
    "            self.inputform.children = []\n",
    "        self.update_display()\n",
    "        self.display()\n",
    "\n",
    "    def _load(self,sender):\n",
    "        self.update_display()\n",
    "        self.display()\n",
    "        fpth = self.choose_inputs.value\n",
    "        \n",
    "        # add code here to load form from file\n",
    "         \n",
    "        self.temp_message.value = markdown('input form load data from: {0}'.format(fpth))\n",
    "        try:\n",
    "            self.iserror = False\n",
    "            message = 'load input form from: {0}'.format(fpth)\n",
    "        except:\n",
    "            self.iserror = True\n",
    "            self.errormessage = '''__error__ loading : {0}.   \n",
    "            the file has either been deleted or modified such that it is unreadable'''.format(fpth)\n",
    "        with self.out:\n",
    "            clear_output()\n",
    "            if self.load_inputs.value:\n",
    "                display(Markdown(message))\n",
    "            if self.iserror:\n",
    "                display(Markdown(self.errormessage))\n",
    "                \n",
    "class SelectEditSaveMfJson():\n",
    "    def __init__(self, fdir, fnm=None):\n",
    "        self.out = widgets.Output()\n",
    "        self.fdir = fdir\n",
    "        self.fnm = None\n",
    "        self.file_control_form()\n",
    "        self._init_file_controller()\n",
    "    \n",
    "    @property\n",
    "    def mf_layout(self):\n",
    "        return widgets.Layout(\n",
    "            display='flex',\n",
    "            flex_flow='row',\n",
    "            justify_content='flex-start',\n",
    "            #border='dashed 0.2px green',\n",
    "            grid_auto_columns='False',\n",
    "            width='100%',\n",
    "            #align_items='stretch',  \n",
    "        )\n",
    "    \n",
    "    def file_control_form(self):\n",
    "        \n",
    "        # button bar\n",
    "        self.select_file = widgets.ToggleButton(description='select file',button_style='info',style={'font_weight':'bold'})\n",
    "        self.edit_file = widgets.ToggleButton(description='edit file',button_style='warning',style={'font_weight':'bold'})\n",
    "        self.save_changes = widgets.Button(description='save changes',button_style='success',style={'font_weight':'bold'})\n",
    "        self.button_bar = widgets.HBox([self.select_file,self.edit_file, self.save_changes])\n",
    "        \n",
    "        # nested\n",
    "        self.file_chooser = FileChooser(self.fdir)\n",
    "        if self.fnm != None:\n",
    "            self.file_chooser.reset(path=self.fdir, filename=self.fnm)\n",
    "        self.temp_message = widgets.HTML(markdown('edit user input form below'))\n",
    "        self.inputform = widgets.VBox([], layout = self.mf_layout)\n",
    "    \n",
    "    def _init_file_controller(self):\n",
    "        self.save_changes.on_click(self._save_changes)\n",
    "        self.select_file.observe(self._select_file,'value')\n",
    "        self.edit_file.observe(self._edit_file,'value')\n",
    "        \n",
    "    def _save_changes(self, sender):\n",
    "        \"\"\"save changes to working inputs file\"\"\"\n",
    "        fpth = self.file_chooser.selected\n",
    "        dateTimeObj = datetime.now()\n",
    "        self.save_timestampStr = dateTimeObj.strftime(\"%d-%b-%Y %H:%M:%S\")\n",
    "        self.temp_message.value = markdown('{0} saved at: {1}'.format(fpth, self.save_timestampStr))\n",
    "        \n",
    "        # add code here to save changes to file\n",
    "        \n",
    "        self.update_sse_display()\n",
    "        self.sse_display()\n",
    "        \n",
    "    def _edit_file(self, sender):\n",
    "        \"\"\"save changes to working inputs file\"\"\"\n",
    "        fpth = self.file_chooser.selected\n",
    "        self.temp_message.value = markdown('edit inputs below and save to: {0}'.format(fpth))\n",
    "        \n",
    "        # add code here to save changes to file\n",
    "        \n",
    "        self.update_sse_display()\n",
    "        self.sse_display()\n",
    "        \n",
    "    def _select_file(self,sender):\n",
    "        \"\"\"launches the inputs from file dialog\"\"\"\n",
    "        if self.select_file.value:\n",
    "            self.temp_message.value = markdown('update the user input form with data from file')\n",
    "            self.inputform.children = [self.file_chooser]\n",
    "        else:\n",
    "            self.temp_message.value = markdown('')\n",
    "            self.inputform.children = []\n",
    "        self.update_sse_display()\n",
    "        self.sse_display()  \n",
    "        \n",
    "        \n",
    "    def update_sse_display(self):\n",
    "        self.layout = widgets.VBox([\n",
    "            self.button_bar,\n",
    "            self.temp_message,\n",
    "            self.inputform\n",
    "        ])\n",
    "        \n",
    "\n",
    "    def sse_display(self):\n",
    "        display(self.layout)\n",
    "\n",
    "    def _ipython_display_(self):\n",
    "        self.update_sse_display()\n",
    "        self.sse_display()\n",
    "\n",
    "\n",
    "\n",
    "if __name__ == \"__main__\":\n",
    "    \n",
    "    # Example0: testing the FileController class only\n",
    "    fpth_inputs_options = {\n",
    "        'template': {\n",
    "            'fdir': 'C:\\\\engDev\\\\git_mf\\\\MF_Toolbox\\\\dev\\\\mf_scripts\\\\template_inputs',\n",
    "            'fpths': ['C:\\\\engDev\\\\git_mf\\\\MF_Toolbox\\\\dev\\\\mf_scripts\\\\template_inputs\\\\inputs-eplus_pipework_params.csv']\n",
    "        },\n",
    "        'project': {\n",
    "            'fdir': '.\\\\appdata\\\\inputs\\\\archive',\n",
    "            'fpths': [\n",
    "                '.\\\\appdata\\\\inputs\\\\inputs-eplus_pipework_params-1.csv',\n",
    "                '.\\\\appdata\\\\inputs\\\\inputs-eplus_pipework_params.csv',\n",
    "                '.\\\\appdata\\\\inputs\\\\archive\\\\20200605-1625-inputs-eplus_pipework_params.csv',\n",
    "                '.\\\\appdata\\\\inputs\\\\archive\\\\20200605-1625inputs-eplus_pipework_params.csv',\n",
    "                '.\\\\appdata\\\\inputs\\\\archive\\\\20200607_1420-jg-inputs-eplus_pipework_params.csv'\n",
    "            ]\n",
    "        },\n",
    "        'working': {\n",
    "            'fdir': '.\\\\appdata\\\\inputs',\n",
    "            'fpths': ['.\\\\appdata\\\\inputs\\\\inputs-eplus_pipework_params.csv']\n",
    "        },\n",
    "    }\n",
    "    d = FileController(fpth_inputs_options)\n",
    "    # display\n",
    "    display(Markdown('### Example0 - Simple FileController'))\n",
    "    display(Markdown('''Simple FileController. Used for testing only.'''))\n",
    "    display(d)\n",
    "    display(Markdown('---'))  \n",
    "    display(Markdown('')) \n",
    "    \n",
    "    \n",
    "    # Example1\n",
    "    config={\n",
    "    'fpth_script':os.path.join(os.environ['MF_ROOT'],r'MF_Toolbox\\dev\\mf_scripts\\eplus_pipework_params.py'),\n",
    "    'fdir':'.',\n",
    "    }\n",
    "    fc = FileConfigController(config)\n",
    "    display(Markdown('### Example1 - FileConfigController'))\n",
    "    display(Markdown('''\n",
    "FileConfigController. \\n\n",
    "in the example above, fpth_inputs_options is passed as an input. but when using the RunApp it\n",
    "is generated by the RunConfig script... so we can just inherit that and make a combined class with all of \n",
    "the methods... (i.e. relies on passing a python file which has an associated template inputs file that is \n",
    "found by the RunConfig class)'''))\n",
    "    display(fc)\n",
    "    display(Markdown('---'))  \n",
    "    display(Markdown('')) \n",
    "    \n",
    "    \n",
    "    # Example2\n",
    "    fdir = r'.'\n",
    "    fnm = 'default_config.yaml'\n",
    "    simpleedit = SelectEditSaveMfJson(fdir,fnm=fnm) \n",
    "    # display\n",
    "    display(Markdown('### Example2 - SelectEditSaveMfJson'))\n",
    "    display(Markdown('''\n",
    "SelectEditSaveMfJson. \\n\n",
    "in the it may be useful sometimes to consider the the JSON editor independently on the RunApp. \n",
    "either for testing purposes or other future unknown applications. this class allows users to \n",
    "navigate to a file and select it. It will then be merged with the JsonEdit class to allow \n",
    "users to edit the JSON file'''))\n",
    "    display(simpleedit)\n",
    "    display(Markdown('---'))  \n",
    "    display(Markdown('')) "
   ]
  },
  {
   "cell_type": "code",
   "execution_count": null,
   "metadata": {},
   "outputs": [],
   "source": []
  }
 ],
 "metadata": {
  "jupytext": {
   "formats": "ipynb,py:light"
  },
  "kernelspec": {
   "display_name": "Python [conda env:mf_main] *",
   "language": "python",
   "name": "conda-env-mf_main-py"
  },
  "language_info": {
   "codemirror_mode": {
    "name": "ipython",
    "version": 3
   },
   "file_extension": ".py",
   "mimetype": "text/x-python",
   "name": "python",
   "nbconvert_exporter": "python",
   "pygments_lexer": "ipython3",
   "version": "3.7.7"
  },
  "widgets": {
   "application/vnd.jupyter.widget-state+json": {
    "state": {
     "004d92b8820949698a946015f7716d42": {
      "model_module": "@jupyter-widgets/controls",
      "model_module_version": "1.5.0",
      "model_name": "RadioButtonsModel",
      "state": {
       "_options_labels": [
        "TEMPLATE: C:\\engDev\\git_mf\\MF_Toolbox\\dev\\mf_scripts\\template_inputs\\inputs-eplus_pipework_params.csv",
        "PROJECT: .\\appdata\\inputs\\inputs-eplus_pipework_params-1.csv",
        "PROJECT: .\\appdata\\inputs\\inputs-eplus_pipework_params.csv",
        "PROJECT: .\\appdata\\inputs\\archive\\20200605-1625-inputs-eplus_pipework_params.csv",
        "PROJECT: .\\appdata\\inputs\\archive\\20200605-1625inputs-eplus_pipework_params.csv",
        "PROJECT: .\\appdata\\inputs\\archive\\20200607_1420-jg-inputs-eplus_pipework_params.csv"
       ],
       "index": 0,
       "layout": "IPY_MODEL_577b6c4ccd0947e68c4d49690e1a991c",
       "style": "IPY_MODEL_a935f7099123444ea56af9df3eff18b6"
      }
     },
     "007b161304c24105a14bd15059a40dcb": {
      "model_module": "@jupyter-widgets/output",
      "model_module_version": "1.0.0",
      "model_name": "OutputModel",
      "state": {
       "layout": "IPY_MODEL_e7e147a2421541c38d25950daf263a94"
      }
     },
     "03b2cdeb6b41440abe63f9e8aee05c21": {
      "model_module": "@jupyter-widgets/controls",
      "model_module_version": "1.5.0",
      "model_name": "ButtonStyleModel",
      "state": {
       "font_weight": "bold"
      }
     },
     "049142e4cc1d4cbf94ba8cad27a08e14": {
      "model_module": "@jupyter-widgets/base",
      "model_module_version": "1.2.0",
      "model_name": "LayoutModel",
      "state": {}
     },
     "062d091655c640b3b3e8786588aad45b": {
      "model_module": "@jupyter-widgets/base",
      "model_module_version": "1.2.0",
      "model_name": "LayoutModel",
      "state": {}
     },
     "08d67cdcf38540f38f301ccd1fd97a08": {
      "model_module": "@jupyter-widgets/base",
      "model_module_version": "1.2.0",
      "model_name": "LayoutModel",
      "state": {
       "display": "none"
      }
     },
     "09a7a5dc9db54c61bc32fa2815591af6": {
      "model_module": "@jupyter-widgets/controls",
      "model_module_version": "1.5.0",
      "model_name": "HTMLModel",
      "state": {
       "layout": "IPY_MODEL_9e9025103ad542d093b6f7dfb24e8ec7",
       "style": "IPY_MODEL_5c5c0d9821c24a869bfaff6c983b76dc",
       "value": "<p>edit user input form below</p>"
      }
     },
     "09aae54a81e24e41a4f9ae48a12a4d14": {
      "model_module": "@jupyter-widgets/controls",
      "model_module_version": "1.5.0",
      "model_name": "DescriptionStyleModel",
      "state": {
       "description_width": ""
      }
     },
     "0c79ae503aa94711add1c5710ca2dcc1": {
      "model_module": "@jupyter-widgets/base",
      "model_module_version": "1.2.0",
      "model_name": "LayoutModel",
      "state": {
       "grid_area": "dircontent",
       "width": "auto"
      }
     },
     "0fd60aa9652b4ccb8c5199952cb915c5": {
      "model_module": "@jupyter-widgets/controls",
      "model_module_version": "1.5.0",
      "model_name": "ToggleButtonModel",
      "state": {
       "button_style": "info",
       "description": "inputs from file",
       "layout": "IPY_MODEL_9e78299edc844621b2feafa0780d6728",
       "style": "IPY_MODEL_39b632d151af4b129b32a4b127e88e3c"
      }
     },
     "13d8e8c18169428ab7870ca9c62803d0": {
      "model_module": "@jupyter-widgets/controls",
      "model_module_version": "1.5.0",
      "model_name": "HBoxModel",
      "state": {
       "children": [
        "IPY_MODEL_5999bf60f16d4c1a8e636996897fbe3f",
        "IPY_MODEL_83c6f12a050c435089ed98500f562115",
        "IPY_MODEL_ec146f28c8724d708720cf20bbb02927"
       ],
       "layout": "IPY_MODEL_bc2db620fcdb48b781a1137594155ed2"
      }
     },
     "18551dd2e3f44331bf537202886e482b": {
      "model_module": "@jupyter-widgets/controls",
      "model_module_version": "1.5.0",
      "model_name": "ButtonModel",
      "state": {
       "button_style": "warning",
       "description": "revert to last save",
       "layout": "IPY_MODEL_d688ae17b4684c5fa976a8ec3f473351",
       "style": "IPY_MODEL_03b2cdeb6b41440abe63f9e8aee05c21"
      }
     },
     "22328028a467467cb32a6935d4a1ed28": {
      "model_module": "@jupyter-widgets/base",
      "model_module_version": "1.2.0",
      "model_name": "LayoutModel",
      "state": {}
     },
     "23cee32688b64977914784dd822ef61b": {
      "model_module": "@jupyter-widgets/controls",
      "model_module_version": "1.5.0",
      "model_name": "VBoxModel",
      "state": {
       "children": [
        "IPY_MODEL_28b399e229c547d99ebebddeab9b1c1c",
        "IPY_MODEL_004d92b8820949698a946015f7716d42"
       ],
       "layout": "IPY_MODEL_73f6ab46e5034ddbb677dfd15e3bcc8b"
      }
     },
     "2586864c5354417e883697c50fdba3c7": {
      "model_module": "@jupyter-widgets/controls",
      "model_module_version": "1.5.0",
      "model_name": "DescriptionStyleModel",
      "state": {
       "description_width": ""
      }
     },
     "25c9453958954bccb74f117409175d23": {
      "model_module": "@jupyter-widgets/base",
      "model_module_version": "1.2.0",
      "model_name": "LayoutModel",
      "state": {}
     },
     "26c07ec93135410f9e3e7aadd06dd7a2": {
      "model_module": "@jupyter-widgets/controls",
      "model_module_version": "1.5.0",
      "model_name": "HTMLModel",
      "state": {
       "layout": "IPY_MODEL_7ad57903f1ba469493fa6c7646b3cae9",
       "style": "IPY_MODEL_09aae54a81e24e41a4f9ae48a12a4d14",
       "value": "<p>edit user input form below</p>"
      }
     },
     "280f66af07d3462f8accb18341db6caf": {
      "model_module": "@jupyter-widgets/controls",
      "model_module_version": "1.5.0",
      "model_name": "HBoxModel",
      "state": {
       "children": [
        "IPY_MODEL_7bd44eaf742b4faab65097b058c3af94",
        "IPY_MODEL_37be17517f984492a89e8042fc97b8be",
        "IPY_MODEL_eeb00fa29d69467eb3c0c412734152fe"
       ],
       "layout": "IPY_MODEL_98c1101436484cdc9bd1d0b97a23812b"
      }
     },
     "28b399e229c547d99ebebddeab9b1c1c": {
      "model_module": "@jupyter-widgets/controls",
      "model_module_version": "1.5.0",
      "model_name": "ButtonModel",
      "state": {
       "description": "load",
       "icon": "upload",
       "layout": "IPY_MODEL_ff3af35e79de4884998acfeedb86ad7c",
       "style": "IPY_MODEL_ef613a287d9c41848f63ccde33cf7660"
      }
     },
     "2917694a928c446abc4cf5378ff11a86": {
      "model_module": "@jupyter-widgets/base",
      "model_module_version": "1.2.0",
      "model_name": "LayoutModel",
      "state": {
       "display": "none",
       "width": "auto"
      }
     },
     "29b300b6863846cda2c7d6eb49170fd1": {
      "model_module": "@jupyter-widgets/controls",
      "model_module_version": "1.5.0",
      "model_name": "ButtonModel",
      "state": {
       "description": "load",
       "icon": "upload",
       "layout": "IPY_MODEL_ba920fc6b16f470a8687d73bcf63947f",
       "style": "IPY_MODEL_9475ce700c1445688a403283b620c0e2"
      }
     },
     "2b36e3f796dc4c309a9baf907db48e55": {
      "model_module": "@jupyter-widgets/base",
      "model_module_version": "1.2.0",
      "model_name": "LayoutModel",
      "state": {}
     },
     "2baf2b6085b143cbaa4589ed3af95c59": {
      "model_module": "@jupyter-widgets/base",
      "model_module_version": "1.2.0",
      "model_name": "LayoutModel",
      "state": {
       "display": "flex",
       "flex_flow": "row",
       "grid_auto_columns": "False",
       "justify_content": "flex-start",
       "width": "100%"
      }
     },
     "2bd25c78078d4f87bc9103963693be59": {
      "model_module": "@jupyter-widgets/base",
      "model_module_version": "1.2.0",
      "model_name": "LayoutModel",
      "state": {}
     },
     "2d5a600de1a943d59b363e7afe777baa": {
      "model_module": "@jupyter-widgets/controls",
      "model_module_version": "1.5.0",
      "model_name": "HTMLModel",
      "state": {
       "layout": "IPY_MODEL_049142e4cc1d4cbf94ba8cad27a08e14",
       "style": "IPY_MODEL_faaca7a846074a60bfaf82bb9d271dcd",
       "value": "<p>edit user input form below</p>"
      }
     },
     "33090a2a1c9244da97d5ca4907bbb79e": {
      "model_module": "@jupyter-widgets/controls",
      "model_module_version": "1.5.0",
      "model_name": "ButtonStyleModel",
      "state": {}
     },
     "3313f975d68242ccb86e38179e81037b": {
      "model_module": "@jupyter-widgets/controls",
      "model_module_version": "1.5.0",
      "model_name": "HTMLModel",
      "state": {
       "layout": "IPY_MODEL_08d67cdcf38540f38f301ccd1fd97a08",
       "style": "IPY_MODEL_2586864c5354417e883697c50fdba3c7"
      }
     },
     "37be17517f984492a89e8042fc97b8be": {
      "model_module": "@jupyter-widgets/controls",
      "model_module_version": "1.5.0",
      "model_name": "ButtonModel",
      "state": {
       "description": "Cancel",
       "layout": "IPY_MODEL_2917694a928c446abc4cf5378ff11a86",
       "style": "IPY_MODEL_33090a2a1c9244da97d5ca4907bbb79e"
      }
     },
     "39b632d151af4b129b32a4b127e88e3c": {
      "model_module": "@jupyter-widgets/controls",
      "model_module_version": "1.5.0",
      "model_name": "DescriptionStyleModel",
      "state": {
       "description_width": ""
      }
     },
     "410cf4890a0349b3a6365ec8353a1981": {
      "model_module": "@jupyter-widgets/controls",
      "model_module_version": "1.5.0",
      "model_name": "ToggleButtonModel",
      "state": {
       "button_style": "warning",
       "description": "edit file",
       "layout": "IPY_MODEL_062d091655c640b3b3e8786588aad45b",
       "style": "IPY_MODEL_b19f27d5e4b44ae9bb77490d99be25eb"
      }
     },
     "46529358f50446e48012460b321d6aaf": {
      "model_module": "@jupyter-widgets/controls",
      "model_module_version": "1.5.0",
      "model_name": "DescriptionStyleModel",
      "state": {
       "description_width": ""
      }
     },
     "489e191a4beb475f876a4a7df786c38e": {
      "model_module": "@jupyter-widgets/base",
      "model_module_version": "1.2.0",
      "model_name": "LayoutModel",
      "state": {
       "display": "none",
       "grid_gap": "0px 0px",
       "grid_template_areas": "\n                    'pathlist filename'\n                    'dircontent dircontent'\n                    ",
       "grid_template_columns": "60% 40%",
       "grid_template_rows": "auto auto",
       "width": "500px"
      }
     },
     "4b3ca3a56822485b826b6e327b73309e": {
      "model_module": "@jupyter-widgets/base",
      "model_module_version": "1.2.0",
      "model_name": "LayoutModel",
      "state": {}
     },
     "4dd654728ce1423b9a6224023b9e1aa2": {
      "model_module": "@jupyter-widgets/controls",
      "model_module_version": "1.5.0",
      "model_name": "ToggleButtonModel",
      "state": {
       "button_style": "info",
       "description": "select file",
       "layout": "IPY_MODEL_d529bfd6d0354ca08a43ef9a9c3e406f",
       "style": "IPY_MODEL_504bfb439bf14dd1a90717a2f702b2cf"
      }
     },
     "504bfb439bf14dd1a90717a2f702b2cf": {
      "model_module": "@jupyter-widgets/controls",
      "model_module_version": "1.5.0",
      "model_name": "DescriptionStyleModel",
      "state": {
       "description_width": ""
      }
     },
     "50a53f1d16664211ae489ac8e14988e4": {
      "model_module": "@jupyter-widgets/base",
      "model_module_version": "1.2.0",
      "model_name": "LayoutModel",
      "state": {
       "display": "flex",
       "flex_flow": "row",
       "grid_auto_columns": "False",
       "justify_content": "flex-start",
       "width": "100%"
      }
     },
     "571fda556e3c4210a2e881d04f0f4668": {
      "model_module": "@jupyter-widgets/controls",
      "model_module_version": "1.5.0",
      "model_name": "VBoxModel",
      "state": {
       "layout": "IPY_MODEL_50a53f1d16664211ae489ac8e14988e4"
      }
     },
     "577b6c4ccd0947e68c4d49690e1a991c": {
      "model_module": "@jupyter-widgets/base",
      "model_module_version": "1.2.0",
      "model_name": "LayoutModel",
      "state": {
       "display": "flex",
       "flex_flow": "row",
       "grid_auto_columns": "False",
       "justify_content": "flex-start",
       "width": "100%"
      }
     },
     "5999bf60f16d4c1a8e636996897fbe3f": {
      "model_module": "@jupyter-widgets/controls",
      "model_module_version": "1.5.0",
      "model_name": "ToggleButtonModel",
      "state": {
       "button_style": "info",
       "description": "inputs from file",
       "layout": "IPY_MODEL_ccc52e1a99e24b28ba8467cde2bf6e23",
       "style": "IPY_MODEL_9a7a647b7ca948aa913894b9bc793b19"
      }
     },
     "5c5c0d9821c24a869bfaff6c983b76dc": {
      "model_module": "@jupyter-widgets/controls",
      "model_module_version": "1.5.0",
      "model_name": "DescriptionStyleModel",
      "state": {
       "description_width": ""
      }
     },
     "5f2511ed764c4988a50b0c10f8fffd71": {
      "model_module": "@jupyter-widgets/controls",
      "model_module_version": "1.5.0",
      "model_name": "VBoxModel",
      "state": {
       "children": [
        "IPY_MODEL_3313f975d68242ccb86e38179e81037b",
        "IPY_MODEL_8353f60517ea43d8ac503293f1e22c91",
        "IPY_MODEL_280f66af07d3462f8accb18341db6caf"
       ],
       "layout": "IPY_MODEL_7a1b03b07cee42a995143012c46a5bd3"
      }
     },
     "64fe035499604e878f529a2c58b10f76": {
      "model_module": "@jupyter-widgets/controls",
      "model_module_version": "1.5.0",
      "model_name": "ButtonStyleModel",
      "state": {
       "font_weight": "bold"
      }
     },
     "6887e04e6630447198242a8f40bd3c5f": {
      "model_module": "@jupyter-widgets/base",
      "model_module_version": "1.2.0",
      "model_name": "LayoutModel",
      "state": {}
     },
     "6b00d57304744087b85a94ab2f0f9eda": {
      "model_module": "@jupyter-widgets/controls",
      "model_module_version": "1.5.0",
      "model_name": "ButtonStyleModel",
      "state": {
       "font_weight": "bold"
      }
     },
     "7113837a3cdf4ab0b5d5ca98d3d82067": {
      "model_module": "@jupyter-widgets/base",
      "model_module_version": "1.2.0",
      "model_name": "LayoutModel",
      "state": {}
     },
     "73f6ab46e5034ddbb677dfd15e3bcc8b": {
      "model_module": "@jupyter-widgets/base",
      "model_module_version": "1.2.0",
      "model_name": "LayoutModel",
      "state": {}
     },
     "7a1b03b07cee42a995143012c46a5bd3": {
      "model_module": "@jupyter-widgets/base",
      "model_module_version": "1.2.0",
      "model_name": "LayoutModel",
      "state": {
       "width": "auto"
      }
     },
     "7a54f42690e7431fa0cd659e7c871996": {
      "model_module": "@jupyter-widgets/controls",
      "model_module_version": "1.5.0",
      "model_name": "VBoxModel",
      "state": {
       "layout": "IPY_MODEL_f8015b9ff9c043fd91e8c97a807bcfc6"
      }
     },
     "7ad57903f1ba469493fa6c7646b3cae9": {
      "model_module": "@jupyter-widgets/base",
      "model_module_version": "1.2.0",
      "model_name": "LayoutModel",
      "state": {}
     },
     "7bd44eaf742b4faab65097b058c3af94": {
      "model_module": "@jupyter-widgets/controls",
      "model_module_version": "1.5.0",
      "model_name": "ButtonModel",
      "state": {
       "description": "Select",
       "layout": "IPY_MODEL_f9bde5c618d14003ad85eb4d579e76ed",
       "style": "IPY_MODEL_7c29918af5854630986c7f961ffbcaef"
      }
     },
     "7c29918af5854630986c7f961ffbcaef": {
      "model_module": "@jupyter-widgets/controls",
      "model_module_version": "1.5.0",
      "model_name": "ButtonStyleModel",
      "state": {}
     },
     "817a967ad479434ebe63d63025bfe5f3": {
      "model_module": "@jupyter-widgets/controls",
      "model_module_version": "1.5.0",
      "model_name": "VBoxModel",
      "state": {
       "children": [
        "IPY_MODEL_29b300b6863846cda2c7d6eb49170fd1",
        "IPY_MODEL_8514eda17cd84e6093fbc5944a3d6d7c"
       ],
       "layout": "IPY_MODEL_25c9453958954bccb74f117409175d23"
      }
     },
     "8353f60517ea43d8ac503293f1e22c91": {
      "model_module": "@jupyter-widgets/controls",
      "model_module_version": "1.5.0",
      "model_name": "GridBoxModel",
      "state": {
       "children": [
        "IPY_MODEL_b965ac2b738d4e1fa916c40feba80062",
        "IPY_MODEL_ec7f68c8ae2f47f9921885bb0198c36f",
        "IPY_MODEL_c1486e53727c44c7b4d700a76cf3b5c4"
       ],
       "layout": "IPY_MODEL_489e191a4beb475f876a4a7df786c38e"
      }
     },
     "83c6f12a050c435089ed98500f562115": {
      "model_module": "@jupyter-widgets/controls",
      "model_module_version": "1.5.0",
      "model_name": "ButtonModel",
      "state": {
       "button_style": "warning",
       "description": "revert to last save",
       "layout": "IPY_MODEL_9898f8bc07ad4237982e2c048542d866",
       "style": "IPY_MODEL_6b00d57304744087b85a94ab2f0f9eda"
      }
     },
     "83c76a3f6fef4bc3942b45b909b987a1": {
      "model_module": "@jupyter-widgets/controls",
      "model_module_version": "1.5.0",
      "model_name": "ButtonStyleModel",
      "state": {
       "font_weight": "bold"
      }
     },
     "8439c13a6cef457a9e1745aff3a26824": {
      "model_module": "@jupyter-widgets/controls",
      "model_module_version": "1.5.0",
      "model_name": "HBoxModel",
      "state": {
       "children": [
        "IPY_MODEL_4dd654728ce1423b9a6224023b9e1aa2",
        "IPY_MODEL_410cf4890a0349b3a6365ec8353a1981",
        "IPY_MODEL_d886488406754f03a620fb518c9ee02c"
       ],
       "layout": "IPY_MODEL_6887e04e6630447198242a8f40bd3c5f"
      }
     },
     "8514eda17cd84e6093fbc5944a3d6d7c": {
      "model_module": "@jupyter-widgets/controls",
      "model_module_version": "1.5.0",
      "model_name": "RadioButtonsModel",
      "state": {
       "_options_labels": [
        "TEMPLATE: C:\\engDev\\git_mf\\MF_Toolbox\\dev\\mf_scripts\\template_inputs\\inputs-eplus_pipework_params.csv",
        "PROJECT: C:\\engDev\\git_mf\\ipyrun\\ipyrun\\appdata\\inputs\\inputs-eplus_pipework_params-1.csv",
        "PROJECT: C:\\engDev\\git_mf\\ipyrun\\ipyrun\\appdata\\inputs\\inputs-eplus_pipework_params.csv",
        "PROJECT: C:\\engDev\\git_mf\\ipyrun\\ipyrun\\appdata\\inputs\\archive\\20200605-1625-inputs-eplus_pipework_params.csv",
        "PROJECT: C:\\engDev\\git_mf\\ipyrun\\ipyrun\\appdata\\inputs\\archive\\20200605-1625inputs-eplus_pipework_params.csv",
        "PROJECT: C:\\engDev\\git_mf\\ipyrun\\ipyrun\\appdata\\inputs\\archive\\20200607_1420-jg-inputs-eplus_pipework_params.csv",
        "PROJECT: C:\\engDev\\git_mf\\ipyrun\\ipyrun\\appdata\\inputs\\archive\\20200611_1021-jg-inputs-eplus_pipework_params.csv"
       ],
       "index": 0,
       "layout": "IPY_MODEL_8603a2a602ef4ebe89ac62c9ef058262",
       "style": "IPY_MODEL_c5a527e1555a4645967b2f33aa6c58f2"
      }
     },
     "852a95960bdf4b099ece86be777f8481": {
      "model_module": "@jupyter-widgets/base",
      "model_module_version": "1.2.0",
      "model_name": "LayoutModel",
      "state": {}
     },
     "8603a2a602ef4ebe89ac62c9ef058262": {
      "model_module": "@jupyter-widgets/base",
      "model_module_version": "1.2.0",
      "model_name": "LayoutModel",
      "state": {
       "display": "flex",
       "flex_flow": "row",
       "grid_auto_columns": "False",
       "justify_content": "flex-start",
       "width": "100%"
      }
     },
     "917b8c917acc40228bdbf79227589ee6": {
      "model_module": "@jupyter-widgets/controls",
      "model_module_version": "1.5.0",
      "model_name": "HBoxModel",
      "state": {
       "children": [
        "IPY_MODEL_0fd60aa9652b4ccb8c5199952cb915c5",
        "IPY_MODEL_18551dd2e3f44331bf537202886e482b",
        "IPY_MODEL_9b5df978362a4ccca9a856ff247a4781"
       ],
       "layout": "IPY_MODEL_e9cc78cd842e4bf291949fd16a5b4f3d"
      }
     },
     "91aed399cd2f4c7d97309852b903ac2f": {
      "model_module": "@jupyter-widgets/base",
      "model_module_version": "1.2.0",
      "model_name": "LayoutModel",
      "state": {
       "grid_area": "filename",
       "width": "auto"
      }
     },
     "9475ce700c1445688a403283b620c0e2": {
      "model_module": "@jupyter-widgets/controls",
      "model_module_version": "1.5.0",
      "model_name": "ButtonStyleModel",
      "state": {
       "font_weight": "bold"
      }
     },
     "9898f8bc07ad4237982e2c048542d866": {
      "model_module": "@jupyter-widgets/base",
      "model_module_version": "1.2.0",
      "model_name": "LayoutModel",
      "state": {}
     },
     "98c1101436484cdc9bd1d0b97a23812b": {
      "model_module": "@jupyter-widgets/base",
      "model_module_version": "1.2.0",
      "model_name": "LayoutModel",
      "state": {
       "width": "auto"
      }
     },
     "999bda8793e74550a7c1a1a3abcb428f": {
      "model_module": "@jupyter-widgets/controls",
      "model_module_version": "1.5.0",
      "model_name": "VBoxModel",
      "state": {
       "children": [
        "IPY_MODEL_8439c13a6cef457a9e1745aff3a26824",
        "IPY_MODEL_09a7a5dc9db54c61bc32fa2815591af6",
        "IPY_MODEL_ea6c91c0323745cb963ea8bcf133646c"
       ],
       "layout": "IPY_MODEL_9b29c10945a14ec4907397a26c27b57c"
      }
     },
     "9a7a647b7ca948aa913894b9bc793b19": {
      "model_module": "@jupyter-widgets/controls",
      "model_module_version": "1.5.0",
      "model_name": "DescriptionStyleModel",
      "state": {
       "description_width": ""
      }
     },
     "9b29c10945a14ec4907397a26c27b57c": {
      "model_module": "@jupyter-widgets/base",
      "model_module_version": "1.2.0",
      "model_name": "LayoutModel",
      "state": {}
     },
     "9b5df978362a4ccca9a856ff247a4781": {
      "model_module": "@jupyter-widgets/controls",
      "model_module_version": "1.5.0",
      "model_name": "ButtonModel",
      "state": {
       "button_style": "success",
       "description": "save changes",
       "layout": "IPY_MODEL_7113837a3cdf4ab0b5d5ca98d3d82067",
       "style": "IPY_MODEL_64fe035499604e878f529a2c58b10f76"
      }
     },
     "9d743dd0c26e458a8a3f370d7deae072": {
      "model_module": "@jupyter-widgets/controls",
      "model_module_version": "1.5.0",
      "model_name": "VBoxModel",
      "state": {
       "children": [
        "IPY_MODEL_917b8c917acc40228bdbf79227589ee6",
        "IPY_MODEL_2d5a600de1a943d59b363e7afe777baa",
        "IPY_MODEL_7a54f42690e7431fa0cd659e7c871996"
       ],
       "layout": "IPY_MODEL_22328028a467467cb32a6935d4a1ed28"
      }
     },
     "9e78299edc844621b2feafa0780d6728": {
      "model_module": "@jupyter-widgets/base",
      "model_module_version": "1.2.0",
      "model_name": "LayoutModel",
      "state": {}
     },
     "9e9025103ad542d093b6f7dfb24e8ec7": {
      "model_module": "@jupyter-widgets/base",
      "model_module_version": "1.2.0",
      "model_name": "LayoutModel",
      "state": {}
     },
     "a175d25ba13840bba02d632e70c26e80": {
      "model_module": "@jupyter-widgets/controls",
      "model_module_version": "1.5.0",
      "model_name": "DescriptionStyleModel",
      "state": {
       "description_width": ""
      }
     },
     "a4679a78f4b24d65befcaafeab446d31": {
      "model_module": "@jupyter-widgets/controls",
      "model_module_version": "1.5.0",
      "model_name": "DescriptionStyleModel",
      "state": {
       "description_width": ""
      }
     },
     "a5f40190dc4a4b68a52ff87507988e40": {
      "model_module": "@jupyter-widgets/controls",
      "model_module_version": "1.5.0",
      "model_name": "DescriptionStyleModel",
      "state": {
       "description_width": ""
      }
     },
     "a935f7099123444ea56af9df3eff18b6": {
      "model_module": "@jupyter-widgets/controls",
      "model_module_version": "1.5.0",
      "model_name": "DescriptionStyleModel",
      "state": {
       "description_width": ""
      }
     },
     "af7d3dc9659541ad90fbf4d68b329cb3": {
      "model_module": "@jupyter-widgets/base",
      "model_module_version": "1.2.0",
      "model_name": "LayoutModel",
      "state": {}
     },
     "b19f27d5e4b44ae9bb77490d99be25eb": {
      "model_module": "@jupyter-widgets/controls",
      "model_module_version": "1.5.0",
      "model_name": "DescriptionStyleModel",
      "state": {
       "description_width": ""
      }
     },
     "b965ac2b738d4e1fa916c40feba80062": {
      "model_module": "@jupyter-widgets/controls",
      "model_module_version": "1.5.0",
      "model_name": "DropdownModel",
      "state": {
       "_options_labels": [
        ".",
        ""
       ],
       "index": 0,
       "layout": "IPY_MODEL_fe6059c74a044d1d92904936d196c5b2",
       "style": "IPY_MODEL_a4679a78f4b24d65befcaafeab446d31"
      }
     },
     "ba920fc6b16f470a8687d73bcf63947f": {
      "model_module": "@jupyter-widgets/base",
      "model_module_version": "1.2.0",
      "model_name": "LayoutModel",
      "state": {}
     },
     "bc2db620fcdb48b781a1137594155ed2": {
      "model_module": "@jupyter-widgets/base",
      "model_module_version": "1.2.0",
      "model_name": "LayoutModel",
      "state": {}
     },
     "bd79f95f9f2a4b6dbf0198f35c1368d0": {
      "model_module": "@jupyter-widgets/output",
      "model_module_version": "1.0.0",
      "model_name": "OutputModel",
      "state": {
       "layout": "IPY_MODEL_af7d3dc9659541ad90fbf4d68b329cb3"
      }
     },
     "c1486e53727c44c7b4d700a76cf3b5c4": {
      "model_module": "@jupyter-widgets/controls",
      "model_module_version": "1.5.0",
      "model_name": "SelectModel",
      "state": {
       "_options_labels": [
        "..",
        "__pycache__",
        "appdata",
        "notebooks",
        "_filecontroller.ipynb",
        "_filecontroller.py",
        "_ipyblocks.ipynb",
        "_ipydisplayfile.ipynb",
        "_ipydisplayfile.py",
        "_ipyeditcsv.ipynb",
        "_ipyeditcsv.py",
        "_ipyeditjson.ipynb",
        "_ipyeditjson.py",
        "_runconfig.ipynb",
        "_runconfig.py",
        "default_config.yaml",
        "ipyrun.ipynb",
        "ipyrun.py"
       ],
       "index": null,
       "layout": "IPY_MODEL_0c79ae503aa94711add1c5710ca2dcc1",
       "rows": 8,
       "style": "IPY_MODEL_46529358f50446e48012460b321d6aaf"
      }
     },
     "c46d8d0c4f1941ddb0081ed19091f123": {
      "model_module": "@jupyter-widgets/controls",
      "model_module_version": "1.5.0",
      "model_name": "VBoxModel",
      "state": {
       "children": [
        "IPY_MODEL_13d8e8c18169428ab7870ca9c62803d0",
        "IPY_MODEL_26c07ec93135410f9e3e7aadd06dd7a2",
        "IPY_MODEL_571fda556e3c4210a2e881d04f0f4668"
       ],
       "layout": "IPY_MODEL_2bd25c78078d4f87bc9103963693be59"
      }
     },
     "c5a527e1555a4645967b2f33aa6c58f2": {
      "model_module": "@jupyter-widgets/controls",
      "model_module_version": "1.5.0",
      "model_name": "DescriptionStyleModel",
      "state": {
       "description_width": ""
      }
     },
     "ccc52e1a99e24b28ba8467cde2bf6e23": {
      "model_module": "@jupyter-widgets/base",
      "model_module_version": "1.2.0",
      "model_name": "LayoutModel",
      "state": {}
     },
     "d529bfd6d0354ca08a43ef9a9c3e406f": {
      "model_module": "@jupyter-widgets/base",
      "model_module_version": "1.2.0",
      "model_name": "LayoutModel",
      "state": {}
     },
     "d688ae17b4684c5fa976a8ec3f473351": {
      "model_module": "@jupyter-widgets/base",
      "model_module_version": "1.2.0",
      "model_name": "LayoutModel",
      "state": {}
     },
     "d886488406754f03a620fb518c9ee02c": {
      "model_module": "@jupyter-widgets/controls",
      "model_module_version": "1.5.0",
      "model_name": "ButtonModel",
      "state": {
       "button_style": "success",
       "description": "save changes",
       "layout": "IPY_MODEL_852a95960bdf4b099ece86be777f8481",
       "style": "IPY_MODEL_daf090243eff4d8eba05ba0adba9a8c8"
      }
     },
     "daf090243eff4d8eba05ba0adba9a8c8": {
      "model_module": "@jupyter-widgets/controls",
      "model_module_version": "1.5.0",
      "model_name": "ButtonStyleModel",
      "state": {
       "font_weight": "bold"
      }
     },
     "e7e147a2421541c38d25950daf263a94": {
      "model_module": "@jupyter-widgets/base",
      "model_module_version": "1.2.0",
      "model_name": "LayoutModel",
      "state": {}
     },
     "e8615ce187ad4f27995897a6fcc58802": {
      "model_module": "@jupyter-widgets/base",
      "model_module_version": "1.2.0",
      "model_name": "LayoutModel",
      "state": {}
     },
     "e9cc78cd842e4bf291949fd16a5b4f3d": {
      "model_module": "@jupyter-widgets/base",
      "model_module_version": "1.2.0",
      "model_name": "LayoutModel",
      "state": {}
     },
     "ea6c91c0323745cb963ea8bcf133646c": {
      "model_module": "@jupyter-widgets/controls",
      "model_module_version": "1.5.0",
      "model_name": "VBoxModel",
      "state": {
       "layout": "IPY_MODEL_2baf2b6085b143cbaa4589ed3af95c59"
      }
     },
     "ec146f28c8724d708720cf20bbb02927": {
      "model_module": "@jupyter-widgets/controls",
      "model_module_version": "1.5.0",
      "model_name": "ButtonModel",
      "state": {
       "button_style": "success",
       "description": "save changes",
       "layout": "IPY_MODEL_2b36e3f796dc4c309a9baf907db48e55",
       "style": "IPY_MODEL_83c76a3f6fef4bc3942b45b909b987a1"
      }
     },
     "ec7f68c8ae2f47f9921885bb0198c36f": {
      "model_module": "@jupyter-widgets/controls",
      "model_module_version": "1.5.0",
      "model_name": "TextModel",
      "state": {
       "layout": "IPY_MODEL_91aed399cd2f4c7d97309852b903ac2f",
       "placeholder": "output filename",
       "style": "IPY_MODEL_a5f40190dc4a4b68a52ff87507988e40"
      }
     },
     "eeb00fa29d69467eb3c0c412734152fe": {
      "model_module": "@jupyter-widgets/controls",
      "model_module_version": "1.5.0",
      "model_name": "HTMLModel",
      "state": {
       "layout": "IPY_MODEL_4b3ca3a56822485b826b6e327b73309e",
       "placeholder": "",
       "style": "IPY_MODEL_a175d25ba13840bba02d632e70c26e80",
       "value": "<span style=\"margin-left:10px; color:black;\">No file selected</span>"
      }
     },
     "ef613a287d9c41848f63ccde33cf7660": {
      "model_module": "@jupyter-widgets/controls",
      "model_module_version": "1.5.0",
      "model_name": "ButtonStyleModel",
      "state": {
       "font_weight": "bold"
      }
     },
     "f58fdcc7c6b04369ae734609f4218748": {
      "model_module": "@jupyter-widgets/output",
      "model_module_version": "1.0.0",
      "model_name": "OutputModel",
      "state": {
       "layout": "IPY_MODEL_e8615ce187ad4f27995897a6fcc58802"
      }
     },
     "f8015b9ff9c043fd91e8c97a807bcfc6": {
      "model_module": "@jupyter-widgets/base",
      "model_module_version": "1.2.0",
      "model_name": "LayoutModel",
      "state": {
       "display": "flex",
       "flex_flow": "row",
       "grid_auto_columns": "False",
       "justify_content": "flex-start",
       "width": "100%"
      }
     },
     "f9bde5c618d14003ad85eb4d579e76ed": {
      "model_module": "@jupyter-widgets/base",
      "model_module_version": "1.2.0",
      "model_name": "LayoutModel",
      "state": {
       "width": "auto"
      }
     },
     "faaca7a846074a60bfaf82bb9d271dcd": {
      "model_module": "@jupyter-widgets/controls",
      "model_module_version": "1.5.0",
      "model_name": "DescriptionStyleModel",
      "state": {
       "description_width": ""
      }
     },
     "fe6059c74a044d1d92904936d196c5b2": {
      "model_module": "@jupyter-widgets/base",
      "model_module_version": "1.2.0",
      "model_name": "LayoutModel",
      "state": {
       "grid_area": "pathlist",
       "width": "auto"
      }
     },
     "ff3af35e79de4884998acfeedb86ad7c": {
      "model_module": "@jupyter-widgets/base",
      "model_module_version": "1.2.0",
      "model_name": "LayoutModel",
      "state": {}
     }
    },
    "version_major": 2,
    "version_minor": 0
   }
  }
 },
 "nbformat": 4,
 "nbformat_minor": 4
}
