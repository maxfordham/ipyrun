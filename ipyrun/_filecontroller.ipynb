{
 "cells": [
  {
   "cell_type": "code",
   "execution_count": 3,
   "metadata": {
    "lines_to_next_cell": 0
   },
   "outputs": [
    {
     "data": {
      "application/vnd.jupyter.widget-view+json": {
       "model_id": "205a3e1694604c0b96f898b83a293c69",
       "version_major": 2,
       "version_minor": 0
      },
      "text/plain": [
       "VBox(children=(HBox(children=(ToggleButton(value=False, button_style='info', description='inputs from file'), …"
      ]
     },
     "metadata": {},
     "output_type": "display_data"
    },
    {
     "data": {
      "application/vnd.jupyter.widget-view+json": {
       "model_id": "fece5d20eb7f43e6abe855259beb15ac",
       "version_major": 2,
       "version_minor": 0
      },
      "text/plain": [
       "Output()"
      ]
     },
     "metadata": {},
     "output_type": "display_data"
    }
   ],
   "source": [
    "import os \n",
    "FDIR = os.path.dirname(os.path.realpath('__file__'))\n",
    "\n",
    "from IPython.display import clear_output, display, Image, FileLink, FileLinks, JSON, Markdown, HTML\n",
    "import ipywidgets as widgets\n",
    "from shutil import copyfile\n",
    "from markdown import markdown\n",
    "from datetime import datetime\n",
    "import time\n",
    "\n",
    "from mf_modules.pydtype_operations import read_json, read_yaml\n",
    "\n",
    "# from this repo\n",
    "# this is an unpleasant hack. should aim to find a better solution\n",
    "try:\n",
    "    from ipyrun._runconfig import RunConfig\n",
    "except:\n",
    "    from _runconfig import RunConfig\n",
    "\n",
    "def _markdown(value='_Markdown_',\n",
    "              **kwargs):\n",
    "    \"\"\"\n",
    "    a simple template for markdown text input that templates required input\n",
    "    fields. additional user defined fields can be added as kwargs\n",
    "    \"\"\"\n",
    "    _kwargs = {}\n",
    "    _kwargs['value'] = markdown(value)  # required field\n",
    "    _kwargs.update(kwargs)  # user overides\n",
    "    return widgets.HTML(**_kwargs)\n",
    "\n",
    "\n",
    "class Errors():\n",
    "        \n",
    "    def _errors(self):\n",
    "        self.errors=[]\n",
    "        self.iserror = False\n",
    "        self.errormessage = 'no error'\n",
    "        \n",
    "        \n",
    "class FileController(Errors):\n",
    "    \n",
    "    def __init__(self, fpth_inputs_options):\n",
    "        self.out = widgets.Output()\n",
    "        self.fpth_inputs_options = fpth_inputs_options\n",
    "        self.fpth_inputs = fpth_inputs_options['working']['fpths'][0]\n",
    "        self._errors()\n",
    "        self.file_control_form()\n",
    "        self._init_file_controller()\n",
    "    \n",
    "    @property\n",
    "    def mf_layout(self):\n",
    "        return widgets.Layout(\n",
    "            display='flex',\n",
    "            flex_flow='row',\n",
    "            justify_content='flex-start',\n",
    "            #border='dashed 0.2px green',\n",
    "            grid_auto_columns='False',\n",
    "            width='100%',\n",
    "            #align_items='stretch',  \n",
    "        )\n",
    "        \n",
    "    def file_control_form(self):\n",
    "        \n",
    "        # button bar\n",
    "        self.load_inputs = widgets.ToggleButton(description='inputs from file',button_style='info',style={'font_weight':'bold'})\n",
    "        self.revert = widgets.Button(description='revert to last save',button_style='warning',style={'font_weight':'bold'})#,button_style='success'\n",
    "        self.save_changes = widgets.Button(description='save changes',button_style='success',style={'font_weight':'bold'})\n",
    "        self.button_bar = widgets.HBox([ self.load_inputs, self.revert, self.save_changes])\n",
    "\n",
    "        # nested buttons\n",
    "        template_inputs = self.get_template_inputs()\n",
    "        project_inputs = self.get_project_inputs()\n",
    "        options = dict(template_inputs, **project_inputs)\n",
    "        self.load_button = widgets.Button(description = 'load',icon='fa-upload',style={'font_weight':'bold'})\n",
    "        self.choose_inputs = widgets.RadioButtons(\n",
    "            options = options,\n",
    "            layout = self.mf_layout,\n",
    "        )\n",
    "        self.load = widgets.VBox([self.load_button,self.choose_inputs])\n",
    "        self.temp_message = widgets.HTML(markdown('edit user input form below'))\n",
    "        self.inputform = widgets.VBox([], layout = self.mf_layout)\n",
    "    \n",
    "    def _init_file_controller(self):\n",
    "        self.save_changes.on_click(self._save_changes)\n",
    "        self.load_inputs.observe(self._load_inputs,'value')\n",
    "        self.load_button.on_click(self._load)\n",
    "        self.revert.on_click(self._revert)\n",
    "        \n",
    "    def _revert(self, sender):\n",
    "        \"\"\"revert to last save of working inputs file\"\"\"\n",
    "        fpth = self.fpth_inputs\n",
    "        self.temp_message.value = markdown('revert to inputs in last save of: {0}'.format(fpth))\n",
    "        \n",
    "        # add code here to revert to last save\n",
    "        \n",
    "        self.update_display()\n",
    "        self.display()\n",
    "\n",
    "    def _save_changes(self, sender):\n",
    "        \"\"\"save changes to working inputs file\"\"\"\n",
    "        fpth = self.fpth_inputs\n",
    "        dateTimeObj = datetime.now()\n",
    "        self.save_timestampStr = dateTimeObj.strftime(\"%d-%b-%Y %H:%M:%S\")\n",
    "        self.temp_message.value = markdown('{0} saved at: {1}'.format(fpth, self.save_timestampStr))\n",
    "        \n",
    "        # add code here to save changes to file\n",
    "        \n",
    "        self.update_display()\n",
    "        self.display()\n",
    "        \n",
    "    def _load_inputs(self,sender):\n",
    "        \"\"\"launches the inputs from file dialog\"\"\"\n",
    "        self.temp_message.value = markdown('update the user input form with data from file')\n",
    "        if self.load_inputs.value:\n",
    "            self.inputform.children = [self.load_button, self.choose_inputs]\n",
    "        else:\n",
    "            self.temp_message.value = markdown('')\n",
    "            self.inputform.children = []\n",
    "        self.update_display()\n",
    "        self.display()\n",
    "\n",
    "    def _load(self,sender):\n",
    "        self.update_display()\n",
    "        self.display()\n",
    "        fpth = self.choose_inputs.value\n",
    "        \n",
    "        # add code here to load form from file\n",
    "         \n",
    "        self.temp_message.value = markdown('input form load data from: {0}'.format(fpth))\n",
    "        try:\n",
    "            self.iserror = False\n",
    "            message = 'load input form from: {0}'.format(fpth)\n",
    "        except:\n",
    "            self.iserror = True\n",
    "            self.errormessage = '''__error__ loading : {0}.   \n",
    "            the file has either been deleted or modified such that it is unreadable'''.format(fpth)\n",
    "        with self.out:\n",
    "            clear_output()\n",
    "            if self.load_inputs.value:\n",
    "                display(Markdown(message))\n",
    "            if self.iserror:\n",
    "                display(Markdown(self.errormessage))\n",
    "                \n",
    "    def get_project_inputs(self):\n",
    "        fpths = self.fpth_inputs_options['project']['fpths']\n",
    "        di = {}\n",
    "        for fpth in fpths:\n",
    "            description = 'PROJECT: '+ fpth\n",
    "            di[description] = fpth\n",
    "        return di\n",
    "\n",
    "    def get_template_inputs(self):\n",
    "        fpths = self.fpth_inputs_options['template']['fpths']\n",
    "        di = {}\n",
    "        for fpth in fpths:\n",
    "            description = 'TEMPLATE: '+ fpth\n",
    "            di[description] = fpth\n",
    "        return di\n",
    "\n",
    "    def update_display(self):\n",
    "        box = widgets.VBox([\n",
    "            self.button_bar,\n",
    "            self.temp_message,\n",
    "            self.inputform,\n",
    "        ])\n",
    "        self.layout = box\n",
    "\n",
    "    def display(self):\n",
    "        display(self.layout)\n",
    "        display(self.out)\n",
    "\n",
    "    def _ipython_display_(self):\n",
    "        self.update_display()\n",
    "        self.display()\n",
    "             \n",
    "        \n",
    "class FileConfigController(RunConfig, FileController, Errors):\n",
    "    \n",
    "    \"\"\"\n",
    "    class that combines RunConfig and FileController - generating the filepaths \n",
    "    of the inputs and working files \n",
    "    \"\"\"\n",
    "\n",
    "    def __init__(self,config):\n",
    "        self.config = config\n",
    "        self.out = widgets.Output()\n",
    "        self._errors()\n",
    "        self.user_keys = list(config.keys())\n",
    "        self._update_config()\n",
    "        self.file_control_form()\n",
    "        self._init_file_controller()\n",
    "  \n",
    "    def _revert(self, sender):\n",
    "        \"\"\"revert to last save of working inputs file\"\"\"\n",
    "        fpth = self.fpth_inputs\n",
    "        self.temp_message.value = markdown('revert to inputs in last save of: {0}'.format(fpth))\n",
    "        \n",
    "        # add code here to revert to last save\n",
    "        \n",
    "        self.update_display()\n",
    "        self.display()\n",
    "\n",
    "    def _save_changes(self, sender):\n",
    "        \"\"\"save changes to working inputs file\"\"\"\n",
    "        fpth = self.fpth_inputs\n",
    "        dateTimeObj = datetime.now()\n",
    "        self.save_timestampStr = dateTimeObj.strftime(\"%d-%b-%Y %H:%M:%S\")\n",
    "        self.temp_message.value = markdown('{0} saved at: {1}'.format(fpth, self.save_timestampStr))\n",
    "        \n",
    "        # add code here to save changes to file\n",
    "        \n",
    "        self.update_display()\n",
    "        self.display()\n",
    "        \n",
    "    def _load_inputs(self,sender):\n",
    "        \"\"\"launches the inputs from file dialog\"\"\"\n",
    "        self.temp_message.value = markdown('update the user input form with data from file')\n",
    "        if self.load_inputs.value:\n",
    "            self.inputform.children = [self.load_button, self.choose_inputs]\n",
    "        else:\n",
    "            self.temp_message.value = markdown('')\n",
    "            self.inputform.children = []\n",
    "        self.update_display()\n",
    "        self.display()\n",
    "\n",
    "    def _load(self,sender):\n",
    "        self.update_display()\n",
    "        self.display()\n",
    "        fpth = self.choose_inputs.value\n",
    "        \n",
    "        # add code here to load form from file\n",
    "         \n",
    "        self.temp_message.value = markdown('input form load data from: {0}'.format(fpth))\n",
    "        try:\n",
    "            self.iserror = False\n",
    "            message = 'load input form from: {0}'.format(fpth)\n",
    "        except:\n",
    "            self.iserror = True\n",
    "            self.errormessage = '''__error__ loading : {0}.   \n",
    "            the file has either been deleted or modified such that it is unreadable'''.format(fpth)\n",
    "        with self.out:\n",
    "            clear_output()\n",
    "            if self.load_inputs.value:\n",
    "                display(Markdown(message))\n",
    "            if self.iserror:\n",
    "                display(Markdown(self.errormessage))\n",
    "        \n",
    "if __name__ == \"__main__\":\n",
    "    \n",
    "    # testing the FileController class only\n",
    "    fpth_inputs_options = {\n",
    "        'template': {\n",
    "            'fdir': 'C:\\\\engDev\\\\git_mf\\\\MF_Toolbox\\\\dev\\\\mf_scripts\\\\template_inputs',\n",
    "            'fpths': ['C:\\\\engDev\\\\git_mf\\\\MF_Toolbox\\\\dev\\\\mf_scripts\\\\template_inputs\\\\inputs-eplus_pipework_params.csv']\n",
    "        },\n",
    "        'project': {\n",
    "            'fdir': '.\\\\appdata\\\\inputs\\\\archive',\n",
    "            'fpths': [\n",
    "                '.\\\\appdata\\\\inputs\\\\inputs-eplus_pipework_params-1.csv',\n",
    "                '.\\\\appdata\\\\inputs\\\\inputs-eplus_pipework_params.csv',\n",
    "                '.\\\\appdata\\\\inputs\\\\archive\\\\20200605-1625-inputs-eplus_pipework_params.csv',\n",
    "                '.\\\\appdata\\\\inputs\\\\archive\\\\20200605-1625inputs-eplus_pipework_params.csv',\n",
    "                '.\\\\appdata\\\\inputs\\\\archive\\\\20200607_1420-jg-inputs-eplus_pipework_params.csv'\n",
    "            ]\n",
    "        },\n",
    "        'working': {\n",
    "            'fdir': '.\\\\appdata\\\\inputs',\n",
    "            'fpths': ['.\\\\appdata\\\\inputs\\\\inputs-eplus_pipework_params.csv']\n",
    "        },\n",
    "    }\n",
    "    # d = FileController(fpth_inputs_options)\n",
    "    # display(d)\n",
    "    \n",
    "    \n",
    "    # BUT... fpth_inputs_options is generated by the RunConfig script... \n",
    "    # so we can just inherit that and make a combined class with all of \n",
    "    # the methods... \n",
    "    config={\n",
    "    'fpth_script':os.path.join(os.environ['mf_root'],r'MF_Toolbox\\dev\\mf_scripts\\eplus_pipework_params.py'),\n",
    "    'fdir':'.',\n",
    "    }\n",
    "    fc = FileConfigController(config)\n",
    "    display(fc)"
   ]
  }
 ],
 "metadata": {
  "jupytext": {
   "formats": "ipynb,py:light"
  },
  "kernelspec": {
   "display_name": "Python [conda env:mf_main] *",
   "language": "python",
   "name": "conda-env-mf_main-py"
  },
  "language_info": {
   "codemirror_mode": {
    "name": "ipython",
    "version": 3
   },
   "file_extension": ".py",
   "mimetype": "text/x-python",
   "name": "python",
   "nbconvert_exporter": "python",
   "pygments_lexer": "ipython3",
   "version": "3.7.7"
  },
  "widgets": {
   "application/vnd.jupyter.widget-state+json": {
    "state": {
     "008418d085fd4be38448ba72a957be20": {
      "model_module": "@jupyter-widgets/base",
      "model_module_version": "1.2.0",
      "model_name": "LayoutModel",
      "state": {
       "align_items": "stretch",
       "display": "flex",
       "flex_flow": "row",
       "grid_auto_columns": "True",
       "justify_content": "flex-start",
       "width": "80%"
      }
     },
     "017a189c1f5d4886a42f520f081006cf": {
      "model_module": "@jupyter-widgets/controls",
      "model_module_version": "1.5.0",
      "model_name": "HBoxModel",
      "state": {
       "children": [
        "IPY_MODEL_7303aba7b36a4c56913ea1726c27994a"
       ],
       "layout": "IPY_MODEL_78125864b79b49d8a16ed7dbc4063160"
      }
     },
     "020916abbf7a4c2f80ce445dad250270": {
      "model_module": "@jupyter-widgets/base",
      "model_module_version": "1.2.0",
      "model_name": "LayoutModel",
      "state": {}
     },
     "039fdf921e8f4e5dabb6ce075dae01da": {
      "model_module": "@jupyter-widgets/controls",
      "model_module_version": "1.5.0",
      "model_name": "ButtonStyleModel",
      "state": {
       "font_weight": "bold"
      }
     },
     "0456850e83d247e48a1df820caee7820": {
      "model_module": "@jupyter-widgets/base",
      "model_module_version": "1.2.0",
      "model_name": "LayoutModel",
      "state": {}
     },
     "049cd986e56c400dabdd47bf2563e942": {
      "model_module": "@jupyter-widgets/output",
      "model_module_version": "1.0.0",
      "model_name": "OutputModel",
      "state": {
       "layout": "IPY_MODEL_0456850e83d247e48a1df820caee7820"
      }
     },
     "04f1440c182e4cfd82733cb43c839c48": {
      "model_module": "@jupyter-widgets/base",
      "model_module_version": "1.2.0",
      "model_name": "LayoutModel",
      "state": {}
     },
     "0543e6a0caa34d27a95da0a0087cdd2e": {
      "model_module": "@jupyter-widgets/base",
      "model_module_version": "1.2.0",
      "model_name": "LayoutModel",
      "state": {
       "align_items": "stretch",
       "display": "flex",
       "flex_flow": "row",
       "grid_auto_columns": "True",
       "justify_content": "flex-start",
       "width": "80%"
      }
     },
     "05619a03c2c540c6a7567bd0137f51bc": {
      "model_module": "@jupyter-widgets/controls",
      "model_module_version": "1.5.0",
      "model_name": "VBoxModel",
      "state": {
       "children": [
        "IPY_MODEL_d256c63e028b468a916103af9da74156",
        "IPY_MODEL_e53e4e7f4739442ba989125a2f901a27",
        "IPY_MODEL_866f7794c433408fa30f05cea3c5a904"
       ],
       "layout": "IPY_MODEL_31cd5077235740fea02bec03473ad263"
      }
     },
     "07eb324d3aa64a3cb2b1a0c76d3ee510": {
      "model_module": "@jupyter-widgets/controls",
      "model_module_version": "1.5.0",
      "model_name": "HBoxModel",
      "state": {
       "children": [
        "IPY_MODEL_56a1e3905b1e4dc19d330da0b182af07",
        "IPY_MODEL_9c7f158cf46e41af947dd213fd16940f"
       ],
       "layout": "IPY_MODEL_a8f5a7de1b6f4aef9870627599fa9e4c"
      }
     },
     "09e0f0bbcbd3427bba578e3bf310ecd1": {
      "model_module": "@jupyter-widgets/controls",
      "model_module_version": "1.5.0",
      "model_name": "ButtonStyleModel",
      "state": {
       "font_weight": "bold"
      }
     },
     "0a8714f0bf904c5abfa49cc2eba44cbe": {
      "model_module": "@jupyter-widgets/controls",
      "model_module_version": "1.5.0",
      "model_name": "ButtonStyleModel",
      "state": {
       "font_weight": "bold"
      }
     },
     "0a8ea9de1ace4684ada8a2a2cbbbae8d": {
      "model_module": "@jupyter-widgets/base",
      "model_module_version": "1.2.0",
      "model_name": "LayoutModel",
      "state": {}
     },
     "0b8376573f1d429ba05fcd4708d7f9c4": {
      "model_module": "@jupyter-widgets/base",
      "model_module_version": "1.2.0",
      "model_name": "LayoutModel",
      "state": {}
     },
     "0d08f71c18d746018ccfd21a3cb74a99": {
      "model_module": "@jupyter-widgets/controls",
      "model_module_version": "1.5.0",
      "model_name": "HTMLModel",
      "state": {
       "layout": "IPY_MODEL_ec01796afc7f473087be367dea4cc718",
       "style": "IPY_MODEL_cc602bcdda634619a748619dc65a4adf",
       "value": "<p>its a foo cake</p>"
      }
     },
     "0e6c58d5c8494aff9935f585beb88ca2": {
      "model_module": "@jupyter-widgets/controls",
      "model_module_version": "1.5.0",
      "model_name": "ToggleButtonModel",
      "state": {
       "button_style": "info",
       "description": "inputs from file",
       "layout": "IPY_MODEL_c658071db06d48c7b82f1fb9935f5d62",
       "style": "IPY_MODEL_d33b1c298b9a42169b2f53f53e565e5e"
      }
     },
     "0e7e9d4260ac46e2ae08faba1cc04dc0": {
      "model_module": "@jupyter-widgets/controls",
      "model_module_version": "1.5.0",
      "model_name": "HBoxModel",
      "state": {
       "children": [
        "IPY_MODEL_ef3f62e5f8e24a30a8becf4d975f965d",
        "IPY_MODEL_0d08f71c18d746018ccfd21a3cb74a99"
       ],
       "layout": "IPY_MODEL_0543e6a0caa34d27a95da0a0087cdd2e"
      }
     },
     "0ee9ee058f1045d0aec20d6442a2b89e": {
      "model_module": "@jupyter-widgets/controls",
      "model_module_version": "1.5.0",
      "model_name": "DescriptionStyleModel",
      "state": {
       "description_width": ""
      }
     },
     "10b4604c73e848b2b5c6b7a2fd9e6e81": {
      "model_module": "@jupyter-widgets/base",
      "model_module_version": "1.2.0",
      "model_name": "LayoutModel",
      "state": {}
     },
     "127f7bd83123418d84d4e86db72b17a9": {
      "model_module": "@jupyter-widgets/base",
      "model_module_version": "1.2.0",
      "model_name": "LayoutModel",
      "state": {}
     },
     "12e947c11ee0409f9b12cf62c0a9864e": {
      "model_module": "@jupyter-widgets/controls",
      "model_module_version": "1.5.0",
      "model_name": "HTMLModel",
      "state": {
       "layout": "IPY_MODEL_99b08b1a07234a9792b439f8d1c7644f",
       "style": "IPY_MODEL_f4bdda2f106840c5980048ec17e76ef2",
       "value": "<p>edit user input form below</p>"
      }
     },
     "1600c65edb3c4fc2890b338d4a555d70": {
      "model_module": "@jupyter-widgets/controls",
      "model_module_version": "1.5.0",
      "model_name": "ButtonStyleModel",
      "state": {
       "font_weight": "bold"
      }
     },
     "164ed78d01bf401aaa8d4020d4b5f5ee": {
      "model_module": "@jupyter-widgets/controls",
      "model_module_version": "1.5.0",
      "model_name": "DescriptionStyleModel",
      "state": {
       "description_width": ""
      }
     },
     "16762cf56465441f8903e9c2619c8d6f": {
      "model_module": "@jupyter-widgets/base",
      "model_module_version": "1.2.0",
      "model_name": "LayoutModel",
      "state": {
       "align_items": "stretch",
       "display": "flex",
       "flex_flow": "row",
       "grid_auto_columns": "True",
       "justify_content": "flex-end",
       "width": "90%"
      }
     },
     "1892c352c2834535b3acc365e15ceae6": {
      "model_module": "@jupyter-widgets/controls",
      "model_module_version": "1.5.0",
      "model_name": "HBoxModel",
      "state": {
       "children": [
        "IPY_MODEL_3d46d629817d49d1a4603403dde26eec",
        "IPY_MODEL_b016da66cf704b75b67dc0fdbb18f6fd"
       ],
       "layout": "IPY_MODEL_2b4325703f3d4fff8cb8a5717ddc28f4"
      }
     },
     "191a256f6144486c9438c0f374871007": {
      "model_module": "@jupyter-widgets/controls",
      "model_module_version": "1.5.0",
      "model_name": "HTMLModel",
      "state": {
       "layout": "IPY_MODEL_bd3dff3e17d540f3bac8438fff632997",
       "style": "IPY_MODEL_d803173517a34a33899aff3caf7c517e",
       "value": "<p>its a foo cake</p>"
      }
     },
     "1fabf695c5894ff0a2d2706048aa948b": {
      "model_module": "@jupyter-widgets/controls",
      "model_module_version": "1.5.0",
      "model_name": "DescriptionStyleModel",
      "state": {
       "description_width": ""
      }
     },
     "1fb0a7ac46274babafa27e1eeb3f3e78": {
      "model_module": "@jupyter-widgets/controls",
      "model_module_version": "1.5.0",
      "model_name": "ButtonStyleModel",
      "state": {
       "font_weight": "bold"
      }
     },
     "205a3e1694604c0b96f898b83a293c69": {
      "model_module": "@jupyter-widgets/controls",
      "model_module_version": "1.5.0",
      "model_name": "VBoxModel",
      "state": {
       "children": [
        "IPY_MODEL_85de3c1c658a4b5db255a1c8c25b7d96",
        "IPY_MODEL_8c6580495d0c4f548fe15ee234b478ca",
        "IPY_MODEL_d32745ad50bd4e11a8ed8b1042eb82d0"
       ],
       "layout": "IPY_MODEL_c50eacd19f57445d8a78cddaedb7780f"
      }
     },
     "20bfbda5849c4bf5994be23a6e286fa4": {
      "model_module": "@jupyter-widgets/base",
      "model_module_version": "1.2.0",
      "model_name": "LayoutModel",
      "state": {}
     },
     "214d8f2c7f33416191c1b4fcfea57ca6": {
      "model_module": "@jupyter-widgets/controls",
      "model_module_version": "1.5.0",
      "model_name": "DescriptionStyleModel",
      "state": {
       "description_width": ""
      }
     },
     "216a056262964dd7b212da5caf94bef8": {
      "model_module": "@jupyter-widgets/controls",
      "model_module_version": "1.5.0",
      "model_name": "HBoxModel",
      "state": {
       "children": [
        "IPY_MODEL_750dbad4381a408d93363c32c295462d"
       ],
       "layout": "IPY_MODEL_60b24ca81ba743e6b3f65f6aecb44961"
      }
     },
     "249ba1bfb26a4bb2998ac734f15111ac": {
      "model_module": "@jupyter-widgets/base",
      "model_module_version": "1.2.0",
      "model_name": "LayoutModel",
      "state": {
       "align_items": "stretch",
       "display": "flex",
       "flex_flow": "row",
       "grid_auto_columns": "True",
       "justify_content": "flex-end",
       "width": "90%"
      }
     },
     "25990884214e495bbb3f5c707005614e": {
      "model_module": "@jupyter-widgets/controls",
      "model_module_version": "1.5.0",
      "model_name": "HBoxModel",
      "state": {
       "children": [
        "IPY_MODEL_b3969aded0084152bc4c6fc5946d190a",
        "IPY_MODEL_ea35c5bee0334d6cbb2a91e6dbf20f0e"
       ],
       "layout": "IPY_MODEL_ccc7dba0afd14599bd13ad2a51dc4cf3"
      }
     },
     "263f13067e42440787493eab7c73d87c": {
      "model_module": "@jupyter-widgets/controls",
      "model_module_version": "1.5.0",
      "model_name": "VBoxModel",
      "state": {
       "children": [
        "IPY_MODEL_ae89c2e8cec946b5b00e1c437af54f4a",
        "IPY_MODEL_6fa202f5cff8438d8071c74fe3673c4e",
        "IPY_MODEL_c42e7109103c413e86a3b8887ce90dd4",
        "IPY_MODEL_216a056262964dd7b212da5caf94bef8",
        "IPY_MODEL_8dba4e370fe74cde9d59db2578ae58b6",
        "IPY_MODEL_ef38dce02e6d4dde88a37caddabb292e",
        "IPY_MODEL_017a189c1f5d4886a42f520f081006cf",
        "IPY_MODEL_e8826d214a5e4d78aa57f517bd0cf3a5"
       ],
       "layout": "IPY_MODEL_0a8ea9de1ace4684ada8a2a2cbbbae8d"
      }
     },
     "27077ad86626414d99de7fba88ca278f": {
      "model_module": "@jupyter-widgets/base",
      "model_module_version": "1.2.0",
      "model_name": "LayoutModel",
      "state": {}
     },
     "274548fd98ac4bee8002fbb7c59100b0": {
      "model_module": "@jupyter-widgets/base",
      "model_module_version": "1.2.0",
      "model_name": "LayoutModel",
      "state": {}
     },
     "2781096352d645c7a6000bd3e2e42626": {
      "model_module": "@jupyter-widgets/controls",
      "model_module_version": "1.5.0",
      "model_name": "DescriptionStyleModel",
      "state": {
       "description_width": ""
      }
     },
     "280a5d4521f74e05ad027ee20428a511": {
      "model_module": "@jupyter-widgets/output",
      "model_module_version": "1.0.0",
      "model_name": "OutputModel",
      "state": {
       "layout": "IPY_MODEL_bce900428c9240a48f11e8022082fdf5"
      }
     },
     "2916fd61aaab4010af3f4de34c8c6de8": {
      "model_module": "@jupyter-widgets/controls",
      "model_module_version": "1.5.0",
      "model_name": "RadioButtonsModel",
      "state": {
       "_options_labels": [
        "TEMPLATE: C:\\engDev\\git_mf\\MF_Toolbox\\dev\\mf_scripts\\template_inputs\\inputs-eplus_pipework_params.csv",
        "PROJECT: C:\\engDev\\git_mf\\ipyrun\\ipyrun\\appdata\\inputs\\inputs-eplus_pipework_params-1.csv",
        "PROJECT: C:\\engDev\\git_mf\\ipyrun\\ipyrun\\appdata\\inputs\\inputs-eplus_pipework_params.csv",
        "PROJECT: C:\\engDev\\git_mf\\ipyrun\\ipyrun\\appdata\\inputs\\archive\\20200605-1625-inputs-eplus_pipework_params.csv",
        "PROJECT: C:\\engDev\\git_mf\\ipyrun\\ipyrun\\appdata\\inputs\\archive\\20200605-1625inputs-eplus_pipework_params.csv",
        "PROJECT: C:\\engDev\\git_mf\\ipyrun\\ipyrun\\appdata\\inputs\\archive\\20200607_1420-jg-inputs-eplus_pipework_params.csv",
        "PROJECT: C:\\engDev\\git_mf\\ipyrun\\ipyrun\\appdata\\inputs\\archive\\20200611_1021-jg-inputs-eplus_pipework_params.csv"
       ],
       "index": 0,
       "layout": "IPY_MODEL_5a8996f7a82c48c882a6f03c3ca50120",
       "style": "IPY_MODEL_474b3edc54354d09a130b95189c3fec2"
      }
     },
     "2a2910c137d040d3b419653c6983092f": {
      "model_module": "@jupyter-widgets/controls",
      "model_module_version": "1.5.0",
      "model_name": "HTMLModel",
      "state": {
       "layout": "IPY_MODEL_6cc7e50d042d4dc9be18969057432fe0",
       "style": "IPY_MODEL_db286597504b40939fee43ff21b2f334",
       "value": "<p>label</p>"
      }
     },
     "2b4325703f3d4fff8cb8a5717ddc28f4": {
      "model_module": "@jupyter-widgets/base",
      "model_module_version": "1.2.0",
      "model_name": "LayoutModel",
      "state": {
       "align_items": "stretch",
       "display": "flex",
       "flex_flow": "row",
       "grid_auto_columns": "True",
       "justify_content": "flex-start",
       "width": "80%"
      }
     },
     "2c68c61a200b417194453ba97608ad29": {
      "model_module": "@jupyter-widgets/base",
      "model_module_version": "1.2.0",
      "model_name": "LayoutModel",
      "state": {}
     },
     "2cb597d887e643d6b043a6fc046ffafb": {
      "model_module": "@jupyter-widgets/base",
      "model_module_version": "1.2.0",
      "model_name": "LayoutModel",
      "state": {}
     },
     "2e4e620379a5490b9bcf33b0594c019f": {
      "model_module": "@jupyter-widgets/base",
      "model_module_version": "1.2.0",
      "model_name": "LayoutModel",
      "state": {}
     },
     "2fd476c9c5ae4a32a86c10b4e87d8bea": {
      "model_module": "@jupyter-widgets/base",
      "model_module_version": "1.2.0",
      "model_name": "LayoutModel",
      "state": {}
     },
     "31073e80c12a4b508d07bc33a9e73dd2": {
      "model_module": "@jupyter-widgets/controls",
      "model_module_version": "1.5.0",
      "model_name": "VBoxModel",
      "state": {
       "children": [
        "IPY_MODEL_ed94208bc19c41188d9c7dda5bf2546e",
        "IPY_MODEL_12e947c11ee0409f9b12cf62c0a9864e",
        "IPY_MODEL_df7b57cab5f6420992b34e5f9a626792"
       ],
       "layout": "IPY_MODEL_020916abbf7a4c2f80ce445dad250270"
      }
     },
     "31cd5077235740fea02bec03473ad263": {
      "model_module": "@jupyter-widgets/base",
      "model_module_version": "1.2.0",
      "model_name": "LayoutModel",
      "state": {}
     },
     "3541e5267a7e42c7a0e3e3b91d57db7e": {
      "model_module": "@jupyter-widgets/output",
      "model_module_version": "1.0.0",
      "model_name": "OutputModel",
      "state": {
       "layout": "IPY_MODEL_c3dc10442f5442c5a319b6c72b8e5019"
      }
     },
     "361af54dc28243d6884092e5801d1cec": {
      "model_module": "@jupyter-widgets/base",
      "model_module_version": "1.2.0",
      "model_name": "LayoutModel",
      "state": {}
     },
     "37893fbe40da44f4b7c8393e2817f755": {
      "model_module": "@jupyter-widgets/controls",
      "model_module_version": "1.5.0",
      "model_name": "HBoxModel",
      "state": {
       "children": [
        "IPY_MODEL_7e31d192d9594ea1843c6c0d0b6eae39",
        "IPY_MODEL_9cad0468e8564402aab1bbcc0e03886f"
       ],
       "layout": "IPY_MODEL_f290d93144eb49c58bd0ee21e346bb28"
      }
     },
     "3858c1cb48a0446c86d955a18efe3373": {
      "model_module": "@jupyter-widgets/controls",
      "model_module_version": "1.5.0",
      "model_name": "DescriptionStyleModel",
      "state": {
       "description_width": ""
      }
     },
     "3d46d629817d49d1a4603403dde26eec": {
      "model_module": "@jupyter-widgets/controls",
      "model_module_version": "1.5.0",
      "model_name": "CheckboxModel",
      "state": {
       "disabled": false,
       "layout": "IPY_MODEL_67dd2a2f979345e19b80bc7b407f2a75",
       "style": "IPY_MODEL_c849d47ae5804c7797ea32dfdf2e2a04",
       "value": false
      }
     },
     "3d75b4be521e471e8a026c8537f42da4": {
      "model_module": "@jupyter-widgets/controls",
      "model_module_version": "1.5.0",
      "model_name": "VBoxModel",
      "state": {
       "children": [
        "IPY_MODEL_dd8eb97690f94d5f94fe84561015476f",
        "IPY_MODEL_ecdc286be54642c4b5fc0bb951995028"
       ],
       "layout": "IPY_MODEL_bb3e4f85672249a4a024f7ddb7d5486f"
      }
     },
     "40eb31c42ece4a26948b7af963fceb33": {
      "model_module": "@jupyter-widgets/base",
      "model_module_version": "1.2.0",
      "model_name": "LayoutModel",
      "state": {}
     },
     "4194aa1295a44837ab80f69a5184bfa0": {
      "model_module": "@jupyter-widgets/base",
      "model_module_version": "1.2.0",
      "model_name": "LayoutModel",
      "state": {}
     },
     "4249c96984f34db2b074477fe871412c": {
      "model_module": "@jupyter-widgets/base",
      "model_module_version": "1.2.0",
      "model_name": "LayoutModel",
      "state": {}
     },
     "469fbf73d2304e83999ea67bf33a67af": {
      "model_module": "@jupyter-widgets/base",
      "model_module_version": "1.2.0",
      "model_name": "LayoutModel",
      "state": {}
     },
     "474b3edc54354d09a130b95189c3fec2": {
      "model_module": "@jupyter-widgets/controls",
      "model_module_version": "1.5.0",
      "model_name": "DescriptionStyleModel",
      "state": {
       "description_width": ""
      }
     },
     "4758a590138d47eea7eed694cf107d17": {
      "model_module": "@jupyter-widgets/controls",
      "model_module_version": "1.5.0",
      "model_name": "HTMLModel",
      "state": {
       "layout": "IPY_MODEL_a00f524cfffe490582f899f5254e1865",
       "style": "IPY_MODEL_214d8f2c7f33416191c1b4fcfea57ca6",
       "value": "<p>label</p>"
      }
     },
     "4794a16839704ff8a5f50ecaf41d4de9": {
      "model_module": "@jupyter-widgets/controls",
      "model_module_version": "1.5.0",
      "model_name": "DescriptionStyleModel",
      "state": {
       "description_width": ""
      }
     },
     "48622d6694bf472a9d5840508c65ee24": {
      "model_module": "@jupyter-widgets/controls",
      "model_module_version": "1.5.0",
      "model_name": "ButtonStyleModel",
      "state": {}
     },
     "49a9ce2810624d83a53926c4b65854b9": {
      "model_module": "@jupyter-widgets/controls",
      "model_module_version": "1.5.0",
      "model_name": "ButtonModel",
      "state": {
       "button_style": "success",
       "description": "save changes",
       "layout": "IPY_MODEL_dca98313b14d4392adf543a0883b1c87",
       "style": "IPY_MODEL_4b669ac219d04b59b07b13566e816166"
      }
     },
     "4a0edb261d44494f9aa895205a714c5d": {
      "model_module": "@jupyter-widgets/base",
      "model_module_version": "1.2.0",
      "model_name": "LayoutModel",
      "state": {}
     },
     "4b669ac219d04b59b07b13566e816166": {
      "model_module": "@jupyter-widgets/controls",
      "model_module_version": "1.5.0",
      "model_name": "ButtonStyleModel",
      "state": {
       "font_weight": "bold"
      }
     },
     "4d53236fed3746a2a7c54a6f16a9e4de": {
      "model_module": "@jupyter-widgets/base",
      "model_module_version": "1.2.0",
      "model_name": "LayoutModel",
      "state": {}
     },
     "4d65d557466143caa3183a0e5a4267a1": {
      "model_module": "@jupyter-widgets/base",
      "model_module_version": "1.2.0",
      "model_name": "LayoutModel",
      "state": {}
     },
     "50b5b22f5b4346e1867d740717090c8b": {
      "model_module": "@jupyter-widgets/output",
      "model_module_version": "1.0.0",
      "model_name": "OutputModel",
      "state": {
       "layout": "IPY_MODEL_4194aa1295a44837ab80f69a5184bfa0"
      }
     },
     "50c594033c84487c82e430d49d78eecc": {
      "model_module": "@jupyter-widgets/controls",
      "model_module_version": "1.5.0",
      "model_name": "HTMLModel",
      "state": {
       "layout": "IPY_MODEL_20bfbda5849c4bf5994be23a6e286fa4",
       "style": "IPY_MODEL_c449de1209114df080f18424e047e0c2",
       "value": "<p>reous foo ous foo st</p>"
      }
     },
     "50eb7b71a7d444c7887164e4eb83118f": {
      "model_module": "@jupyter-widgets/controls",
      "model_module_version": "1.5.0",
      "model_name": "DescriptionStyleModel",
      "state": {
       "description_width": ""
      }
     },
     "51b169c51ec04d55868e14aea110aa93": {
      "model_module": "@jupyter-widgets/base",
      "model_module_version": "1.2.0",
      "model_name": "LayoutModel",
      "state": {}
     },
     "51b8c605e5eb4d58b5f2f7429469a92b": {
      "model_module": "@jupyter-widgets/base",
      "model_module_version": "1.2.0",
      "model_name": "LayoutModel",
      "state": {
       "align_items": "stretch",
       "border": "dashed 0.2px green",
       "display": "flex",
       "flex_flow": "row",
       "grid_auto_columns": "True",
       "justify_content": "flex-start",
       "width": "100%"
      }
     },
     "52c2547b3c234a91bc2796433dea6d73": {
      "model_module": "@jupyter-widgets/controls",
      "model_module_version": "1.5.0",
      "model_name": "RadioButtonsModel",
      "state": {
       "_options_labels": [
        "TEMPLATE: C:\\engDev\\git_mf\\MF_Toolbox\\dev\\mf_scripts\\template_inputs\\inputs-eplus_pipework_params.csv",
        "PROJECT: C:\\engDev\\git_mf\\ipyrun\\ipyrun\\appdata\\inputs\\inputs-eplus_pipework_params-1.csv",
        "PROJECT: C:\\engDev\\git_mf\\ipyrun\\ipyrun\\appdata\\inputs\\inputs-eplus_pipework_params.csv",
        "PROJECT: C:\\engDev\\git_mf\\ipyrun\\ipyrun\\appdata\\inputs\\archive\\20200605-1625-inputs-eplus_pipework_params.csv",
        "PROJECT: C:\\engDev\\git_mf\\ipyrun\\ipyrun\\appdata\\inputs\\archive\\20200605-1625inputs-eplus_pipework_params.csv",
        "PROJECT: C:\\engDev\\git_mf\\ipyrun\\ipyrun\\appdata\\inputs\\archive\\20200607_1420-jg-inputs-eplus_pipework_params.csv",
        "PROJECT: C:\\engDev\\git_mf\\ipyrun\\ipyrun\\appdata\\inputs\\archive\\20200611_1021-jg-inputs-eplus_pipework_params.csv"
       ],
       "index": 0,
       "layout": "IPY_MODEL_ba9a86b3d643471aa1dcd7c2012f9512",
       "style": "IPY_MODEL_f5fabd70d6e94b4d92417420e6ab3753"
      }
     },
     "546360b2dd4a41db93a1a07af41210f0": {
      "model_module": "@jupyter-widgets/base",
      "model_module_version": "1.2.0",
      "model_name": "LayoutModel",
      "state": {
       "display": "flex",
       "flex_flow": "row",
       "grid_auto_columns": "False",
       "justify_content": "flex-start",
       "width": "100%"
      }
     },
     "5470463774f548278f95a878ab0f772a": {
      "model_module": "@jupyter-widgets/base",
      "model_module_version": "1.2.0",
      "model_name": "LayoutModel",
      "state": {
       "align_items": "stretch",
       "display": "flex",
       "flex_flow": "row",
       "grid_auto_columns": "True",
       "justify_content": "flex-end",
       "width": "90%"
      }
     },
     "56a1e3905b1e4dc19d330da0b182af07": {
      "model_module": "@jupyter-widgets/controls",
      "model_module_version": "1.5.0",
      "model_name": "FloatTextModel",
      "state": {
       "layout": "IPY_MODEL_d9c5a97456bd4e1c8475dbab15d0904d",
       "step": null,
       "style": "IPY_MODEL_f267b03a52d84f158796b28a261f10dd",
       "value": 9
      }
     },
     "56b8cb6169304fb79325fd14009c946f": {
      "model_module": "@jupyter-widgets/controls",
      "model_module_version": "1.5.0",
      "model_name": "ButtonModel",
      "state": {
       "button_style": "success",
       "description": "save changes",
       "layout": "IPY_MODEL_274548fd98ac4bee8002fbb7c59100b0",
       "style": "IPY_MODEL_0a8714f0bf904c5abfa49cc2eba44cbe"
      }
     },
     "56c6dc4ec5214177be4b0b358ed4a056": {
      "model_module": "@jupyter-widgets/controls",
      "model_module_version": "1.5.0",
      "model_name": "VBoxModel",
      "state": {
       "children": [
        "IPY_MODEL_dee65f7643364907867d3d7c7c5f8113",
        "IPY_MODEL_52c2547b3c234a91bc2796433dea6d73"
       ],
       "layout": "IPY_MODEL_af008e966ccc49d6ad928c6cf9397047"
      }
     },
     "57ef811c682b4d95b5150781cb59852e": {
      "model_module": "@jupyter-widgets/output",
      "model_module_version": "1.0.0",
      "model_name": "OutputModel",
      "state": {
       "layout": "IPY_MODEL_b67a109de89443818d49a18e99fdfff2"
      }
     },
     "588d7d3e8c014308a1b16df90998acb6": {
      "model_module": "@jupyter-widgets/base",
      "model_module_version": "1.2.0",
      "model_name": "LayoutModel",
      "state": {}
     },
     "591f2bef8224428cac46b088d02705cc": {
      "model_module": "@jupyter-widgets/controls",
      "model_module_version": "1.5.0",
      "model_name": "ButtonStyleModel",
      "state": {
       "font_weight": "bold"
      }
     },
     "5921d7f7451d4a0eb2f7316173afecbb": {
      "model_module": "@jupyter-widgets/base",
      "model_module_version": "1.2.0",
      "model_name": "LayoutModel",
      "state": {
       "align_items": "stretch",
       "display": "flex",
       "flex_flow": "row",
       "grid_auto_columns": "True",
       "justify_content": "flex-start",
       "width": "80%"
      }
     },
     "5a8996f7a82c48c882a6f03c3ca50120": {
      "model_module": "@jupyter-widgets/base",
      "model_module_version": "1.2.0",
      "model_name": "LayoutModel",
      "state": {
       "display": "flex",
       "flex_flow": "row",
       "grid_auto_columns": "False",
       "justify_content": "flex-start",
       "width": "100%"
      }
     },
     "5ba04392efa14fc0ae63a2cf0bfb8a37": {
      "model_module": "@jupyter-widgets/controls",
      "model_module_version": "1.5.0",
      "model_name": "HTMLModel",
      "state": {
       "layout": "IPY_MODEL_b8f071b3c2bf458da635f36c22452f98",
       "style": "IPY_MODEL_d52f12e0ad1a4a4994ea90179811e3b5",
       "value": "<p>fus foo ous o</p>"
      }
     },
     "5be4c9eaff074da18c0b01491a45a694": {
      "model_module": "@jupyter-widgets/controls",
      "model_module_version": "1.5.0",
      "model_name": "DescriptionStyleModel",
      "state": {
       "description_width": ""
      }
     },
     "5dc3355eb3ff45efb6f7629c04dd98d0": {
      "model_module": "@jupyter-widgets/base",
      "model_module_version": "1.2.0",
      "model_name": "LayoutModel",
      "state": {
       "align_items": "stretch",
       "display": "flex",
       "flex_flow": "row",
       "grid_auto_columns": "True",
       "justify_content": "flex-start",
       "width": "80%"
      }
     },
     "5f910693d6374e989760d78b5374b61d": {
      "model_module": "@jupyter-widgets/controls",
      "model_module_version": "1.5.0",
      "model_name": "DescriptionStyleModel",
      "state": {
       "description_width": ""
      }
     },
     "60b24ca81ba743e6b3f65f6aecb44961": {
      "model_module": "@jupyter-widgets/base",
      "model_module_version": "1.2.0",
      "model_name": "LayoutModel",
      "state": {
       "align_items": "stretch",
       "border": "dashed 0.2px green",
       "display": "flex",
       "flex_flow": "row",
       "grid_auto_columns": "True",
       "justify_content": "flex-start",
       "width": "100%"
      }
     },
     "60db8c0b907847ba92e432e5bd3f3bbf": {
      "model_module": "@jupyter-widgets/controls",
      "model_module_version": "1.5.0",
      "model_name": "HTMLModel",
      "state": {
       "layout": "IPY_MODEL_f816a74eed5a40c8abf1265272c5dbd7",
       "style": "IPY_MODEL_7fb408283f0f44ebb8d63fd3f0baf6fe",
       "value": "<p>foo</p>"
      }
     },
     "60f223ef2d544539bae870afd33bf359": {
      "model_module": "@jupyter-widgets/controls",
      "model_module_version": "1.5.0",
      "model_name": "DescriptionStyleModel",
      "state": {
       "description_width": ""
      }
     },
     "63879a2b8108440895128af0ff8e727a": {
      "model_module": "@jupyter-widgets/controls",
      "model_module_version": "1.5.0",
      "model_name": "HTMLModel",
      "state": {
       "layout": "IPY_MODEL_2cb597d887e643d6b043a6fc046ffafb",
       "style": "IPY_MODEL_60f223ef2d544539bae870afd33bf359",
       "value": "<p>fus foo ous o</p>"
      }
     },
     "660e2af7ce4f4c35970aff854df5b254": {
      "model_module": "@jupyter-widgets/output",
      "model_module_version": "1.0.0",
      "model_name": "OutputModel",
      "state": {
       "layout": "IPY_MODEL_d8a57499eaae49bbbf2e2b305262f657"
      }
     },
     "664d6b4d74e2451da35f01e1ba230869": {
      "model_module": "@jupyter-widgets/base",
      "model_module_version": "1.2.0",
      "model_name": "LayoutModel",
      "state": {}
     },
     "668f6f5928784c928718367748159cdb": {
      "model_module": "@jupyter-widgets/base",
      "model_module_version": "1.2.0",
      "model_name": "LayoutModel",
      "state": {
       "align_items": "stretch",
       "border": "dashed 0.2px green",
       "display": "flex",
       "flex_flow": "row",
       "grid_auto_columns": "True",
       "justify_content": "flex-start",
       "width": "100%"
      }
     },
     "67dd2a2f979345e19b80bc7b407f2a75": {
      "model_module": "@jupyter-widgets/base",
      "model_module_version": "1.2.0",
      "model_name": "LayoutModel",
      "state": {}
     },
     "6971bad1caee4e2b882703f0cc91ba22": {
      "model_module": "@jupyter-widgets/controls",
      "model_module_version": "1.5.0",
      "model_name": "HTMLModel",
      "state": {
       "layout": "IPY_MODEL_785cc29efa174b0599da660f524d432a",
       "style": "IPY_MODEL_2781096352d645c7a6000bd3e2e42626",
       "value": "<p>name</p>"
      }
     },
     "6983446d5fe14854b8f6cf66659e009b": {
      "model_module": "@jupyter-widgets/controls",
      "model_module_version": "1.5.0",
      "model_name": "HTMLModel",
      "state": {
       "layout": "IPY_MODEL_4a0edb261d44494f9aa895205a714c5d",
       "style": "IPY_MODEL_c9c8e0a9ed984945942a1853d45165fa",
       "value": "<p>reus foo ous oo ous foo st</p>"
      }
     },
     "6a46a3b0ed0f4f8c9c13d562920ab6b5": {
      "model_module": "@jupyter-widgets/base",
      "model_module_version": "1.2.0",
      "model_name": "LayoutModel",
      "state": {}
     },
     "6bda6cdf26404a198eba527466994038": {
      "model_module": "@jupyter-widgets/controls",
      "model_module_version": "1.5.0",
      "model_name": "ButtonModel",
      "state": {
       "description": "load",
       "icon": "upload",
       "layout": "IPY_MODEL_88c335585d8e4e539f39f92a4da84e5c",
       "style": "IPY_MODEL_1600c65edb3c4fc2890b338d4a555d70"
      }
     },
     "6cc7e50d042d4dc9be18969057432fe0": {
      "model_module": "@jupyter-widgets/base",
      "model_module_version": "1.2.0",
      "model_name": "LayoutModel",
      "state": {}
     },
     "6e12a34bccce4d1b9206ca5aebbcb3a2": {
      "model_module": "@jupyter-widgets/base",
      "model_module_version": "1.2.0",
      "model_name": "LayoutModel",
      "state": {
       "align_items": "stretch",
       "display": "flex",
       "flex_flow": "row",
       "grid_auto_columns": "True",
       "justify_content": "flex-start",
       "width": "80%"
      }
     },
     "6fa202f5cff8438d8071c74fe3673c4e": {
      "model_module": "@jupyter-widgets/controls",
      "model_module_version": "1.5.0",
      "model_name": "HBoxModel",
      "state": {
       "children": [
        "IPY_MODEL_ebc89a22398344779db841b13af3610e"
       ],
       "layout": "IPY_MODEL_51b8c605e5eb4d58b5f2f7429469a92b"
      }
     },
     "727af8757db5407682d89ff64434c321": {
      "model_module": "@jupyter-widgets/controls",
      "model_module_version": "1.5.0",
      "model_name": "ToggleButtonModel",
      "state": {
       "layout": "IPY_MODEL_db15ecdedc1749189cac85566ea7a938",
       "style": "IPY_MODEL_b410428c50ea45738ce41aac3a388ce9"
      }
     },
     "72fc2303ce344c95a6d2594f3d85888d": {
      "model_module": "@jupyter-widgets/controls",
      "model_module_version": "1.5.0",
      "model_name": "ButtonStyleModel",
      "state": {
       "font_weight": "bold"
      }
     },
     "7303aba7b36a4c56913ea1726c27994a": {
      "model_module": "@jupyter-widgets/controls",
      "model_module_version": "1.5.0",
      "model_name": "HBoxModel",
      "state": {
       "children": [
        "IPY_MODEL_6971bad1caee4e2b882703f0cc91ba22",
        "IPY_MODEL_789cfbde2add45b3ab6c6044ae3aff4a"
       ],
       "layout": "IPY_MODEL_249ba1bfb26a4bb2998ac734f15111ac"
      }
     },
     "750dbad4381a408d93363c32c295462d": {
      "model_module": "@jupyter-widgets/controls",
      "model_module_version": "1.5.0",
      "model_name": "HBoxModel",
      "state": {
       "children": [
        "IPY_MODEL_5ba04392efa14fc0ae63a2cf0bfb8a37",
        "IPY_MODEL_85dd1c0c739041c0aff9d4707e3df423"
       ],
       "layout": "IPY_MODEL_c453df97087144f3abb78aebf1380431"
      }
     },
     "75faec3eb91a4e90a38a4bd2bb5ea2ed": {
      "model_module": "@jupyter-widgets/base",
      "model_module_version": "1.2.0",
      "model_name": "LayoutModel",
      "state": {}
     },
     "76709fe4414445af8eafdd9ea637065d": {
      "model_module": "@jupyter-widgets/controls",
      "model_module_version": "1.5.0",
      "model_name": "ToggleButtonModel",
      "state": {
       "layout": "IPY_MODEL_4d65d557466143caa3183a0e5a4267a1",
       "style": "IPY_MODEL_164ed78d01bf401aaa8d4020d4b5f5ee"
      }
     },
     "7808dbb19417489aa71f6bfba65353d5": {
      "model_module": "@jupyter-widgets/base",
      "model_module_version": "1.2.0",
      "model_name": "LayoutModel",
      "state": {
       "align_items": "stretch",
       "border": "dashed 0.2px green",
       "display": "flex",
       "flex_flow": "row",
       "grid_auto_columns": "True",
       "justify_content": "flex-start",
       "width": "100%"
      }
     },
     "78125864b79b49d8a16ed7dbc4063160": {
      "model_module": "@jupyter-widgets/base",
      "model_module_version": "1.2.0",
      "model_name": "LayoutModel",
      "state": {
       "align_items": "stretch",
       "border": "dashed 0.2px green",
       "display": "flex",
       "flex_flow": "row",
       "grid_auto_columns": "True",
       "justify_content": "flex-start",
       "width": "100%"
      }
     },
     "785cc29efa174b0599da660f524d432a": {
      "model_module": "@jupyter-widgets/base",
      "model_module_version": "1.2.0",
      "model_name": "LayoutModel",
      "state": {}
     },
     "78719d774cb849e696742c86cbd5202d": {
      "model_module": "@jupyter-widgets/base",
      "model_module_version": "1.2.0",
      "model_name": "LayoutModel",
      "state": {
       "align_items": "stretch",
       "display": "flex",
       "flex_flow": "row",
       "grid_auto_columns": "True",
       "justify_content": "flex-end",
       "width": "90%"
      }
     },
     "789cfbde2add45b3ab6c6044ae3aff4a": {
      "model_module": "@jupyter-widgets/controls",
      "model_module_version": "1.5.0",
      "model_name": "HBoxModel",
      "state": {
       "children": [
        "IPY_MODEL_727af8757db5407682d89ff64434c321",
        "IPY_MODEL_4758a590138d47eea7eed694cf107d17"
       ],
       "layout": "IPY_MODEL_e321f401a0ce42a18a68b9a88cd76655"
      }
     },
     "791290eb871a4ca581f1358f2ebe070a": {
      "model_module": "@jupyter-widgets/controls",
      "model_module_version": "1.5.0",
      "model_name": "SliderStyleModel",
      "state": {
       "description_width": ""
      }
     },
     "7d0cad28628a45a499bab63c2664f243": {
      "model_module": "@jupyter-widgets/base",
      "model_module_version": "1.2.0",
      "model_name": "LayoutModel",
      "state": {}
     },
     "7d17be194ec24124ac8f1afa1673f914": {
      "model_module": "@jupyter-widgets/base",
      "model_module_version": "1.2.0",
      "model_name": "LayoutModel",
      "state": {
       "align_items": "stretch",
       "border": "dashed 0.2px green",
       "display": "flex",
       "flex_flow": "row",
       "grid_auto_columns": "True",
       "justify_content": "flex-start",
       "width": "100%"
      }
     },
     "7e31d192d9594ea1843c6c0d0b6eae39": {
      "model_module": "@jupyter-widgets/controls",
      "model_module_version": "1.5.0",
      "model_name": "HTMLModel",
      "state": {
       "layout": "IPY_MODEL_bad253bd8aef490bb8033c895df25f6f",
       "style": "IPY_MODEL_3858c1cb48a0446c86d955a18efe3373",
       "value": "<p>foo</p>"
      }
     },
     "7ef6203de2e04636b724f5ec6a9ab696": {
      "model_module": "@jupyter-widgets/controls",
      "model_module_version": "1.5.0",
      "model_name": "DescriptionStyleModel",
      "state": {
       "description_width": ""
      }
     },
     "7fb408283f0f44ebb8d63fd3f0baf6fe": {
      "model_module": "@jupyter-widgets/controls",
      "model_module_version": "1.5.0",
      "model_name": "DescriptionStyleModel",
      "state": {
       "description_width": ""
      }
     },
     "8049eb5cb0594f1ba24ae527bca76976": {
      "model_module": "@jupyter-widgets/base",
      "model_module_version": "1.2.0",
      "model_name": "LayoutModel",
      "state": {
       "display": "flex",
       "flex_flow": "row",
       "grid_auto_columns": "False",
       "justify_content": "flex-start",
       "width": "100%"
      }
     },
     "84a45cef3994455aacc533565c4d3185": {
      "model_module": "@jupyter-widgets/controls",
      "model_module_version": "1.5.0",
      "model_name": "ButtonModel",
      "state": {
       "button_style": "warning",
       "description": "revert to last save",
       "layout": "IPY_MODEL_2e4e620379a5490b9bcf33b0594c019f",
       "style": "IPY_MODEL_09e0f0bbcbd3427bba578e3bf310ecd1"
      }
     },
     "8534485643654ac6a6d64dda92d4b01c": {
      "model_module": "@jupyter-widgets/controls",
      "model_module_version": "1.5.0",
      "model_name": "HBoxModel",
      "state": {
       "children": [
        "IPY_MODEL_50c594033c84487c82e430d49d78eecc",
        "IPY_MODEL_07eb324d3aa64a3cb2b1a0c76d3ee510"
       ],
       "layout": "IPY_MODEL_16762cf56465441f8903e9c2619c8d6f"
      }
     },
     "85dd1c0c739041c0aff9d4707e3df423": {
      "model_module": "@jupyter-widgets/controls",
      "model_module_version": "1.5.0",
      "model_name": "HBoxModel",
      "state": {
       "children": [
        "IPY_MODEL_86b3e4a626584e99b2a1527d435339b9",
        "IPY_MODEL_191a256f6144486c9438c0f374871007"
       ],
       "layout": "IPY_MODEL_6e12a34bccce4d1b9206ca5aebbcb3a2"
      }
     },
     "85de3c1c658a4b5db255a1c8c25b7d96": {
      "model_module": "@jupyter-widgets/controls",
      "model_module_version": "1.5.0",
      "model_name": "HBoxModel",
      "state": {
       "children": [
        "IPY_MODEL_c82d1b1a6225461a83e42c66032436eb",
        "IPY_MODEL_d3504ebd06644bbc948698a21b67f9b5",
        "IPY_MODEL_f261476afc6d4d7da00dca84ba21188e"
       ],
       "layout": "IPY_MODEL_4d53236fed3746a2a7c54a6f16a9e4de"
      }
     },
     "866f7794c433408fa30f05cea3c5a904": {
      "model_module": "@jupyter-widgets/controls",
      "model_module_version": "1.5.0",
      "model_name": "VBoxModel",
      "state": {
       "children": [
        "IPY_MODEL_dd8eb97690f94d5f94fe84561015476f",
        "IPY_MODEL_ecdc286be54642c4b5fc0bb951995028"
       ],
       "layout": "IPY_MODEL_546360b2dd4a41db93a1a07af41210f0"
      }
     },
     "86b3e4a626584e99b2a1527d435339b9": {
      "model_module": "@jupyter-widgets/controls",
      "model_module_version": "1.5.0",
      "model_name": "DropdownModel",
      "state": {
       "_options_labels": [
        "asfd",
        "10",
        "asdf"
       ],
       "index": 1,
       "layout": "IPY_MODEL_4249c96984f34db2b074477fe871412c",
       "style": "IPY_MODEL_1fabf695c5894ff0a2d2706048aa948b"
      }
     },
     "88c335585d8e4e539f39f92a4da84e5c": {
      "model_module": "@jupyter-widgets/base",
      "model_module_version": "1.2.0",
      "model_name": "LayoutModel",
      "state": {}
     },
     "8ba8e106da6a4900ae9106c7575f8076": {
      "model_module": "@jupyter-widgets/base",
      "model_module_version": "1.2.0",
      "model_name": "LayoutModel",
      "state": {
       "align_items": "stretch",
       "border": "dashed 0.2px green",
       "display": "flex",
       "flex_flow": "row",
       "grid_auto_columns": "True",
       "justify_content": "flex-start",
       "width": "100%"
      }
     },
     "8c6580495d0c4f548fe15ee234b478ca": {
      "model_module": "@jupyter-widgets/controls",
      "model_module_version": "1.5.0",
      "model_name": "HTMLModel",
      "state": {
       "layout": "IPY_MODEL_04f1440c182e4cfd82733cb43c839c48",
       "style": "IPY_MODEL_5be4c9eaff074da18c0b01491a45a694",
       "value": "<p>edit user input form below</p>"
      }
     },
     "8c9df2996f304030a3b5d0358840a353": {
      "model_module": "@jupyter-widgets/controls",
      "model_module_version": "1.5.0",
      "model_name": "SelectMultipleModel",
      "state": {
       "_options_labels": [
        "asfd",
        "10",
        "asdf"
       ],
       "index": [
        1
       ],
       "layout": "IPY_MODEL_127f7bd83123418d84d4e86db72b17a9",
       "rows": 5,
       "style": "IPY_MODEL_c47f83a36a334ef3958f497e0323efc9"
      }
     },
     "8d9d36bf938849a5add43f9a19d9e8eb": {
      "model_module": "@jupyter-widgets/base",
      "model_module_version": "1.2.0",
      "model_name": "LayoutModel",
      "state": {
       "width": "5%"
      }
     },
     "8dba4e370fe74cde9d59db2578ae58b6": {
      "model_module": "@jupyter-widgets/controls",
      "model_module_version": "1.5.0",
      "model_name": "HBoxModel",
      "state": {
       "children": [
        "IPY_MODEL_ff98441ce51c44a986be3f3ce099140c"
       ],
       "layout": "IPY_MODEL_7808dbb19417489aa71f6bfba65353d5"
      }
     },
     "956be6c7f1f5449881a70e102fc0be38": {
      "model_module": "@jupyter-widgets/controls",
      "model_module_version": "1.5.0",
      "model_name": "VBoxModel",
      "state": {
       "children": [
        "IPY_MODEL_6bda6cdf26404a198eba527466994038",
        "IPY_MODEL_2916fd61aaab4010af3f4de34c8c6de8"
       ],
       "layout": "IPY_MODEL_6a46a3b0ed0f4f8c9c13d562920ab6b5"
      }
     },
     "99b08b1a07234a9792b439f8d1c7644f": {
      "model_module": "@jupyter-widgets/base",
      "model_module_version": "1.2.0",
      "model_name": "LayoutModel",
      "state": {}
     },
     "9a39ed0bcadf43d0b4bea7f56b7143c6": {
      "model_module": "@jupyter-widgets/controls",
      "model_module_version": "1.5.0",
      "model_name": "VBoxModel",
      "state": {
       "children": [
        "IPY_MODEL_ae89c2e8cec946b5b00e1c437af54f4a",
        "IPY_MODEL_6fa202f5cff8438d8071c74fe3673c4e",
        "IPY_MODEL_c42e7109103c413e86a3b8887ce90dd4",
        "IPY_MODEL_216a056262964dd7b212da5caf94bef8",
        "IPY_MODEL_8dba4e370fe74cde9d59db2578ae58b6",
        "IPY_MODEL_ef38dce02e6d4dde88a37caddabb292e",
        "IPY_MODEL_017a189c1f5d4886a42f520f081006cf",
        "IPY_MODEL_e8826d214a5e4d78aa57f517bd0cf3a5"
       ],
       "layout": "IPY_MODEL_2c68c61a200b417194453ba97608ad29"
      }
     },
     "9c7f158cf46e41af947dd213fd16940f": {
      "model_module": "@jupyter-widgets/controls",
      "model_module_version": "1.5.0",
      "model_name": "HTMLModel",
      "state": {
       "layout": "IPY_MODEL_51b169c51ec04d55868e14aea110aa93",
       "style": "IPY_MODEL_e12adac760c240858af9c1b34d6b47c9",
       "value": "<p>its a delicious foo cake</p>"
      }
     },
     "9cad0468e8564402aab1bbcc0e03886f": {
      "model_module": "@jupyter-widgets/controls",
      "model_module_version": "1.5.0",
      "model_name": "HBoxModel",
      "state": {
       "children": [
        "IPY_MODEL_b141716a898441b6a260c5ff5c44e675",
        "IPY_MODEL_dcbb5b2752ae41c1a1e5574b4ecd341d"
       ],
       "layout": "IPY_MODEL_5dc3355eb3ff45efb6f7629c04dd98d0"
      }
     },
     "9ee141057a6242b0a309c3fc0c26eeb2": {
      "model_module": "@jupyter-widgets/base",
      "model_module_version": "1.2.0",
      "model_name": "LayoutModel",
      "state": {}
     },
     "a00f524cfffe490582f899f5254e1865": {
      "model_module": "@jupyter-widgets/base",
      "model_module_version": "1.2.0",
      "model_name": "LayoutModel",
      "state": {}
     },
     "a230c3e16dbc4544a1ca4c4f81d13fe0": {
      "model_module": "@jupyter-widgets/output",
      "model_module_version": "1.0.0",
      "model_name": "OutputModel",
      "state": {
       "layout": "IPY_MODEL_27077ad86626414d99de7fba88ca278f"
      }
     },
     "a59422b5dd7a421bbcc39d3039a1c6b0": {
      "model_module": "@jupyter-widgets/base",
      "model_module_version": "1.2.0",
      "model_name": "LayoutModel",
      "state": {}
     },
     "a8f5a7de1b6f4aef9870627599fa9e4c": {
      "model_module": "@jupyter-widgets/base",
      "model_module_version": "1.2.0",
      "model_name": "LayoutModel",
      "state": {
       "align_items": "stretch",
       "display": "flex",
       "flex_flow": "row",
       "grid_auto_columns": "True",
       "justify_content": "flex-start",
       "width": "80%"
      }
     },
     "ad3c5fcde54941b58c038fd9465ea28b": {
      "model_module": "@jupyter-widgets/controls",
      "model_module_version": "1.5.0",
      "model_name": "HBoxModel",
      "state": {
       "children": [
        "IPY_MODEL_8c9df2996f304030a3b5d0358840a353",
        "IPY_MODEL_c097417bd9ab494e88d862393304fe57"
       ],
       "layout": "IPY_MODEL_008418d085fd4be38448ba72a957be20"
      }
     },
     "ae89c2e8cec946b5b00e1c437af54f4a": {
      "model_module": "@jupyter-widgets/controls",
      "model_module_version": "1.5.0",
      "model_name": "HBoxModel",
      "state": {
       "children": [
        "IPY_MODEL_8534485643654ac6a6d64dda92d4b01c",
        "IPY_MODEL_c63fa050b4e64537acb2f97d35302803"
       ],
       "layout": "IPY_MODEL_f1e6306aae234826a19806675051e18f"
      }
     },
     "af008e966ccc49d6ad928c6cf9397047": {
      "model_module": "@jupyter-widgets/base",
      "model_module_version": "1.2.0",
      "model_name": "LayoutModel",
      "state": {}
     },
     "b016da66cf704b75b67dc0fdbb18f6fd": {
      "model_module": "@jupyter-widgets/controls",
      "model_module_version": "1.5.0",
      "model_name": "HTMLModel",
      "state": {
       "layout": "IPY_MODEL_fce71477a6d744cd8d3a6dd8aedc6e39",
       "style": "IPY_MODEL_50eb7b71a7d444c7887164e4eb83118f",
       "value": "<p>its a foo cake</p>"
      }
     },
     "b059ea5729c14d58bd40aeefa84348bf": {
      "model_module": "@jupyter-widgets/base",
      "model_module_version": "1.2.0",
      "model_name": "LayoutModel",
      "state": {}
     },
     "b08ab94b020f477ba559247528fad1c4": {
      "model_module": "@jupyter-widgets/controls",
      "model_module_version": "1.5.0",
      "model_name": "VBoxModel",
      "state": {
       "children": [
        "IPY_MODEL_d256c63e028b468a916103af9da74156",
        "IPY_MODEL_e53e4e7f4739442ba989125a2f901a27",
        "IPY_MODEL_866f7794c433408fa30f05cea3c5a904"
       ],
       "layout": "IPY_MODEL_40eb31c42ece4a26948b7af963fceb33"
      }
     },
     "b12528833d1f487c8af61b3964fea064": {
      "model_module": "@jupyter-widgets/controls",
      "model_module_version": "1.5.0",
      "model_name": "DescriptionStyleModel",
      "state": {
       "description_width": ""
      }
     },
     "b141716a898441b6a260c5ff5c44e675": {
      "model_module": "@jupyter-widgets/controls",
      "model_module_version": "1.5.0",
      "model_name": "FloatSliderModel",
      "state": {
       "layout": "IPY_MODEL_588d7d3e8c014308a1b16df90998acb6",
       "max": 10,
       "style": "IPY_MODEL_791290eb871a4ca581f1358f2ebe070a",
       "value": 1
      }
     },
     "b3969aded0084152bc4c6fc5946d190a": {
      "model_module": "@jupyter-widgets/controls",
      "model_module_version": "1.5.0",
      "model_name": "HTMLModel",
      "state": {
       "layout": "IPY_MODEL_0b8376573f1d429ba05fcd4708d7f9c4",
       "style": "IPY_MODEL_b12528833d1f487c8af61b3964fea064",
       "value": "<p>name</p>"
      }
     },
     "b410428c50ea45738ce41aac3a388ce9": {
      "model_module": "@jupyter-widgets/controls",
      "model_module_version": "1.5.0",
      "model_name": "DescriptionStyleModel",
      "state": {
       "description_width": ""
      }
     },
     "b511a53eff2848e2b30fb10199bcbe80": {
      "model_module": "@jupyter-widgets/base",
      "model_module_version": "1.2.0",
      "model_name": "LayoutModel",
      "state": {
       "display": "flex",
       "flex_flow": "row",
       "grid_auto_columns": "False",
       "justify_content": "flex-start",
       "width": "100%"
      }
     },
     "b67a109de89443818d49a18e99fdfff2": {
      "model_module": "@jupyter-widgets/base",
      "model_module_version": "1.2.0",
      "model_name": "LayoutModel",
      "state": {}
     },
     "b7c82101be6845d5b5468a2f386c8306": {
      "model_module": "@jupyter-widgets/output",
      "model_module_version": "1.0.0",
      "model_name": "OutputModel",
      "state": {
       "layout": "IPY_MODEL_a59422b5dd7a421bbcc39d3039a1c6b0"
      }
     },
     "b84c932ccb2840f3ba3f03c0b9b0b039": {
      "model_module": "@jupyter-widgets/controls",
      "model_module_version": "1.5.0",
      "model_name": "HBoxModel",
      "state": {
       "children": [
        "IPY_MODEL_63879a2b8108440895128af0ff8e727a",
        "IPY_MODEL_ad3c5fcde54941b58c038fd9465ea28b"
       ],
       "layout": "IPY_MODEL_edf2e8ad439e4dc396827f958f2942c4"
      }
     },
     "b8f071b3c2bf458da635f36c22452f98": {
      "model_module": "@jupyter-widgets/base",
      "model_module_version": "1.2.0",
      "model_name": "LayoutModel",
      "state": {}
     },
     "ba4398d307d64f608f9aea5695f6714e": {
      "model_module": "@jupyter-widgets/base",
      "model_module_version": "1.2.0",
      "model_name": "LayoutModel",
      "state": {}
     },
     "ba9a86b3d643471aa1dcd7c2012f9512": {
      "model_module": "@jupyter-widgets/base",
      "model_module_version": "1.2.0",
      "model_name": "LayoutModel",
      "state": {
       "display": "flex",
       "flex_flow": "row",
       "grid_auto_columns": "False",
       "justify_content": "flex-start",
       "width": "100%"
      }
     },
     "bad253bd8aef490bb8033c895df25f6f": {
      "model_module": "@jupyter-widgets/base",
      "model_module_version": "1.2.0",
      "model_name": "LayoutModel",
      "state": {}
     },
     "bb3beb1ecba04e20a3a4ac06cc412286": {
      "model_module": "@jupyter-widgets/base",
      "model_module_version": "1.2.0",
      "model_name": "LayoutModel",
      "state": {}
     },
     "bb3e4f85672249a4a024f7ddb7d5486f": {
      "model_module": "@jupyter-widgets/base",
      "model_module_version": "1.2.0",
      "model_name": "LayoutModel",
      "state": {}
     },
     "bb9b9ed783364decaeb0ac42e340bfce": {
      "model_module": "@jupyter-widgets/controls",
      "model_module_version": "1.5.0",
      "model_name": "DescriptionStyleModel",
      "state": {
       "description_width": ""
      }
     },
     "bce900428c9240a48f11e8022082fdf5": {
      "model_module": "@jupyter-widgets/base",
      "model_module_version": "1.2.0",
      "model_name": "LayoutModel",
      "state": {}
     },
     "bd0771dd54954a6dabc65db56f2ffe94": {
      "model_module": "@jupyter-widgets/base",
      "model_module_version": "1.2.0",
      "model_name": "LayoutModel",
      "state": {}
     },
     "bd3dff3e17d540f3bac8438fff632997": {
      "model_module": "@jupyter-widgets/base",
      "model_module_version": "1.2.0",
      "model_name": "LayoutModel",
      "state": {}
     },
     "c097417bd9ab494e88d862393304fe57": {
      "model_module": "@jupyter-widgets/controls",
      "model_module_version": "1.5.0",
      "model_name": "HTMLModel",
      "state": {
       "layout": "IPY_MODEL_7d0cad28628a45a499bab63c2664f243",
       "style": "IPY_MODEL_4794a16839704ff8a5f50ecaf41d4de9",
       "value": "<p>its a foo cake</p>"
      }
     },
     "c3dc10442f5442c5a319b6c72b8e5019": {
      "model_module": "@jupyter-widgets/base",
      "model_module_version": "1.2.0",
      "model_name": "LayoutModel",
      "state": {}
     },
     "c3e4cb459a1548aa8269adbfc01808b3": {
      "model_module": "@jupyter-widgets/controls",
      "model_module_version": "1.5.0",
      "model_name": "ButtonModel",
      "state": {
       "button_style": "warning",
       "description": "revert to last save",
       "layout": "IPY_MODEL_2fd476c9c5ae4a32a86c10b4e87d8bea",
       "style": "IPY_MODEL_1fb0a7ac46274babafa27e1eeb3f3e78"
      }
     },
     "c42e7109103c413e86a3b8887ce90dd4": {
      "model_module": "@jupyter-widgets/controls",
      "model_module_version": "1.5.0",
      "model_name": "HBoxModel",
      "state": {
       "children": [
        "IPY_MODEL_b84c932ccb2840f3ba3f03c0b9b0b039"
       ],
       "layout": "IPY_MODEL_8ba8e106da6a4900ae9106c7575f8076"
      }
     },
     "c449de1209114df080f18424e047e0c2": {
      "model_module": "@jupyter-widgets/controls",
      "model_module_version": "1.5.0",
      "model_name": "DescriptionStyleModel",
      "state": {
       "description_width": ""
      }
     },
     "c453df97087144f3abb78aebf1380431": {
      "model_module": "@jupyter-widgets/base",
      "model_module_version": "1.2.0",
      "model_name": "LayoutModel",
      "state": {
       "align_items": "stretch",
       "display": "flex",
       "flex_flow": "row",
       "grid_auto_columns": "True",
       "justify_content": "flex-end",
       "width": "90%"
      }
     },
     "c47f83a36a334ef3958f497e0323efc9": {
      "model_module": "@jupyter-widgets/controls",
      "model_module_version": "1.5.0",
      "model_name": "DescriptionStyleModel",
      "state": {
       "description_width": ""
      }
     },
     "c50eacd19f57445d8a78cddaedb7780f": {
      "model_module": "@jupyter-widgets/base",
      "model_module_version": "1.2.0",
      "model_name": "LayoutModel",
      "state": {}
     },
     "c618da04bd6941b9bf325401cbac6fec": {
      "model_module": "@jupyter-widgets/controls",
      "model_module_version": "1.5.0",
      "model_name": "DescriptionStyleModel",
      "state": {
       "description_width": ""
      }
     },
     "c63fa050b4e64537acb2f97d35302803": {
      "model_module": "@jupyter-widgets/controls",
      "model_module_version": "1.5.0",
      "model_name": "ToggleButtonModel",
      "state": {
       "description": "help",
       "icon": "fa-question-circle",
       "layout": "IPY_MODEL_8d9d36bf938849a5add43f9a19d9e8eb",
       "style": "IPY_MODEL_bb9b9ed783364decaeb0ac42e340bfce",
       "tooltip": "gives guidance"
      }
     },
     "c658071db06d48c7b82f1fb9935f5d62": {
      "model_module": "@jupyter-widgets/base",
      "model_module_version": "1.2.0",
      "model_name": "LayoutModel",
      "state": {}
     },
     "c82d1b1a6225461a83e42c66032436eb": {
      "model_module": "@jupyter-widgets/controls",
      "model_module_version": "1.5.0",
      "model_name": "ToggleButtonModel",
      "state": {
       "button_style": "info",
       "description": "inputs from file",
       "layout": "IPY_MODEL_dfeac8b9921b41159242213770b529a9",
       "style": "IPY_MODEL_5f910693d6374e989760d78b5374b61d"
      }
     },
     "c849d47ae5804c7797ea32dfdf2e2a04": {
      "model_module": "@jupyter-widgets/controls",
      "model_module_version": "1.5.0",
      "model_name": "DescriptionStyleModel",
      "state": {
       "description_width": ""
      }
     },
     "c9c8e0a9ed984945942a1853d45165fa": {
      "model_module": "@jupyter-widgets/controls",
      "model_module_version": "1.5.0",
      "model_name": "DescriptionStyleModel",
      "state": {
       "description_width": ""
      }
     },
     "cc602bcdda634619a748619dc65a4adf": {
      "model_module": "@jupyter-widgets/controls",
      "model_module_version": "1.5.0",
      "model_name": "DescriptionStyleModel",
      "state": {
       "description_width": ""
      }
     },
     "ccc7dba0afd14599bd13ad2a51dc4cf3": {
      "model_module": "@jupyter-widgets/base",
      "model_module_version": "1.2.0",
      "model_name": "LayoutModel",
      "state": {
       "align_items": "stretch",
       "display": "flex",
       "flex_flow": "row",
       "grid_auto_columns": "True",
       "justify_content": "flex-end",
       "width": "90%"
      }
     },
     "d04f6e6448bd4093b633226869cb3af8": {
      "model_module": "@jupyter-widgets/controls",
      "model_module_version": "1.5.0",
      "model_name": "ButtonModel",
      "state": {
       "description": "save",
       "layout": "IPY_MODEL_d77f8597c339449db361e6d4da6909c5",
       "style": "IPY_MODEL_48622d6694bf472a9d5840508c65ee24"
      }
     },
     "d0a3ac1893b947ee9b9618e72507cff8": {
      "model_module": "@jupyter-widgets/output",
      "model_module_version": "1.0.0",
      "model_name": "OutputModel",
      "state": {
       "layout": "IPY_MODEL_bb3beb1ecba04e20a3a4ac06cc412286"
      }
     },
     "d256c63e028b468a916103af9da74156": {
      "model_module": "@jupyter-widgets/controls",
      "model_module_version": "1.5.0",
      "model_name": "HBoxModel",
      "state": {
       "children": [
        "IPY_MODEL_ec55c7dc65b2474694c3f508b6b00023",
        "IPY_MODEL_84a45cef3994455aacc533565c4d3185",
        "IPY_MODEL_56b8cb6169304fb79325fd14009c946f"
       ],
       "layout": "IPY_MODEL_fa2a693dedbe4514962b20cd5755e1fe"
      }
     },
     "d32745ad50bd4e11a8ed8b1042eb82d0": {
      "model_module": "@jupyter-widgets/controls",
      "model_module_version": "1.5.0",
      "model_name": "VBoxModel",
      "state": {
       "layout": "IPY_MODEL_b511a53eff2848e2b30fb10199bcbe80"
      }
     },
     "d33b1c298b9a42169b2f53f53e565e5e": {
      "model_module": "@jupyter-widgets/controls",
      "model_module_version": "1.5.0",
      "model_name": "DescriptionStyleModel",
      "state": {
       "description_width": ""
      }
     },
     "d3504ebd06644bbc948698a21b67f9b5": {
      "model_module": "@jupyter-widgets/controls",
      "model_module_version": "1.5.0",
      "model_name": "ButtonModel",
      "state": {
       "button_style": "warning",
       "description": "revert to last save",
       "layout": "IPY_MODEL_bd0771dd54954a6dabc65db56f2ffe94",
       "style": "IPY_MODEL_72fc2303ce344c95a6d2594f3d85888d"
      }
     },
     "d3dcf3d1faf74a62b3698226f054bbbc": {
      "model_module": "@jupyter-widgets/base",
      "model_module_version": "1.2.0",
      "model_name": "LayoutModel",
      "state": {}
     },
     "d3e5c87ba25c4aaaaee988181dd3376c": {
      "model_module": "@jupyter-widgets/output",
      "model_module_version": "1.0.0",
      "model_name": "OutputModel",
      "state": {
       "layout": "IPY_MODEL_b059ea5729c14d58bd40aeefa84348bf"
      }
     },
     "d52f12e0ad1a4a4994ea90179811e3b5": {
      "model_module": "@jupyter-widgets/controls",
      "model_module_version": "1.5.0",
      "model_name": "DescriptionStyleModel",
      "state": {
       "description_width": ""
      }
     },
     "d77f8597c339449db361e6d4da6909c5": {
      "model_module": "@jupyter-widgets/base",
      "model_module_version": "1.2.0",
      "model_name": "LayoutModel",
      "state": {}
     },
     "d803173517a34a33899aff3caf7c517e": {
      "model_module": "@jupyter-widgets/controls",
      "model_module_version": "1.5.0",
      "model_name": "DescriptionStyleModel",
      "state": {
       "description_width": ""
      }
     },
     "d8a57499eaae49bbbf2e2b305262f657": {
      "model_module": "@jupyter-widgets/base",
      "model_module_version": "1.2.0",
      "model_name": "LayoutModel",
      "state": {}
     },
     "d9c5a97456bd4e1c8475dbab15d0904d": {
      "model_module": "@jupyter-widgets/base",
      "model_module_version": "1.2.0",
      "model_name": "LayoutModel",
      "state": {}
     },
     "db15ecdedc1749189cac85566ea7a938": {
      "model_module": "@jupyter-widgets/base",
      "model_module_version": "1.2.0",
      "model_name": "LayoutModel",
      "state": {}
     },
     "db286597504b40939fee43ff21b2f334": {
      "model_module": "@jupyter-widgets/controls",
      "model_module_version": "1.5.0",
      "model_name": "DescriptionStyleModel",
      "state": {
       "description_width": ""
      }
     },
     "dca98313b14d4392adf543a0883b1c87": {
      "model_module": "@jupyter-widgets/base",
      "model_module_version": "1.2.0",
      "model_name": "LayoutModel",
      "state": {}
     },
     "dcbb5b2752ae41c1a1e5574b4ecd341d": {
      "model_module": "@jupyter-widgets/controls",
      "model_module_version": "1.5.0",
      "model_name": "HTMLModel",
      "state": {
       "layout": "IPY_MODEL_f4bc5a6815b3445a8ccedc2031934794",
       "style": "IPY_MODEL_ff7cc1c2a5184e039a47d31be120acaf",
       "value": "<p>its a foo cake</p>"
      }
     },
     "dd8eb97690f94d5f94fe84561015476f": {
      "model_module": "@jupyter-widgets/controls",
      "model_module_version": "1.5.0",
      "model_name": "ButtonModel",
      "state": {
       "description": "load",
       "icon": "upload",
       "layout": "IPY_MODEL_75faec3eb91a4e90a38a4bd2bb5ea2ed",
       "style": "IPY_MODEL_591f2bef8224428cac46b088d02705cc"
      }
     },
     "dee65f7643364907867d3d7c7c5f8113": {
      "model_module": "@jupyter-widgets/controls",
      "model_module_version": "1.5.0",
      "model_name": "ButtonModel",
      "state": {
       "description": "load",
       "icon": "upload",
       "layout": "IPY_MODEL_ba4398d307d64f608f9aea5695f6714e",
       "style": "IPY_MODEL_f1341f9a4a0c4a0d9fc863c17d3aff66"
      }
     },
     "df7b57cab5f6420992b34e5f9a626792": {
      "model_module": "@jupyter-widgets/controls",
      "model_module_version": "1.5.0",
      "model_name": "VBoxModel",
      "state": {
       "layout": "IPY_MODEL_8049eb5cb0594f1ba24ae527bca76976"
      }
     },
     "dfeac8b9921b41159242213770b529a9": {
      "model_module": "@jupyter-widgets/base",
      "model_module_version": "1.2.0",
      "model_name": "LayoutModel",
      "state": {}
     },
     "e12adac760c240858af9c1b34d6b47c9": {
      "model_module": "@jupyter-widgets/controls",
      "model_module_version": "1.5.0",
      "model_name": "DescriptionStyleModel",
      "state": {
       "description_width": ""
      }
     },
     "e321f401a0ce42a18a68b9a88cd76655": {
      "model_module": "@jupyter-widgets/base",
      "model_module_version": "1.2.0",
      "model_name": "LayoutModel",
      "state": {
       "align_items": "stretch",
       "display": "flex",
       "flex_flow": "row",
       "grid_auto_columns": "True",
       "justify_content": "flex-start",
       "width": "80%"
      }
     },
     "e53e4e7f4739442ba989125a2f901a27": {
      "model_module": "@jupyter-widgets/controls",
      "model_module_version": "1.5.0",
      "model_name": "HTMLModel",
      "state": {
       "layout": "IPY_MODEL_d3dcf3d1faf74a62b3698226f054bbbc",
       "style": "IPY_MODEL_c618da04bd6941b9bf325401cbac6fec",
       "value": "<p>update the user input form with data from file</p>"
      }
     },
     "e8826d214a5e4d78aa57f517bd0cf3a5": {
      "model_module": "@jupyter-widgets/controls",
      "model_module_version": "1.5.0",
      "model_name": "HBoxModel",
      "state": {
       "children": [
        "IPY_MODEL_25990884214e495bbb3f5c707005614e"
       ],
       "layout": "IPY_MODEL_7d17be194ec24124ac8f1afa1673f914"
      }
     },
     "ea35c5bee0334d6cbb2a91e6dbf20f0e": {
      "model_module": "@jupyter-widgets/controls",
      "model_module_version": "1.5.0",
      "model_name": "HBoxModel",
      "state": {
       "children": [
        "IPY_MODEL_76709fe4414445af8eafdd9ea637065d",
        "IPY_MODEL_2a2910c137d040d3b419653c6983092f"
       ],
       "layout": "IPY_MODEL_5921d7f7451d4a0eb2f7316173afecbb"
      }
     },
     "ebc89a22398344779db841b13af3610e": {
      "model_module": "@jupyter-widgets/controls",
      "model_module_version": "1.5.0",
      "model_name": "HBoxModel",
      "state": {
       "children": [
        "IPY_MODEL_6983446d5fe14854b8f6cf66659e009b",
        "IPY_MODEL_0e7e9d4260ac46e2ae08faba1cc04dc0"
       ],
       "layout": "IPY_MODEL_78719d774cb849e696742c86cbd5202d"
      }
     },
     "ec01796afc7f473087be367dea4cc718": {
      "model_module": "@jupyter-widgets/base",
      "model_module_version": "1.2.0",
      "model_name": "LayoutModel",
      "state": {}
     },
     "ec55c7dc65b2474694c3f508b6b00023": {
      "model_module": "@jupyter-widgets/controls",
      "model_module_version": "1.5.0",
      "model_name": "ToggleButtonModel",
      "state": {
       "button_style": "info",
       "description": "inputs from file",
       "layout": "IPY_MODEL_9ee141057a6242b0a309c3fc0c26eeb2",
       "style": "IPY_MODEL_0ee9ee058f1045d0aec20d6442a2b89e",
       "value": true
      }
     },
     "ec601812cdb340dba40493360da2cec1": {
      "model_module": "@jupyter-widgets/controls",
      "model_module_version": "1.5.0",
      "model_name": "DescriptionStyleModel",
      "state": {
       "description_width": ""
      }
     },
     "ecdc286be54642c4b5fc0bb951995028": {
      "model_module": "@jupyter-widgets/controls",
      "model_module_version": "1.5.0",
      "model_name": "RadioButtonsModel",
      "state": {
       "_options_labels": [
        "TEMPLATE: C:\\engDev\\git_mf\\MF_Toolbox\\dev\\mf_scripts\\template_inputs\\inputs-eplus_pipework_params.csv",
        "PROJECT: C:\\engDev\\git_mf\\ipyrun\\ipyrun\\appdata\\inputs\\inputs-eplus_pipework_params-1.csv",
        "PROJECT: C:\\engDev\\git_mf\\ipyrun\\ipyrun\\appdata\\inputs\\inputs-eplus_pipework_params.csv",
        "PROJECT: C:\\engDev\\git_mf\\ipyrun\\ipyrun\\appdata\\inputs\\archive\\20200605-1625-inputs-eplus_pipework_params.csv",
        "PROJECT: C:\\engDev\\git_mf\\ipyrun\\ipyrun\\appdata\\inputs\\archive\\20200605-1625inputs-eplus_pipework_params.csv",
        "PROJECT: C:\\engDev\\git_mf\\ipyrun\\ipyrun\\appdata\\inputs\\archive\\20200607_1420-jg-inputs-eplus_pipework_params.csv",
        "PROJECT: C:\\engDev\\git_mf\\ipyrun\\ipyrun\\appdata\\inputs\\archive\\20200611_1021-jg-inputs-eplus_pipework_params.csv"
       ],
       "index": 0,
       "layout": "IPY_MODEL_faba1cb5d8d24b3a84e0db5ff99cd24e",
       "style": "IPY_MODEL_ec601812cdb340dba40493360da2cec1"
      }
     },
     "ed85d5f333b1491b83c59e61f5c9dc3e": {
      "model_module": "@jupyter-widgets/output",
      "model_module_version": "1.0.0",
      "model_name": "OutputModel",
      "state": {
       "layout": "IPY_MODEL_469fbf73d2304e83999ea67bf33a67af"
      }
     },
     "ed94208bc19c41188d9c7dda5bf2546e": {
      "model_module": "@jupyter-widgets/controls",
      "model_module_version": "1.5.0",
      "model_name": "HBoxModel",
      "state": {
       "children": [
        "IPY_MODEL_0e6c58d5c8494aff9935f585beb88ca2",
        "IPY_MODEL_c3e4cb459a1548aa8269adbfc01808b3",
        "IPY_MODEL_49a9ce2810624d83a53926c4b65854b9"
       ],
       "layout": "IPY_MODEL_f58d5a5cb57547b28803368611713dcd"
      }
     },
     "edf2e8ad439e4dc396827f958f2942c4": {
      "model_module": "@jupyter-widgets/base",
      "model_module_version": "1.2.0",
      "model_name": "LayoutModel",
      "state": {
       "align_items": "stretch",
       "display": "flex",
       "flex_flow": "row",
       "grid_auto_columns": "True",
       "justify_content": "flex-end",
       "width": "90%"
      }
     },
     "ef38dce02e6d4dde88a37caddabb292e": {
      "model_module": "@jupyter-widgets/controls",
      "model_module_version": "1.5.0",
      "model_name": "HBoxModel",
      "state": {
       "children": [
        "IPY_MODEL_37893fbe40da44f4b7c8393e2817f755"
       ],
       "layout": "IPY_MODEL_668f6f5928784c928718367748159cdb"
      }
     },
     "ef3f62e5f8e24a30a8becf4d975f965d": {
      "model_module": "@jupyter-widgets/controls",
      "model_module_version": "1.5.0",
      "model_name": "TextareaModel",
      "state": {
       "layout": "IPY_MODEL_361af54dc28243d6884092e5801d1cec",
       "style": "IPY_MODEL_7ef6203de2e04636b724f5ec6a9ab696",
       "value": "asdfasdf"
      }
     },
     "f1341f9a4a0c4a0d9fc863c17d3aff66": {
      "model_module": "@jupyter-widgets/controls",
      "model_module_version": "1.5.0",
      "model_name": "ButtonStyleModel",
      "state": {
       "font_weight": "bold"
      }
     },
     "f1e6306aae234826a19806675051e18f": {
      "model_module": "@jupyter-widgets/base",
      "model_module_version": "1.2.0",
      "model_name": "LayoutModel",
      "state": {
       "align_items": "stretch",
       "border": "dashed 0.2px green",
       "display": "flex",
       "flex_flow": "row",
       "grid_auto_columns": "True",
       "justify_content": "flex-start",
       "width": "100%"
      }
     },
     "f261476afc6d4d7da00dca84ba21188e": {
      "model_module": "@jupyter-widgets/controls",
      "model_module_version": "1.5.0",
      "model_name": "ButtonModel",
      "state": {
       "button_style": "success",
       "description": "save changes",
       "layout": "IPY_MODEL_664d6b4d74e2451da35f01e1ba230869",
       "style": "IPY_MODEL_039fdf921e8f4e5dabb6ce075dae01da"
      }
     },
     "f267b03a52d84f158796b28a261f10dd": {
      "model_module": "@jupyter-widgets/controls",
      "model_module_version": "1.5.0",
      "model_name": "DescriptionStyleModel",
      "state": {
       "description_width": ""
      }
     },
     "f290d93144eb49c58bd0ee21e346bb28": {
      "model_module": "@jupyter-widgets/base",
      "model_module_version": "1.2.0",
      "model_name": "LayoutModel",
      "state": {
       "align_items": "stretch",
       "display": "flex",
       "flex_flow": "row",
       "grid_auto_columns": "True",
       "justify_content": "flex-end",
       "width": "90%"
      }
     },
     "f4bc5a6815b3445a8ccedc2031934794": {
      "model_module": "@jupyter-widgets/base",
      "model_module_version": "1.2.0",
      "model_name": "LayoutModel",
      "state": {}
     },
     "f4bdda2f106840c5980048ec17e76ef2": {
      "model_module": "@jupyter-widgets/controls",
      "model_module_version": "1.5.0",
      "model_name": "DescriptionStyleModel",
      "state": {
       "description_width": ""
      }
     },
     "f58d5a5cb57547b28803368611713dcd": {
      "model_module": "@jupyter-widgets/base",
      "model_module_version": "1.2.0",
      "model_name": "LayoutModel",
      "state": {}
     },
     "f5fabd70d6e94b4d92417420e6ab3753": {
      "model_module": "@jupyter-widgets/controls",
      "model_module_version": "1.5.0",
      "model_name": "DescriptionStyleModel",
      "state": {
       "description_width": ""
      }
     },
     "f816a74eed5a40c8abf1265272c5dbd7": {
      "model_module": "@jupyter-widgets/base",
      "model_module_version": "1.2.0",
      "model_name": "LayoutModel",
      "state": {}
     },
     "fa2a693dedbe4514962b20cd5755e1fe": {
      "model_module": "@jupyter-widgets/base",
      "model_module_version": "1.2.0",
      "model_name": "LayoutModel",
      "state": {}
     },
     "faba1cb5d8d24b3a84e0db5ff99cd24e": {
      "model_module": "@jupyter-widgets/base",
      "model_module_version": "1.2.0",
      "model_name": "LayoutModel",
      "state": {
       "display": "flex",
       "flex_flow": "row",
       "grid_auto_columns": "False",
       "justify_content": "flex-start",
       "width": "100%"
      }
     },
     "fce71477a6d744cd8d3a6dd8aedc6e39": {
      "model_module": "@jupyter-widgets/base",
      "model_module_version": "1.2.0",
      "model_name": "LayoutModel",
      "state": {}
     },
     "fece5d20eb7f43e6abe855259beb15ac": {
      "model_module": "@jupyter-widgets/output",
      "model_module_version": "1.0.0",
      "model_name": "OutputModel",
      "state": {
       "layout": "IPY_MODEL_10b4604c73e848b2b5c6b7a2fd9e6e81"
      }
     },
     "ff7cc1c2a5184e039a47d31be120acaf": {
      "model_module": "@jupyter-widgets/controls",
      "model_module_version": "1.5.0",
      "model_name": "DescriptionStyleModel",
      "state": {
       "description_width": ""
      }
     },
     "ff98441ce51c44a986be3f3ce099140c": {
      "model_module": "@jupyter-widgets/controls",
      "model_module_version": "1.5.0",
      "model_name": "HBoxModel",
      "state": {
       "children": [
        "IPY_MODEL_60db8c0b907847ba92e432e5bd3f3bbf",
        "IPY_MODEL_1892c352c2834535b3acc365e15ceae6"
       ],
       "layout": "IPY_MODEL_5470463774f548278f95a878ab0f772a"
      }
     }
    },
    "version_major": 2,
    "version_minor": 0
   }
  }
 },
 "nbformat": 4,
 "nbformat_minor": 4
}
