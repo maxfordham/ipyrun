{
 "cells": [
  {
   "cell_type": "code",
   "execution_count": 14,
   "metadata": {},
   "outputs": [
    {
     "data": {
      "application/vnd.jupyter.widget-view+json": {
       "model_id": "8bdb095ea6c44d9483d71febcfeaf6d0",
       "version_major": 2,
       "version_minor": 0
      },
      "text/plain": [
       "VBox(children=(VBox(children=(HBox(children=(Button(button_style='success', description='save changes', style=…"
      ]
     },
     "metadata": {},
     "output_type": "display_data"
    }
   ],
   "source": [
    "import os \n",
    "FDIR = os.path.dirname(os.path.realpath('__file__'))\n",
    "\n",
    "from IPython.display import clear_output, display, Image, FileLink, FileLinks, JSON, Markdown, HTML\n",
    "import ipywidgets as widgets\n",
    "from shutil import copyfile\n",
    "from markdown import markdown\n",
    "from datetime import datetime\n",
    "import time\n",
    "\n",
    "#from mf_modules.pydtype_operations import read_json, read_yaml\n",
    "\n",
    "def _markdown(value='_Markdown_',\n",
    "              **kwargs):\n",
    "    \"\"\"\n",
    "    a simple template for markdown text input that templates required input\n",
    "    fields. additional user defined fields can be added as kwargs\n",
    "    \"\"\"\n",
    "    _kwargs = {}\n",
    "    _kwargs['value'] = markdown(value)  # required field\n",
    "    _kwargs.update(kwargs)  # user overides\n",
    "    return widgets.HTML(**_kwargs)\n",
    "    \n",
    "class FileController():\n",
    "    \n",
    "    def __init__(self, fpth_inputs_options):\n",
    "        self.out = widgets.Output()\n",
    "        self.fpth_inputs_options = fpth_inputs_options\n",
    "        self.fpth_inputs = fpth_inputs_options['working']['fpths'][0]\n",
    "        self._errors()\n",
    "        self.form()\n",
    "        self._init_controls()\n",
    "    \n",
    "    @property\n",
    "    def mf_layout(self):\n",
    "        return widgets.Layout(\n",
    "            display='flex',\n",
    "            flex_flow='row',\n",
    "            justify_content='flex-start',\n",
    "            #border='dashed 0.2px green',\n",
    "            grid_auto_columns='True',\n",
    "            width='100%',\n",
    "            align_items='stretch',  \n",
    "        )\n",
    "        \n",
    "    def _errors(self):\n",
    "        self.errors=[]\n",
    "        self.iserror = False\n",
    "        self.errormessage = 'no error'\n",
    "        \n",
    "    def form(self):\n",
    "        \n",
    "        # button bar\n",
    "        self.save_changes = widgets.Button(description='save changes',button_style='success',style={'font_weight':'bold'})\n",
    "        self.revert = widgets.Button(description='revert to last save',button_style='warning',style={'font_weight':'bold'})#,button_style='success'\n",
    "        self.load_inputs = widgets.ToggleButton(description='inputs from file',button_style='info',style={'font_weight':'bold'})\n",
    "        self.button_bar = widgets.HBox([self.save_changes, self.revert, self.load_inputs])\n",
    "\n",
    "        # nested buttons\n",
    "        template_inputs = self.get_template_inputs()\n",
    "        project_inputs = self.get_project_inputs()\n",
    "        options = dict(template_inputs, **project_inputs)\n",
    "        self.load_button = widgets.Button(description = 'load',icon='fa-upload',style={'font_weight':'bold'})\n",
    "        self.choose_inputs = widgets.RadioButtons(\n",
    "            options = options,\n",
    "            layout = self.mf_layout,\n",
    "        )\n",
    "        self.load = widgets.VBox([self.load_button,self.choose_inputs])\n",
    "        self.inputform = _markdown(value='*TESTING*')\n",
    "        \n",
    "        self._init_controls()\n",
    "    \n",
    "    def _init_controls(self):\n",
    "        self.save_changes.on_click(self._save_changes)\n",
    "        self.load_inputs.observe(self._load_inputs,'value')\n",
    "        self.load_button.on_click(self._load)\n",
    "        self.revert.on_click(self._revert)\n",
    "        \n",
    "    def _revert(self, sender):\n",
    "        fpth = self.fpth_inputs\n",
    "        self.inputform = _markdown(value='revert to inputs in last save of: {0}'.format(fpth))\n",
    "        self.update_display()\n",
    "        self.display()\n",
    "\n",
    "    def _save_changes(self, sender):\n",
    "        fpth = self.fpth_inputs\n",
    "        dateTimeObj = datetime.now()\n",
    "        self.save_timestampStr = dateTimeObj.strftime(\"%d-%b-%Y %H:%M:%S\")\n",
    "        self.update_display()\n",
    "        self.display()\n",
    "        with self.out:\n",
    "            clear_output()\n",
    "            display(self.inputform)\n",
    "            if self.load_inputs.value:\n",
    "                display(self.load_button)\n",
    "                display(self.choose_inputs)\n",
    "\n",
    "    def _load(self,sender):\n",
    "        self.update_display()\n",
    "        self.display()\n",
    "        fpth = self.choose_inputs.value\n",
    "        try:\n",
    "            self.iserror = False\n",
    "            message = 'load input form from: {0}'.format(fpth)\n",
    "        except:\n",
    "            self.iserror = True\n",
    "            self.errormessage = '''__error__ loading : {0}.   \n",
    "            the file has either been deleted or modified such that it is unreadable'''.format(fpth)\n",
    "\n",
    "        with self.out:\n",
    "            clear_output()\n",
    "            if self.load_inputs.value:\n",
    "                display(self.load_button)\n",
    "                display(self.choose_inputs)\n",
    "                display(Markdown(message))\n",
    "            if self.iserror:\n",
    "                display(Markdown(self.errormessage))\n",
    "            \n",
    "    def _load_inputs(self,sender):\n",
    "        self.update_display()\n",
    "        self.display()\n",
    "        with self.out:\n",
    "            clear_output()\n",
    "            if self.load_inputs.value:\n",
    "                display(self.load_button)\n",
    "                display(self.choose_inputs)\n",
    "                \n",
    "    def get_project_inputs(self):\n",
    "        fpths = self.fpth_inputs_options['project']['fpths']\n",
    "        di = {}\n",
    "        for fpth in fpths:\n",
    "            description = 'PROJECT: '+ fpth\n",
    "            di[description] = fpth\n",
    "        return di\n",
    "\n",
    "    def get_template_inputs(self):\n",
    "        fpths = self.fpth_inputs_options['template']['fpths']\n",
    "        di = {}\n",
    "        for fpth in fpths:\n",
    "            description = 'TEMPLATE: '+ fpth\n",
    "            di[description] = fpth\n",
    "        return di\n",
    "\n",
    "    def update_display(self):\n",
    "        self.layout = widgets.VBox([self.button_bar, self.inputform])\n",
    "\n",
    "    def display(self):\n",
    "        display(widgets.VBox([self.layout, self.out]))\n",
    "        #display(self.out)\n",
    "\n",
    "    def _ipython_display_(self):\n",
    "        self.update_display()\n",
    "        self.display()\n",
    "        \n",
    "        \n",
    "fpth_inputs_options = {\n",
    "    'template': {\n",
    "        'fdir': 'C:\\\\engDev\\\\git_mf\\\\MF_Toolbox\\\\dev\\\\mf_scripts\\\\template_inputs',\n",
    "        'fpths': ['C:\\\\engDev\\\\git_mf\\\\MF_Toolbox\\\\dev\\\\mf_scripts\\\\template_inputs\\\\inputs-eplus_pipework_params.csv']\n",
    "    },\n",
    "    'project': {\n",
    "        'fdir': '.\\\\appdata\\\\inputs\\\\archive',\n",
    "        'fpths': [\n",
    "            '.\\\\appdata\\\\inputs\\\\inputs-eplus_pipework_params-1.csv',\n",
    "            '.\\\\appdata\\\\inputs\\\\inputs-eplus_pipework_params.csv',\n",
    "            '.\\\\appdata\\\\inputs\\\\archive\\\\20200605-1625-inputs-eplus_pipework_params.csv',\n",
    "            '.\\\\appdata\\\\inputs\\\\archive\\\\20200605-1625inputs-eplus_pipework_params.csv',\n",
    "            '.\\\\appdata\\\\inputs\\\\archive\\\\20200607_1420-jg-inputs-eplus_pipework_params.csv']\n",
    "    },\n",
    "    'working': {\n",
    "        'fdir': '.\\\\appdata\\\\inputs',\n",
    "        'fpths': ['.\\\\appdata\\\\inputs\\\\inputs-eplus_pipework_params.csv']\n",
    "    },\n",
    "}\n",
    "d = FileController(fpth_inputs_options)\n",
    "d"
   ]
  },
  {
   "cell_type": "code",
   "execution_count": 10,
   "metadata": {},
   "outputs": [],
   "source": [
    "d.update_display()"
   ]
  },
  {
   "cell_type": "code",
   "execution_count": null,
   "metadata": {},
   "outputs": [],
   "source": []
  }
 ],
 "metadata": {
  "kernelspec": {
   "display_name": "Python [conda env:mf_main] *",
   "language": "python",
   "name": "conda-env-mf_main-py"
  },
  "language_info": {
   "codemirror_mode": {
    "name": "ipython",
    "version": 3
   },
   "file_extension": ".py",
   "mimetype": "text/x-python",
   "name": "python",
   "nbconvert_exporter": "python",
   "pygments_lexer": "ipython3",
   "version": "3.7.3"
  },
  "widgets": {
   "application/vnd.jupyter.widget-state+json": {
    "state": {
     "050d9e6e22fb418c9744a380ed527711": {
      "model_module": "@jupyter-widgets/base",
      "model_module_version": "1.2.0",
      "model_name": "LayoutModel",
      "state": {}
     },
     "0752b983a2fe489cb4781cbab6dcf3b0": {
      "model_module": "@jupyter-widgets/controls",
      "model_module_version": "1.5.0",
      "model_name": "ButtonStyleModel",
      "state": {
       "font_weight": "bold"
      }
     },
     "07ef1b245ea34a8fbfe291990e096a37": {
      "model_module": "@jupyter-widgets/base",
      "model_module_version": "1.2.0",
      "model_name": "LayoutModel",
      "state": {}
     },
     "08402cb073444cbaa5daf5753a1227f4": {
      "model_module": "@jupyter-widgets/controls",
      "model_module_version": "1.5.0",
      "model_name": "VBoxModel",
      "state": {
       "children": [
        "IPY_MODEL_d7e4f9e593a342e785faee46df9a4440",
        "IPY_MODEL_6e32ce791d1b4afbad7584e5c1bc38c9"
       ],
       "layout": "IPY_MODEL_4934153c331c4295b64ee92139e38747"
      }
     },
     "08602a6cc62245bc916b94da44c69bbb": {
      "model_module": "@jupyter-widgets/base",
      "model_module_version": "1.2.0",
      "model_name": "LayoutModel",
      "state": {}
     },
     "08765b83e6564657820540a75d70c26c": {
      "model_module": "@jupyter-widgets/controls",
      "model_module_version": "1.5.0",
      "model_name": "ButtonModel",
      "state": {
       "button_style": "success",
       "description": "save changes",
       "layout": "IPY_MODEL_1cb701e304f14abebd84575d6b6ddd5e",
       "style": "IPY_MODEL_dc6abfd2d3b3466e99eb37acdf8ee86c"
      }
     },
     "09abda605aeb4139866ab981a7d51c08": {
      "model_module": "@jupyter-widgets/controls",
      "model_module_version": "1.5.0",
      "model_name": "DescriptionStyleModel",
      "state": {
       "description_width": ""
      }
     },
     "0d8e565b8af644879937d9aac02e32b2": {
      "model_module": "@jupyter-widgets/controls",
      "model_module_version": "1.5.0",
      "model_name": "VBoxModel",
      "state": {
       "children": [
        "IPY_MODEL_6f6ed04d480c4f7bb4a76dc85f3063a6",
        "IPY_MODEL_b9bf7b5ce4e141879c56886595895420"
       ],
       "layout": "IPY_MODEL_4b5f91a2d13a4fac8228d76ec1e20d15"
      }
     },
     "0dcaa16e8dcc4ddfa50a9acafd2c27c2": {
      "model_module": "@jupyter-widgets/controls",
      "model_module_version": "1.5.0",
      "model_name": "DescriptionStyleModel",
      "state": {
       "description_width": ""
      }
     },
     "0e723e8681c44c0cabba5850ad7278d0": {
      "model_module": "@jupyter-widgets/controls",
      "model_module_version": "1.5.0",
      "model_name": "DescriptionStyleModel",
      "state": {
       "description_width": ""
      }
     },
     "11a17c5c7ac0441bbae44f8fe05bc39a": {
      "model_module": "@jupyter-widgets/controls",
      "model_module_version": "1.5.0",
      "model_name": "ButtonModel",
      "state": {
       "button_style": "warning",
       "description": "revert to last save",
       "layout": "IPY_MODEL_1ce6479e3b1a4e5185c9d38388fcfcfc",
       "style": "IPY_MODEL_a41412a278fd43e88da150e174db1aaf"
      }
     },
     "11a6ab0cb32041c5bcdf0f9fe111bb71": {
      "model_module": "@jupyter-widgets/base",
      "model_module_version": "1.2.0",
      "model_name": "LayoutModel",
      "state": {
       "align_items": "stretch",
       "display": "flex",
       "flex_flow": "row",
       "grid_auto_columns": "True",
       "justify_content": "flex-start",
       "width": "100%"
      }
     },
     "123f84b584b14733a0103f4c590e66e2": {
      "model_module": "@jupyter-widgets/base",
      "model_module_version": "1.2.0",
      "model_name": "LayoutModel",
      "state": {}
     },
     "1884821112904bb3a79567784fb67f75": {
      "model_module": "@jupyter-widgets/base",
      "model_module_version": "1.2.0",
      "model_name": "LayoutModel",
      "state": {}
     },
     "19f5391157e144c7b7550c3c80615392": {
      "model_module": "@jupyter-widgets/base",
      "model_module_version": "1.2.0",
      "model_name": "LayoutModel",
      "state": {}
     },
     "1b2d49ef9e5d4ab4b3d707cd531d3b13": {
      "model_module": "@jupyter-widgets/controls",
      "model_module_version": "1.5.0",
      "model_name": "DescriptionStyleModel",
      "state": {
       "description_width": ""
      }
     },
     "1bc5cb297cd04c94b2f651cf48bbed20": {
      "model_module": "@jupyter-widgets/controls",
      "model_module_version": "1.5.0",
      "model_name": "ButtonModel",
      "state": {
       "button_style": "warning",
       "description": "revert to last save",
       "layout": "IPY_MODEL_d10d05dc063244ab84d961cca2fb5491",
       "style": "IPY_MODEL_c25d0aec872b45089205dabb199d5860"
      }
     },
     "1cb701e304f14abebd84575d6b6ddd5e": {
      "model_module": "@jupyter-widgets/base",
      "model_module_version": "1.2.0",
      "model_name": "LayoutModel",
      "state": {}
     },
     "1ce6479e3b1a4e5185c9d38388fcfcfc": {
      "model_module": "@jupyter-widgets/base",
      "model_module_version": "1.2.0",
      "model_name": "LayoutModel",
      "state": {}
     },
     "1db56f0b9db4474aa8ac72b8b64884f9": {
      "model_module": "@jupyter-widgets/controls",
      "model_module_version": "1.5.0",
      "model_name": "DescriptionStyleModel",
      "state": {
       "description_width": ""
      }
     },
     "1f5d91310de34e4ea6e58df7f8276fa4": {
      "model_module": "@jupyter-widgets/controls",
      "model_module_version": "1.5.0",
      "model_name": "DescriptionStyleModel",
      "state": {
       "description_width": ""
      }
     },
     "237352d4d8d94abe85f8e62254f97fe9": {
      "model_module": "@jupyter-widgets/controls",
      "model_module_version": "1.5.0",
      "model_name": "HTMLModel",
      "state": {
       "layout": "IPY_MODEL_39674042e41d4fa7b2ba24894f6a43ba",
       "style": "IPY_MODEL_2cc5189d9dc547fea938cc4464f418e4",
       "value": "<p>revert to inputs in last save of: .\\appdata\\inputs\\inputs-eplus_pipework_params.csv</p>"
      }
     },
     "257f28086b504e2988e09bd8a7deefc5": {
      "model_module": "@jupyter-widgets/controls",
      "model_module_version": "1.5.0",
      "model_name": "VBoxModel",
      "state": {
       "children": [
        "IPY_MODEL_9fa82dc3be4948669b31a2d662ae9b45",
        "IPY_MODEL_a912eae483964e6e88c9200892ae7489"
       ],
       "layout": "IPY_MODEL_d048a17d35e240eab65fdc54e9c25965"
      }
     },
     "2880599dd010457fa1ee86f8ae5f3ece": {
      "model_module": "@jupyter-widgets/controls",
      "model_module_version": "1.5.0",
      "model_name": "ButtonModel",
      "state": {
       "description": "load",
       "icon": "upload",
       "layout": "IPY_MODEL_d7b854536e894ec4bebbf955cae4440f",
       "style": "IPY_MODEL_650d83dcdd944de68de91f3cffbeed04"
      }
     },
     "29e1741753ad4204a326af7eb013d22a": {
      "model_module": "@jupyter-widgets/base",
      "model_module_version": "1.2.0",
      "model_name": "LayoutModel",
      "state": {}
     },
     "2b895ee6840343e4a7fb801b72647c25": {
      "model_module": "@jupyter-widgets/base",
      "model_module_version": "1.2.0",
      "model_name": "LayoutModel",
      "state": {}
     },
     "2c38a31c726c4a8e9c6538a172aa63d1": {
      "model_module": "@jupyter-widgets/controls",
      "model_module_version": "1.5.0",
      "model_name": "ButtonModel",
      "state": {
       "description": "load",
       "icon": "upload",
       "layout": "IPY_MODEL_cd70f1230db14559966816d89365b83e",
       "style": "IPY_MODEL_59c298e90c7749babe214b6c5e2c8926"
      }
     },
     "2cac0591701147b2abaa0d382e2fd73b": {
      "model_module": "@jupyter-widgets/controls",
      "model_module_version": "1.5.0",
      "model_name": "VBoxModel",
      "state": {
       "children": [
        "IPY_MODEL_6f6ed04d480c4f7bb4a76dc85f3063a6",
        "IPY_MODEL_785204f9d1bc41b8b3391ee8d5c4c11e"
       ],
       "layout": "IPY_MODEL_fa063315d01c40d49b62a497889815c0"
      }
     },
     "2cc5189d9dc547fea938cc4464f418e4": {
      "model_module": "@jupyter-widgets/controls",
      "model_module_version": "1.5.0",
      "model_name": "DescriptionStyleModel",
      "state": {
       "description_width": ""
      }
     },
     "3415288249ed439abd587e806ca5394f": {
      "model_module": "@jupyter-widgets/controls",
      "model_module_version": "1.5.0",
      "model_name": "ToggleButtonModel",
      "state": {
       "button_style": "info",
       "description": "inputs from file",
       "layout": "IPY_MODEL_87101e0de3a640e2b796e2f7f8a19cb8",
       "style": "IPY_MODEL_dce46e841ffd4ad4aef46d1c381d1da7"
      }
     },
     "376fd9a6cc764a21a3de2332bfff9c74": {
      "model_module": "@jupyter-widgets/controls",
      "model_module_version": "1.5.0",
      "model_name": "RadioButtonsModel",
      "state": {
       "_options_labels": [
        "TEMPLATE: C:\\engDev\\git_mf\\MF_Toolbox\\dev\\mf_scripts\\template_inputs\\inputs-eplus_pipework_params.csv",
        "PROJECT: .\\appdata\\inputs\\inputs-eplus_pipework_params-1.csv",
        "PROJECT: .\\appdata\\inputs\\inputs-eplus_pipework_params.csv",
        "PROJECT: .\\appdata\\inputs\\archive\\20200605-1625-inputs-eplus_pipework_params.csv",
        "PROJECT: .\\appdata\\inputs\\archive\\20200605-1625inputs-eplus_pipework_params.csv",
        "PROJECT: .\\appdata\\inputs\\archive\\20200607_1420-jg-inputs-eplus_pipework_params.csv"
       ],
       "index": 0,
       "layout": "IPY_MODEL_4265fca552b34ed6943ad79c7638e6a2",
       "style": "IPY_MODEL_7ef56e90f8a041b8ab94068459c14689"
      }
     },
     "38cf538028234dff923b51d6a29c5c61": {
      "model_module": "@jupyter-widgets/base",
      "model_module_version": "1.2.0",
      "model_name": "LayoutModel",
      "state": {}
     },
     "39674042e41d4fa7b2ba24894f6a43ba": {
      "model_module": "@jupyter-widgets/base",
      "model_module_version": "1.2.0",
      "model_name": "LayoutModel",
      "state": {}
     },
     "3a2bba835b6e493c9b35edd5714399b4": {
      "model_module": "@jupyter-widgets/base",
      "model_module_version": "1.2.0",
      "model_name": "LayoutModel",
      "state": {}
     },
     "3b4f4b3de9fd413fb88f3b9d2265ec8f": {
      "model_module": "@jupyter-widgets/controls",
      "model_module_version": "1.5.0",
      "model_name": "VBoxModel",
      "state": {
       "children": [
        "IPY_MODEL_6f6ed04d480c4f7bb4a76dc85f3063a6",
        "IPY_MODEL_c68231534859471ba178e5b539c99e4b"
       ],
       "layout": "IPY_MODEL_5f8c9405ee5f4c69a5314e8feebc8f53"
      }
     },
     "3b7cb781a9234b03b4ac1d91eee0e708": {
      "model_module": "@jupyter-widgets/controls",
      "model_module_version": "1.5.0",
      "model_name": "DescriptionStyleModel",
      "state": {
       "description_width": ""
      }
     },
     "3d745498bbdc4b3c96ad442acc3dc2d8": {
      "model_module": "@jupyter-widgets/controls",
      "model_module_version": "1.5.0",
      "model_name": "HTMLModel",
      "state": {
       "layout": "IPY_MODEL_a59b32ca17ec47bca36380fdd955d625",
       "style": "IPY_MODEL_09abda605aeb4139866ab981a7d51c08",
       "value": "<p>.\\appdata\\inputs\\inputs-eplus_pipework_params.csv saved at: 09-Jun-2020 09:19:14</p>"
      }
     },
     "3f78170254434935a6ac3c434f54c339": {
      "model_module": "@jupyter-widgets/controls",
      "model_module_version": "1.5.0",
      "model_name": "HTMLModel",
      "state": {
       "layout": "IPY_MODEL_a4a7fe7246824299931dbaeddf053bf4",
       "style": "IPY_MODEL_6b9500ce9ecf46d2ac4060b3d4e943ac",
       "value": "<p>revert to inputs in last save of: .\\appdata\\inputs\\inputs-eplus_pipework_params.csv</p>"
      }
     },
     "41fc1a840ca54640b9b184e75bd94366": {
      "model_module": "@jupyter-widgets/controls",
      "model_module_version": "1.5.0",
      "model_name": "ButtonModel",
      "state": {
       "button_style": "success",
       "description": "save changes",
       "layout": "IPY_MODEL_a37da5b396d74053bfbff0afe1608f28",
       "style": "IPY_MODEL_630b0ce8299c4587bd0b51f1de9973eb"
      }
     },
     "41ff0d30ae684af0bd16e81650e23adc": {
      "model_module": "@jupyter-widgets/controls",
      "model_module_version": "1.5.0",
      "model_name": "HTMLModel",
      "state": {
       "layout": "IPY_MODEL_07ef1b245ea34a8fbfe291990e096a37",
       "style": "IPY_MODEL_c6b351838771414eb3db6ce32c6d3f84",
       "value": "<p><em>TESTING</em></p>"
      }
     },
     "4239fdecc4df42308190681e470c98a2": {
      "model_module": "@jupyter-widgets/controls",
      "model_module_version": "1.5.0",
      "model_name": "DescriptionStyleModel",
      "state": {
       "description_width": ""
      }
     },
     "4265fca552b34ed6943ad79c7638e6a2": {
      "model_module": "@jupyter-widgets/base",
      "model_module_version": "1.2.0",
      "model_name": "LayoutModel",
      "state": {
       "align_items": "stretch",
       "display": "flex",
       "flex_flow": "row",
       "grid_auto_columns": "True",
       "justify_content": "flex-start",
       "width": "100%"
      }
     },
     "44cc51d15f2d4aed9cc33c7d764520c6": {
      "model_module": "@jupyter-widgets/base",
      "model_module_version": "1.2.0",
      "model_name": "LayoutModel",
      "state": {}
     },
     "4509e98a2fc54e01938340787ef11afd": {
      "model_module": "@jupyter-widgets/output",
      "model_module_version": "1.0.0",
      "model_name": "OutputModel",
      "state": {
       "layout": "IPY_MODEL_ca64df0013cc43fbb68f7ac170680c85"
      }
     },
     "45af09737bbd4df7b91b98def8c4857d": {
      "model_module": "@jupyter-widgets/controls",
      "model_module_version": "1.5.0",
      "model_name": "HBoxModel",
      "state": {
       "children": [
        "IPY_MODEL_08765b83e6564657820540a75d70c26c",
        "IPY_MODEL_c8f275cb59ad41fdb11ce3eb1e9d3ff5",
        "IPY_MODEL_9d4e176fbf6f4bb5b68829f09f01854b"
       ],
       "layout": "IPY_MODEL_c6f8158be686474da0a7016e8d8ae532"
      }
     },
     "465ad57f995545448fb076c6a448d42b": {
      "model_module": "@jupyter-widgets/controls",
      "model_module_version": "1.5.0",
      "model_name": "HBoxModel",
      "state": {
       "children": [
        "IPY_MODEL_41fc1a840ca54640b9b184e75bd94366",
        "IPY_MODEL_1bc5cb297cd04c94b2f651cf48bbed20",
        "IPY_MODEL_ecfcdb9dcc5047e0ade63a39d17af204"
       ],
       "layout": "IPY_MODEL_08602a6cc62245bc916b94da44c69bbb"
      }
     },
     "47b0530765e44753a513e62e96e71624": {
      "model_module": "@jupyter-widgets/controls",
      "model_module_version": "1.5.0",
      "model_name": "HTMLModel",
      "state": {
       "layout": "IPY_MODEL_9c751e45efd94e18b899274d913a7b1a",
       "style": "IPY_MODEL_8a0dd22505554be287ae191dd9e3aaf4",
       "value": "<p>.\\appdata\\inputs\\inputs-eplus_pipework_params.csv saved at: 09-Jun-2020 09:19:42</p>"
      }
     },
     "4934153c331c4295b64ee92139e38747": {
      "model_module": "@jupyter-widgets/base",
      "model_module_version": "1.2.0",
      "model_name": "LayoutModel",
      "state": {}
     },
     "4b5f91a2d13a4fac8228d76ec1e20d15": {
      "model_module": "@jupyter-widgets/base",
      "model_module_version": "1.2.0",
      "model_name": "LayoutModel",
      "state": {}
     },
     "4d9ae585d80b4b499accfbdc038f68e7": {
      "model_module": "@jupyter-widgets/controls",
      "model_module_version": "1.5.0",
      "model_name": "VBoxModel",
      "state": {
       "children": [
        "IPY_MODEL_2c38a31c726c4a8e9c6538a172aa63d1",
        "IPY_MODEL_75e7b4eba20a4d429c6cda37a7c1f650"
       ],
       "layout": "IPY_MODEL_e3d66abeb1ae48f7b85eb882730bdf05"
      }
     },
     "4ea71945695044e3a6630cbab91fa123": {
      "model_module": "@jupyter-widgets/base",
      "model_module_version": "1.2.0",
      "model_name": "LayoutModel",
      "state": {}
     },
     "52d511434f654a3ea760699a09c65b54": {
      "model_module": "@jupyter-widgets/controls",
      "model_module_version": "1.5.0",
      "model_name": "ButtonStyleModel",
      "state": {
       "font_weight": "bold"
      }
     },
     "54db753dc91f459e891a300bfb9ca16d": {
      "model_module": "@jupyter-widgets/controls",
      "model_module_version": "1.5.0",
      "model_name": "ButtonStyleModel",
      "state": {
       "font_weight": "bold"
      }
     },
     "5558e7cf8c1240cd8d11a7cebd02f1d9": {
      "model_module": "@jupyter-widgets/controls",
      "model_module_version": "1.5.0",
      "model_name": "VBoxModel",
      "state": {
       "children": [
        "IPY_MODEL_45af09737bbd4df7b91b98def8c4857d",
        "IPY_MODEL_dfeff99354ca49aaa3066c0b4277a429"
       ],
       "layout": "IPY_MODEL_fc4d7367c5c642948f90f209fcfbb604"
      }
     },
     "57969a323c774703b85a1141feb34bc2": {
      "model_module": "@jupyter-widgets/controls",
      "model_module_version": "1.5.0",
      "model_name": "DescriptionStyleModel",
      "state": {
       "description_width": ""
      }
     },
     "59c298e90c7749babe214b6c5e2c8926": {
      "model_module": "@jupyter-widgets/controls",
      "model_module_version": "1.5.0",
      "model_name": "ButtonStyleModel",
      "state": {
       "font_weight": "bold"
      }
     },
     "5a79305b291c48869fd75d7e99fb39f7": {
      "model_module": "@jupyter-widgets/output",
      "model_module_version": "1.0.0",
      "model_name": "OutputModel",
      "state": {
       "layout": "IPY_MODEL_cf2ce8a24e074eb09a95bf1b84e4de74"
      }
     },
     "5dcdb461e9e74f5faf6c8cb4ab9e1479": {
      "model_module": "@jupyter-widgets/base",
      "model_module_version": "1.2.0",
      "model_name": "LayoutModel",
      "state": {}
     },
     "5f8c9405ee5f4c69a5314e8feebc8f53": {
      "model_module": "@jupyter-widgets/base",
      "model_module_version": "1.2.0",
      "model_name": "LayoutModel",
      "state": {}
     },
     "630b0ce8299c4587bd0b51f1de9973eb": {
      "model_module": "@jupyter-widgets/controls",
      "model_module_version": "1.5.0",
      "model_name": "ButtonStyleModel",
      "state": {
       "font_weight": "bold"
      }
     },
     "63a5e9ee8d28488e85145436fa2ef03d": {
      "model_module": "@jupyter-widgets/controls",
      "model_module_version": "1.5.0",
      "model_name": "HTMLModel",
      "state": {
       "layout": "IPY_MODEL_89bce42602b54cc192f91283ba9b01e1",
       "style": "IPY_MODEL_4239fdecc4df42308190681e470c98a2",
       "value": "<p><em>TESTING</em></p>"
      }
     },
     "6466a3d0f33d45bda11fcd35f1ecb7f1": {
      "model_module": "@jupyter-widgets/base",
      "model_module_version": "1.2.0",
      "model_name": "LayoutModel",
      "state": {}
     },
     "650d83dcdd944de68de91f3cffbeed04": {
      "model_module": "@jupyter-widgets/controls",
      "model_module_version": "1.5.0",
      "model_name": "ButtonStyleModel",
      "state": {
       "font_weight": "bold"
      }
     },
     "661bfd64a06a4606aeeea7d6f5101f0e": {
      "model_module": "@jupyter-widgets/output",
      "model_module_version": "1.0.0",
      "model_name": "OutputModel",
      "state": {
       "layout": "IPY_MODEL_a1d9f66cb798440b806f8f7e98515293"
      }
     },
     "6b9500ce9ecf46d2ac4060b3d4e943ac": {
      "model_module": "@jupyter-widgets/controls",
      "model_module_version": "1.5.0",
      "model_name": "DescriptionStyleModel",
      "state": {
       "description_width": ""
      }
     },
     "6e32ce791d1b4afbad7584e5c1bc38c9": {
      "model_module": "@jupyter-widgets/controls",
      "model_module_version": "1.5.0",
      "model_name": "HTMLModel",
      "state": {
       "layout": "IPY_MODEL_a2412ee0fe6e4412bec7cb6e382680ca",
       "style": "IPY_MODEL_1f5d91310de34e4ea6e58df7f8276fa4",
       "value": "<p>revert to inputs in last save of: .\\appdata\\inputs\\inputs-eplus_pipework_params.csv</p>"
      }
     },
     "6f6ed04d480c4f7bb4a76dc85f3063a6": {
      "model_module": "@jupyter-widgets/controls",
      "model_module_version": "1.5.0",
      "model_name": "HBoxModel",
      "state": {
       "children": [
        "IPY_MODEL_d9e663f86dd3493482b9f069e681d8ae",
        "IPY_MODEL_75ef1526254543f1a56100ec9b383ce5",
        "IPY_MODEL_3415288249ed439abd587e806ca5394f"
       ],
       "layout": "IPY_MODEL_5dcdb461e9e74f5faf6c8cb4ab9e1479"
      }
     },
     "6f7fdeedb4664c3896a5f97d5b57597a": {
      "model_module": "@jupyter-widgets/controls",
      "model_module_version": "1.5.0",
      "model_name": "ButtonStyleModel",
      "state": {
       "font_weight": "bold"
      }
     },
     "715dc48aeb524df68a890617a7a3bb64": {
      "model_module": "@jupyter-widgets/controls",
      "model_module_version": "1.5.0",
      "model_name": "ButtonModel",
      "state": {
       "button_style": "success",
       "description": "save changes",
       "layout": "IPY_MODEL_8d1bf35ed56340448ccfb6082affef93",
       "style": "IPY_MODEL_c0f6e1b201e1434dbb536cbf3fb12a62"
      }
     },
     "71644b0b869148b5abf96d2ca9afccc1": {
      "model_module": "@jupyter-widgets/base",
      "model_module_version": "1.2.0",
      "model_name": "LayoutModel",
      "state": {
       "align_items": "stretch",
       "display": "flex",
       "flex_flow": "row",
       "grid_auto_columns": "True",
       "justify_content": "flex-start",
       "width": "100%"
      }
     },
     "75e7b4eba20a4d429c6cda37a7c1f650": {
      "model_module": "@jupyter-widgets/controls",
      "model_module_version": "1.5.0",
      "model_name": "RadioButtonsModel",
      "state": {
       "_options_labels": [
        "TEMPLATE: C:\\engDev\\git_mf\\MF_Toolbox\\dev\\mf_scripts\\template_inputs\\inputs-eplus_pipework_params.csv",
        "PROJECT: .\\appdata\\inputs\\inputs-eplus_pipework_params-1.csv",
        "PROJECT: .\\appdata\\inputs\\inputs-eplus_pipework_params.csv",
        "PROJECT: .\\appdata\\inputs\\archive\\20200605-1625-inputs-eplus_pipework_params.csv",
        "PROJECT: .\\appdata\\inputs\\archive\\20200605-1625inputs-eplus_pipework_params.csv",
        "PROJECT: .\\appdata\\inputs\\archive\\20200607_1420-jg-inputs-eplus_pipework_params.csv"
       ],
       "index": 0,
       "layout": "IPY_MODEL_8d72c9a1154044319a838165fa82f461",
       "style": "IPY_MODEL_ff21bd95b49c49d395099766e33fbf43"
      }
     },
     "75ef1526254543f1a56100ec9b383ce5": {
      "model_module": "@jupyter-widgets/controls",
      "model_module_version": "1.5.0",
      "model_name": "ButtonModel",
      "state": {
       "button_style": "warning",
       "description": "revert to last save",
       "layout": "IPY_MODEL_44cc51d15f2d4aed9cc33c7d764520c6",
       "style": "IPY_MODEL_0752b983a2fe489cb4781cbab6dcf3b0"
      }
     },
     "785204f9d1bc41b8b3391ee8d5c4c11e": {
      "model_module": "@jupyter-widgets/controls",
      "model_module_version": "1.5.0",
      "model_name": "HTMLModel",
      "state": {
       "layout": "IPY_MODEL_a9ce6c08344541efa5ae9f74faaee051",
       "style": "IPY_MODEL_7de18eea27ff42e1bd9d89217cc27c4a",
       "value": "<p><em>TESTING</em></p>"
      }
     },
     "7de18eea27ff42e1bd9d89217cc27c4a": {
      "model_module": "@jupyter-widgets/controls",
      "model_module_version": "1.5.0",
      "model_name": "DescriptionStyleModel",
      "state": {
       "description_width": ""
      }
     },
     "7ef56e90f8a041b8ab94068459c14689": {
      "model_module": "@jupyter-widgets/controls",
      "model_module_version": "1.5.0",
      "model_name": "DescriptionStyleModel",
      "state": {
       "description_width": ""
      }
     },
     "7f0a35902b5045b5ad856d1fbf62d57f": {
      "model_module": "@jupyter-widgets/base",
      "model_module_version": "1.2.0",
      "model_name": "LayoutModel",
      "state": {}
     },
     "842edd4f63dc4e7c8bd3060809f72c63": {
      "model_module": "@jupyter-widgets/output",
      "model_module_version": "1.0.0",
      "model_name": "OutputModel",
      "state": {
       "layout": "IPY_MODEL_123f84b584b14733a0103f4c590e66e2"
      }
     },
     "87101e0de3a640e2b796e2f7f8a19cb8": {
      "model_module": "@jupyter-widgets/base",
      "model_module_version": "1.2.0",
      "model_name": "LayoutModel",
      "state": {}
     },
     "89bce42602b54cc192f91283ba9b01e1": {
      "model_module": "@jupyter-widgets/base",
      "model_module_version": "1.2.0",
      "model_name": "LayoutModel",
      "state": {}
     },
     "8a0dd22505554be287ae191dd9e3aaf4": {
      "model_module": "@jupyter-widgets/controls",
      "model_module_version": "1.5.0",
      "model_name": "DescriptionStyleModel",
      "state": {
       "description_width": ""
      }
     },
     "8a3935c7d8de4aa8beeb4a03ac589804": {
      "model_module": "@jupyter-widgets/controls",
      "model_module_version": "1.5.0",
      "model_name": "VBoxModel",
      "state": {
       "children": [
        "IPY_MODEL_d7e4f9e593a342e785faee46df9a4440",
        "IPY_MODEL_47b0530765e44753a513e62e96e71624"
       ],
       "layout": "IPY_MODEL_b86cc5adb8e8420eaf0f4a724282a490"
      }
     },
     "8bbabc89a5e043308c5a36cfe82306a6": {
      "model_module": "@jupyter-widgets/controls",
      "model_module_version": "1.5.0",
      "model_name": "DescriptionStyleModel",
      "state": {
       "description_width": ""
      }
     },
     "8d1bf35ed56340448ccfb6082affef93": {
      "model_module": "@jupyter-widgets/base",
      "model_module_version": "1.2.0",
      "model_name": "LayoutModel",
      "state": {}
     },
     "8d72c9a1154044319a838165fa82f461": {
      "model_module": "@jupyter-widgets/base",
      "model_module_version": "1.2.0",
      "model_name": "LayoutModel",
      "state": {
       "align_items": "stretch",
       "display": "flex",
       "flex_flow": "row",
       "grid_auto_columns": "True",
       "justify_content": "flex-start",
       "width": "100%"
      }
     },
     "92a1f423f74e4c9f871314eb7299f2eb": {
      "model_module": "@jupyter-widgets/controls",
      "model_module_version": "1.5.0",
      "model_name": "DescriptionStyleModel",
      "state": {
       "description_width": ""
      }
     },
     "97845d28f75240a782e3981388f201f5": {
      "model_module": "@jupyter-widgets/controls",
      "model_module_version": "1.5.0",
      "model_name": "VBoxModel",
      "state": {
       "children": [
        "IPY_MODEL_45af09737bbd4df7b91b98def8c4857d",
        "IPY_MODEL_3d745498bbdc4b3c96ad442acc3dc2d8"
       ],
       "layout": "IPY_MODEL_e6af31078a17481196dc52fe734bcfca"
      }
     },
     "990bb4d8804142c08cdd7f82d7126d22": {
      "model_module": "@jupyter-widgets/base",
      "model_module_version": "1.2.0",
      "model_name": "LayoutModel",
      "state": {}
     },
     "9b962127dc254013ba6b3bd31c12533e": {
      "model_module": "@jupyter-widgets/controls",
      "model_module_version": "1.5.0",
      "model_name": "DescriptionStyleModel",
      "state": {
       "description_width": ""
      }
     },
     "9c751e45efd94e18b899274d913a7b1a": {
      "model_module": "@jupyter-widgets/base",
      "model_module_version": "1.2.0",
      "model_name": "LayoutModel",
      "state": {}
     },
     "9d4e176fbf6f4bb5b68829f09f01854b": {
      "model_module": "@jupyter-widgets/controls",
      "model_module_version": "1.5.0",
      "model_name": "ToggleButtonModel",
      "state": {
       "button_style": "info",
       "description": "inputs from file",
       "layout": "IPY_MODEL_d52dbd4ab0264fa4bbd38ae25fef0b45",
       "style": "IPY_MODEL_3b7cb781a9234b03b4ac1d91eee0e708"
      }
     },
     "9ddb623d997045f2807bd71e23fdb10f": {
      "model_module": "@jupyter-widgets/base",
      "model_module_version": "1.2.0",
      "model_name": "LayoutModel",
      "state": {}
     },
     "9fa82dc3be4948669b31a2d662ae9b45": {
      "model_module": "@jupyter-widgets/controls",
      "model_module_version": "1.5.0",
      "model_name": "ButtonModel",
      "state": {
       "description": "load",
       "icon": "upload",
       "layout": "IPY_MODEL_2b895ee6840343e4a7fb801b72647c25",
       "style": "IPY_MODEL_c21998719e61484baa164125d6584da0"
      }
     },
     "a1d9f66cb798440b806f8f7e98515293": {
      "model_module": "@jupyter-widgets/base",
      "model_module_version": "1.2.0",
      "model_name": "LayoutModel",
      "state": {}
     },
     "a2412ee0fe6e4412bec7cb6e382680ca": {
      "model_module": "@jupyter-widgets/base",
      "model_module_version": "1.2.0",
      "model_name": "LayoutModel",
      "state": {}
     },
     "a37da5b396d74053bfbff0afe1608f28": {
      "model_module": "@jupyter-widgets/base",
      "model_module_version": "1.2.0",
      "model_name": "LayoutModel",
      "state": {}
     },
     "a41412a278fd43e88da150e174db1aaf": {
      "model_module": "@jupyter-widgets/controls",
      "model_module_version": "1.5.0",
      "model_name": "ButtonStyleModel",
      "state": {
       "font_weight": "bold"
      }
     },
     "a449beab475c4a45a35d9ffe911d221d": {
      "model_module": "@jupyter-widgets/controls",
      "model_module_version": "1.5.0",
      "model_name": "ToggleButtonModel",
      "state": {
       "button_style": "info",
       "description": "inputs from file",
       "layout": "IPY_MODEL_4ea71945695044e3a6630cbab91fa123",
       "style": "IPY_MODEL_0dcaa16e8dcc4ddfa50a9acafd2c27c2"
      }
     },
     "a4a7fe7246824299931dbaeddf053bf4": {
      "model_module": "@jupyter-widgets/base",
      "model_module_version": "1.2.0",
      "model_name": "LayoutModel",
      "state": {}
     },
     "a59b32ca17ec47bca36380fdd955d625": {
      "model_module": "@jupyter-widgets/base",
      "model_module_version": "1.2.0",
      "model_name": "LayoutModel",
      "state": {}
     },
     "a912eae483964e6e88c9200892ae7489": {
      "model_module": "@jupyter-widgets/controls",
      "model_module_version": "1.5.0",
      "model_name": "RadioButtonsModel",
      "state": {
       "_options_labels": [
        "TEMPLATE: C:\\engDev\\git_mf\\MF_Toolbox\\dev\\mf_scripts\\template_inputs\\inputs-eplus_pipework_params.csv",
        "PROJECT: .\\appdata\\inputs\\inputs-eplus_pipework_params-1.csv",
        "PROJECT: .\\appdata\\inputs\\inputs-eplus_pipework_params.csv",
        "PROJECT: .\\appdata\\inputs\\archive\\20200605-1625-inputs-eplus_pipework_params.csv",
        "PROJECT: .\\appdata\\inputs\\archive\\20200605-1625inputs-eplus_pipework_params.csv",
        "PROJECT: .\\appdata\\inputs\\archive\\20200607_1420-jg-inputs-eplus_pipework_params.csv"
       ],
       "index": 0,
       "layout": "IPY_MODEL_11a6ab0cb32041c5bcdf0f9fe111bb71",
       "style": "IPY_MODEL_dcf85b07d5d546a786961206426c2af9"
      }
     },
     "a9ce6c08344541efa5ae9f74faaee051": {
      "model_module": "@jupyter-widgets/base",
      "model_module_version": "1.2.0",
      "model_name": "LayoutModel",
      "state": {}
     },
     "b203c47f61f0482d9c1c59ddf7ce7349": {
      "model_module": "@jupyter-widgets/base",
      "model_module_version": "1.2.0",
      "model_name": "LayoutModel",
      "state": {}
     },
     "b7a93fb56cbd446fb4b5528e3a65daec": {
      "model_module": "@jupyter-widgets/base",
      "model_module_version": "1.2.0",
      "model_name": "LayoutModel",
      "state": {}
     },
     "b847e50ae6494ae9a967998339e1a57a": {
      "model_module": "@jupyter-widgets/base",
      "model_module_version": "1.2.0",
      "model_name": "LayoutModel",
      "state": {}
     },
     "b86cc5adb8e8420eaf0f4a724282a490": {
      "model_module": "@jupyter-widgets/base",
      "model_module_version": "1.2.0",
      "model_name": "LayoutModel",
      "state": {}
     },
     "b9bf7b5ce4e141879c56886595895420": {
      "model_module": "@jupyter-widgets/controls",
      "model_module_version": "1.5.0",
      "model_name": "HTMLModel",
      "state": {
       "layout": "IPY_MODEL_7f0a35902b5045b5ad856d1fbf62d57f",
       "style": "IPY_MODEL_57969a323c774703b85a1141feb34bc2",
       "value": "<p>revert to inputs in last save of: .\\appdata\\inputs\\inputs-eplus_pipework_params.csv</p>"
      }
     },
     "bc5feadd5d504ee2a7dce503dbe5cb1a": {
      "model_module": "@jupyter-widgets/controls",
      "model_module_version": "1.5.0",
      "model_name": "ButtonModel",
      "state": {
       "description": "load",
       "icon": "upload",
       "layout": "IPY_MODEL_6466a3d0f33d45bda11fcd35f1ecb7f1",
       "style": "IPY_MODEL_6f7fdeedb4664c3896a5f97d5b57597a"
      }
     },
     "be906f9ec6bc45fdb4320a78452b7f76": {
      "model_module": "@jupyter-widgets/controls",
      "model_module_version": "1.5.0",
      "model_name": "VBoxModel",
      "state": {
       "children": [
        "IPY_MODEL_6f6ed04d480c4f7bb4a76dc85f3063a6",
        "IPY_MODEL_c68231534859471ba178e5b539c99e4b"
       ],
       "layout": "IPY_MODEL_ca0a34b7eda84f6481fa3582108e1141"
      }
     },
     "c0f6e1b201e1434dbb536cbf3fb12a62": {
      "model_module": "@jupyter-widgets/controls",
      "model_module_version": "1.5.0",
      "model_name": "ButtonStyleModel",
      "state": {
       "font_weight": "bold"
      }
     },
     "c21998719e61484baa164125d6584da0": {
      "model_module": "@jupyter-widgets/controls",
      "model_module_version": "1.5.0",
      "model_name": "ButtonStyleModel",
      "state": {
       "font_weight": "bold"
      }
     },
     "c25d0aec872b45089205dabb199d5860": {
      "model_module": "@jupyter-widgets/controls",
      "model_module_version": "1.5.0",
      "model_name": "ButtonStyleModel",
      "state": {
       "font_weight": "bold"
      }
     },
     "c448eeab6012411b81806726804627f6": {
      "model_module": "@jupyter-widgets/base",
      "model_module_version": "1.2.0",
      "model_name": "LayoutModel",
      "state": {}
     },
     "c68231534859471ba178e5b539c99e4b": {
      "model_module": "@jupyter-widgets/controls",
      "model_module_version": "1.5.0",
      "model_name": "HTMLModel",
      "state": {
       "layout": "IPY_MODEL_38cf538028234dff923b51d6a29c5c61",
       "style": "IPY_MODEL_0e723e8681c44c0cabba5850ad7278d0",
       "value": "<p>.\\appdata\\inputs\\inputs-eplus_pipework_params.csv saved at: 09-Jun-2020 09:19:38</p>"
      }
     },
     "c6b351838771414eb3db6ce32c6d3f84": {
      "model_module": "@jupyter-widgets/controls",
      "model_module_version": "1.5.0",
      "model_name": "DescriptionStyleModel",
      "state": {
       "description_width": ""
      }
     },
     "c6f8158be686474da0a7016e8d8ae532": {
      "model_module": "@jupyter-widgets/base",
      "model_module_version": "1.2.0",
      "model_name": "LayoutModel",
      "state": {}
     },
     "c72ab33f7ef6484b9134003c2534ee57": {
      "model_module": "@jupyter-widgets/controls",
      "model_module_version": "1.5.0",
      "model_name": "VBoxModel",
      "state": {
       "children": [
        "IPY_MODEL_2880599dd010457fa1ee86f8ae5f3ece",
        "IPY_MODEL_376fd9a6cc764a21a3de2332bfff9c74"
       ],
       "layout": "IPY_MODEL_eb0ead7d48624c74a76d4ce412799b5a"
      }
     },
     "c8f275cb59ad41fdb11ce3eb1e9d3ff5": {
      "model_module": "@jupyter-widgets/controls",
      "model_module_version": "1.5.0",
      "model_name": "ButtonModel",
      "state": {
       "button_style": "warning",
       "description": "revert to last save",
       "layout": "IPY_MODEL_dbf257f9d0c847019bc2edaaf51d0d76",
       "style": "IPY_MODEL_54db753dc91f459e891a300bfb9ca16d"
      }
     },
     "ca0a34b7eda84f6481fa3582108e1141": {
      "model_module": "@jupyter-widgets/base",
      "model_module_version": "1.2.0",
      "model_name": "LayoutModel",
      "state": {}
     },
     "ca64df0013cc43fbb68f7ac170680c85": {
      "model_module": "@jupyter-widgets/base",
      "model_module_version": "1.2.0",
      "model_name": "LayoutModel",
      "state": {}
     },
     "cc0a83d74c0c4f43b71769b264be1e4a": {
      "model_module": "@jupyter-widgets/controls",
      "model_module_version": "1.5.0",
      "model_name": "HTMLModel",
      "state": {
       "layout": "IPY_MODEL_c448eeab6012411b81806726804627f6",
       "style": "IPY_MODEL_92a1f423f74e4c9f871314eb7299f2eb",
       "value": "<p>revert to inputs in last save of: .\\appdata\\inputs\\inputs-eplus_pipework_params.csv</p>"
      }
     },
     "cd70f1230db14559966816d89365b83e": {
      "model_module": "@jupyter-widgets/base",
      "model_module_version": "1.2.0",
      "model_name": "LayoutModel",
      "state": {}
     },
     "cf2ce8a24e074eb09a95bf1b84e4de74": {
      "model_module": "@jupyter-widgets/base",
      "model_module_version": "1.2.0",
      "model_name": "LayoutModel",
      "state": {}
     },
     "d048a17d35e240eab65fdc54e9c25965": {
      "model_module": "@jupyter-widgets/base",
      "model_module_version": "1.2.0",
      "model_name": "LayoutModel",
      "state": {}
     },
     "d10d05dc063244ab84d961cca2fb5491": {
      "model_module": "@jupyter-widgets/base",
      "model_module_version": "1.2.0",
      "model_name": "LayoutModel",
      "state": {}
     },
     "d263359164ec4dffa2f914c2bbd2d703": {
      "model_module": "@jupyter-widgets/base",
      "model_module_version": "1.2.0",
      "model_name": "LayoutModel",
      "state": {}
     },
     "d44cb7e083114f98850d52d102137a1f": {
      "model_module": "@jupyter-widgets/controls",
      "model_module_version": "1.5.0",
      "model_name": "VBoxModel",
      "state": {
       "children": [
        "IPY_MODEL_d7e4f9e593a342e785faee46df9a4440",
        "IPY_MODEL_e3a8ffaf7939420285f5587a5c1873e9"
       ],
       "layout": "IPY_MODEL_d263359164ec4dffa2f914c2bbd2d703"
      }
     },
     "d52dbd4ab0264fa4bbd38ae25fef0b45": {
      "model_module": "@jupyter-widgets/base",
      "model_module_version": "1.2.0",
      "model_name": "LayoutModel",
      "state": {}
     },
     "d7b854536e894ec4bebbf955cae4440f": {
      "model_module": "@jupyter-widgets/base",
      "model_module_version": "1.2.0",
      "model_name": "LayoutModel",
      "state": {}
     },
     "d7e4f9e593a342e785faee46df9a4440": {
      "model_module": "@jupyter-widgets/controls",
      "model_module_version": "1.5.0",
      "model_name": "HBoxModel",
      "state": {
       "children": [
        "IPY_MODEL_715dc48aeb524df68a890617a7a3bb64",
        "IPY_MODEL_11a17c5c7ac0441bbae44f8fe05bc39a",
        "IPY_MODEL_a449beab475c4a45a35d9ffe911d221d"
       ],
       "layout": "IPY_MODEL_1884821112904bb3a79567784fb67f75"
      }
     },
     "d9e663f86dd3493482b9f069e681d8ae": {
      "model_module": "@jupyter-widgets/controls",
      "model_module_version": "1.5.0",
      "model_name": "ButtonModel",
      "state": {
       "button_style": "success",
       "description": "save changes",
       "layout": "IPY_MODEL_b203c47f61f0482d9c1c59ddf7ce7349",
       "style": "IPY_MODEL_52d511434f654a3ea760699a09c65b54"
      }
     },
     "dbf257f9d0c847019bc2edaaf51d0d76": {
      "model_module": "@jupyter-widgets/base",
      "model_module_version": "1.2.0",
      "model_name": "LayoutModel",
      "state": {}
     },
     "dc6abfd2d3b3466e99eb37acdf8ee86c": {
      "model_module": "@jupyter-widgets/controls",
      "model_module_version": "1.5.0",
      "model_name": "ButtonStyleModel",
      "state": {
       "font_weight": "bold"
      }
     },
     "dce46e841ffd4ad4aef46d1c381d1da7": {
      "model_module": "@jupyter-widgets/controls",
      "model_module_version": "1.5.0",
      "model_name": "DescriptionStyleModel",
      "state": {
       "description_width": ""
      }
     },
     "dcf85b07d5d546a786961206426c2af9": {
      "model_module": "@jupyter-widgets/controls",
      "model_module_version": "1.5.0",
      "model_name": "DescriptionStyleModel",
      "state": {
       "description_width": ""
      }
     },
     "df2d36de301745ae99b05580bbc4226a": {
      "model_module": "@jupyter-widgets/controls",
      "model_module_version": "1.5.0",
      "model_name": "VBoxModel",
      "state": {
       "children": [
        "IPY_MODEL_d7e4f9e593a342e785faee46df9a4440",
        "IPY_MODEL_237352d4d8d94abe85f8e62254f97fe9"
       ],
       "layout": "IPY_MODEL_3a2bba835b6e493c9b35edd5714399b4"
      }
     },
     "dfeff99354ca49aaa3066c0b4277a429": {
      "model_module": "@jupyter-widgets/controls",
      "model_module_version": "1.5.0",
      "model_name": "HTMLModel",
      "state": {
       "layout": "IPY_MODEL_29e1741753ad4204a326af7eb013d22a",
       "style": "IPY_MODEL_1b2d49ef9e5d4ab4b3d707cd531d3b13",
       "value": "<p><em>TESTING</em></p>"
      }
     },
     "e1b688673eda461caeb22beb4277abef": {
      "model_module": "@jupyter-widgets/base",
      "model_module_version": "1.2.0",
      "model_name": "LayoutModel",
      "state": {}
     },
     "e3a8ffaf7939420285f5587a5c1873e9": {
      "model_module": "@jupyter-widgets/controls",
      "model_module_version": "1.5.0",
      "model_name": "HTMLModel",
      "state": {
       "layout": "IPY_MODEL_b847e50ae6494ae9a967998339e1a57a",
       "style": "IPY_MODEL_8bbabc89a5e043308c5a36cfe82306a6",
       "value": "<p>.\\appdata\\inputs\\inputs-eplus_pipework_params.csv saved at: 09-Jun-2020 09:18:04</p>"
      }
     },
     "e3d66abeb1ae48f7b85eb882730bdf05": {
      "model_module": "@jupyter-widgets/base",
      "model_module_version": "1.2.0",
      "model_name": "LayoutModel",
      "state": {}
     },
     "e64c3036fb3f45288c37d6a78f3fcdf9": {
      "model_module": "@jupyter-widgets/controls",
      "model_module_version": "1.5.0",
      "model_name": "RadioButtonsModel",
      "state": {
       "_options_labels": [
        "TEMPLATE: C:\\engDev\\git_mf\\MF_Toolbox\\dev\\mf_scripts\\template_inputs\\inputs-eplus_pipework_params.csv",
        "PROJECT: .\\appdata\\inputs\\inputs-eplus_pipework_params-1.csv",
        "PROJECT: .\\appdata\\inputs\\inputs-eplus_pipework_params.csv",
        "PROJECT: .\\appdata\\inputs\\archive\\20200605-1625-inputs-eplus_pipework_params.csv",
        "PROJECT: .\\appdata\\inputs\\archive\\20200605-1625inputs-eplus_pipework_params.csv",
        "PROJECT: .\\appdata\\inputs\\archive\\20200607_1420-jg-inputs-eplus_pipework_params.csv"
       ],
       "index": 0,
       "layout": "IPY_MODEL_71644b0b869148b5abf96d2ca9afccc1",
       "style": "IPY_MODEL_1db56f0b9db4474aa8ac72b8b64884f9"
      }
     },
     "e6af31078a17481196dc52fe734bcfca": {
      "model_module": "@jupyter-widgets/base",
      "model_module_version": "1.2.0",
      "model_name": "LayoutModel",
      "state": {}
     },
     "eb0ead7d48624c74a76d4ce412799b5a": {
      "model_module": "@jupyter-widgets/base",
      "model_module_version": "1.2.0",
      "model_name": "LayoutModel",
      "state": {}
     },
     "ecfcdb9dcc5047e0ade63a39d17af204": {
      "model_module": "@jupyter-widgets/controls",
      "model_module_version": "1.5.0",
      "model_name": "ToggleButtonModel",
      "state": {
       "button_style": "info",
       "description": "inputs from file",
       "layout": "IPY_MODEL_990bb4d8804142c08cdd7f82d7126d22",
       "style": "IPY_MODEL_9b962127dc254013ba6b3bd31c12533e"
      }
     },
     "ed513440a6374b37898c74a3608585e3": {
      "model_module": "@jupyter-widgets/controls",
      "model_module_version": "1.5.0",
      "model_name": "VBoxModel",
      "state": {
       "children": [
        "IPY_MODEL_d7e4f9e593a342e785faee46df9a4440",
        "IPY_MODEL_3f78170254434935a6ac3c434f54c339"
       ],
       "layout": "IPY_MODEL_19f5391157e144c7b7550c3c80615392"
      }
     },
     "f6e43fdaad7740d897ede945b1398a2c": {
      "model_module": "@jupyter-widgets/controls",
      "model_module_version": "1.5.0",
      "model_name": "VBoxModel",
      "state": {
       "children": [
        "IPY_MODEL_d7e4f9e593a342e785faee46df9a4440",
        "IPY_MODEL_63a5e9ee8d28488e85145436fa2ef03d"
       ],
       "layout": "IPY_MODEL_050d9e6e22fb418c9744a380ed527711"
      }
     },
     "fa063315d01c40d49b62a497889815c0": {
      "model_module": "@jupyter-widgets/base",
      "model_module_version": "1.2.0",
      "model_name": "LayoutModel",
      "state": {}
     },
     "fbf41c4bde0546b483e52e5e68a77f1f": {
      "model_module": "@jupyter-widgets/controls",
      "model_module_version": "1.5.0",
      "model_name": "VBoxModel",
      "state": {
       "children": [
        "IPY_MODEL_6f6ed04d480c4f7bb4a76dc85f3063a6",
        "IPY_MODEL_c68231534859471ba178e5b539c99e4b"
       ],
       "layout": "IPY_MODEL_e1b688673eda461caeb22beb4277abef"
      }
     },
     "fc4d7367c5c642948f90f209fcfbb604": {
      "model_module": "@jupyter-widgets/base",
      "model_module_version": "1.2.0",
      "model_name": "LayoutModel",
      "state": {}
     },
     "fd10952565ba43a99f9acdea67f79d6b": {
      "model_module": "@jupyter-widgets/controls",
      "model_module_version": "1.5.0",
      "model_name": "VBoxModel",
      "state": {
       "children": [
        "IPY_MODEL_6f6ed04d480c4f7bb4a76dc85f3063a6",
        "IPY_MODEL_c68231534859471ba178e5b539c99e4b"
       ],
       "layout": "IPY_MODEL_9ddb623d997045f2807bd71e23fdb10f"
      }
     },
     "ff21bd95b49c49d395099766e33fbf43": {
      "model_module": "@jupyter-widgets/controls",
      "model_module_version": "1.5.0",
      "model_name": "DescriptionStyleModel",
      "state": {
       "description_width": ""
      }
     },
     "ff68cdd2274c4ca7b47500858b1703c0": {
      "model_module": "@jupyter-widgets/controls",
      "model_module_version": "1.5.0",
      "model_name": "VBoxModel",
      "state": {
       "children": [
        "IPY_MODEL_bc5feadd5d504ee2a7dce503dbe5cb1a",
        "IPY_MODEL_e64c3036fb3f45288c37d6a78f3fcdf9"
       ],
       "layout": "IPY_MODEL_b7a93fb56cbd446fb4b5528e3a65daec"
      }
     }
    },
    "version_major": 2,
    "version_minor": 0
   }
  }
 },
 "nbformat": 4,
 "nbformat_minor": 4
}
