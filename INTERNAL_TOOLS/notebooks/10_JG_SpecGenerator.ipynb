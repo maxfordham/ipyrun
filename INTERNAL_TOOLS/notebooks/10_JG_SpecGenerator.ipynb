{
 "cells": [
  {
   "cell_type": "code",
   "execution_count": 2,
   "metadata": {},
   "outputs": [
    {
     "data": {
      "text/html": [
       "\n",
       "                <style>\n",
       "                    div#notebook-container    { width: 90%; }\n",
       "                    div#menubar-container     { width: 85%; }\n",
       "                    div#maintoolbar-container { width: 90%; }\n",
       "                </style>\n",
       "                "
      ],
      "text/plain": [
       "<IPython.core.display.HTML object>"
      ]
     },
     "metadata": {},
     "output_type": "display_data"
    },
    {
     "data": {
      "text/html": [
       "\n",
       "            <!DOCTYPE html>\n",
       "            <html lang=\"en\">\n",
       "            <head>\n",
       "            <title>CSS Template</title>\n",
       "            <meta charset=\"utf-8\">\n",
       "            <meta name=\"viewport\" content=\"width=device-width, initial-scale=1\">\n",
       "            <style>\n",
       "            * {\n",
       "            box-sizing: border-box;\n",
       "            }\n",
       "            \n",
       "            .mf-image {\n",
       "            background-image: linear-gradient(rgba(0, 0, 0, 0), rgba(0, 0, 0, 0)), url(\"https://www.maxfordham.com/assets/media/mf_placeholder.jpg\");\n",
       "            height: 100%;\n",
       "            background-position: center;\n",
       "            background-repeat: no-repeat;\n",
       "            background-size: cover;\n",
       "            position: relative;\n",
       "            }\n",
       "\n",
       "            /* Create two columns/boxes that floats next to each other */\n",
       "            nav {\n",
       "            float: left;\n",
       "            width: 80%;\n",
       "            height: 350px; /* only for demonstration, should be removed */\n",
       "            background: #f1f1f1;\n",
       "            padding: 20px;\n",
       "            line-height: 1.2;\n",
       "            }\n",
       "\n",
       "            article {\n",
       "            float: left;\n",
       "            padding: 20px;\n",
       "            width: 20%;\n",
       "            background-color: #f1f1f1;\n",
       "            height: 350px; /* only for demonstration, should be removed */\n",
       "            \n",
       "            }\n",
       "\n",
       "            /* Clear floats after the columns */\n",
       "            section:after {\n",
       "            content: \"\";\n",
       "            display: table;\n",
       "            clear: both;\n",
       "            }\n",
       "\n",
       "            /* Style the footer */\n",
       "            footer {\n",
       "            background-color:#777;\n",
       "            padding: 10px;\n",
       "            text-align: center;\n",
       "            color: white;\n",
       "            }\n",
       "\n",
       "            /* Responsive layout - makes the two columns/boxes stack on top of each other instead of next to each other, on small screens */\n",
       "            @media (max-width: 600px) {\n",
       "            nav, article {\n",
       "                width: 100%;\n",
       "                height: 350px;\n",
       "            }\n",
       "            }\n",
       "            </style>\n",
       "            </head>\n",
       "            "
      ],
      "text/plain": [
       "<IPython.core.display.HTML object>"
      ]
     },
     "metadata": {},
     "output_type": "display_data"
    },
    {
     "data": {
      "text/html": [
       "\n",
       "            <body>\n",
       "            <section>\n",
       "            <nav>\n",
       "                <h1>10_JG_SpecGenerator</h1>\n",
       "                <p><b>Description: </b>\n",
       "        Generates template markdown files for spec sections <br>\n",
       "    </p>\n",
       "                <p><b>Job Name: </b>Engineering Standards | Digital Design</p>\n",
       "                <p><b>Job Number: </b>J6667</p>\n",
       "                <p><b>Author: </b>JG</p>\n",
       "                <p><b>Filename: </b>Spec300_headings</p>\n",
       "                <p><b>Working Folder: </b>.</p>\n",
       "            </nav>\n",
       "\n",
       "            <article>\n",
       "                <div class=\"mf-image\">\n",
       "                </div>\n",
       "            </article>\n",
       "            </section>\n",
       "            </body>"
      ],
      "text/plain": [
       "<IPython.core.display.HTML object>"
      ]
     },
     "metadata": {},
     "output_type": "display_data"
    }
   ],
   "source": [
    "from mf_modules.j_header import j_header\n",
    "#help(j_header)\n",
    "header={\n",
    "    'title':'10_JG_SpecGenerator',\n",
    "    'des':'''\n",
    "        Generates template markdown files for spec sections <br>\n",
    "    ''',\n",
    "    'job_nm' :'Engineering Standards | Digital Design',\n",
    "    'job_no' : 'J6667',\n",
    "    'author' : 'JG',\n",
    "    'fnm':'Spec300_headings',\n",
    "    'wdir':'.',\n",
    "    'chdir_to_wdir':False\n",
    "}\n",
    "j_header(**header)"
   ]
  },
  {
   "cell_type": "code",
   "execution_count": 7,
   "metadata": {},
   "outputs": [],
   "source": [
    "\n",
    "import os\n",
    "from IPython.display import Markdown\n",
    "from mf_modules.pydtype_operations import read_yaml, read_txt, iconv_catch_utf8_errors\n",
    "from mf_modules.pydtype_operations import camel_case_to_words"
   ]
  },
  {
   "cell_type": "code",
   "execution_count": 26,
   "metadata": {},
   "outputs": [],
   "source": [
    "\n",
    "from docx import Document\n",
    "from docx.shared import Inches\n",
    "from IPython.display import FileLink, FileLinks\n",
    "from IPython.display import display\n",
    "def iter_headings(paragraphs):\n",
    "    for paragraph in paragraphs:\n",
    "        if paragraph.style.name.startswith('Heading'):\n",
    "            yield paragraph\n",
    "            \n",
    "def list_headings(document):\n",
    "    li=[]\n",
    "    for heading in iter_headings(document.paragraphs):\n",
    "        li.append(heading.text)\n",
    "    return li\n",
    "def get_headings(fpth):\n",
    "    document = Document(fpth)\n",
    "    print('Spec-300 input document:')\n",
    "    print('-----------------------------------------')\n",
    "    display(FileLink(fpth))\n",
    "    print('')\n",
    "    li=list_headings(document)\n",
    "\n",
    "    print('1st 10 example headings from the Spec-300')\n",
    "    print('-----------------------------------------')\n",
    "    for i in range(0,10):\n",
    "        print(li[i])\n",
    "    print('')\n",
    "\n",
    "    li1=[]\n",
    "    for l in li:\n",
    "        li1.append(l.split(' ',1))\n",
    "\n",
    "\n",
    "\n",
    "    fpth_out=os.path.join(os.path.dirname(fpth),os.path.splitext(os.path.basename(fpth))[0]+'headings.txt')\n",
    "    with open(fpth_out, 'w') as f:\n",
    "        for item in li1:\n",
    "            try:\n",
    "                f.write(\"%s\" % item[0]+\"    \"+item[1]+\"\\n\")\n",
    "            except:\n",
    "                print('ignored item: '+str(item))\n",
    "    print('')  \n",
    "    print('txt file output with listed Spec headings:')\n",
    "    print('-----------------------------------------')\n",
    "    iconv_catch_utf8_errors(fpth_out)\n",
    "    FileLink(fpth_out)\n",
    "    return fpth_out\n",
    "    \n",
    "fpth_100 = r'..\\data\\raw\\Spec100.docx'\n",
    "fpth_300 = r'..\\data\\raw\\Spec300.docx'\n",
    "\n",
    "# NOT IN USE\n",
    "#get_headings(fpth_100)\n",
    "#print('-------------------------')\n",
    "#print('-------------------------')\n",
    "#print('-------------------------')\n",
    "#get_headings(fpth_300)"
   ]
  },
  {
   "cell_type": "code",
   "execution_count": 27,
   "metadata": {},
   "outputs": [],
   "source": [
    "import pandas as pd\n",
    "from mf_modules.excel_in import ExcelIn\n",
    "#df = pd.read_excel( , sheet_name='classification',)\n",
    "fpth=r'..\\DocumentNumberGenerator.xlsm'\n",
    "xl=ExcelIn(fpth,sheet_name='classification')\n",
    "df=xl.pytable\n",
    "df['spec_heading'] = df['uniclass_classification'] + '-' + df['classification_des']\n",
    "df_filt = df.dropna(subset=['inMfPackage'])\n",
    "spec_headings = df_filt['spec_heading'].dropna().tolist()"
   ]
  },
  {
   "cell_type": "code",
   "execution_count": 28,
   "metadata": {},
   "outputs": [],
   "source": [
    "#spec_headings = [s.replace(' ','') for s in spec_headings]"
   ]
  },
  {
   "cell_type": "code",
   "execution_count": 45,
   "metadata": {},
   "outputs": [
    {
     "name": "stdout",
     "output_type": "stream",
     "text": [
      "..\\spec\\Ss_50_30_04_00-AboveGroundWasteWaterDrainage_IndustryStandards.csv\n"
     ]
    }
   ],
   "source": [
    "def mdli_to_file(fpth_md, li, runiconv=False):\n",
    "    \"\"\"\n",
    "    writes list to markdown file.\n",
    "    runs iconv to deal with utf-8 errors.\n",
    "    Args:\n",
    "        md_fpth (str): filepath of markdown schedule file to create\n",
    "        li: list of markdown stings\n",
    "\n",
    "    Returns:\n",
    "        md_fpth (str): filepath of markdown schedule created\n",
    "    \"\"\"\n",
    "    with open(fpth_md, 'w') as f:\n",
    "        for l in li:\n",
    "            if l == '\\\\newpage':\n",
    "                f.write(\"%s\\n\" % l)x\n",
    "            else:\n",
    "                f.write(\"%s\\n\\n\" % l)\n",
    "    f.close()\n",
    "    if runiconv:\n",
    "        iconv_catch_utf8_errors(fpth_md)\n",
    "        \n",
    "    return fpth_md\n",
    "        \n",
    "def spec_template(spec_heading,template_di, datadir = '..\\\\spec'):\n",
    "    md = []\n",
    "    for k, v in template_di.items():\n",
    "        content = ''\n",
    "        if k == '__system_name__':\n",
    "            k = spec_heading\n",
    "        fpth_ind = os.path.join(datadir,spec_heading.replace(' ','')+'_IndustryStandards.csv')\n",
    "        if os.path.isfile(fpth_ind):\n",
    "            if k == 'Industry Standards':\n",
    "                print(fpth_ind)\n",
    "                content = pd.read_csv(fpth_ind).dropna().to_markdown()\n",
    "                k = \"%s\\n\\n\" % k\n",
    "        heading = v + k\n",
    "        md.append(heading + content)\n",
    "    return md\n",
    "    \n",
    "#display(Markdown([m for m in md]))\n",
    "\n",
    "template_di = read_yaml(r'..\\spec\\_spec100_template.yaml')['spec100']\n",
    "spec_md = []\n",
    "for spec_heading in spec_headings:\n",
    "    spec_md.append(spec_template(spec_heading,template_di))\n",
    "    \n",
    "for s in spec_md:\n",
    "    fpth_md = '..\\\\spec\\\\'+ s[0].replace('# ','').replace(' ','')+'.md'\n",
    "    mdli_to_file(fpth_md, s, runiconv=False)"
   ]
  },
  {
   "cell_type": "code",
   "execution_count": 39,
   "metadata": {},
   "outputs": [
    {
     "data": {
      "text/plain": [
       "0"
      ]
     },
     "execution_count": 39,
     "metadata": {},
     "output_type": "execute_result"
    }
   ],
   "source": [
    "from mf_modules.constants import REFDOCX\n",
    "from mf_modules.file_operations import fpth_chg_extension\n",
    "\n",
    "fpth_md = '../spec/Ss_50_30_04_00-AboveGroundWasteWaterDrainage.md'\n",
    "fpth_docx = fpth_chg_extension(fpth_md, new_ext='docx')\n",
    "fpth_refdocx = REFDOCX\n",
    "\n",
    "cmd = 'call pandoc -o \"{0}\" -f markdown -t docx \"{1}\" --reference-doc={2} --filter=pandoc-docx-pagebreakpy'.format(\n",
    "    fpth_docx, fpth_md, fpth_refdocx)\n",
    "os.system(cmd)"
   ]
  },
  {
   "cell_type": "code",
   "execution_count": 40,
   "metadata": {},
   "outputs": [],
   "source": [
    "from mf_modules.file_operations import open_file\n",
    "open_file(fpth_docx)"
   ]
  }
 ],
 "metadata": {
  "kernelspec": {
   "display_name": "Python 3",
   "language": "python",
   "name": "python3"
  },
  "language_info": {
   "codemirror_mode": {
    "name": "ipython",
    "version": 3
   },
   "file_extension": ".py",
   "mimetype": "text/x-python",
   "name": "python",
   "nbconvert_exporter": "python",
   "pygments_lexer": "ipython3",
   "version": "3.7.7"
  },
  "widgets": {
   "application/vnd.jupyter.widget-state+json": {
    "state": {},
    "version_major": 2,
    "version_minor": 0
   }
  }
 },
 "nbformat": 4,
 "nbformat_minor": 4
}
