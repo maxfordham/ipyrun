{
 "cells": [
  {
   "cell_type": "code",
   "execution_count": 1,
   "id": "8559a5b2-db0b-4095-aefe-68d4bd9d4766",
   "metadata": {},
   "outputs": [],
   "source": [
    "\"\"\"\n",
    "attaches genuine functionality onto the datastructures / UI elements defined in ui_*.py\n",
    "\"\"\"\n",
    "%run __init__.py\n",
    "%load_ext lab_black"
   ]
  },
  {
   "cell_type": "code",
   "execution_count": 2,
   "id": "8837e4c9-3f04-4589-a73c-1523b0eeb0ab",
   "metadata": {},
   "outputs": [],
   "source": [
    "import io\n",
    "import pandas as pd\n",
    "from IPython.display import (\n",
    "    # update_display,\n",
    "    display,\n",
    "    Image,\n",
    "    # JSON,\n",
    "    Markdown,\n",
    "    # HTML,\n",
    "    clear_output,\n",
    ")\n",
    "import subprocess\n",
    "import functools\n",
    "from shutil import copyfile\n",
    "import getpass\n",
    "import importlib.util\n",
    "from halo import HaloNotebook\n",
    "import pathlib\n",
    "import typing\n",
    "from typing import Optional, List, Dict, Type\n",
    "from pydantic.dataclasses import dataclass\n",
    "from pydantic import BaseModel, validator, Field\n",
    "from jinja2 import Template\n",
    "\n",
    "import plotly.io as pio\n",
    "import plotly.graph_objects as go\n",
    "\n",
    "# widget stuff\n",
    "import ipywidgets as widgets\n",
    "\n",
    "# core mf_modules\n",
    "from ipyautoui import AutoUi, DisplayFiles, AutoUiConfig\n",
    "from ipyautoui.autoui import display_template_ui_model\n",
    "from ipyautoui.autoui import AutoUiConfig\n",
    "from pprint import pprint\n",
    "import importlib.util\n",
    "import inspect\n",
    "\n",
    "# display_template_ui_model()\n",
    "\n",
    "# from this repo\n",
    "from ipyrun.utils import make_dir, del_matching\n",
    "from ipyrun.constants import (\n",
    "    BUTTON_WIDTH_MIN,\n",
    "    BUTTON_WIDTH_MEDIUM,\n",
    "    JOBNO_DEFAULT,\n",
    "    PATH_RUNAPP_HELP,\n",
    "    PATH_RUNAPPS_HELP,\n",
    "    DI_STATUS_MAP,\n",
    "    load_test_constants\n",
    ")\n",
    "#from ipyrun.run_config import *\n",
    "from ipyrun.ui_run import *\n",
    "def get_mfuser_initials():\n",
    "    user = getpass.getuser()\n",
    "    return user[0] + user[2]"
   ]
  },
  {
   "cell_type": "code",
   "execution_count": null,
   "id": "279bbfa7-4934-4603-aec1-c436c65ffbc0",
   "metadata": {},
   "outputs": [],
   "source": [
    "\n"
   ]
  },
  {
   "cell_type": "code",
   "execution_count": 33,
   "id": "00524b90-9703-434d-9971-7dff7fd2c398",
   "metadata": {},
   "outputs": [],
   "source": [
    "class PyObj(BaseModel):\n",
    "    path: pathlib.Path\n",
    "    obj_name: str\n",
    "    module_name: str = None\n",
    "    \n",
    "    @validator(\"module_name\", always=True)\n",
    "    def _module_name(cls, v, values):\n",
    "        if v is None:\n",
    "            return values[\"path\"].stem\n",
    "        else:\n",
    "            return v\n",
    "        \n",
    "class DisplayfileDefinition(PyObj):\n",
    "    ext: str\n",
    "    \n",
    "def _get_PyObj(obj: PyObj):\n",
    "    spec = importlib.util.spec_from_file_location(obj.module_name, obj.path)\n",
    "    foo = importlib.util.module_from_spec(spec)\n",
    "    spec.loader.exec_module(foo)\n",
    "    return getattr(foo, obj.obj_name)\n",
    "\n",
    "def create_displayfile_renderer(ddf: DisplayfileDefinition, fn_onsave: typing.Callable = lambda: None):\n",
    "    model = _get_PyObj(ddf)\n",
    "    config_ui = AutoUiConfig(ext=ddf.ext, pydantic_model=model)\n",
    "    return AutoUi.create_displayfile_renderer(config_autoui=config_ui, fn_onsave=fn_onsave)\n",
    "\n",
    "class ConfigActionsShell(BaseModel):\n",
    "    index: int = 0\n",
    "    in_batch: bool = True \n",
    "    status: str = None\n",
    "    fpth_script: pathlib.Path\n",
    "    process_name: str = \"process_name\"\n",
    "    pretty_name: str = None\n",
    "    fdir_appdata: pathlib.Path = Field(default=None, description='working dir for process execution. defaults to script folder if folder not given.')\n",
    "    displayfile_definitions: typing.List[DisplayfileDefinition] = Field(default=None, description='autoui definitions for displaying files. see ipyautui')\n",
    "    displayfile_inputs_kwargs: typing.Dict = Field(default_factory=lambda:{})\n",
    "    displayfile_outputs_kwargs: typing.Dict = Field(default_factory=lambda:{})\n",
    "    fpths_inputs: List[pathlib.Path] = Field(default = None)# Field(default_factory = list)\n",
    "    fpths_outputs: List[pathlib.Path] = Field(default_factory = list)\n",
    "    fpth_config: pathlib.Path = \"config-shell_handler.json\"\n",
    "    fpth_runhistory: pathlib.Path = \"runhistory.csv\"\n",
    "    fpth_log: pathlib.Path = \"log.csv\"\n",
    "    call: str = \"python -O\"\n",
    "    params: typing.Dict = {}\n",
    "    shell_template: str = \"\"\"\\\n",
    "{{ call }} {{ fpth_script }}\\\n",
    "{% for f in fpths_inputs %} {{f}}{% endfor %}\\\n",
    "{% for f in fpths_outputs %} {{f}}{% endfor %}\\\n",
    "{% for k,v in params.items()%} --{{k}} {{v}}{% endfor %}\n",
    "\"\"\"\n",
    "    shell: str = \"\"\n",
    "    \n",
    "    @validator(\"process_name\", always=True)\n",
    "    def _process_name(cls, v, values):\n",
    "        if v is None:\n",
    "            return values[\"fpth_script\"].stem\n",
    "        else:\n",
    "            return v\n",
    "                       \n",
    "    @validator(\"pretty_name\", always=True)\n",
    "    def _pretty_name(cls, v, values):\n",
    "        if v is None:\n",
    "            return str(values[\"process_name\"])\n",
    "        else:\n",
    "            return v\n",
    "\n",
    "    @validator(\"fdir_appdata\", always=True)\n",
    "    def _fdir_appdata(cls, v, values):\n",
    "        if v is None:\n",
    "            v=values[\"fpth_script\"].parent\n",
    "        return v\n",
    "    \n",
    "    @validator(\"fpths_inputs\", always=True)\n",
    "    def _fpths_inputs(cls, v, values):\n",
    "        if v is None:\n",
    "            v=[]\n",
    "        # find = []\n",
    "        # if values['patterns_inputs'] is not None:\n",
    "        #     for p in values['patterns_inputs']:\n",
    "        #         find.extend(list(values[\"fdir_appdata\"].glob(f\"{p}\")))\n",
    "        v = v #+ find        \n",
    "        assert type(v)==list, 'type(v)!=list'\n",
    "        return v\n",
    "    \n",
    "    @validator(\"fpths_outputs\", always=True)\n",
    "    def _fpths_outputs(cls, v, values):\n",
    "        if v is None:\n",
    "            v=[]\n",
    "        # find = []\n",
    "        # if values['fn_buildoutputs'] is not None:    \n",
    "        #     find = values['fn_buildoutputs'](**values)\n",
    "        return v #+ find\n",
    "        \n",
    "    @validator(\"fpth_config\", always=True)\n",
    "    def _fpth_config(cls, v, values):\n",
    "        return values[\"fdir_appdata\"] / v\n",
    "\n",
    "    @validator(\"fpth_runhistory\", always=True)\n",
    "    def _fpth_runhistory(cls, v, values):\n",
    "        return values[\"fdir_appdata\"] / v\n",
    "\n",
    "    @validator(\"shell\", always=True)\n",
    "    def _shell(cls, v, values):\n",
    "        #pprint(values)\n",
    "        return Template(values[\"shell_template\"]).render(**values)\n",
    "    \n",
    "# template run action callables\n",
    "def get_status(fpths_inputs, fpths_outputs):\n",
    "    #['no_outputs', 'up_to_date', 'outputs_need_updating']\n",
    "    for f in fpths_outputs:\n",
    "        if f.is_file() is False:\n",
    "            return 'no_outputs'\n",
    "    in_max = max([f.lstat().st_mtime for f in config.fpths_inputs])\n",
    "    out_max = max([f.lstat().st_mtime for f in config.fpths_outputs])\n",
    "    if in_max > out_max:\n",
    "        return 'outputs_need_updating'\n",
    "    else: \n",
    "        return 'up_to_date'\n",
    "    \n",
    "def update_cls_status(cls=None):\n",
    "    cls._update_status()\n",
    "    \n",
    "def check(config: ConfigActionsShell):\n",
    "    config.in_batch = True\n",
    "\n",
    "def uncheck(config: ConfigActionsShell):\n",
    "    config.in_batch = False\n",
    "    \n",
    "def show_files(fpths, class_displayfiles=DisplayFiles, kwargs_displayfiles={}):\n",
    "    display(class_displayfiles([f for f in fpths], **kwargs_displayfiles))\n",
    "    \n",
    "def run_shell(shell: str, cls=None): #\n",
    "    \"\"\"\n",
    "    cmd: str, cls=None\n",
    "    \"\"\"\n",
    "   \n",
    "    shell = shell.split(\" \")\n",
    "    pr = \"\\n\".join(shell)\n",
    "    pr = f\"```{pr}```\"\n",
    "    display(Markdown(pr))\n",
    "    spinner = HaloNotebook(animation=\"marquee\", text=\"Running\", spinner=\"dots\")\n",
    "    try:\n",
    "        spinner.start()\n",
    "        save = sys.stdout\n",
    "        sys.stdout = io.StringIO()\n",
    "        proc = subprocess.Popen(shell)\n",
    "        proc.wait()\n",
    "        in_stdout = sys.stdout.getvalue()\n",
    "        sys.stdout = save\n",
    "        display(in_stdout)\n",
    "        spinner.succeed(\"Finished\")\n",
    "\n",
    "    except subprocess.CalledProcessError as e:\n",
    "        spinner.fail(\"Error with Process\")\n",
    "    \n",
    "    cls._update_status()\n",
    "\n",
    "    \n",
    "def build_run_actions(config: ConfigActionsShell, cls=None) -> RunActions:  # fn_onsave\n",
    "    # create custom Displayfile \n",
    "    user_file_renderers = {}\n",
    "    fn_onsave = cls._update_status\n",
    "    for d in config.displayfile_definitions: \n",
    "        user_file_renderers.update(create_displayfile_renderer(d, fn_onsave=fn_onsave))    \n",
    "    cls_display = functools.partial(DisplayFiles, user_file_renderers=user_file_renderers)\n",
    "    \n",
    "    run_actions = RunActions(check=functools.partial(check, config),\n",
    "                             uncheck=functools.partial(uncheck, config),\n",
    "                             get_status=fn_onsave,\n",
    "                             inputs_show=functools.partial(show_files, \n",
    "                                                           config.fpths_inputs,\n",
    "                                                           class_displayfiles=cls_display,\n",
    "                                                           kwargs_displayfiles=config.displayfile_inputs_kwargs),\n",
    "                             outputs_show=functools.partial(show_files, \n",
    "                                                           config.fpths_outputs,\n",
    "                                                           class_displayfiles=cls_display,\n",
    "                                                           kwargs_displayfiles=config.displayfile_outputs_kwargs),\n",
    "                             run=functools.partial(run_shell,config.shell)\n",
    "                            )\n",
    "    return run_actions\n",
    "    "
   ]
  },
  {
   "cell_type": "code",
   "execution_count": 34,
   "id": "1061073f-1cee-4f7a-a14a-55505073b226",
   "metadata": {},
   "outputs": [
    {
     "data": {
      "text/plain": [
       "['up_to_date', 'no_outputs', 'outputs_need_updating']"
      ]
     },
     "execution_count": 34,
     "metadata": {},
     "output_type": "execute_result"
    }
   ],
   "source": [
    "list(DI_STATUS_MAP.keys())"
   ]
  },
  {
   "cell_type": "code",
   "execution_count": 44,
   "id": "db0b49f1-4d8a-43b1-9ed6-9f845dc88cd1",
   "metadata": {},
   "outputs": [
    {
     "data": {
      "application/vnd.jupyter.widget-view+json": {
       "model_id": "17a929c5f0994f89880a79312b6c9c4f",
       "version_major": 2,
       "version_minor": 0
      },
      "text/plain": [
       "HBox(children=(Checkbox(value=False, indent=False, layout=Layout(height='40px', max_width='20px', padding='3px…"
      ]
     },
     "metadata": {},
     "output_type": "display_data"
    }
   ],
   "source": [
    "from ipyrun.ui_run import RunActionsUi, RunUi\n",
    "class RunApp:\n",
    "    def __init__(self,\n",
    "                 config: typing.Type[BaseModel],\n",
    "                 cls_ui: typing.Type[RunActionsUi] = RunUi,\n",
    "                 fn_buildactions: typing.Callable[[typing.Type[BaseModel]], RunActions]=build_run_actions\n",
    "                ):\n",
    "        self.config = config\n",
    "        self.fn_buildactions = fn_buildactions\n",
    "        actions = fn_buildactions(self.config, cls=self)\n",
    "        self.actions = self._init_actions(actions)\n",
    "        self.ui = cls_ui(self.actions)\n",
    "        self._update_status()\n",
    "        \n",
    "    def _update_status(self):\n",
    "        st = get_status(self.config.fpths_inputs, self.config.fpths_outputs)\n",
    "        self.ui.status = st\n",
    "        self.config.status = st\n",
    "    \n",
    "    def _init_run_action(self, action):\n",
    "        if action is not None:\n",
    "            try:\n",
    "                if \"cls\" in inspect.getfullargspec(action).args:\n",
    "                    return functools.partial(action, cls=self)\n",
    "                else:\n",
    "                    return action\n",
    "            except:\n",
    "                print(\"error inspecting the following:\")\n",
    "                print(action)\n",
    "                print(type(action))\n",
    "                print(\"cls\" in inspect.getfullargspec(action).args)\n",
    "                action()\n",
    "        else:\n",
    "            return action\n",
    "\n",
    "    def _init_actions(\n",
    "        self, actions: typing.Type[RunActions]\n",
    "    ) -> typing.Type[RunActions]:\n",
    "        \"\"\"this allows us to pass the RunApp object to the Run Actions. TODO: describe better! \"\"\"\n",
    "        return type(actions)(\n",
    "            **{k: self._init_run_action(v) for k, v in actions.dict().items()}\n",
    "        )\n",
    "    \n",
    "    def display(self):\n",
    "        display(self.ui)\n",
    "\n",
    "    def _ipython_display_(self):\n",
    "        self.display()\n",
    "        \n",
    "\n",
    "test_constants = load_test_constants()\n",
    "PATH_EXAMPLE_SCRIPT = list(test_constants.DIR_EXAMPLE_PROCESS.glob('script*'))[0]\n",
    "config = ConfigActionsShell(fpth_script=PATH_EXAMPLE_SCRIPT, \n",
    "                            fpths_inputs=['/mnt/c/engDev/git_mf/ipyrun/tests/examples/line_graph/input-line_graph.lg.json'],\n",
    "                            fpths_outputs=['/mnt/c/engDev/git_mf/ipyrun/tests/examples/line_graph/output-line_graph.csv',\n",
    "                                           '/mnt/c/engDev/git_mf/ipyrun/tests/examples/line_graph/output-line_graph.plotly.json'],\n",
    "                            displayfile_definitions=[DisplayfileDefinition(path=PATH_EXAMPLE_SCRIPT.parent / 'schemas.py',\n",
    "                                obj_name='LineGraph',\n",
    "                                ext='.lg.json')])#.dict()\n",
    "run_app = RunApp(config)# fn_updateoutputs=fn_updateoutputs\n",
    "run_app"
   ]
  },
  {
   "cell_type": "code",
   "execution_count": null,
   "id": "c3796017-13aa-49a7-8121-6c02747eb830",
   "metadata": {},
   "outputs": [],
   "source": []
  },
  {
   "cell_type": "code",
   "execution_count": 3,
   "id": "101a3a4b-a67b-4f09-a9f5-b6ae626b16e4",
   "metadata": {},
   "outputs": [],
   "source": [
    "\n",
    "class RunId(BaseModel):\n",
    "    \"\"\"run identifier\n",
    "\n",
    "    Args:\n",
    "        BaseModel (pydantic.BaseModel): inherits pydantic\n",
    "\n",
    "    Returns:\n",
    "        RunId: RunId object\n",
    "    \"\"\"\n",
    "\n",
    "    index: int = 0\n",
    "    process_name: str = \"process_name\"\n",
    "    pretty_name: str = None\n",
    "    check: bool = True\n",
    "\n",
    "    @validator(\"pretty_name\", always=True)\n",
    "    def _pretty_name(cls, v, values):\n",
    "        if v is None:\n",
    "            return str(values[\"index\"]) + \" - \" + values[\"process_name\"]\n",
    "        else:\n",
    "            return v\n",
    "\n",
    "\n",
    "class BatchId(RunId):\n",
    "    description: str = Field(\n",
    "        \"\",\n",
    "        description=\"a description of the batch of RunApps. Displayed as a header to the UI\",\n",
    "    )\n",
    "\n",
    "    @validator(\"pretty_name\", always=True)\n",
    "    def _pretty_name(cls, v, values):\n",
    "        if v is None:\n",
    "            return values[\"process_name\"]\n",
    "        else:\n",
    "            return v\n",
    "    \n",
    "    \n",
    "class BaseConfig(BaseModel):\n",
    "    run_id: RunId = RunId()\n",
    "    config_ui: RunUiConfig = RunUiConfig()\n",
    "    config_actions: typing.Any = None  # this one might get overwritten"
   ]
  },
  {
   "cell_type": "code",
   "execution_count": 4,
   "id": "33d72b72-079b-491c-8030-47f496d46e09",
   "metadata": {},
   "outputs": [],
   "source": [
    "class BatchAppConfig(BaseModel):\n",
    "    # actions: BatchActions = BatchActions() # TODO: add this back in once pydantic has updated such that it can be excluded from the json output. and remade by a validator.\n",
    "    batch_id: BatchId = BatchId()\n",
    "    config_ui: RunUiConfig = RunUiConfig()\n",
    "    config_actions: typing.Any = None  # this one might get overwritten"
   ]
  },
  {
   "cell_type": "code",
   "execution_count": null,
   "id": "412592d2-40ec-4296-851b-06ea9a349401",
   "metadata": {},
   "outputs": [],
   "source": [
    "class RunAppConfig(BaseConfig):\n",
    "    \"\"\"generic RunApp configurator definition. this will be serialised to JSON and remade\n",
    "    for storing the Apps state. it will also be used to generate a RunApp when using the\n",
    "    \"add\" button.\n",
    "\n",
    "    Args:\n",
    "        BaseModel ([type]): [description]\n",
    "        \n",
    "    \n",
    "    \"\"\"\n",
    "    \n",
    "    actions: RunActions = RunActions() # TODO: add this back in once pydantic has updated such that it can be excluded from the json output. and remade by a validator."
   ]
  },
  {
   "cell_type": "code",
   "execution_count": null,
   "id": "69d25621-2f75-4149-8627-ec5909499a6d",
   "metadata": {},
   "outputs": [],
   "source": []
  },
  {
   "cell_type": "code",
   "execution_count": null,
   "id": "601d92d0-b247-4317-bb05-bbbf0592025f",
   "metadata": {},
   "outputs": [],
   "source": []
  },
  {
   "cell_type": "code",
   "execution_count": null,
   "id": "47e793f1-bfde-41e5-8f1d-a94fdbcdb880",
   "metadata": {},
   "outputs": [],
   "source": []
  },
  {
   "cell_type": "code",
   "execution_count": null,
   "id": "ca928ffd-a705-4e8d-a237-d4314ea824c6",
   "metadata": {},
   "outputs": [],
   "source": []
  },
  {
   "cell_type": "code",
   "execution_count": null,
   "id": "b120d67a-d3e0-4d61-b26a-b9b865974e13",
   "metadata": {},
   "outputs": [],
   "source": []
  },
  {
   "cell_type": "code",
   "execution_count": null,
   "id": "a1dc1b95-1ed9-4708-8eae-f2ae443243ea",
   "metadata": {},
   "outputs": [],
   "source": []
  },
  {
   "cell_type": "code",
   "execution_count": null,
   "id": "e783f9bb-f9fb-4843-90be-bd1562350108",
   "metadata": {},
   "outputs": [],
   "source": []
  },
  {
   "cell_type": "code",
   "execution_count": null,
   "id": "bd4c5a49-a1a7-4f4e-b536-ee7098b1da37",
   "metadata": {},
   "outputs": [],
   "source": []
  },
  {
   "cell_type": "code",
   "execution_count": 3,
   "id": "2936eec1-081a-44a1-8a3c-518db024b9a7",
   "metadata": {},
   "outputs": [
    {
     "name": "stdout",
     "output_type": "stream",
     "text": [
      "Object `AddRunDialogue` not found.\n"
     ]
    },
    {
     "ename": "<class 'NameError'>",
     "evalue": "name 'RunApps' is not defined",
     "output_type": "error",
     "traceback": [
      "\u001b[0;31m---------------------------------------------------------------------------\u001b[0m",
      "\u001b[0;31mNameError\u001b[0m                                 Traceback (most recent call last)",
      "\u001b[0;32m/tmp/xpython_598/2454137918.py\u001b[0m in \u001b[0;36m<module>\u001b[0;34m\u001b[0m\n\u001b[1;32m     13\u001b[0m     )\n\u001b[1;32m     14\u001b[0m \u001b[0;34m\u001b[0m\u001b[0m\n\u001b[0;32m---> 15\u001b[0;31m     \u001b[0mdisplay\u001b[0m\u001b[0;34m(\u001b[0m\u001b[0mRunApps\u001b[0m\u001b[0;34m(\u001b[0m\u001b[0mbatch_actions\u001b[0m\u001b[0;34m=\u001b[0m\u001b[0mbatch_actions\u001b[0m\u001b[0;34m)\u001b[0m\u001b[0;34m)\u001b[0m\u001b[0;34m\u001b[0m\u001b[0;34m\u001b[0m\u001b[0m\n\u001b[0m",
      "\u001b[0;31mNameError\u001b[0m: name 'RunApps' is not defined"
     ]
    }
   ],
   "source": [
    "if __name__ == \"__main__\":\n",
    "    ?AddRunDialogue\n",
    "\n",
    "    def add_run_dialogue(cls=None):\n",
    "        display(AddRunDialogue(cls))\n",
    "\n",
    "    batch_actions = BatchActions(\n",
    "        inputs_show=None,\n",
    "        inputs_hide=None,\n",
    "        outputs_show=None,\n",
    "        outputs_hide=None,\n",
    "        add_show=add_run_dialogue,\n",
    "    )\n",
    "\n",
    "    display(RunApps(batch_actions=batch_actions))"
   ]
  },
  {
   "cell_type": "code",
   "execution_count": 4,
   "id": "4d26e06e-9a78-4d7a-a848-f4b73648b66b",
   "metadata": {},
   "outputs": [
    {
     "ename": "<class 'NameError'>",
     "evalue": "name 'RunAppConfigShell' is not defined",
     "output_type": "error",
     "traceback": [
      "\u001b[0;31m---------------------------------------------------------------------------\u001b[0m",
      "\u001b[0;31mNameError\u001b[0m                                 Traceback (most recent call last)",
      "\u001b[0;32m/tmp/xpython_1017/1106508065.py\u001b[0m in \u001b[0;36m<module>\u001b[0;34m\u001b[0m\n\u001b[1;32m      6\u001b[0m     \u001b[0mfdir_appdata\u001b[0m\u001b[0;34m:\u001b[0m \u001b[0mpathlib\u001b[0m\u001b[0;34m.\u001b[0m\u001b[0mPath\u001b[0m \u001b[0;34m=\u001b[0m \u001b[0;32mNone\u001b[0m\u001b[0;34m,\u001b[0m\u001b[0;34m\u001b[0m\u001b[0;34m\u001b[0m\u001b[0m\n\u001b[1;32m      7\u001b[0m     \u001b[0mclass_displayfiles\u001b[0m\u001b[0;34m:\u001b[0m \u001b[0mtyping\u001b[0m\u001b[0;34m.\u001b[0m\u001b[0mType\u001b[0m\u001b[0;34m[\u001b[0m\u001b[0mDisplayFiles\u001b[0m\u001b[0;34m]\u001b[0m \u001b[0;34m=\u001b[0m \u001b[0mDisplayFiles\u001b[0m\u001b[0;34m,\u001b[0m\u001b[0;34m\u001b[0m\u001b[0;34m\u001b[0m\u001b[0m\n\u001b[0;32m----> 8\u001b[0;31m ) -> typing.Tuple[RunAppConfigShell, RunActions]:\n\u001b[0m\u001b[1;32m      9\u001b[0m \u001b[0;34m\u001b[0m\u001b[0m\n\u001b[1;32m     10\u001b[0m     \u001b[0;32mif\u001b[0m \u001b[0mfdir_appdata\u001b[0m \u001b[0;32mis\u001b[0m \u001b[0;32mNone\u001b[0m\u001b[0;34m:\u001b[0m\u001b[0;34m\u001b[0m\u001b[0;34m\u001b[0m\u001b[0m\n",
      "\u001b[0;31mNameError\u001b[0m: name 'RunAppConfigShell' is not defined"
     ]
    }
   ],
   "source": [
    "def default_runapp_config(\n",
    "    path_script: pathlib.Path,\n",
    "    index: int,\n",
    "    input_models: typing.List[typing.Type[BaseModel]],\n",
    "    process_name: str = None,\n",
    "    fdir_appdata: pathlib.Path = None,\n",
    "    class_displayfiles: typing.Type[DisplayFiles] = DisplayFiles,\n",
    ") -> typing.Tuple[RunAppConfigShell, RunActions]:\n",
    "\n",
    "    if fdir_appdata is None:\n",
    "        fdir_appdata = path_script.parent\n",
    "\n",
    "    if process_name is None:\n",
    "        process_name = path_script.stem.replace(\"script_\", \"\")\n",
    "\n",
    "    run_id = RunId(process_name=process_name, check=True, index=index)\n",
    "    paths_inputs = [\n",
    "        create_inputs_file(model, index, fdir_appdata, process_name=process_name)\n",
    "        for model in input_models\n",
    "    ]\n",
    "\n",
    "    config_actions = ShellHandler(\n",
    "        fpth_script=path_script,\n",
    "        fpths_inputs=paths_inputs,\n",
    "        fpths_outputs=[\n",
    "            fdir_appdata / f\"outputs-{run_id.process_name}-{run_id.index}.csv\",\n",
    "            fdir_appdata / f\"outputs-{run_id.process_name}-{run_id.index}.plotly.json\",\n",
    "        ],\n",
    "        # params={'k':'v'}\n",
    "    )\n",
    "    config_runapp = RunAppConfigShell(run_id=run_id, config_actions=config_actions)\n",
    "    run_actions = RunActions(\n",
    "        help_config_show=None,\n",
    "        # help_ui_show=None,\n",
    "        help_run_show=(\n",
    "            lambda: display(class_displayfiles([config_actions.fpth_script]))\n",
    "        ),\n",
    "        inputs_show=(\n",
    "            lambda: display(\n",
    "                class_displayfiles(\n",
    "                    [f for f in config_actions.fpths_inputs], auto_open=True\n",
    "                )\n",
    "            )\n",
    "        ),\n",
    "        outputs_show=(\n",
    "            lambda: display(\n",
    "                class_displayfiles(\n",
    "                    [f for f in config_actions.fpths_outputs], auto_open=True\n",
    "                )\n",
    "            )\n",
    "        ),\n",
    "        run=functools.partial(execute, config_actions.cmd),\n",
    "    )\n",
    "    return config_runapp, run_actions"
   ]
  },
  {
   "cell_type": "code",
   "execution_count": 5,
   "id": "7ac2dc2e-cc08-41b7-9e0b-e7c8787d8a17",
   "metadata": {},
   "outputs": [],
   "source": []
  },
  {
   "cell_type": "code",
   "execution_count": null,
   "id": "5c8c52d4-9227-49d6-a292-b29b123a3d10",
   "metadata": {},
   "outputs": [],
   "source": []
  },
  {
   "cell_type": "code",
   "execution_count": 8,
   "id": "8a46d9e2-467a-4d5c-a615-00d444716329",
   "metadata": {},
   "outputs": [
    {
     "ename": "<class 'NameError'>",
     "evalue": "name 'config' is not defined",
     "output_type": "error",
     "traceback": [
      "\u001b[0;31m---------------------------------------------------------------------------\u001b[0m",
      "\u001b[0;31mNameError\u001b[0m                                 Traceback (most recent call last)",
      "\u001b[0;32m/tmp/xpython_5208/2563233864.py\u001b[0m in \u001b[0;36m<module>\u001b[0;34m\u001b[0m\n\u001b[0;32m----> 1\u001b[0;31m \u001b[0mconfig\u001b[0m\u001b[0;34m.\u001b[0m\u001b[0mdict\u001b[0m\u001b[0;34m(\u001b[0m\u001b[0;34m)\u001b[0m\u001b[0;34m\u001b[0m\u001b[0;34m\u001b[0m\u001b[0m\n\u001b[0m",
      "\u001b[0;31mNameError\u001b[0m: name 'config' is not defined"
     ]
    }
   ],
   "source": [
    "config.dict()"
   ]
  },
  {
   "cell_type": "code",
   "execution_count": 8,
   "id": "f95df594-7f6b-4634-85de-c8e9b91fccf3",
   "metadata": {},
   "outputs": [],
   "source": []
  },
  {
   "cell_type": "code",
   "execution_count": 10,
   "id": "b7a09d05-7730-4b98-84bd-4d960001c25e",
   "metadata": {},
   "outputs": [
    {
     "ename": "<class 'NameError'>",
     "evalue": "name 'fn_buildoutputs' is not defined",
     "output_type": "error",
     "traceback": [
      "\u001b[0;31m---------------------------------------------------------------------------\u001b[0m",
      "\u001b[0;31mNameError\u001b[0m                                 Traceback (most recent call last)",
      "\u001b[0;32m/tmp/xpython_5208/2959781373.py\u001b[0m in \u001b[0;36m<module>\u001b[0;34m\u001b[0m\n\u001b[0;32m----> 1\u001b[0;31m \u001b[0mfn_buildoutputs\u001b[0m\u001b[0;34m(\u001b[0m\u001b[0;34m**\u001b[0m\u001b[0mconfig\u001b[0m\u001b[0;34m.\u001b[0m\u001b[0mdict\u001b[0m\u001b[0;34m(\u001b[0m\u001b[0;34m)\u001b[0m\u001b[0;34m)\u001b[0m\u001b[0;34m\u001b[0m\u001b[0;34m\u001b[0m\u001b[0m\n\u001b[0m",
      "\u001b[0;31mNameError\u001b[0m: name 'fn_buildoutputs' is not defined"
     ]
    }
   ],
   "source": [
    "fn_buildoutputs(**config.dict())"
   ]
  },
  {
   "cell_type": "code",
   "execution_count": null,
   "id": "de766aef-602e-482d-ae8a-1dde4485b9f6",
   "metadata": {
    "lines_to_next_cell": 2
   },
   "outputs": [],
   "source": [
    "def fn_updateoutputs(**kwargs):\n",
    "    fdir = kwargs['fdir_appdata']\n",
    "    nm_in = kwargs['fpths_inputs'][0].with_suffix('').stem\n",
    "    outputs = [\n",
    "        fdir / (nm_in.replace('input', 'output') + '.csv'),\n",
    "        fdir / (nm_in.replace('input', 'output') + '.plotly.json')\n",
    "    ]\n",
    "    return outputs"
   ]
  },
  {
   "cell_type": "code",
   "execution_count": 10,
   "id": "34e33bd7-127e-4bb2-9689-bad0e7990749",
   "metadata": {},
   "outputs": [],
   "source": [
    "\n"
   ]
  },
  {
   "cell_type": "code",
   "execution_count": 12,
   "id": "9cfea77a-d5ad-4b7f-9aba-55e8363f0f9b",
   "metadata": {},
   "outputs": [],
   "source": [
    "# /mnt/c/engDev/git_mf/ipyrun/tests/examples/line_graph/output-line_graph.csv\n",
    "# C:\\engDev\\git_mf\\ipyrun\\tests\\examples\\line_graph\\output-line_graph.plotly.json"
   ]
  },
  {
   "cell_type": "code",
   "execution_count": 13,
   "id": "2496968d-d43e-43df-ab00-5b622061ccc0",
   "metadata": {},
   "outputs": [],
   "source": [
    "#config.dict()"
   ]
  },
  {
   "cell_type": "code",
   "execution_count": 14,
   "id": "456db2c0-b039-4bcd-9401-10a296c74ed0",
   "metadata": {},
   "outputs": [],
   "source": [
    "#fn_updateoutputs(config).dict()"
   ]
  },
  {
   "cell_type": "code",
   "execution_count": 15,
   "id": "bd761835-37e8-453c-8c1e-c41969007669",
   "metadata": {},
   "outputs": [],
   "source": [
    "def fn_updateoutputs(config):\n",
    "    kwargs = config.dict()\n",
    "    fdir = kwargs['fdir_appdata']\n",
    "    nm_in = kwargs['fpths_inputs'][0].with_suffix('').stem\n",
    "    outputs = [\n",
    "        fdir / (nm_in.replace('input', 'output') + '.plotly.json'),\n",
    "        fdir / (nm_in.replace('input', 'output') + '.csv')\n",
    "    ]\n",
    "    kwargs['fpths_outputs'] = outputs\n",
    "    #pprint(kwargs)\n",
    "    newconfig = type(config)(**kwargs)\n",
    "    return newconfig"
   ]
  },
  {
   "cell_type": "code",
   "execution_count": 11,
   "id": "2e207654-f8de-4e9d-ab61-a1545218b1ef",
   "metadata": {},
   "outputs": [
    {
     "ename": "<class 'AttributeError'>",
     "evalue": "'RunActions' object has no attribute 'runlog_show'",
     "output_type": "error",
     "traceback": [
      "\u001b[0;31m---------------------------------------------------------------------------\u001b[0m",
      "\u001b[0;31mAttributeError\u001b[0m                            Traceback (most recent call last)",
      "\u001b[0;32m/tmp/xpython_5262/3697977236.py\u001b[0m in \u001b[0;36m<module>\u001b[0;34m\u001b[0m\n\u001b[1;32m     50\u001b[0m \u001b[0;34m\u001b[0m\u001b[0m\n\u001b[1;32m     51\u001b[0m \u001b[0;34m\u001b[0m\u001b[0m\n\u001b[0;32m---> 52\u001b[0;31m \u001b[0mrun_app\u001b[0m \u001b[0;34m=\u001b[0m \u001b[0mRunApp\u001b[0m\u001b[0;34m(\u001b[0m\u001b[0mconfig\u001b[0m\u001b[0;34m)\u001b[0m\u001b[0;31m# fn_updateoutputs=fn_updateoutputs\u001b[0m\u001b[0;34m\u001b[0m\u001b[0;34m\u001b[0m\u001b[0m\n\u001b[0m\u001b[1;32m     53\u001b[0m \u001b[0mrun_app\u001b[0m\u001b[0;34m\u001b[0m\u001b[0;34m\u001b[0m\u001b[0m\n",
      "\u001b[0;32m/tmp/xpython_5262/3697977236.py\u001b[0m in \u001b[0;36m__init__\u001b[0;34m(self, config, cls_ui, fn_buildactions)\u001b[0m\n\u001b[1;32m     17\u001b[0m         \u001b[0mactions\u001b[0m \u001b[0;34m=\u001b[0m \u001b[0mfn_buildactions\u001b[0m\u001b[0;34m(\u001b[0m\u001b[0mself\u001b[0m\u001b[0;34m.\u001b[0m\u001b[0mconfig\u001b[0m\u001b[0;34m)\u001b[0m\u001b[0;34m\u001b[0m\u001b[0;34m\u001b[0m\u001b[0m\n\u001b[1;32m     18\u001b[0m         \u001b[0mactions\u001b[0m \u001b[0;34m=\u001b[0m \u001b[0mself\u001b[0m\u001b[0;34m.\u001b[0m\u001b[0m_init_actions\u001b[0m\u001b[0;34m(\u001b[0m\u001b[0mactions\u001b[0m\u001b[0;34m)\u001b[0m\u001b[0;34m\u001b[0m\u001b[0;34m\u001b[0m\u001b[0m\n\u001b[0;32m---> 19\u001b[0;31m         \u001b[0mself\u001b[0m\u001b[0;34m.\u001b[0m\u001b[0mui\u001b[0m \u001b[0;34m=\u001b[0m \u001b[0mcls_ui\u001b[0m\u001b[0;34m(\u001b[0m\u001b[0mactions\u001b[0m\u001b[0;34m)\u001b[0m\u001b[0;34m\u001b[0m\u001b[0;34m\u001b[0m\u001b[0m\n\u001b[0m\u001b[1;32m     20\u001b[0m \u001b[0;34m\u001b[0m\u001b[0m\n\u001b[1;32m     21\u001b[0m     \u001b[0;32mdef\u001b[0m \u001b[0m_init_run_action\u001b[0m\u001b[0;34m(\u001b[0m\u001b[0mself\u001b[0m\u001b[0;34m,\u001b[0m \u001b[0maction\u001b[0m\u001b[0;34m)\u001b[0m\u001b[0;34m:\u001b[0m\u001b[0;34m\u001b[0m\u001b[0;34m\u001b[0m\u001b[0m\n",
      "\u001b[0;32m/mnt/c/engDev/git_mf/ipyrun/src/ipyrun/ui_run.py\u001b[0m in \u001b[0;36m__init__\u001b[0;34m(self, actions, name, config_ui)\u001b[0m\n\u001b[1;32m    563\u001b[0m         \u001b[0;31m#self.config_actions = config_actions\u001b[0m\u001b[0;34m\u001b[0m\u001b[0;34m\u001b[0m\u001b[0m\n\u001b[1;32m    564\u001b[0m         \u001b[0mself\u001b[0m\u001b[0;34m.\u001b[0m\u001b[0m_layout_out\u001b[0m\u001b[0;34m(\u001b[0m\u001b[0;34m)\u001b[0m\u001b[0;34m\u001b[0m\u001b[0;34m\u001b[0m\u001b[0m\n\u001b[0;32m--> 565\u001b[0;31m         \u001b[0mself\u001b[0m\u001b[0;34m.\u001b[0m\u001b[0m_run_form\u001b[0m\u001b[0;34m(\u001b[0m\u001b[0;34m)\u001b[0m\u001b[0;34m\u001b[0m\u001b[0;34m\u001b[0m\u001b[0m\n\u001b[0m\u001b[1;32m    566\u001b[0m \u001b[0;34m\u001b[0m\u001b[0m\n\u001b[1;32m    567\u001b[0m \u001b[0;34m\u001b[0m\u001b[0m\n",
      "\u001b[0;32m/mnt/c/engDev/git_mf/ipyrun/src/ipyrun/ui_run.py\u001b[0m in \u001b[0;36m_run_form\u001b[0;34m(self)\u001b[0m\n\u001b[1;32m    624\u001b[0m \u001b[0;34m\u001b[0m\u001b[0m\n\u001b[1;32m    625\u001b[0m     \u001b[0;32mdef\u001b[0m \u001b[0m_run_form\u001b[0m\u001b[0;34m(\u001b[0m\u001b[0mself\u001b[0m\u001b[0;34m)\u001b[0m\u001b[0;34m:\u001b[0m\u001b[0;34m\u001b[0m\u001b[0;34m\u001b[0m\u001b[0m\n\u001b[0;32m--> 626\u001b[0;31m         \u001b[0mself\u001b[0m\u001b[0;34m.\u001b[0m\u001b[0mbutton_bar\u001b[0m \u001b[0;34m=\u001b[0m \u001b[0mbuild_button_bar\u001b[0m\u001b[0;34m(\u001b[0m\u001b[0mself\u001b[0m\u001b[0;34m.\u001b[0m\u001b[0m_button_map\u001b[0m\u001b[0;34m,\u001b[0m \u001b[0mself\u001b[0m\u001b[0;34m.\u001b[0m\u001b[0mconfig_ui\u001b[0m\u001b[0;34m)\u001b[0m\u001b[0;34m\u001b[0m\u001b[0;34m\u001b[0m\u001b[0m\n\u001b[0m\u001b[1;32m    627\u001b[0m         \u001b[0;31m#self.layout =\u001b[0m\u001b[0;34m\u001b[0m\u001b[0;34m\u001b[0m\u001b[0m\n\u001b[1;32m    628\u001b[0m         self.acc = widgets.Accordion(\n",
      "\u001b[0;32m/mnt/c/engDev/git_mf/ipyrun/src/ipyrun/ui_run.py\u001b[0m in \u001b[0;36m_button_map\u001b[0;34m(self)\u001b[0m\n\u001b[1;32m    576\u001b[0m                 \u001b[0mself\u001b[0m\u001b[0;34m.\u001b[0m\u001b[0minputs\u001b[0m\u001b[0;34m:\u001b[0m \u001b[0mself\u001b[0m\u001b[0;34m.\u001b[0m\u001b[0mactions\u001b[0m\u001b[0;34m.\u001b[0m\u001b[0minputs_show\u001b[0m\u001b[0;34m,\u001b[0m\u001b[0;34m\u001b[0m\u001b[0;34m\u001b[0m\u001b[0m\n\u001b[1;32m    577\u001b[0m                 \u001b[0mself\u001b[0m\u001b[0;34m.\u001b[0m\u001b[0moutputs\u001b[0m\u001b[0;34m:\u001b[0m \u001b[0mself\u001b[0m\u001b[0;34m.\u001b[0m\u001b[0mactions\u001b[0m\u001b[0;34m.\u001b[0m\u001b[0moutputs_show\u001b[0m\u001b[0;34m,\u001b[0m\u001b[0;34m\u001b[0m\u001b[0;34m\u001b[0m\u001b[0m\n\u001b[0;32m--> 578\u001b[0;31m                 \u001b[0mself\u001b[0m\u001b[0;34m.\u001b[0m\u001b[0mrunlog\u001b[0m\u001b[0;34m:\u001b[0m \u001b[0mself\u001b[0m\u001b[0;34m.\u001b[0m\u001b[0mactions\u001b[0m\u001b[0;34m.\u001b[0m\u001b[0mrunlog_show\u001b[0m\u001b[0;34m,\u001b[0m\u001b[0;34m\u001b[0m\u001b[0;34m\u001b[0m\u001b[0m\n\u001b[0m\u001b[1;32m    579\u001b[0m                 \u001b[0mself\u001b[0m\u001b[0;34m.\u001b[0m\u001b[0mrun\u001b[0m\u001b[0;34m:\u001b[0m \u001b[0mself\u001b[0m\u001b[0;34m.\u001b[0m\u001b[0mactions\u001b[0m\u001b[0;34m.\u001b[0m\u001b[0mrun\u001b[0m\u001b[0;34m,\u001b[0m\u001b[0;34m\u001b[0m\u001b[0;34m\u001b[0m\u001b[0m\n\u001b[1;32m    580\u001b[0m             },\n",
      "\u001b[0;31mAttributeError\u001b[0m: 'RunActions' object has no attribute 'runlog_show'"
     ]
    }
   ],
   "source": []
  },
  {
   "cell_type": "code",
   "execution_count": 277,
   "id": "de57994c-8ab0-4e26-88ad-11ec619b7d75",
   "metadata": {},
   "outputs": [
    {
     "data": {
      "text/plain": [
       "dict_keys(['config', 'fn_buildactions', 'ui'])"
      ]
     },
     "execution_count": 277,
     "metadata": {},
     "output_type": "execute_result"
    }
   ],
   "source": [
    "run_app.__dict__.keys()"
   ]
  },
  {
   "cell_type": "code",
   "execution_count": 283,
   "id": "44272ecc-2c77-480d-a2e7-5d42b046a694",
   "metadata": {},
   "outputs": [
    {
     "data": {
      "application/vnd.jupyter.widget-view+json": {
       "model_id": "99c6df6ec94342b59bab957466eac0b4",
       "version_major": 2,
       "version_minor": 0
      },
      "text/plain": [
       "Checkbox(value=False)"
      ]
     },
     "metadata": {},
     "output_type": "display_data"
    }
   ],
   "source": [
    "from ipyautoui.constants import BUTTON_HEIGHT_MIN\n",
    "widgets.Checkbox(icon='fa-add')"
   ]
  },
  {
   "cell_type": "code",
   "execution_count": 282,
   "id": "dfd75a9e-9936-4d6d-a540-95f0cc80025c",
   "metadata": {},
   "outputs": [
    {
     "data": {
      "application/vnd.jupyter.widget-view+json": {
       "model_id": "eb904230d0c54d1ca86e99ab07663f5a",
       "version_major": 2,
       "version_minor": 0
      },
      "text/plain": [
       "HBox(children=(Button(button_style='danger', layout=Layout(height='20px', width='10px'), style=ButtonStyle()),…"
      ]
     },
     "metadata": {},
     "output_type": "display_data"
    }
   ],
   "source": [
    "flag = widgets.Button(layout={'width':'10px','height':'20px'}, button_style='danger')\n",
    "check_w = widgets.Checkbox(indent=False)\n",
    "widgets.HBox([flag, run_app.ui.run_form])"
   ]
  },
  {
   "cell_type": "code",
   "execution_count": null,
   "id": "af27b205-2d91-44fc-bb7e-ca6f031c31fd",
   "metadata": {},
   "outputs": [],
   "source": []
  },
  {
   "cell_type": "code",
   "execution_count": 235,
   "id": "e6c6bcb9-34c7-4256-88b4-46319443570f",
   "metadata": {},
   "outputs": [
    {
     "data": {
      "text/plain": [
       "CompletedProcess(args='python -O /mnt/c/engDev/git_mf/ipyrun/tests/examples/line_graph/script_line_graph.py /mnt/c/engDev/git_mf/ipyrun/tests/examples/line_graph/input-line_graph.lg.json /mnt/c/engDev/git_mf/ipyrun/tests/examples/line_graph/output-line_graph.plotly.json /mnt/c/engDev/git_mf/ipyrun/tests/examples/line_graph/output-line_graph.csv', returncode=1)"
      ]
     },
     "execution_count": 235,
     "metadata": {},
     "output_type": "execute_result"
    }
   ],
   "source": [
    "subprocess.run(\"python -O /mnt/c/engDev/git_mf/ipyrun/tests/examples/line_graph/script_line_graph.py /mnt/c/engDev/git_mf/ipyrun/tests/examples/line_graph/input-line_graph.lg.json /mnt/c/engDev/git_mf/ipyrun/tests/examples/line_graph/output-line_graph.plotly.json /mnt/c/engDev/git_mf/ipyrun/tests/examples/line_graph/output-line_graph.csv\", shell=True)"
   ]
  },
  {
   "cell_type": "code",
   "execution_count": 243,
   "id": "10247d5f-f389-4414-9a8c-09eafda75161",
   "metadata": {},
   "outputs": [
    {
     "data": {
      "text/plain": [
       "CompletedProcess(args=['python', '-O', '/mnt/c/engDev/git_mf/ipyrun/tests/examples/line_graph/script_line_graph.py', '/mnt/c/engDev/git_mf/ipyrun/tests/examples/line_graph/input-line_graph.lg.json', '/mnt/c/engDev/git_mf/ipyrun/tests/examples/line_graph/output-line_graph.csv', '/mnt/c/engDev/git_mf/ipyrun/tests/examples/line_graph/output-line_graph.plotly.json'], returncode=1)"
      ]
     },
     "execution_count": 243,
     "metadata": {},
     "output_type": "execute_result"
    }
   ],
   "source": [
    "s = \"python -O /mnt/c/engDev/git_mf/ipyrun/tests/examples/line_graph/script_line_graph.py /mnt/c/engDev/git_mf/ipyrun/tests/examples/line_graph/input-line_graph.lg.json /mnt/c/engDev/git_mf/ipyrun/tests/examples/line_graph/output-line_graph.csv /mnt/c/engDev/git_mf/ipyrun/tests/examples/line_graph/output-line_graph.plotly.json\"\n",
    "subprocess.run(s.split(\" \"))"
   ]
  },
  {
   "cell_type": "code",
   "execution_count": 195,
   "id": "00e8451f-4e7e-4269-adb8-067f54dd33da",
   "metadata": {},
   "outputs": [
    {
     "data": {
      "text/plain": [
       "{'in_batch': True,\n",
       " 'fpth_script': PosixPath('/mnt/c/engDev/git_mf/ipyrun/tests/examples/line_graph/script_line_graph.py'),\n",
       " 'process_name': 'process_name',\n",
       " 'pretty_name': 'process_name',\n",
       " 'fdir_appdata': PosixPath('/mnt/c/engDev/git_mf/ipyrun/tests/examples/line_graph'),\n",
       " 'displayfile_definitions': [{'path': PosixPath('/mnt/c/engDev/git_mf/ipyrun/tests/examples/line_graph/schemas.py'),\n",
       "   'obj_name': 'LineGraph',\n",
       "   'module_name': 'schemas',\n",
       "   'ext': '.lg.json'}],\n",
       " 'displayfile_inputs_kwargs': {},\n",
       " 'displayfile_outputs_kwargs': {},\n",
       " 'patterns_inputs': ['input-*'],\n",
       " 'fpths_inputs': [PosixPath('/mnt/c/engDev/git_mf/ipyrun/tests/examples/line_graph/input-line_graph.lg.json'),\n",
       "  PosixPath('/mnt/c/engDev/git_mf/ipyrun/tests/examples/line_graph/input-line_graph.lg.json')],\n",
       " 'fpths_outputs': [PosixPath('/mnt/c/engDev/git_mf/ipyrun/tests/examples/line_graph/output-line_graph.plotly.json'),\n",
       "  PosixPath('/mnt/c/engDev/git_mf/ipyrun/tests/examples/line_graph/output-line_graph.csv')],\n",
       " 'fpth_config': PosixPath('/mnt/c/engDev/git_mf/ipyrun/tests/examples/line_graph/config-shell_handler.json'),\n",
       " 'fpth_runhistory': PosixPath('/mnt/c/engDev/git_mf/ipyrun/tests/examples/line_graph/runhistory.csv'),\n",
       " 'call': 'python -O',\n",
       " 'params': {},\n",
       " 'shell_template': '{{ call }} {{ fpth_script }}{% for f in fpths_inputs %} {{f}}{% endfor %}{% for f in fpths_outputs %} {{f}}{% endfor %}{% for k,v in params.items()%} --{{k}} {{v}}{% endfor %}\\n',\n",
       " 'shell': 'python -O /mnt/c/engDev/git_mf/ipyrun/tests/examples/line_graph/script_line_graph.py /mnt/c/engDev/git_mf/ipyrun/tests/examples/line_graph/input-line_graph.lg.json /mnt/c/engDev/git_mf/ipyrun/tests/examples/line_graph/input-line_graph.lg.json /mnt/c/engDev/git_mf/ipyrun/tests/examples/line_graph/output-line_graph.plotly.json /mnt/c/engDev/git_mf/ipyrun/tests/examples/line_graph/output-line_graph.csv'}"
      ]
     },
     "execution_count": 195,
     "metadata": {},
     "output_type": "execute_result"
    }
   ],
   "source": [
    "run_app.config.dict()"
   ]
  },
  {
   "cell_type": "code",
   "execution_count": 108,
   "id": "5da2970b-1a48-461b-a199-2b6dbae07e34",
   "metadata": {},
   "outputs": [
    {
     "data": {
      "text/plain": [
       "CompletedProcess(args='python -O /mnt/c/engDev/git_mf/ipyrun/tests/examples/line_graph/script_line_graph.py /mnt/c/engDev/git_mf/ipyrun/tests/examples/line_graph/input-line_graph.lg.json', returncode=1)"
      ]
     },
     "execution_count": 108,
     "metadata": {},
     "output_type": "execute_result"
    }
   ],
   "source": [
    "subprocess.run(\"python -O /mnt/c/engDev/git_mf/ipyrun/tests/examples/line_graph/script_line_graph.py /mnt/c/engDev/git_mf/ipyrun/tests/examples/line_graph/input-line_graph.lg.json\", shell=True)"
   ]
  },
  {
   "cell_type": "code",
   "execution_count": 105,
   "id": "43eb5b07-650c-4cda-9bc4-fd8382f764b0",
   "metadata": {},
   "outputs": [
    {
     "data": {
      "text/markdown": [
       "```python\n",
       "-O\n",
       "/mnt/c/engDev/git_mf/ipyrun/tests/examples/line_graph/script_line_graph.py\n",
       "/mnt/c/engDev/git_mf/ipyrun/tests/examples/line_graph/input-line_graph.lg.json```"
      ],
      "text/plain": [
       "<IPython.core.display.Markdown object>"
      ]
     },
     "metadata": {},
     "output_type": "display_data"
    },
    {
     "data": {
      "application/vnd.jupyter.widget-view+json": {
       "model_id": "ae02ea447f114b0a9a542c8b67125b7b",
       "version_major": 2,
       "version_minor": 0
      },
      "text/plain": [
       "Output()"
      ]
     },
     "metadata": {},
     "output_type": "display_data"
    },
    {
     "data": {
      "text/plain": [
       "''"
      ]
     },
     "metadata": {},
     "output_type": "display_data"
    },
    {
     "ename": "<class 'AttributeError'>",
     "evalue": "'NoneType' object has no attribute 'config'",
     "output_type": "error",
     "traceback": [
      "\u001b[0;31m---------------------------------------------------------------------------\u001b[0m",
      "\u001b[0;31mAttributeError\u001b[0m                            Traceback (most recent call last)",
      "\u001b[0;32m/tmp/xpython_2489/2360925928.py\u001b[0m in \u001b[0;36m<module>\u001b[0;34m\u001b[0m\n\u001b[0;32m----> 1\u001b[0;31m \u001b[0mrun_app\u001b[0m\u001b[0;34m.\u001b[0m\u001b[0mui\u001b[0m\u001b[0;34m.\u001b[0m\u001b[0mactions\u001b[0m\u001b[0;34m.\u001b[0m\u001b[0mrun\u001b[0m\u001b[0;34m(\u001b[0m\u001b[0;34m)\u001b[0m\u001b[0;34m\u001b[0m\u001b[0;34m\u001b[0m\u001b[0m\n\u001b[0m",
      "\u001b[0;32m/tmp/xpython_2489/1809511664.py\u001b[0m in \u001b[0;36mrun_shell\u001b[0;34m(shell, cls)\u001b[0m\n\u001b[1;32m     98\u001b[0m         \u001b[0mspinner\u001b[0m\u001b[0;34m.\u001b[0m\u001b[0mfail\u001b[0m\u001b[0;34m(\u001b[0m\u001b[0;34m\"Error with Process\"\u001b[0m\u001b[0;34m)\u001b[0m\u001b[0;34m\u001b[0m\u001b[0;34m\u001b[0m\u001b[0m\n\u001b[1;32m     99\u001b[0m \u001b[0;34m\u001b[0m\u001b[0m\n\u001b[0;32m--> 100\u001b[0;31m     \u001b[0mcls_config\u001b[0m \u001b[0;34m=\u001b[0m \u001b[0mtype\u001b[0m\u001b[0;34m(\u001b[0m\u001b[0mcls\u001b[0m\u001b[0;34m.\u001b[0m\u001b[0mconfig\u001b[0m\u001b[0;34m)\u001b[0m\u001b[0;34m\u001b[0m\u001b[0;34m\u001b[0m\u001b[0m\n\u001b[0m\u001b[1;32m    101\u001b[0m     \u001b[0mcls\u001b[0m\u001b[0;34m.\u001b[0m\u001b[0mconfig\u001b[0m \u001b[0;34m=\u001b[0m \u001b[0mcls_config\u001b[0m\u001b[0;34m(\u001b[0m\u001b[0mcls\u001b[0m\u001b[0;34m.\u001b[0m\u001b[0mconfig\u001b[0m\u001b[0;34m.\u001b[0m\u001b[0mdict\u001b[0m\u001b[0;34m(\u001b[0m\u001b[0;34m)\u001b[0m\u001b[0;34m)\u001b[0m \u001b[0;31m# regenerate to find outputs\u001b[0m\u001b[0;34m\u001b[0m\u001b[0;34m\u001b[0m\u001b[0m\n\u001b[1;32m    102\u001b[0m     \u001b[0mcls\u001b[0m\u001b[0;34m.\u001b[0m\u001b[0mui\u001b[0m\u001b[0;34m.\u001b[0m\u001b[0mactions\u001b[0m \u001b[0;34m=\u001b[0m \u001b[0mcls\u001b[0m\u001b[0;34m.\u001b[0m\u001b[0mfn_build\u001b[0m\u001b[0;34m(\u001b[0m\u001b[0mcls\u001b[0m\u001b[0;34m.\u001b[0m\u001b[0mconfig\u001b[0m\u001b[0;34m)\u001b[0m\u001b[0;34m\u001b[0m\u001b[0;34m\u001b[0m\u001b[0m\n",
      "\u001b[0;31mAttributeError\u001b[0m: 'NoneType' object has no attribute 'config'"
     ]
    }
   ],
   "source": [
    "run_app.ui.actions.run()"
   ]
  },
  {
   "cell_type": "code",
   "execution_count": 73,
   "id": "86389f2e-311e-4c87-9260-ec009c1020cb",
   "metadata": {
    "lines_to_next_cell": 2
   },
   "outputs": [
    {
     "data": {
      "text/plain": [
       "[]"
      ]
     },
     "execution_count": 73,
     "metadata": {},
     "output_type": "execute_result"
    }
   ],
   "source": [
    "config.fpths_inputs"
   ]
  },
  {
   "cell_type": "code",
   "execution_count": 71,
   "id": "620f62da-0edc-4bd3-984d-5daceed7fcef",
   "metadata": {},
   "outputs": [
    {
     "data": {
      "text/plain": [
       "PosixPath('/mnt/c/engDev/git_mf/ipyrun/tests/examples/line_graph/output-line_graph.plotly.json')"
      ]
     },
     "execution_count": 71,
     "metadata": {},
     "output_type": "execute_result"
    }
   ],
   "source": [
    "config.fpths_outputs[1]"
   ]
  },
  {
   "cell_type": "code",
   "execution_count": null,
   "id": "2f90a715-6f1f-4bbb-bc9a-24c24b390011",
   "metadata": {},
   "outputs": [],
   "source": []
  },
  {
   "cell_type": "code",
   "execution_count": 9,
   "id": "d97c16f8-3205-4ea0-86cc-6ca28702d29a",
   "metadata": {},
   "outputs": [],
   "source": [
    "def create_ShellAppConfig(fpth_script, fdir_appdata=None, run_index=0, process_name=None, pretty_name=None, check=True):\n",
    "    \n",
    "    if process_name is None:\n",
    "        process_name = f\"{fpth_script.stem}-{run_index}\"\n",
    "\n",
    "    return ShellAppConfig(run_id=RunId(index=run_index, process_name=process_name, pretty_name=pretty_name, check=check), \n",
    "                          run_actions=\n",
    "                         )"
   ]
  },
  {
   "cell_type": "code",
   "execution_count": 48,
   "id": "703fd153-adef-4d6a-85b3-a3bc44bbb691",
   "metadata": {},
   "outputs": [
    {
     "data": {
      "text/plain": [
       "schemas.LineGraph"
      ]
     },
     "execution_count": 48,
     "metadata": {},
     "output_type": "execute_result"
    }
   ],
   "source": [
    "obj = PyObj(path='/mnt/c/engDev/git_mf/ipyrun/tests/examples/line_graph/schemas.py',obj_name='LineGraph')\n",
    "_get_PyObj(obj)"
   ]
  },
  {
   "cell_type": "code",
   "execution_count": 6,
   "id": "bed4606a-9099-45b0-bec3-2238ecedfb02",
   "metadata": {
    "lines_to_next_cell": 2
   },
   "outputs": [
    {
     "data": {
      "text/plain": [
       "<re.Match object; span=(0, 14), match='AHU-1023234234'>"
      ]
     },
     "execution_count": 6,
     "metadata": {},
     "output_type": "execute_result"
    }
   ],
   "source": [
    "import re\n",
    "\n",
    "re.match('[A-Z]{2,6}-[1-9][0-9]*', 'AHU-1023234234')"
   ]
  },
  {
   "cell_type": "code",
   "execution_count": 42,
   "id": "2e9014be-2228-4bfc-a446-80479bff85c2",
   "metadata": {},
   "outputs": [
    {
     "data": {
      "text/plain": [
       "ModuleSpec(name='', loader=<_frozen_importlib_external.SourceFileLoader object at 0x7fa0d83b3520>, origin='/mnt/c/engDev/git_mf/ipyrun/tests/examples/line_graph/schemas.py')"
      ]
     },
     "execution_count": 42,
     "metadata": {},
     "output_type": "execute_result"
    }
   ],
   "source": [
    "spec"
   ]
  },
  {
   "cell_type": "code",
   "execution_count": null,
   "id": "2ece31b5-5afd-4aea-a909-8014cc717eb5",
   "metadata": {},
   "outputs": [],
   "source": [
    "f = lambda:['output-*']\n",
    "f()"
   ]
  },
  {
   "cell_type": "code",
   "execution_count": 62,
   "id": "4c59f0de-8cbf-4b65-91e0-252d002f9063",
   "metadata": {},
   "outputs": [],
   "source": [
    "from ipyautoui.test_schema import TestAutoLogic"
   ]
  },
  {
   "cell_type": "code",
   "execution_count": 35,
   "id": "ab56217a-5b89-4a05-8a76-f5258135efb8",
   "metadata": {},
   "outputs": [
    {
     "data": {
      "application/vnd.jupyter.widget-view+json": {
       "model_id": "c8c11d2f04f1410aaf9668c84410e571",
       "version_major": 2,
       "version_minor": 0
      },
      "text/plain": [
       "VBox(children=(HBox(children=(HBox(children=(Button(disabled=True, icon='check', layout=Layout(height='25px', …"
      ]
     },
     "metadata": {},
     "output_type": "display_data"
    }
   ],
   "source": [
    "from ipyautoui.displayfile import DisplayFile\n",
    "\n",
    "DisplayFile('/mnt/c/engDev/git_mf/ipyrun/tests/constants.py')"
   ]
  },
  {
   "cell_type": "code",
   "execution_count": 74,
   "id": "d14a2808-f570-46fa-8953-e1ae6e87f299",
   "metadata": {},
   "outputs": [
    {
     "data": {
      "text/plain": [
       "PosixPath('/mnt/c/engDev/git_mf/ipyrun/tests/examples/line_graph/inputs-linegraph-line_graph-0.lg.json')"
      ]
     },
     "execution_count": 74,
     "metadata": {},
     "output_type": "execute_result"
    }
   ],
   "source": [
    "list(test_constants.DIR_EXAMPLE_PROCESS.glob('*inputs*'))[0]"
   ]
  },
  {
   "cell_type": "code",
   "execution_count": 65,
   "id": "319be1be-c0ee-4c28-a6e2-f8f95e4d51e9",
   "metadata": {},
   "outputs": [
    {
     "name": "stdout",
     "output_type": "stream",
     "text": [
      "{'call': 'python -O',\n",
      " 'cmd_template': '{{ call }} {{ fpth_script }}{% for f in fpths_inputs %} '\n",
      "                 '{{f}}{% endfor %}{% for f in fpths_outputs %} {{f}}{% endfor '\n",
      "                 '%}{% for k,v in params.items()%} --{{k}} {{v}}{% endfor %}\\n',\n",
      " 'fdir_appdata': PosixPath('/mnt/c/engDev/git_mf/ipyrun/tests/examples/line_graph'),\n",
      " 'fpth_config': PosixPath('/mnt/c/engDev/git_mf/ipyrun/tests/examples/line_graph/config-shell_handler.json'),\n",
      " 'fpth_runhistory': PosixPath('/mnt/c/engDev/git_mf/ipyrun/tests/examples/line_graph/runhistory.csv'),\n",
      " 'fpth_script': PosixPath('/mnt/c/engDev/git_mf/ipyrun/tests/examples/line_graph/script_line_graph.py'),\n",
      " 'fpths_outputs': [],\n",
      " 'params': {},\n",
      " 'patterns_inputs': ['input-*'],\n",
      " 'patterns_outputs': ['output-*']}\n"
     ]
    },
    {
     "ename": "<class 'KeyError'>",
     "evalue": "'fpths_inputs'",
     "output_type": "error",
     "traceback": [
      "\u001b[0;31m---------------------------------------------------------------------------\u001b[0m",
      "\u001b[0;31mKeyError\u001b[0m                                  Traceback (most recent call last)",
      "\u001b[0;32m/tmp/xpython_748/1011878928.py\u001b[0m in \u001b[0;36m<module>\u001b[0;34m\u001b[0m\n\u001b[0;32m----> 1\u001b[0;31m \u001b[0mShellHandler\u001b[0m\u001b[0;34m(\u001b[0m\u001b[0mfpth_script\u001b[0m\u001b[0;34m=\u001b[0m\u001b[0mPATH_EXAMPLE_SCRIPT\u001b[0m\u001b[0;34m)\u001b[0m\u001b[0;34m.\u001b[0m\u001b[0mdict\u001b[0m\u001b[0;34m(\u001b[0m\u001b[0;34m)\u001b[0m\u001b[0;34m\u001b[0m\u001b[0;34m\u001b[0m\u001b[0m\n\u001b[0m",
      "\u001b[0;32m~/miniconda3/envs/ipyautoui/lib/python3.9/site-packages/pydantic/main.cpython-39-x86_64-linux-gnu.so\u001b[0m in \u001b[0;36mpydantic.main.BaseModel.__init__\u001b[0;34m()\u001b[0m\n",
      "\u001b[0;32m~/miniconda3/envs/ipyautoui/lib/python3.9/site-packages/pydantic/main.cpython-39-x86_64-linux-gnu.so\u001b[0m in \u001b[0;36mpydantic.main.validate_model\u001b[0;34m()\u001b[0m\n",
      "\u001b[0;32m~/miniconda3/envs/ipyautoui/lib/python3.9/site-packages/pydantic/fields.cpython-39-x86_64-linux-gnu.so\u001b[0m in \u001b[0;36mpydantic.fields.ModelField.validate\u001b[0;34m()\u001b[0m\n",
      "\u001b[0;32m~/miniconda3/envs/ipyautoui/lib/python3.9/site-packages/pydantic/fields.cpython-39-x86_64-linux-gnu.so\u001b[0m in \u001b[0;36mpydantic.fields.ModelField._apply_validators\u001b[0;34m()\u001b[0m\n",
      "\u001b[0;32m~/miniconda3/envs/ipyautoui/lib/python3.9/site-packages/pydantic/class_validators.cpython-39-x86_64-linux-gnu.so\u001b[0m in \u001b[0;36mpydantic.class_validators._generic_validator_cls.lambda4\u001b[0;34m()\u001b[0m\n",
      "\u001b[0;32m/tmp/xpython_748/3575926906.py\u001b[0m in \u001b[0;36m_cmd\u001b[0;34m(cls, v, values)\u001b[0m\n\u001b[1;32m     85\u001b[0m             \u001b[0mcall\u001b[0m\u001b[0;34m=\u001b[0m\u001b[0mvalues\u001b[0m\u001b[0;34m[\u001b[0m\u001b[0;34m\"call\"\u001b[0m\u001b[0;34m]\u001b[0m\u001b[0;34m,\u001b[0m\u001b[0;34m\u001b[0m\u001b[0;34m\u001b[0m\u001b[0m\n\u001b[1;32m     86\u001b[0m             \u001b[0mfpth_script\u001b[0m\u001b[0;34m=\u001b[0m\u001b[0mvalues\u001b[0m\u001b[0;34m[\u001b[0m\u001b[0;34m\"fpth_script\"\u001b[0m\u001b[0;34m]\u001b[0m\u001b[0;34m,\u001b[0m\u001b[0;34m\u001b[0m\u001b[0;34m\u001b[0m\u001b[0m\n\u001b[0;32m---> 87\u001b[0;31m             \u001b[0mfpths_inputs\u001b[0m\u001b[0;34m=\u001b[0m\u001b[0mvalues\u001b[0m\u001b[0;34m[\u001b[0m\u001b[0;34m\"fpths_inputs\"\u001b[0m\u001b[0;34m]\u001b[0m\u001b[0;34m,\u001b[0m\u001b[0;34m\u001b[0m\u001b[0;34m\u001b[0m\u001b[0m\n\u001b[0m\u001b[1;32m     88\u001b[0m             \u001b[0mfpths_outputs\u001b[0m\u001b[0;34m=\u001b[0m\u001b[0mvalues\u001b[0m\u001b[0;34m[\u001b[0m\u001b[0;34m\"fpths_outputs\"\u001b[0m\u001b[0;34m]\u001b[0m\u001b[0;34m,\u001b[0m\u001b[0;34m\u001b[0m\u001b[0;34m\u001b[0m\u001b[0m\n\u001b[1;32m     89\u001b[0m             \u001b[0mparams\u001b[0m\u001b[0;34m=\u001b[0m\u001b[0mvalues\u001b[0m\u001b[0;34m[\u001b[0m\u001b[0;34m\"params\"\u001b[0m\u001b[0;34m]\u001b[0m\u001b[0;34m,\u001b[0m\u001b[0;34m\u001b[0m\u001b[0;34m\u001b[0m\u001b[0m\n",
      "\u001b[0;31mKeyError\u001b[0m: 'fpths_inputs'"
     ]
    }
   ],
   "source": []
  },
  {
   "cell_type": "code",
   "execution_count": null,
   "id": "9295dcca-ca53-4357-a66f-f4773116e892",
   "metadata": {},
   "outputs": [],
   "source": [
    "class RunAppConfigShell(RunAppConfig):\n",
    "    config_actions: ShellHandler = None\n",
    "\n",
    "    @validator(\"config_actions\", always=True)\n",
    "    def _config_actions(cls, v, values):\n",
    "        run_id = values[\"config_actions\"] \n",
    "        config_actions = values[\"config_actions\"] \n",
    "\n",
    "ShellHandler(\n",
    "        fpth_script=path_script,\n",
    "        fdir_appdata=path_script.parent,\n",
    "        fpths_inputs=paths_inputs,\n",
    "        fpths_outputs=[\n",
    "            fdir_appdata / f\"outputs-{run_id.process_name}-{run_id.index}.csv\",\n",
    "            fdir_appdata / f\"outputs-{run_id.process_name}-{run_id.index}.plotly.json\",\n",
    "        ],\n",
    "        # params={'k':'v'}\n",
    "    )\n",
    "        #return values[\"fdir_appdata\"] / v\n",
    "\n",
    "\n",
    "if __name__ == \"__main__\":\n",
    "    display(\n",
    "        Markdown(\n",
    "            \"\"\"\n",
    "### RunAppConfigShell\n",
    "\n",
    "Extend the `RunAppConfig`\n",
    "    \"\"\"\n",
    "        )\n",
    "    )\n",
    "    display(Markdown(\"`>>> display(RunAppConfigShell())`\"))\n",
    "    config_runapp = RunAppConfigShell()\n",
    "    display(RunAppConfigShell().dict())"
   ]
  },
  {
   "cell_type": "code",
   "execution_count": 9,
   "id": "b2502241-7b0c-40ad-b1a8-bdb64431fb7c",
   "metadata": {},
   "outputs": [
    {
     "data": {
      "text/plain": [
       "[]"
      ]
     },
     "execution_count": 9,
     "metadata": {},
     "output_type": "execute_result"
    }
   ],
   "source": [
    "path =pathlib.Path('.')\n",
    "list(path.glob('inputs-*'))"
   ]
  },
  {
   "cell_type": "code",
   "execution_count": 11,
   "id": "ec226fe5-7273-416a-a1fe-1168a9059827",
   "metadata": {},
   "outputs": [
    {
     "ename": "<class 'NameError'>",
     "evalue": "name 'default_runapp_config' is not defined",
     "output_type": "error",
     "traceback": [
      "\u001b[0;31m---------------------------------------------------------------------------\u001b[0m",
      "\u001b[0;31mNameError\u001b[0m                                 Traceback (most recent call last)",
      "\u001b[0;32m/tmp/xpython_260/261940870.py\u001b[0m in \u001b[0;36m<module>\u001b[0;34m\u001b[0m\n\u001b[1;32m     23\u001b[0m \u001b[0;34m\u001b[0m\u001b[0m\n\u001b[1;32m     24\u001b[0m     \u001b[0mPATH_SCRIPT\u001b[0m \u001b[0;34m=\u001b[0m \u001b[0mlist\u001b[0m\u001b[0;34m(\u001b[0m\u001b[0mtest_constants\u001b[0m\u001b[0;34m.\u001b[0m\u001b[0mDIR_EXAMPLE_PROCESS\u001b[0m\u001b[0;34m.\u001b[0m\u001b[0mglob\u001b[0m\u001b[0;34m(\u001b[0m\u001b[0mpattern\u001b[0m\u001b[0;34m=\u001b[0m\u001b[0;34m\"script*\"\u001b[0m\u001b[0;34m)\u001b[0m\u001b[0;34m)\u001b[0m\u001b[0;34m[\u001b[0m\u001b[0;36m0\u001b[0m\u001b[0;34m]\u001b[0m\u001b[0;34m\u001b[0m\u001b[0;34m\u001b[0m\u001b[0m\n\u001b[0;32m---> 25\u001b[0;31m     tu = default_runapp_config(\n\u001b[0m\u001b[1;32m     26\u001b[0m         \u001b[0mPATH_SCRIPT\u001b[0m\u001b[0;34m,\u001b[0m \u001b[0;36m1\u001b[0m\u001b[0;34m,\u001b[0m \u001b[0minput_models\u001b[0m\u001b[0;34m=\u001b[0m\u001b[0;34m[\u001b[0m\u001b[0mLineGraph\u001b[0m\u001b[0;34m]\u001b[0m\u001b[0;34m,\u001b[0m \u001b[0mclass_displayfiles\u001b[0m\u001b[0;34m=\u001b[0m\u001b[0mDisplayFiles\u001b[0m\u001b[0;34m\u001b[0m\u001b[0;34m\u001b[0m\u001b[0m\n\u001b[1;32m     27\u001b[0m     )\n",
      "\u001b[0;31mNameError\u001b[0m: name 'default_runapp_config' is not defined"
     ]
    }
   ],
   "source": [
    "if __name__ == \"__main__\":\n",
    "    from ipyrun.constants import load_test_constants\n",
    "    from ipyautoui.autoui import AutoUi, AutoUiConfig\n",
    "    from ipyautoui.displayfile import DisplayFiles, DisplayFile\n",
    "\n",
    "    test_constants = load_test_constants()\n",
    "    sys.path.append(str(test_constants.DIR_EXAMPLE_PROCESS))\n",
    "    from schemas import LineGraph\n",
    "    import functools\n",
    "    import sys\n",
    "\n",
    "    config_autoui = AutoUiConfig(pydantic_model=LineGraph, ext=\".lg.json\")\n",
    "    LineGraphUi = AutoUi.create_displayfile(config_autoui)\n",
    "\n",
    "    def line_graph_prev(path):\n",
    "        display(LineGraphUi(path))\n",
    "\n",
    "    user_file_renderers = {\".lg.json\": line_graph_prev}\n",
    "    DisplayFiles = functools.partial(\n",
    "        DisplayFiles, user_file_renderers=user_file_renderers\n",
    "    )  # overwrite the DisplayFiles class with the .lg.json file renderer baked in\n",
    "    test_constants = load_test_constants()\n",
    "\n",
    "    PATH_SCRIPT = list(test_constants.DIR_EXAMPLE_PROCESS.glob(pattern=\"script*\"))[0]\n",
    "    tu = default_runapp_config(\n",
    "        PATH_SCRIPT, 1, input_models=[LineGraph], class_displayfiles=DisplayFiles\n",
    "    )\n",
    "    run = RunApp.from_config(*tu)\n",
    "    display(run)"
   ]
  },
  {
   "cell_type": "code",
   "execution_count": 14,
   "id": "3be788cb-3001-41b6-936b-f6c64932d9ba",
   "metadata": {},
   "outputs": [
    {
     "data": {
      "text/plain": [
       "{'run_id': {'index': 1,\n",
       "  'process_name': 'line_graph',\n",
       "  'pretty_name': '1 - line_graph',\n",
       "  'check': True},\n",
       " 'config_ui': {'include_show_hide': True},\n",
       " 'config_actions': {'call': 'python -O',\n",
       "  'fpth_script': PosixPath('/mnt/c/engDev/git_mf/ipyrun/tests/examples/line_graph/script_line_graph.py'),\n",
       "  'fdir_appdata': PosixPath('/mnt/c/engDev/git_mf/ipyrun/tests/examples/line_graph'),\n",
       "  'fpths_inputs': [PosixPath('/mnt/c/engDev/git_mf/ipyrun/tests/examples/line_graph/inputs-linegraph-line_graph-1.lg.json')],\n",
       "  'fpths_outputs': [PosixPath('/mnt/c/engDev/git_mf/ipyrun/tests/examples/line_graph/outputs-line_graph-1.csv'),\n",
       "   PosixPath('/mnt/c/engDev/git_mf/ipyrun/tests/examples/line_graph/outputs-line_graph-1.plotly.json')],\n",
       "  'params': {},\n",
       "  'fpth_config': PosixPath('/mnt/c/engDev/git_mf/ipyrun/tests/examples/line_graph/config-shell_handler.json'),\n",
       "  'cmd_template': '{{ call }} {{ fpth_script }}{% for f in fpths_inputs %} {{f}}{% endfor %}{% for f in fpths_outputs %} {{f}}{% endfor %}{% for k,v in params.items()%} --{{k}} {{v}}{% endfor %}\\n',\n",
       "  'cmd': 'python -O /mnt/c/engDev/git_mf/ipyrun/tests/examples/line_graph/script_line_graph.py /mnt/c/engDev/git_mf/ipyrun/tests/examples/line_graph/inputs-linegraph-line_graph-1.lg.json /mnt/c/engDev/git_mf/ipyrun/tests/examples/line_graph/outputs-line_graph-1.csv /mnt/c/engDev/git_mf/ipyrun/tests/examples/line_graph/outputs-line_graph-1.plotly.json',\n",
       "  'fpth_runhistory': PosixPath('/mnt/c/engDev/git_mf/ipyrun/tests/examples/line_graph/runhistory.csv')}}"
      ]
     },
     "execution_count": 14,
     "metadata": {},
     "output_type": "execute_result"
    }
   ],
   "source": [
    "tu[0].dict()"
   ]
  },
  {
   "cell_type": "code",
   "execution_count": null,
   "id": "8bf3e7ff-c4ef-4573-b3a8-e2fc594fedcd",
   "metadata": {},
   "outputs": [],
   "source": [
    "from io import StringIO\n",
    "\n",
    "\n",
    "def create_runapp_linegraph(\n",
    "    path_script=PATH_SCRIPT,\n",
    "    input_models=[LineGraph],\n",
    "    class_displayfiles=DisplayFiles,\n",
    "    cls=None,\n",
    "):\n",
    "    if cls is not None:\n",
    "        index = len(cls.apps)\n",
    "    else:\n",
    "        index = 0\n",
    "    return RunApp.from_config(\n",
    "        *default_runapp_config(\n",
    "            path_script,\n",
    "            index,\n",
    "            input_models,\n",
    "            class_displayfiles=class_displayfiles,\n",
    "        )\n",
    "    )\n",
    "\n",
    "\n",
    "def add_linegraph_dialogue(cls=None):\n",
    "    display(AddRunDialogue(cls, add_cmd=create_runapp_linegraph))\n",
    "\n",
    "\n",
    "batch_actions = BatchActions(\n",
    "    inputs_show=None,\n",
    "    inputs_hide=None,\n",
    "    outputs_show=None,\n",
    "    outputs_hide=None,\n",
    "    add_show=add_linegraph_dialogue,\n",
    ")\n",
    "batch = RunApps(batch_actions=batch_actions, apps=[create_runapp_linegraph()])\n",
    "display(batch)\n",
    "# create_runapp_linegraph(2)"
   ]
  }
 ],
 "metadata": {
  "jupytext": {
   "text_representation": {
    "extension": ".py",
    "format_name": "percent",
    "format_version": "1.3",
    "jupytext_version": "1.13.3"
   }
  },
  "kernelspec": {
   "display_name": "Python [conda env:ipyautoui]",
   "language": "python",
   "name": "conda-env-ipyautoui-xpython"
  },
  "language_info": {
   "file_extension": ".py",
   "mimetype": "text/x-python",
   "name": "python",
   "version": "3.9.7"
  }
 },
 "nbformat": 4,
 "nbformat_minor": 5
}
