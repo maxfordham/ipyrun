{
 "cells": [
  {
   "cell_type": "code",
   "execution_count": 1,
   "id": "265661bf",
   "metadata": {},
   "outputs": [],
   "source": [
    "\"\"\"\n",
    "contains UI widget for adding and removing schedules\n",
    "\"\"\"\n",
    "%run __init__.py"
   ]
  },
  {
   "cell_type": "code",
   "execution_count": 2,
   "id": "d31104e4",
   "metadata": {},
   "outputs": [],
   "source": [
    "import shutil\n",
    "from typing import Callable\n",
    "import uuid\n",
    "import os\n",
    "import pandas as pd\n",
    "import ipywidgets as widgets\n",
    "from IPython.display import display, Markdown, clear_output\n",
    "from dataclasses import asdict, field\n",
    "from dataclasses import dataclass \n",
    "import functools\n",
    "\n",
    "#  mf packages\n",
    "from ipyrun.constants import BUTTON_WIDTH_MIN, BUTTON_HEIGHT_MIN\n",
    "\n",
    "#  local imports\n",
    "from ipypdt.constants import FPTH_USER_ICON, FPTH_MXF_ICON, FPTH_TEMPLATE_PROCESSES\n",
    "from ipypdt.utils import template_plus_button, make_dir\n",
    "\n",
    "NBFDIR = os.path.dirname(os.path.realpath('__file__'))\n",
    "\n",
    "IMG_USER = open(FPTH_USER_ICON, \"rb\").read()\n",
    "IMG_MXF = open(FPTH_MXF_ICON, \"rb\").read()\n",
    " \n",
    "FROM_TEMPLATE_IMG = {\n",
    "    True: IMG_MXF,\n",
    "    False: IMG_USER\n",
    "}"
   ]
  },
  {
   "cell_type": "code",
   "execution_count": 3,
   "id": "377034dd",
   "metadata": {},
   "outputs": [],
   "source": [
    "def return_alphanumeric_str(string):\n",
    "    return ''.join(e for e in string if e.isalnum())\n",
    "\n",
    "# object definitions for 1no row of the select / add / remove interface\n",
    "@dataclass\n",
    "class SelectProcess:\n",
    "    \"\"\"state definition of a given schedule\"\"\"\n",
    "    process_name: str = ''\n",
    "    pretty_name: str = ''\n",
    "    exists: bool = False\n",
    "    fromTemplate: bool = False\n",
    "    guid: uuid.uuid4 = field(default_factory=lambda: str(uuid.uuid4()))  # lambda means a new UUID is created each time its initialised\n",
    "        \n",
    "    def __post_init__(self):\n",
    "        if self.pretty_name == '':\n",
    "            self.pretty_name = self.process_name\n",
    "        self.process_name = return_alphanumeric_str(self.pretty_name)\n",
    "        \n",
    "@dataclass\n",
    "class SelectWidgetRow:\n",
    "    \"\"\"definition of an \"SelectProcess\" interface object with no styling. \n",
    "    (the styling depends on the data within a SelectProcess object)\"\"\"\n",
    "    create: widgets.Button = None\n",
    "    remove: widgets.Button  = None\n",
    "    \n",
    "    pretty_name: widgets.Text  = None\n",
    "    fromTemplate: widgets.Image = None\n",
    "    row: widgets.HBox = None\n",
    "    guid: uuid.uuid4 = None\n",
    "        \n",
    "    def __post_init__(self):\n",
    "        self.create = widgets.Button(disabled=False, layout=widgets.Layout(width=BUTTON_WIDTH_MIN, height=BUTTON_HEIGHT_MIN))\n",
    "        self.remove = widgets.Button(disabled=False, layout=widgets.Layout(width=BUTTON_WIDTH_MIN, height=BUTTON_HEIGHT_MIN))\n",
    "        self.pretty_name = widgets.Text(disabled=True)\n",
    "        self.fromTemplate = widgets.Image(\n",
    "                                format='png',\n",
    "                                width=BUTTON_HEIGHT_MIN,\n",
    "                                height=BUTTON_HEIGHT_MIN,\n",
    "                                layout=widgets.Layout(object_fit = 'contain')\n",
    "                            )\n",
    "        self.row = widgets.HBox([self.create, self.remove, self.fromTemplate,  self.pretty_name])#exists,"
   ]
  },
  {
   "cell_type": "code",
   "execution_count": 4,
   "id": "c001ff3a",
   "metadata": {},
   "outputs": [
    {
     "name": "stdout",
     "output_type": "stream",
     "text": [
      "-----------------\n",
      "unstyled\n"
     ]
    },
    {
     "data": {
      "application/vnd.jupyter.widget-view+json": {
       "model_id": "11dc9e5874724068afc55e8b9bcdf576",
       "version_major": 2,
       "version_minor": 0
      },
      "text/plain": [
       "HBox(children=(Button(layout=Layout(height='25px', width='41px'), style=ButtonStyle()), Button(layout=Layout(h…"
      ]
     },
     "metadata": {},
     "output_type": "display_data"
    },
    {
     "name": "stdout",
     "output_type": "stream",
     "text": [
      "SelectProcess(process_name='', pretty_name='', exists=True, fromTemplate=False, guid='2775da3e-3a54-4541-b27c-56359a0caf83')\n",
      "-----------------\n",
      "check. remove only. --> add. blank.\n"
     ]
    },
    {
     "data": {
      "application/vnd.jupyter.widget-view+json": {
       "model_id": "504f6222b902435c9e85d1fd794c7231",
       "version_major": 2,
       "version_minor": 0
      },
      "text/plain": [
       "HBox(children=(Button(button_style='success', disabled=True, icon='check', layout=Layout(height='25px', width=…"
      ]
     },
     "metadata": {},
     "output_type": "display_data"
    },
    {
     "name": "stdout",
     "output_type": "stream",
     "text": [
      "SelectProcess(process_name='fromtemplate', pretty_name='from template', exists=True, fromTemplate=False, guid='5305b768-2318-4ddb-911c-c11aefe0a30b')\n",
      "-----------------\n",
      "check. remove only. --> add. remove from list.\n"
     ]
    },
    {
     "data": {
      "application/vnd.jupyter.widget-view+json": {
       "model_id": "84a506da02fe4783a9bdd20bbcf5f956",
       "version_major": 2,
       "version_minor": 0
      },
      "text/plain": [
       "HBox(children=(Button(button_style='success', disabled=True, icon='check', layout=Layout(height='25px', width=…"
      ]
     },
     "metadata": {},
     "output_type": "display_data"
    },
    {
     "name": "stdout",
     "output_type": "stream",
     "text": [
      "SelectProcess(process_name='userdefined', pretty_name='user defined', exists=True, fromTemplate=False, guid='f3840af1-83d0-4236-9894-fab4cf70f0a3')\n",
      "-----------------\n",
      "add. blank. --> check. remove only.\n",
      "row.remove.icon = full\n"
     ]
    },
    {
     "data": {
      "application/vnd.jupyter.widget-view+json": {
       "model_id": "0168f69db624446588a623399c20e4a2",
       "version_major": 2,
       "version_minor": 0
      },
      "text/plain": [
       "HBox(children=(Button(button_style='warning', icon='plus', layout=Layout(height='25px', width='41px'), style=B…"
      ]
     },
     "metadata": {},
     "output_type": "display_data"
    },
    {
     "name": "stdout",
     "output_type": "stream",
     "text": [
      "SelectProcess(process_name='fromtemplate', pretty_name='from template', exists=True, fromTemplate=False, guid='d1b17681-d944-42d2-b31d-3815c2ae6ea6')\n",
      "-----------------\n",
      "add. remove from list. --> check. remove only.\n",
      "                       --> row removed\n"
     ]
    },
    {
     "data": {
      "application/vnd.jupyter.widget-view+json": {
       "model_id": "37701ad18f4e413482964628b93c8eb2",
       "version_major": 2,
       "version_minor": 0
      },
      "text/plain": [
       "HBox(children=(Button(button_style='warning', icon='plus', layout=Layout(height='25px', width='41px'), style=B…"
      ]
     },
     "metadata": {},
     "output_type": "display_data"
    },
    {
     "name": "stdout",
     "output_type": "stream",
     "text": [
      "SelectProcess(process_name='userdefined', pretty_name='user defined', exists=True, fromTemplate=False, guid='96ac3312-2091-4d2a-a660-20dedb539fbd')\n",
      "-----------------\n"
     ]
    }
   ],
   "source": [
    "def style_widget_row(row:SelectWidgetRow, s: SelectProcess, debug: bool = False):\n",
    "    \"\"\"styles the \"SelectWidgetRow\" widget in-place based on data from the \"SelectProcess\" object\"\"\"\n",
    "    def check_remove_only(row:SelectWidgetRow, create_tooltip=''):\n",
    "        #create\n",
    "        row.create.icon = 'fa-check'\n",
    "        row.create.tooltip = 'already exists in project'\n",
    "        row.create.button_style='success'\n",
    "        row.create.disabled = True\n",
    "        #remove\n",
    "        row.remove.tooltip = 'remove from project'\n",
    "        row.remove.icon = 'fa-trash'\n",
    "        row.remove.button_style = 'danger'\n",
    "        row.remove.style.button_color = None\n",
    "        row.remove.disabled = False\n",
    "        \n",
    "    row.pretty_name.value = s.pretty_name\n",
    "    row.guid = s.guid\n",
    "    \n",
    "    if s.exists and s.fromTemplate:\n",
    "        if debug:\n",
    "            print('check. remove only. --> add. blank.')\n",
    "        check_remove_only(row, create_tooltip='{} already exists in project. MXF standard schedule.'.format(s.pretty_name))\n",
    "        row.fromTemplate.value = FROM_TEMPLATE_IMG[True]\n",
    "        row.pretty_name.disabled = True\n",
    "    elif s.exists and not s.fromTemplate:\n",
    "        if debug:\n",
    "            print('check. remove only. --> add. remove from list.')\n",
    "        check_remove_only(row, create_tooltip='{} already exists in project. Project defined schedule.'.format(s.pretty_name))\n",
    "        row.fromTemplate.value = FROM_TEMPLATE_IMG[False]\n",
    "        row.pretty_name.disabled = True\n",
    "    elif not s.exists and s.fromTemplate:\n",
    "        if debug:\n",
    "            print('add. blank. --> check. remove only.')  \n",
    "        row.fromTemplate.value = FROM_TEMPLATE_IMG[True]\n",
    "        row.pretty_name.disabled = True\n",
    "        #create\n",
    "        row.create.disabled = False\n",
    "        row.create.icon = 'fa-plus'\n",
    "        row.create.button_style='warning'\n",
    "        row.create.tooltip = 'add {} to project. MXF standard schedule.'.format(s.pretty_name)\n",
    "        #remove\n",
    "        row.remove.tooltip='cannot remove template processes from list'\n",
    "        row.remove.button_style = ''\n",
    "        row.remove.icon = 'fa-full' #  this icon doesn't exist. but removes the old one to leave it blank (desired). \n",
    "        row.remove.disabled = True\n",
    "        row.remove.style.button_color = 'white'\n",
    "        \n",
    "        if debug:\n",
    "            print(f'row.remove.icon = {row.remove.icon}')  \n",
    "    elif not s.exists and not s.fromTemplate:\n",
    "        if debug:\n",
    "            print('add. remove from list. --> check. remove only.')\n",
    "            print('                       --> row removed')\n",
    "        #create\n",
    "        row.create.disabled = False\n",
    "        row.create.icon = 'fa-plus'\n",
    "        row.create.button_style='warning'\n",
    "        row.create.tooltip = 'add {} to project. Project defined schedule.'.format(s.pretty_name)\n",
    "        #remove\n",
    "        row.remove.tooltip = 'remove from list'\n",
    "        row.remove.icon = 'fa-minus'\n",
    "        row.remove.button_style = ''\n",
    "        row.fromTemplate.value = FROM_TEMPLATE_IMG[False]\n",
    "        row.pretty_name.disabled = False\n",
    "    \n",
    "def get_SelectProcess_from_SelectWidgetRow(row:SelectWidgetRow) -> SelectProcess:\n",
    "    \"\"\"\n",
    "    pass a ui element and return the associated data-object.\n",
    "    CURRENTLY ONLY IN USE FOR DEBUGGING. \n",
    "    \n",
    "    Args: \n",
    "        row (SelectWidgetRow): row ui\n",
    "    \n",
    "    Returns: \n",
    "        s (SelectProcess): data object\n",
    "    \"\"\"\n",
    "    s = SelectProcess(pretty_name=row.pretty_name.value)\n",
    "    if row.create.tooltip == '{} already exists in project. MXF standard schedule.'.format(s.pretty_name):\n",
    "        s.exists = True\n",
    "        s.fromTemplate = True\n",
    "    elif '{} already exists in project. Project defined schedule.'.format(s.pretty_name):\n",
    "        s.exists = True\n",
    "        s.fromTemplate = False\n",
    "    elif 'add {} to project. MXF standard schedule.'.format(s.pretty_name):\n",
    "        s.exists = False\n",
    "        s.fromTemplate = True\n",
    "    elif 'add {} to project. Project defined schedule.'.format(s.pretty_name):\n",
    "        s.exists = False\n",
    "        s.fromTemplate = True\n",
    "    else:\n",
    "        print('tooltip error')\n",
    "    return s\n",
    "        \n",
    "def debug_style_widget_row():\n",
    "    \"\"\"debugs the \"style_widget_row\" fn by supplying it with the different data-permutations and displays the resulting styling options\n",
    "    CURRENTLY ONLY IN USE FOR DEBUGGING.\"\"\"\n",
    "    row = SelectWidgetRow()\n",
    "    row0 = SelectWidgetRow()\n",
    "    row1 = SelectWidgetRow()\n",
    "    row2 = SelectWidgetRow()\n",
    "    row3 = SelectWidgetRow()\n",
    "    print('-----------------')\n",
    "    print('unstyled')\n",
    "    display(row.row)\n",
    "    print(get_SelectProcess_from_SelectWidgetRow(row))\n",
    "    print('-----------------')\n",
    "    style_widget_row(row0,SelectProcess(exists=True, fromTemplate=True, pretty_name='from template'), debug=True)\n",
    "    display(row0.row)\n",
    "    print(get_SelectProcess_from_SelectWidgetRow(row0))\n",
    "    print('-----------------')\n",
    "    style_widget_row(row1,SelectProcess(exists=True, fromTemplate=False, pretty_name='user defined'), debug=True)\n",
    "    display(row1.row)\n",
    "    print(get_SelectProcess_from_SelectWidgetRow(row1))\n",
    "    print('-----------------')\n",
    "    style_widget_row(row2,SelectProcess(exists=False, fromTemplate=True, pretty_name='from template'), debug=True)\n",
    "    display(row2.row)\n",
    "    print(get_SelectProcess_from_SelectWidgetRow(row2))\n",
    "    print('-----------------')\n",
    "    style_widget_row(row3,SelectProcess(exists=False, fromTemplate=False, pretty_name='user defined'), debug=True)\n",
    "    display(row3.row)\n",
    "    print(get_SelectProcess_from_SelectWidgetRow(row3))\n",
    "    print('-----------------')\n",
    "    \n",
    "if __name__ =='__main__':\n",
    "    debug_style_widget_row()"
   ]
  },
  {
   "cell_type": "code",
   "execution_count": 5,
   "id": "85c747c8",
   "metadata": {},
   "outputs": [
    {
     "data": {
      "application/vnd.jupyter.widget-view+json": {
       "model_id": "1a8e51876dbd4c47a059263a8e297883",
       "version_major": 2,
       "version_minor": 0
      },
      "text/plain": [
       "Output()"
      ]
     },
     "metadata": {},
     "output_type": "display_data"
    },
    {
     "data": {
      "application/vnd.jupyter.widget-view+json": {
       "model_id": "685ca6914ea34e4f8a341dd476414d4a",
       "version_major": 2,
       "version_minor": 0
      },
      "text/plain": [
       "VBox(children=(HBox(children=(Button(button_style='warning', icon='plus', layout=Layout(height='25px', width='…"
      ]
     },
     "metadata": {},
     "output_type": "display_data"
    }
   ],
   "source": [
    "class AddRemoveScheduleForm():\n",
    "    \n",
    "    def __init__(self, fpth_processes: str,\n",
    "                 FPTH_TEMPLATE_PROCESSES: str = FPTH_TEMPLATE_PROCESSES,\n",
    "                ):\n",
    "        \"\"\"UI form only. no controls.\"\"\"\n",
    "        self.out = widgets.Output()\n",
    "        self.fpth_processes = fpth_processes\n",
    "        if not os.path.isfile(self.fpth_processes):\n",
    "            if not os.path.isdir(os.path.dirname(self.fpth_processes)): # repeated code in create_schedule_ui. probs a better way... check _runconfig working properly\n",
    "                 make_dir(os.path.dirname(self.fpth_processes))\n",
    "            shutil.copyfile(FPTH_TEMPLATE_PROCESSES, self.fpth_processes)\n",
    "        self.__df_processes = pd.read_csv(self.fpth_processes).set_index('guid')\n",
    "        self._init_form()\n",
    "        self._update_row_style()\n",
    "    \n",
    "    @property\n",
    "    def df_processes(self):\n",
    "        return self.__df_processes\n",
    "    \n",
    "    @df_processes.setter\n",
    "    def df_processes(self, value):\n",
    "        self.__df_processes = value\n",
    "        self.__df_processes.reset_index().to_csv(self.fpth_processes, index=None)  \n",
    "    \n",
    "    @property\n",
    "    def guids(self):\n",
    "        return self.df_processes.index.tolist()\n",
    "        \n",
    "    def _init_form(self):\n",
    "        self.select_processes_widgets = [SelectWidgetRow(guid=guid) for guid in self.guids]  # init blank ui rows\n",
    "        self.add_user_defined = template_plus_button(description='', tooltip='add schedule to list')\n",
    "        self.select_processes = widgets.VBox(self.select_processes_children) \n",
    "        \n",
    "    def _update_row_style(self, guid=None):\n",
    "        if guid is None:\n",
    "            [style_widget_row(self._get_select_processes_widget(guid), self._get_SelectProcess_obj(guid)) for guid in self.guids]\n",
    "        else:\n",
    "            style_widget_row(self._get_select_processes_widget(guid), self._get_SelectProcess_obj(guid), debug=False) \n",
    "            \n",
    "    @property\n",
    "    def row_widgets(self):\n",
    "        return [s.row for s in self.select_processes_widgets]\n",
    "    \n",
    "    @property \n",
    "    def select_processes_children(self):\n",
    "        return self.row_widgets + [self.add_user_defined]\n",
    "        \n",
    "    def _get_SelectProcess_obj(self, guid):\n",
    "        return SelectProcess(**self.df_processes.loc[guid], guid=guid)\n",
    "    \n",
    "    def _get_select_processes_widget(self, guid):\n",
    "        return [s for s in self.select_processes_widgets if s.guid==guid][0]\n",
    "    \n",
    "    def display(self):\n",
    "        display(self.out)\n",
    "        display(self.select_processes)\n",
    "        \n",
    "    def _ipython_display_(self):\n",
    "        self.display()  \n",
    "\n",
    "if __name__ =='__main__':\n",
    "    add_remove = AddRemoveScheduleForm('template_processes/processes-schedule.csv')\n",
    "    display(add_remove)"
   ]
  },
  {
   "cell_type": "code",
   "execution_count": 6,
   "id": "694de6f3",
   "metadata": {},
   "outputs": [
    {
     "data": {
      "application/vnd.jupyter.widget-view+json": {
       "model_id": "f743262109af4f699ffb215aec0700d5",
       "version_major": 2,
       "version_minor": 0
      },
      "text/plain": [
       "Output()"
      ]
     },
     "metadata": {},
     "output_type": "display_data"
    },
    {
     "data": {
      "application/vnd.jupyter.widget-view+json": {
       "model_id": "b4738ce0ce71498d9dc843b31a1f3780",
       "version_major": 2,
       "version_minor": 0
      },
      "text/plain": [
       "VBox(children=(HBox(children=(Button(button_style='warning', icon='plus', layout=Layout(height='25px', width='…"
      ]
     },
     "metadata": {},
     "output_type": "display_data"
    }
   ],
   "source": [
    "def add_process(main_app, process_name, pretty_name):\n",
    "    print('add_process called')\n",
    "    \n",
    "def remove_process(main_app, process_name):\n",
    "    print('remove_process called')\n",
    "    \n",
    "class AddRemoveProcess(AddRemoveScheduleForm):\n",
    "    \"\"\"extends \"AddRemoveScheduleForm\" to provide controls. \n",
    "    add_process and remove_process to be defined in the main create_schedule_ui and provide the link between this \n",
    "    interface and the main app. \n",
    "    \n",
    "    Args:\n",
    "        fpth_processes: csv with tabular list of processes in project and template processes to choose from\n",
    "        FPTH_TEMPLATE_PROCESSES: template \"fpth_processes\"\n",
    "        main_app: RunAppsprocesses class instance\n",
    "        add_process: a function that is passed to this class to operate on the main_app to add extra processes\n",
    "            to the project. executed as follows:\n",
    "            self.add_process(self.main_app)\n",
    "        remove_process: as above for removing processes from the project. \n",
    "    \"\"\"\n",
    "    def __init__(self, \n",
    "                 fpth_processes: str,\n",
    "                 FPTH_TEMPLATE_PROCESSES: str = FPTH_TEMPLATE_PROCESSES,\n",
    "                 main_app= None, #: RunAppsprocesses \n",
    "                 add_process: Callable = add_process,\n",
    "                 remove_process: Callable = remove_process\n",
    "                ):\n",
    "        super().__init__(fpth_processes)\n",
    "        self.main_app = main_app\n",
    "        self.add_process = add_process # function operates on main_app to add schedule\n",
    "        self.remove_process = remove_process # function operates on main_app to remove schedule\n",
    "        self._init_controls()\n",
    "        \n",
    "    def _init_controls(self):\n",
    "        [self._init_row_controls(guid) for guid in self.guids]\n",
    "        self.add_user_defined.on_click(self._add_user_defined)\n",
    "       \n",
    "    def _init_row_controls(self, guid):\n",
    "        self._get_select_processes_widget(guid).create.on_click(functools.partial(self._create, guid=guid))\n",
    "        self._get_select_processes_widget(guid).pretty_name.observe(self._update_change_name, 'value')\n",
    "        self._get_select_processes_widget(guid).remove.on_click(functools.partial(self._remove, guid=guid))\n",
    "        \n",
    "    def _create(self, onclick, guid=None):\n",
    "        process_name = self.df_processes.loc[guid,'process_name']\n",
    "        pretty_name = self.df_processes.loc[guid,'pretty_name']\n",
    "        if self._is_unique(process_name):\n",
    "            self._display_message(f\"added to project: {process_name}\")\n",
    "            self.add_process(self.main_app, process_name, pretty_name)\n",
    "            tmp = self.df_processes\n",
    "            tmp.loc[guid, 'exists'] = True           \n",
    "            self.df_processes = tmp\n",
    "            self._update_row_style(guid=guid)\n",
    "        else:\n",
    "            self._display_message(f'ERROR - already exists in project: {process_name}')\n",
    "    \n",
    "    def _remove_from_list(self, guid, process_name):\n",
    "        self._display_message(f\"removed from list: {process_name}\")\n",
    "        tmp = self.df_processes\n",
    "        tmp = tmp.drop([guid])\n",
    "        self.df_processes = tmp\n",
    "        self.select_processes_widgets.remove(self._get_select_processes_widget(guid))\n",
    "        self.select_processes.children = self.select_processes_children  \n",
    "        \n",
    "    def _remove_from_project(self, guid, process_name):\n",
    "        self._display_message(f\"removed from project: {process_name}\")\n",
    "        tmp = self.df_processes\n",
    "        tmp.loc[guid, 'exists'] = False \n",
    "        self.df_processes = tmp\n",
    "        self._update_row_style(guid=guid)\n",
    "        self.remove_process(self.main_app, process_name)\n",
    "    \n",
    "    def _remove(self, onclick, guid=None):\n",
    "        process_name = self.df_processes.loc[guid,'process_name']\n",
    "        if not self.df_processes.loc[guid,'exists'] and not self.df_processes.loc[guid,'fromTemplate']:\n",
    "            # if not in project, and user defined\n",
    "            self._remove_from_list(guid, process_name)\n",
    "        elif self.df_processes.loc[guid,'exists']:\n",
    "            # if in project, just return to list\n",
    "            self._remove_from_project(guid, process_name)\n",
    "        else:\n",
    "            self._display_message('ERROR WHEN REMOVING: {}'.format(process_name))\n",
    "\n",
    "    def _add_user_defined(self, onclick):\n",
    "        add = SelectProcess()\n",
    "        tmp = self.df_processes\n",
    "        tmp = tmp.append(pd.DataFrame.from_dict(asdict(add),orient='index').T.set_index('guid'))\n",
    "        self.df_processes = tmp\n",
    "        row = SelectWidgetRow(guid=add.guid)\n",
    "        self.select_processes_widgets.append(row)\n",
    "        self._update_row_style(guid=add.guid)\n",
    "        self.select_processes.children = self.select_processes_children  \n",
    "        self._init_row_controls(add.guid)\n",
    "\n",
    "    @property\n",
    "    def schedule_names(self):\n",
    "        return [s.pretty_name.value for s in self.select_processes_widgets]\n",
    "\n",
    "    def _update_change_name(self, change):\n",
    "        tmp = self.df_processes\n",
    "        tmp['pretty_name'] = self.schedule_names\n",
    "        tmp['process_name'] = [return_alphanumeric_str(string) for string in self.schedule_names]\n",
    "        self.df_processes = tmp\n",
    "\n",
    "    def _is_unique(self, process_name):\n",
    "        if len(self.df_processes.query('exists == True and process_name == \"{}\"'.format(process_name))) == 0:\n",
    "            return True\n",
    "        else:\n",
    "            return False\n",
    "\n",
    "    def _display_message(self, message):\n",
    "        with self.out:\n",
    "            clear_output()\n",
    "            display(Markdown(message))\n",
    "\n",
    "    def _df_processes_get_index(self, guid):\n",
    "        return self.df_processes.query('guid == \"{}\"'.format(guid)).index[0]\n",
    "\n",
    "    def _select_processes_widgets_get_index(self, guid):\n",
    "        return [n for n in range(0,len(self.select_processes_widgets)) if self.select_processes_widgets[n].guid==guid][0]\n",
    "\n",
    "\n",
    "if __name__ =='__main__':\n",
    "    add_remove = AddRemoveProcess('template_processes/processes-schedule.csv')\n",
    "    display(add_remove)"
   ]
  },
  {
   "cell_type": "code",
   "execution_count": null,
   "id": "19e82365",
   "metadata": {},
   "outputs": [],
   "source": []
  }
 ],
 "metadata": {
  "jupytext": {
   "formats": "ipynb,py:percent"
  },
  "kernelspec": {
   "display_name": "Python [conda env:ipypdt]",
   "language": "python",
   "name": "conda-env-ipypdt-py"
  },
  "language_info": {
   "codemirror_mode": {
    "name": "ipython",
    "version": 3
   },
   "file_extension": ".py",
   "mimetype": "text/x-python",
   "name": "python",
   "nbconvert_exporter": "python",
   "pygments_lexer": "ipython3",
   "version": "3.9.7"
  }
 },
 "nbformat": 4,
 "nbformat_minor": 5
}
