{
 "cells": [
  {
   "cell_type": "code",
   "execution_count": 1,
   "id": "e06fb89a-d2aa-4594-86d0-5cd20ab80462",
   "metadata": {},
   "outputs": [
    {
     "data": {
      "application/vnd.jupyter.widget-view+json": {
       "model_id": "290972821eae460d8b4af2f9b08ed59f",
       "version_major": 2,
       "version_minor": 0
      },
      "text/plain": [
       "HTML(value='<b>Buttons to be programmed from `RunActions`</b> ')"
      ]
     },
     "metadata": {},
     "output_type": "display_data"
    },
    {
     "data": {
      "application/vnd.jupyter.widget-view+json": {
       "model_id": "9f5db95efd714fc09f23a22d7b7c6dd5",
       "version_major": 2,
       "version_minor": 0
      },
      "text/plain": [
       "VBox(children=(HBox(children=(ToggleButton(value=False, icon='question-circle', tooltip='describes the functio…"
      ]
     },
     "metadata": {},
     "output_type": "display_data"
    }
   ],
   "source": [
    "from IPython.display import clear_output, display\n",
    "import ipywidgets as widgets\n",
    "\n",
    "di = {\n",
    "    'help_ui_show':  lambda: display(\"help_ui_show\"), \n",
    "    'help_ui_hide':lambda: display(\"help_ui_hide\") \n",
    "}\n",
    "\n",
    "\n",
    "class RunActionsUi:\n",
    "    \"\"\"maps the RunActions onto buttons. doesn't put them in a container.\n",
    "\n",
    "    Returns:\n",
    "        display: of buttons for testing\n",
    "    \"\"\"\n",
    "\n",
    "    def __init__(self, run_actions = di):\n",
    "        self.run_actions = run_actions # self._init_run_actions(run_actions)\n",
    "        self._init_objects()\n",
    "        self._init_controls()\n",
    "\n",
    "        \n",
    "    def _init_objects(self):\n",
    "        self.help_ui = widgets.ToggleButton(\n",
    "            icon=\"question-circle\",\n",
    "            tooltip=\"describes the functionality of elements in the RunApp interface\",\n",
    "            style={\"font_weight\": \"bold\"},\n",
    "        )\n",
    "        self.out_help_ui = widgets.Output()\n",
    "        \n",
    "    def _init_controls(self):\n",
    "        self.help_ui.observe(self._help_ui, names=\"value\")\n",
    "        \n",
    "    def _show_hide_output(\n",
    "        self, widgets_output, widget_button, show_action, hide_action\n",
    "    ):\n",
    "        with widgets_output:\n",
    "            if widget_button.value:\n",
    "                show_action()\n",
    "            else:\n",
    "                hide_action()\n",
    "                clear_output()\n",
    "                \n",
    "    def _help_ui(self, on_change):\n",
    "        self._show_hide_output(\n",
    "            self.out_help_ui,\n",
    "            self.help_ui,\n",
    "            self.run_actions['help_ui_show'],\n",
    "            self.run_actions['help_ui_hide'],\n",
    "        )\n",
    "\n",
    "    def display(self):\n",
    "        \"\"\"note. this is for dev only. this class is designed to be inherited into a form\n",
    "        where the display method is overwritten\"\"\"\n",
    "        self.out = widgets.VBox(\n",
    "            [\n",
    "                widgets.HBox([self.help_ui, self.out_help_ui]),\n",
    "            ]\n",
    "        )\n",
    "        display(widgets.HTML(\"<b>Buttons to be programmed from `RunActions`</b> \"))\n",
    "        display(self.out)\n",
    "\n",
    "    def _ipython_display_(self):\n",
    "        self.display()\n",
    "        \n",
    "RunActionsUi()"
   ]
  },
  {
   "cell_type": "markdown",
   "id": "5898b2e4-dc07-467b-aeca-85aad01c8d6a",
   "metadata": {},
   "source": [
    "`!conda list xeus`\n",
    "\n",
    "```\n",
    "# packages in environment at /home/jovyan/miniconda3/envs/mf_base1:\n",
    "#\n",
    "# Name                    Version                   Build  Channel\n",
    "xeus                      1.0.1                h7d0c39e_2    conda-forge\n",
    "xeus-python               0.12.3           py39h65d1dfc_0    conda-forge\n",
    "```"
   ]
  },
  {
   "cell_type": "code",
   "execution_count": null,
   "id": "55b8a5eb-59d5-4efc-854f-25e009603fd1",
   "metadata": {},
   "outputs": [],
   "source": []
  },
  {
   "cell_type": "code",
   "execution_count": null,
   "id": "8743e7fb-c895-488e-bbe9-786c68142d0c",
   "metadata": {},
   "outputs": [],
   "source": []
  }
 ],
 "metadata": {
  "kernelspec": {
   "display_name": "Python [conda env:mf_base1] *",
   "language": "python",
   "name": "conda-env-mf_base1-py"
  },
  "language_info": {
   "codemirror_mode": {
    "name": "ipython",
    "version": 3
   },
   "file_extension": ".py",
   "mimetype": "text/x-python",
   "name": "python",
   "nbconvert_exporter": "python",
   "pygments_lexer": "ipython3",
   "version": "3.9.4"
  }
 },
 "nbformat": 4,
 "nbformat_minor": 5
}
