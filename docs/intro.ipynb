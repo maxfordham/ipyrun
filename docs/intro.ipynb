{
 "cells": [
  {
   "cell_type": "markdown",
   "metadata": {},
   "source": [
    "# __ipyrun docs__\n",
    "\n",
    "---"
   ]
  },
  {
   "cell_type": "markdown",
   "metadata": {},
   "source": [
    "```{include} ../README.md\n",
    "```"
   ]
  },
  {
   "cell_type": "code",
   "execution_count": 1,
   "metadata": {
    "tags": [
     "remove-input"
    ]
   },
   "outputs": [
    {
     "data": {
      "text/markdown": [
       "# ipyrun\n",
       "\n",
       "[![Binder](https://mybinder.org/badge_logo.svg)](https://mybinder.org/v2/gh/maxfordham/ipyrun/HEAD)\n",
       "[![Code style: black](https://img.shields.io/badge/code%20style-black-000000.svg)](https://github.com/psf/black)\n",
       "\n",
       "![ipyrun-logo](docs/images/logo.png)\n",
       "\n",
       "ipyrun is UI first package built on ipywidgets designed for rapidly creating an app user interface for use in a\n",
       "jupyter notebook / lab or voila app. To run a script or process and generate resultant output files.\n",
       "The app caches input, output and runtime data, such that the previous state of the app is available to the user when returning.\n",
       "\n",
       "## Try it online!\n",
       "\n",
       "launch [![Binder](https://mybinder.org/badge_logo.svg)](https://mybinder.org/v2/gh/maxfordham/ipyrun/HEAD).\n",
       "\n",
       "\n",
       "## Screenshots\n",
       "\n",
       "`# TODO: add screenshots`\n",
       "\n",
       "## Description\n",
       "\n",
       "A generic user interface for running processes.\n",
       "Data inputs to the process are defined by standard datafiles (e.g. csv, json), and data files are generated as outputs when the script is run.\n",
       "A timestamped record of script execution is maintained.\n",
       "An ipywdiget user interface allows users to edit script input data and view outputs of script execution.\n",
       "\n",
       "## Process\n",
       "\n",
       "The rationale behind ipyrun is that by following the simple process outlined below, the user does not need to think\n",
       "too much about creating an interface or how to cache data, with this being templated by the ipyrun configuration.\n",
       "\n",
       "ipyrun is \"UI first\",  upon which different, user-applied configurations can be attached. ipyrun ships with a\n",
       "`DefaultRunConfig` that is intended for executing python scripts or packages. New users are recommended to use\n",
       "this configuration, creating new configurations is an \"advanced feature\" that would require that should only be used if \n",
       "absolutely required.\n",
       "\n",
       "```{note}\n",
       "it is possible to set up new ipyrun configurations \n",
       "```\n",
       "\n",
       "|     |                                          |                                                            |\n",
       "| --- | ---------------------------------------- | ---------------------------------------------------------- |\n",
       "| 1   | ![](docs/images/pydantic-jsonschema.png) | __create an input schema__                                 |\n",
       "| 2   | ![](docs/images/logo-ipyautoui.png)      | __generate an input form using ipyautoui__                 |\n",
       "| 3   | ![](docs/images/script-or-package.png)   | __create a script or process to execute__                  |\n",
       "| 4   | ![](docs/images/logo.png)                | __create a RunApp instance to manage UI and data-caching__ |\n",
       "\n",
       "\n",
       "## Install\n",
       "\n",
       "- install from network channel\n",
       "\n",
       "```bash\n",
       "conda config --add channels file:///mnt/conda-bld\n",
       "mamba install ipyrun\n",
       "# or \n",
       "mamba install -c file:///mnt/conda-bld ipyrun\n",
       "```\n",
       "\n",
       "- install pip dependencies\n",
       "\n",
       "```bash\n",
       "pip install mydocstring\n",
       "```\n",
       "\n",
       "## Build\n",
       "\n",
       "- [conda-bld](docs/conda-bld.md)"
      ],
      "text/plain": [
       "<IPython.core.display.Markdown object>"
      ]
     },
     "metadata": {},
     "output_type": "display_data"
    }
   ],
   "source": [
    "from IPython.display import Markdown, display\n",
    "\n",
    "display(Markdown(\"../README.md\"))"
   ]
  },
  {
   "cell_type": "markdown",
   "metadata": {},
   "source": []
  }
 ],
 "metadata": {
  "kernelspec": {
   "display_name": "Python 3 (ipykernel)",
   "language": "python",
   "name": "python3"
  },
  "language_info": {
   "codemirror_mode": {
    "name": "ipython",
    "version": 3
   },
   "file_extension": ".py",
   "mimetype": "text/x-python",
   "name": "python",
   "nbconvert_exporter": "python",
   "pygments_lexer": "ipython3",
   "version": "3.9.7"
  }
 },
 "nbformat": 4,
 "nbformat_minor": 4
}
