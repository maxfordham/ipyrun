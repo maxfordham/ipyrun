{
 "cells": [
  {
   "cell_type": "markdown",
   "metadata": {},
   "source": [
    "# __ipyrun docs__\n",
    "\n",
    "---"
   ]
  },
  {
   "cell_type": "markdown",
   "metadata": {},
   "source": [
    "```{include} ../README.md\n",
    "```"
   ]
  },
  {
   "cell_type": "code",
   "execution_count": 2,
   "metadata": {
    "tags": [
     "remove-input"
    ]
   },
   "outputs": [
    {
     "data": {
      "text/markdown": [
       "# ipyrun\n",
       "\n",
       "ipyrun is UI first package built on ipywidgets designed for rapidly creating an app user interface for use in a jupyter notebook / lab or voila app. To run a script or process and generate resultant output files. The app caches input, output and runtime data, such that the previous state of the app is available to the user when returning. \n",
       "\n",
       "## Use cases\n",
       "\n",
       "A generic user interface for running scripts.\n",
       "Data inputs to scripts are defined by standard datafiles (e.g. csv, json), and data files are generated as outputs when the script is run.\n",
       "A timestamped record of script execution is maintained.\n",
       "An ipywdiget user interface allows users to edit script input data and view outputs of script execution.\n",
       "\n",
       "## Install\n",
       "\n",
       "- install from network channel\n",
       "\n",
       "```bash\n",
       "conda config --add channels file:///mnt/conda-bld\n",
       "mamba install ipyrun\n",
       "# or \n",
       "mamba install -c file:///mnt/conda-bld ipyrun\n",
       "```\n",
       "\n",
       "- install pip dependencies\n",
       "\n",
       "```bash\n",
       "pip install mydocstring\n",
       "```\n",
       "\n",
       "## Build\n",
       "\n",
       "- [conda-bld](docs/conda-bld.md)\n"
      ],
      "text/plain": [
       "<IPython.core.display.Markdown object>"
      ]
     },
     "metadata": {},
     "output_type": "display_data"
    }
   ],
   "source": [
    "from IPython.display import Markdown, display\n",
    "\n",
    "display(Markdown(\"../README.md\"))"
   ]
  },
  {
   "cell_type": "markdown",
   "metadata": {},
   "source": []
  }
 ],
 "metadata": {
  "kernelspec": {
   "display_name": "Python 3 (ipykernel)",
   "language": "python",
   "name": "python3"
  },
  "language_info": {
   "codemirror_mode": {
    "name": "ipython",
    "version": 3
   },
   "file_extension": ".py",
   "mimetype": "text/x-python",
   "name": "python",
   "nbconvert_exporter": "python",
   "pygments_lexer": "ipython3",
   "version": "3.9.7"
  }
 },
 "nbformat": 4,
 "nbformat_minor": 4
}
