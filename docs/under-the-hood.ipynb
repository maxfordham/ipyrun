{
 "cells": [
  {
   "cell_type": "markdown",
   "id": "dff64aa4-fba6-4d2f-ae13-dc6242a94165",
   "metadata": {},
   "source": [
    "# Under the hood"
   ]
  },
  {
   "cell_type": "code",
   "execution_count": 5,
   "id": "f7d24cb3-4885-4716-8244-371d40614961",
   "metadata": {},
   "outputs": [],
   "source": [
    "import sys\n",
    "sys.path.append('../src')"
   ]
  },
  {
   "cell_type": "code",
   "execution_count": 6,
   "id": "8186991c-5ff6-49a7-93a2-630781ff44b4",
   "metadata": {},
   "outputs": [],
   "source": [
    "from ipyrun import RunApp, RunActions, DefaultRunActions"
   ]
  },
  {
   "cell_type": "code",
   "execution_count": 7,
   "id": "57d5892f-5f34-4dfb-a19f-38d8e7d05b43",
   "metadata": {},
   "outputs": [
    {
     "data": {
      "application/vnd.jupyter.widget-view+json": {
       "model_id": "9beef442e7564828b2c9a54ab835ccbc",
       "version_major": 2,
       "version_minor": 0
      },
      "text/plain": [
       "RunApp(children=(HBox(children=(Checkbox(value=False, indent=False, layout=Layout(height='40px', max_width='20…"
      ]
     },
     "metadata": {},
     "output_type": "display_data"
    }
   ],
   "source": [
    "#  RunApp is described as UI first -\n",
    "#  as such it can be loaded and viewed before all of the buttons have been assigned useful callable functions \n",
    "#  pressing the buttons below will yield simple default outputs\n",
    "\n",
    "RunApp(config=None)"
   ]
  },
  {
   "cell_type": "code",
   "execution_count": 9,
   "id": "49b2c301-1f5e-452c-bece-a29418ef3190",
   "metadata": {},
   "outputs": [
    {
     "data": {
      "text/markdown": [
       "`actions.dict()`"
      ],
      "text/plain": [
       "<IPython.core.display.Markdown object>"
      ]
     },
     "metadata": {},
     "output_type": "display_data"
    },
    {
     "data": {
      "text/plain": [
       "{'config': None,\n",
       " 'app': None,\n",
       " 'save_config': <function ipyrun.actions.RunActions.<lambda>()>,\n",
       " 'check': <function ipyrun.actions.RunActions.<lambda>()>,\n",
       " 'uncheck': <function ipyrun.actions.RunActions.<lambda>()>,\n",
       " 'get_status': <function ipyrun.actions.RunActions.<lambda>()>,\n",
       " 'update_status': <function ipyrun.actions.RunActions.<lambda>()>,\n",
       " 'help_ui_show': <function ipyrun.actions.RunActions.<lambda>()>,\n",
       " 'help_ui_hide': <function ipyrun.actions.RunActions.<lambda>()>,\n",
       " 'help_run_show': <function ipyrun.actions.RunActions.<lambda>()>,\n",
       " 'help_run_hide': <function ipyrun.actions.RunActions.<lambda>()>,\n",
       " 'help_config_show': <function ipyrun.actions.RunActions.<lambda>()>,\n",
       " 'help_config_hide': <function ipyrun.actions.RunActions.<lambda>()>,\n",
       " 'inputs_show': <function ipyrun.actions.RunActions.<lambda>()>,\n",
       " 'inputs_hide': <function ipyrun.actions.RunActions.<lambda>()>,\n",
       " 'outputs_show': <function ipyrun.actions.RunActions.<lambda>()>,\n",
       " 'outputs_hide': <function ipyrun.actions.RunActions.<lambda>()>,\n",
       " 'runlog_show': <function ipyrun.actions.RunActions.<lambda>()>,\n",
       " 'runlog_hide': <function ipyrun.actions.RunActions.<lambda>()>,\n",
       " 'load_show': <function ipyrun.actions.RunActions.<lambda>()>,\n",
       " 'load_hide': <function ipyrun.actions.RunActions.<lambda>()>,\n",
       " 'load': <function ipyrun.actions.RunActions.<lambda>()>,\n",
       " 'get_loaded': <function ipyrun.actions.RunActions.<lambda>()>,\n",
       " 'open_loaded': <function ipyrun.actions.RunActions.<lambda>()>,\n",
       " 'run': <function ipyrun.actions.RunActions.<lambda>()>,\n",
       " 'run_hide': <function ipyrun.actions.RunActions.<lambda>()>,\n",
       " 'activate': <function ipyrun.actions.RunActions.<lambda>()>,\n",
       " 'deactivate': <function ipyrun.actions.RunActions.<lambda>()>,\n",
       " 'show': <function ipyrun.actions.RunActions.<lambda>()>,\n",
       " 'hide': <function ipyrun.actions.RunActions.<lambda>()>}"
      ]
     },
     "metadata": {},
     "output_type": "display_data"
    },
    {
     "name": "stdout",
     "output_type": "stream",
     "text": [
      "---\n"
     ]
    },
    {
     "data": {
      "text/markdown": [
       "`actions.help_ui_show()`"
      ],
      "text/plain": [
       "<IPython.core.display.Markdown object>"
      ]
     },
     "metadata": {},
     "output_type": "display_data"
    },
    {
     "data": {
      "text/plain": [
       "'help_ui_show'"
      ]
     },
     "execution_count": 9,
     "metadata": {},
     "output_type": "execute_result"
    }
   ],
   "source": [
    "#  the RunActions are all configurable \n",
    "#  each of the actions is a callable function, most of these callables are then related to buttons in the UI\n",
    "#  \"_show\" or \"_hide\" behaviour associated to widgets.ToggleButton 's - \n",
    "#      - the \"_show\" command is executed on \"select\", and the \"_hide\" is executed on \"un-select\"\n",
    "\n",
    "#  RunActions is a pydantic BaseModel\n",
    "#  pydantic validators are used to create relationships between attributes\n",
    "#  `config` and `app` are attributes of `RunActions`\n",
    "#      - the callables are zero-argument, the validators use variables in `config` and `app` to create zero-argument callables using functools\n",
    "\n",
    "from IPython.display import Markdown\n",
    "actions = RunActions()\n",
    "display(Markdown('`actions.dict()`'))\n",
    "display(actions.dict())\n",
    "print('---')\n",
    "display(Markdown('`actions.help_ui_show()`'))\n",
    "actions.help_ui_show()"
   ]
  }
 ],
 "metadata": {
  "kernelspec": {
   "display_name": "Python 3 (ipykernel)",
   "language": "python",
   "name": "python3"
  },
  "language_info": {
   "codemirror_mode": {
    "name": "ipython",
    "version": 3
   },
   "file_extension": ".py",
   "mimetype": "text/x-python",
   "name": "python",
   "nbconvert_exporter": "python",
   "pygments_lexer": "ipython3",
   "version": "3.9.7"
  }
 },
 "nbformat": 4,
 "nbformat_minor": 5
}
