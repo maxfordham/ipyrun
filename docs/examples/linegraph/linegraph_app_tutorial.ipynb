{
 "cells": [
  {
   "cell_type": "markdown",
   "id": "074ca66e-cb7c-4aa7-af69-12308581a4aa",
   "metadata": {},
   "source": [
    "# Linegraph - ipyrun Tutorial "
   ]
  },
  {
   "cell_type": "code",
   "execution_count": 1,
   "id": "37490da4-9a5f-494e-9428-03a675ca54b1",
   "metadata": {},
   "outputs": [],
   "source": [
    "import sys\n",
    "import pathlib\n",
    "import subprocess\n",
    "from pydantic import validator\n",
    "\n",
    "from ipyautoui.autodisplayfile_renderers import display_python_file\n",
    "from ipyautoui import AutoUi\n",
    "from ipyautoui import AutoDisplay\n",
    "\n",
    "sys.path.append(str(pathlib.Path('../../../src').resolve())) # append ipyrun. TODO: for dev only. remove at build time.\n",
    "\n",
    "from ipyrun import RunApp, BatchApp, ConfigShell, DefaultConfigShell, RunShellActions \n",
    "from ipyrun.runshell import AutoDisplayDefinition, create_autodisplay_map, ConfigBatch, DefaultConfigShell, DefaultBatchActions, BatchShellActions"
   ]
  },
  {
   "cell_type": "code",
   "execution_count": 2,
   "id": "b2d5ee14-47fb-47ca-865a-204a64b52a19",
   "metadata": {},
   "outputs": [],
   "source": [
    "#  for supporting info see: \n",
    "#  ?RunApp\n",
    "#  ?DefaultConfigShell\n",
    "#  ?RunShellActions"
   ]
  },
  {
   "cell_type": "code",
   "execution_count": 3,
   "id": "77b7c163-d3dd-493f-baf3-ded7830df972",
   "metadata": {},
   "outputs": [],
   "source": [
    "#?RunApp\n",
    "#?DefaultConfigShell"
   ]
  },
  {
   "cell_type": "markdown",
   "id": "05025762-7e84-47a9-b3d6-b001fbeac3da",
   "metadata": {},
   "source": [
    "## Define Brief for App\n",
    "\n",
    "- given a set of inputs, create a line graph of a defined range\n",
    "- __note__. `ipyrun` will deal with the caching of the data\n",
    "\n",
    "\n",
    "\n"
   ]
  },
  {
   "cell_type": "markdown",
   "id": "5f3f051a-43f0-463a-98d6-9166b668b295",
   "metadata": {},
   "source": [
    "## Create a working directory "
   ]
  },
  {
   "cell_type": "code",
   "execution_count": 4,
   "id": "ba438ca2-e26f-4555-9e98-f5281fa86cc0",
   "metadata": {},
   "outputs": [
    {
     "name": "stdout",
     "output_type": "stream",
     "text": [
      "📁 linegraph/\n",
      "├─📄 linegraph_app.ipynb\n",
      "├─📁 linegraph_core/\n",
      "│ ├─📄 __main__.py\n",
      "│ ├─📄 script_linegraph.py\n",
      "│ ├─📄 make_graph.py\n",
      "│ ├─📄 input_schema_linegraph.py\n",
      "│ └─📄 __init__.py\n",
      "├─📁 linegraph_appdata/\n",
      "├─📄 linegraph_app_tutorial.ipynb\n",
      "└─📄 __init__.py\n"
     ]
    }
   ],
   "source": [
    "from seedir import seedir\n",
    "\n",
    "DIR_CORE = pathlib.Path('./linegraph_core').resolve()\n",
    "PATH_RUN = DIR_CORE\n",
    "FPTH_INPUTS_SCHEMA = DIR_CORE / 'input_schema_linegraph.py'\n",
    "DIR_APPDATA = pathlib.Path('./linegraph_appdata').resolve()\n",
    "DIR_APPDATA.mkdir(exist_ok=True, parents=True)\n",
    "\n",
    "seedir(exclude_folders=['.ipynb_checkpoints', '__pycache__'], style='emoji')"
   ]
  },
  {
   "cell_type": "markdown",
   "id": "dd43b948-0dfd-49e5-92ef-4163473999a1",
   "metadata": {},
   "source": [
    "## App Inputs\n",
    "\n",
    "### Create pydantic model schema for App inputs\n",
    "\n",
    "- what are the required input fields required for plotting a line graph? \n",
    "- create a pydantic schema of these inputs"
   ]
  },
  {
   "cell_type": "code",
   "execution_count": 5,
   "id": "be7742b5-bd30-4488-989a-c6ea1ad87701",
   "metadata": {},
   "outputs": [
    {
     "data": {
      "text/markdown": [
       "\n",
       "```python\n",
       "\n",
       "from pydantic import BaseModel , Field, conint\n",
       "\n",
       "#sys.path.append(pathlib.Path(__file__).parents[3])\n",
       "\n",
       "class LineGraph(BaseModel):\n",
       "    \"\"\"parameters to define a simple `y=m*x + c` line graph\"\"\"\n",
       "    title: str = Field(default='line equation', description='add chart title here')\n",
       "    m: float = Field(default=2, description='gradient')\n",
       "    c: float = Field(default=5, description='intercept')\n",
       "    x_range: tuple[int, int] = Field(default=(0,5), ge=0, le=50, description='x-range for chart')\n",
       "    y_range: tuple[int, int] = Field(default=(0,5), ge=0, le=50, description='y-range for chart')\n",
       "        \n",
       "if __name__ == \"__main__\":\n",
       "    lg = LineGraph()\n",
       "```"
      ],
      "text/plain": [
       "<IPython.core.display.Markdown object>"
      ]
     },
     "metadata": {},
     "output_type": "display_data"
    }
   ],
   "source": [
    "from linegraph_core.input_schema_linegraph import LineGraph\n",
    "display_python_file(FPTH_INPUTS_SCHEMA)  # it is advised that input_schema's get their own python file"
   ]
  },
  {
   "cell_type": "markdown",
   "id": "0d8ad477-dc74-4f87-9794-7412f65d2f63",
   "metadata": {},
   "source": [
    "\n",
    "### Create an inputs UI from model with AutoUi\n",
    "\n",
    "- check the UI looks correct based on the pydantic model\n",
    "- save the test file (`test.lg.json`) so we can test loading it back in\n"
   ]
  },
  {
   "cell_type": "code",
   "execution_count": 6,
   "id": "7c652dac-56dc-4984-a019-015e8209a9e0",
   "metadata": {},
   "outputs": [
    {
     "data": {
      "text/plain": [
       "\u001b[0;31mInit signature:\u001b[0m\n",
       "\u001b[0mAutoUi\u001b[0m\u001b[0;34m(\u001b[0m\u001b[0;34m\u001b[0m\n",
       "\u001b[0;34m\u001b[0m    \u001b[0mschema\u001b[0m\u001b[0;34m:\u001b[0m \u001b[0mUnion\u001b[0m\u001b[0;34m[\u001b[0m\u001b[0mType\u001b[0m\u001b[0;34m[\u001b[0m\u001b[0mpydantic\u001b[0m\u001b[0;34m.\u001b[0m\u001b[0mmain\u001b[0m\u001b[0;34m.\u001b[0m\u001b[0mBaseModel\u001b[0m\u001b[0;34m]\u001b[0m\u001b[0;34m,\u001b[0m \u001b[0mdict\u001b[0m\u001b[0;34m]\u001b[0m\u001b[0;34m,\u001b[0m\u001b[0;34m\u001b[0m\n",
       "\u001b[0;34m\u001b[0m    \u001b[0mvalue\u001b[0m\u001b[0;34m:\u001b[0m \u001b[0mdict\u001b[0m \u001b[0;34m=\u001b[0m \u001b[0;32mNone\u001b[0m\u001b[0;34m,\u001b[0m\u001b[0;34m\u001b[0m\n",
       "\u001b[0;34m\u001b[0m    \u001b[0mpath\u001b[0m\u001b[0;34m:\u001b[0m \u001b[0mpathlib\u001b[0m\u001b[0;34m.\u001b[0m\u001b[0mPath\u001b[0m \u001b[0;34m=\u001b[0m \u001b[0;32mNone\u001b[0m\u001b[0;34m,\u001b[0m\u001b[0;34m\u001b[0m\n",
       "\u001b[0;34m\u001b[0m    \u001b[0msave_controls\u001b[0m\u001b[0;34m:\u001b[0m \u001b[0mipyautoui\u001b[0m\u001b[0;34m.\u001b[0m\u001b[0mautoui\u001b[0m\u001b[0;34m.\u001b[0m\u001b[0mSaveControls\u001b[0m \u001b[0;34m=\u001b[0m \u001b[0;34m<\u001b[0m\u001b[0mSaveControls\u001b[0m\u001b[0;34m.\u001b[0m\u001b[0msave_buttonbar\u001b[0m\u001b[0;34m:\u001b[0m \u001b[0;34m'save_buttonbar'\u001b[0m\u001b[0;34m>\u001b[0m\u001b[0;34m,\u001b[0m\u001b[0;34m\u001b[0m\n",
       "\u001b[0;34m\u001b[0m    \u001b[0mshow_raw\u001b[0m\u001b[0;34m:\u001b[0m \u001b[0mbool\u001b[0m \u001b[0;34m=\u001b[0m \u001b[0;32mTrue\u001b[0m\u001b[0;34m,\u001b[0m\u001b[0;34m\u001b[0m\n",
       "\u001b[0;34m\u001b[0m    \u001b[0mfn_onsave\u001b[0m\u001b[0;34m:\u001b[0m \u001b[0mUnion\u001b[0m\u001b[0;34m[\u001b[0m\u001b[0mCallable\u001b[0m\u001b[0;34m,\u001b[0m \u001b[0mList\u001b[0m\u001b[0;34m[\u001b[0m\u001b[0mCallable\u001b[0m\u001b[0;34m]\u001b[0m\u001b[0;34m]\u001b[0m \u001b[0;34m=\u001b[0m \u001b[0;34m<\u001b[0m\u001b[0mfunction\u001b[0m \u001b[0mAutoUi\u001b[0m\u001b[0;34m.\u001b[0m\u001b[0;34m<\u001b[0m\u001b[0;32mlambda\u001b[0m\u001b[0;34m>\u001b[0m \u001b[0mat\u001b[0m \u001b[0;36m0x7f04b8b3a310\u001b[0m\u001b[0;34m>\u001b[0m\u001b[0;34m,\u001b[0m\u001b[0;34m\u001b[0m\n",
       "\u001b[0;34m\u001b[0m    \u001b[0mvalidate_onchange\u001b[0m\u001b[0;34m=\u001b[0m\u001b[0;32mTrue\u001b[0m\u001b[0;34m,\u001b[0m\u001b[0;34m\u001b[0m\n",
       "\u001b[0;34m\u001b[0m    \u001b[0mupdate_fdir_to_path_parent\u001b[0m\u001b[0;34m=\u001b[0m\u001b[0;32mTrue\u001b[0m\u001b[0;34m,\u001b[0m\u001b[0;34m\u001b[0m\n",
       "\u001b[0;34m\u001b[0m\u001b[0;34m)\u001b[0m\u001b[0;34m\u001b[0m\u001b[0;34m\u001b[0m\u001b[0m\n",
       "\u001b[0;31mDocstring:\u001b[0m     \n",
       "extends AutoIpywidget and AutoUiCommonMethods to create an \n",
       "AutoUi capable of interacting with a json file\n",
       "\u001b[0;31mInit docstring:\u001b[0m Public constructor\n",
       "\u001b[0;31mFile:\u001b[0m           ~/miniconda3/envs/ipyrun-dev/lib/python3.9/site-packages/ipyautoui/autoui.py\n",
       "\u001b[0;31mType:\u001b[0m           MetaHasTraits\n",
       "\u001b[0;31mSubclasses:\u001b[0m     \n"
      ]
     },
     "metadata": {},
     "output_type": "display_data"
    }
   ],
   "source": [
    "?AutoUi"
   ]
  },
  {
   "cell_type": "code",
   "execution_count": 7,
   "id": "925e9066-8939-446a-b2a3-f2bbd99169ce",
   "metadata": {},
   "outputs": [
    {
     "data": {
      "application/vnd.jupyter.widget-view+json": {
       "model_id": "b55344aac39243b4a3ef57ef00e31165",
       "version_major": 2,
       "version_minor": 0
      },
      "text/plain": [
       "AutoUi(children=(VBox(children=(HBox(children=(SaveButtonBar(children=(ToggleButton(value=False, button_style=…"
      ]
     },
     "metadata": {},
     "output_type": "display_data"
    }
   ],
   "source": [
    "lg = LineGraph()\n",
    "AutoUi(schema=LineGraph, value=lg.dict(), path='in-test.lg.json')"
   ]
  },
  {
   "cell_type": "code",
   "execution_count": 8,
   "id": "bef98c35-267a-4a88-a48e-2fc57dd7246e",
   "metadata": {},
   "outputs": [],
   "source": [
    "from ipyrun.basemodel import file\n",
    "setattr(LineGraph, 'file', file)\n",
    "LineGraph().file('in-test.lg.json')"
   ]
  },
  {
   "cell_type": "markdown",
   "id": "c3fd4240-f777-4d2b-9171-34b45090a5cb",
   "metadata": {},
   "source": [
    "### Create a AutoDisplay renderer, and check it works\n",
    "\n",
    "- extend the default AutoDisplay renderer to be able to render `*.lg.json` files\n"
   ]
  },
  {
   "cell_type": "code",
   "execution_count": 9,
   "id": "f197326a-0e51-4e38-95eb-4d38aaed3a02",
   "metadata": {},
   "outputs": [
    {
     "data": {
      "application/vnd.jupyter.widget-view+json": {
       "model_id": "70839ff7c49d41129902e35c3ebbaf14",
       "version_major": 2,
       "version_minor": 0
      },
      "text/plain": [
       "VBox(children=(VBox(children=(HBox(), HBox())), VBox(children=(DisplayObject(children=(HBox(children=(Valid(va…"
      ]
     },
     "metadata": {},
     "output_type": "display_data"
    }
   ],
   "source": [
    "# ?AutoDisplayDefinition\n",
    "lg_inputs_dfd = AutoDisplayDefinition(\n",
    "    path=FPTH_INPUTS_SCHEMA,\n",
    "    obj_name='LineGraph',\n",
    "    ftype='in',\n",
    "    ext='.lg.json'\n",
    ")\n",
    "\n",
    "# This is purely for illustration of the renderer. This is done within the app for you.\n",
    "lg_inputs_renderer = AutoUi.create_autodisplay_map(schema=LineGraph, ext='.lg.json')\n",
    "AutoDisplay.from_paths(paths=['in-test.lg.json'],file_renderers=lg_inputs_renderer)"
   ]
  },
  {
   "cell_type": "code",
   "execution_count": 10,
   "id": "679ff2f7-30a6-4ab7-a86a-9483fde7fbaf",
   "metadata": {},
   "outputs": [
    {
     "data": {
      "text/plain": [
       "{'path': PosixPath('/home/jovyan/git_mf/ipyrun/docs/examples/linegraph/linegraph_core/input_schema_linegraph.py'),\n",
       " 'obj_name': 'LineGraph',\n",
       " 'module_name': 'input_schema_linegraph',\n",
       " 'ftype': <FiletypeEnum.input: 'in'>,\n",
       " 'ext': '.lg.json'}"
      ]
     },
     "execution_count": 10,
     "metadata": {},
     "output_type": "execute_result"
    }
   ],
   "source": [
    "lg_inputs_dfd.dict()"
   ]
  },
  {
   "cell_type": "code",
   "execution_count": 11,
   "id": "77066cfc-6c54-421d-a103-d414483443b4",
   "metadata": {},
   "outputs": [
    {
     "data": {
      "text/plain": [
       "{'.lg.json': ipyautoui.autoui.AutoUiCommonMethods.create_autoui_renderer.<locals>.AutoRenderer}"
      ]
     },
     "execution_count": 11,
     "metadata": {},
     "output_type": "execute_result"
    }
   ],
   "source": [
    "lg_inputs_renderer"
   ]
  },
  {
   "cell_type": "markdown",
   "id": "9d950816-e7ec-4a6a-a1eb-ad30a42e72cc",
   "metadata": {},
   "source": [
    "## Write main App code"
   ]
  },
  {
   "cell_type": "markdown",
   "id": "00c105ea-c453-44f2-8e57-7985802505d6",
   "metadata": {},
   "source": [
    "- This is where you put the main code that fulfils the original brief\n",
    "- We are using the `RunShell` App so the main code lives in a script that is executed on the command line\n",
    "- There must be a way to pass input variables to this script\n",
    "    - The default way in `RunShell` is that the filepath of the inputs and outputs files are passed as a `sys.argv`s\n",
    "- In the simple example below, the script can be tested by simply running:\n",
    "    - `python -O -m linegraph_core in-test.lg.json out-test.csv out-test.plotly.json`"
   ]
  },
  {
   "cell_type": "code",
   "execution_count": 12,
   "id": "dfd561ff-a690-4beb-97ab-eaee9b45257e",
   "metadata": {},
   "outputs": [
    {
     "name": "stdout",
     "output_type": "stream",
     "text": [
      "fpth_in = in-test.lg.json\n",
      "fpth_out_csv = out-test.csv\n",
      "fpth_out_plotly = out-test.plotly.json\n"
     ]
    },
    {
     "data": {
      "text/plain": [
       "0"
      ]
     },
     "execution_count": 12,
     "metadata": {},
     "output_type": "execute_result"
    }
   ],
   "source": [
    "subprocess.call('python -O -m linegraph_core in-test.lg.json out-test.csv out-test.plotly.json', shell=True)"
   ]
  },
  {
   "cell_type": "markdown",
   "id": "5b7a8881-a551-47a5-af7d-91dae4a6e434",
   "metadata": {},
   "source": [
    "## Create a RunApp"
   ]
  },
  {
   "cell_type": "markdown",
   "id": "ec6510eb-2722-40a9-83ee-3281a6f73410",
   "metadata": {},
   "source": [
    "### Set-up App Config"
   ]
  },
  {
   "cell_type": "markdown",
   "id": "98c8355e-6050-43e9-bec9-a36154fca1cf",
   "metadata": {},
   "source": [
    "- Now we have an inputs file, and a script that can be executed to create the desired outputs\n",
    "- We must now configure the App which will handle the caching of input and output data\n",
    "    - This allows the Notebook to be run as an App, such that a single Notebook can be run by any job, with the job data in the job "
   ]
  },
  {
   "cell_type": "code",
   "execution_count": 13,
   "id": "a8a0e217-3e02-49eb-8e8d-82620c8f3acb",
   "metadata": {},
   "outputs": [],
   "source": [
    "#?DefaultConfigShell"
   ]
  },
  {
   "cell_type": "code",
   "execution_count": 14,
   "id": "8c7f6d69-fc50-4cef-b496-62017a63e8e9",
   "metadata": {},
   "outputs": [
    {
     "data": {
      "text/plain": [
       "{'path': PosixPath('/home/jovyan/git_mf/ipyrun/docs/examples/linegraph/linegraph_core/input_schema_linegraph.py'),\n",
       " 'obj_name': 'LineGraph',\n",
       " 'module_name': 'input_schema_linegraph',\n",
       " 'ftype': <FiletypeEnum.input: 'in'>,\n",
       " 'ext': '.lg.json'}"
      ]
     },
     "execution_count": 14,
     "metadata": {},
     "output_type": "execute_result"
    }
   ],
   "source": [
    "lg_inputs_dfd.dict()"
   ]
  },
  {
   "cell_type": "markdown",
   "id": "c00405d9-838e-41eb-88a9-535e68dcb068",
   "metadata": {},
   "source": [
    "- As you can see above, given this set of inputs the shell command has been generated \n",
    "- We can either: \n",
    "    - 1. explictly give fpths_outputs as a variable, or \n",
    "    - 2. extend `DefaultConfigShell` to generate `fpths_outputs` from other variables\n",
    "- option 2. is favourable as it can then be easily extended to an arbitrary number of runs, and the names of the output files will follow the same logical naming structure as the input files"
   ]
  },
  {
   "cell_type": "code",
   "execution_count": 15,
   "id": "1e5a7f77-79ce-43ee-9d7e-a87ff3968505",
   "metadata": {},
   "outputs": [
    {
     "data": {
      "text/plain": [
       "{'index': 0,\n",
       " 'path_run': PosixPath('/home/jovyan/git_mf/ipyrun/docs/examples/linegraph/linegraph_core'),\n",
       " 'pythonpath': PosixPath('/home/jovyan/git_mf/ipyrun/docs/examples/linegraph'),\n",
       " 'run': 'linegraph_core',\n",
       " 'name': 'linegraph_core',\n",
       " 'long_name': '00 - Linegraph Core',\n",
       " 'key': '00-linegraph_core',\n",
       " 'fdir_root': PosixPath('.'),\n",
       " 'fdir_appdata': PosixPath('00-linegraph_core'),\n",
       " 'in_batch': False,\n",
       " 'status': None,\n",
       " 'update_config_at_runtime': False,\n",
       " 'autodisplay_definitions': [{'path': PosixPath('/home/jovyan/git_mf/ipyrun/docs/examples/linegraph/linegraph_core/input_schema_linegraph.py'),\n",
       "   'obj_name': 'LineGraph',\n",
       "   'module_name': 'input_schema_linegraph',\n",
       "   'ftype': <FiletypeEnum.input: 'in'>,\n",
       "   'ext': '.lg.json'}],\n",
       " 'autodisplay_inputs_kwargs': {},\n",
       " 'autodisplay_outputs_kwargs': {},\n",
       " 'fpths_inputs': [PosixPath('00-linegraph_core/in-00-linegraph_core.lg.json')],\n",
       " 'fpths_outputs': [PosixPath('00-linegraph_core/out-00-linegraph_core.csv'),\n",
       "  PosixPath('00-linegraph_core/out-00-linegraph_core.plotly.json')],\n",
       " 'fpth_params': None,\n",
       " 'fpth_config': PosixPath('00-linegraph_core/config-shell_handler.json'),\n",
       " 'fpth_runhistory': PosixPath('00-linegraph_core/runhistory.csv'),\n",
       " 'fpth_log': PosixPath('00-linegraph_core/log.csv'),\n",
       " 'call': 'python -O -m',\n",
       " 'params': {},\n",
       " 'shell_template': '{{ call }} {{ run }}{% for f in fpths_inputs %} {{f}}{% endfor %}{% for f in fpths_outputs %} {{f}}{% endfor %}{% for k,v in params.items()%} --{{k}} {{v}}{% endfor %}\\n',\n",
       " 'shell': 'python -O -m linegraph_core 00-linegraph_core/in-00-linegraph_core.lg.json 00-linegraph_core/out-00-linegraph_core.csv 00-linegraph_core/out-00-linegraph_core.plotly.json'}"
      ]
     },
     "metadata": {},
     "output_type": "display_data"
    }
   ],
   "source": [
    "# DefaultConfigShell defines how to cache data to be run by the App\n",
    "\n",
    "class LineGraphConfigShell(DefaultConfigShell):    \n",
    "    @validator(\"fpths_outputs\", always=True)\n",
    "    def _fpths_outputs(cls, v, values):\n",
    "        fdir = values[\"fdir_appdata\"]\n",
    "        key = values[\"key\"]\n",
    "        paths = [\n",
    "            fdir / (\"out-\" + key + \".csv\"),\n",
    "            fdir / (\"out-\" + key + \".plotly.json\"),\n",
    "        ]\n",
    "        return paths\n",
    "    \n",
    "config = LineGraphConfigShell(\n",
    "    path_run=PATH_RUN,\n",
    "    fdir_appdata=DIR_APPDATA,\n",
    "    autodisplay_definitions=[lg_inputs_dfd],\n",
    ")\n",
    "display(config.dict())"
   ]
  },
  {
   "cell_type": "markdown",
   "id": "0de24f85-c7aa-49f7-a2d2-3cf80459e058",
   "metadata": {},
   "source": [
    "### Build the RunApp"
   ]
  },
  {
   "cell_type": "code",
   "execution_count": 16,
   "id": "435aeac5-31fa-407c-a970-01c7b5cbeaed",
   "metadata": {},
   "outputs": [
    {
     "data": {
      "application/vnd.jupyter.widget-view+json": {
       "model_id": "33c405270be84a939672268c4b49fbaf",
       "version_major": 2,
       "version_minor": 0
      },
      "text/plain": [
       "RunApp(children=(HBox(children=(Checkbox(value=False, indent=False, layout=Layout(height='40px', max_width='20…"
      ]
     },
     "metadata": {},
     "output_type": "display_data"
    }
   ],
   "source": [
    "#  RunApp is described as UI first -\n",
    "#  as such it can be loaded and viewed before all of the buttons have been assigned useful callable functions \n",
    "#  pressing the buttons below will yield simple default outputs\n",
    "\n",
    "RunApp(config=config, cls_actions=RunShellActions)"
   ]
  },
  {
   "cell_type": "markdown",
   "id": "0e647e47-725c-482c-ac4a-aa7631bb7aab",
   "metadata": {},
   "source": [
    "## Create a BatchApp\n",
    "\n",
    "- BatchApp's support an arbitrary number of runs \n",
    "- This extends the app to be able to add and remove runs to suit the users requirements\n",
    "- To be able to do this, we need to be able to build a new RunApp on a button click\n",
    "    - this requires `LineGraphConfigShell` to be fully defined apart from a single variable (the `index` that will be passed from the BatchApp) "
   ]
  },
  {
   "cell_type": "code",
   "execution_count": 17,
   "id": "575524c5-e042-4897-b2fb-baeef3b8f217",
   "metadata": {},
   "outputs": [
    {
     "data": {
      "application/vnd.jupyter.widget-view+json": {
       "model_id": "1eccf3fcddf141cdb46d26d1c7f07c0e",
       "version_major": 2,
       "version_minor": 0
      },
      "text/plain": [
       "RunApp(children=(HBox(children=(Checkbox(value=False, indent=False, layout=Layout(height='40px', max_width='20…"
      ]
     },
     "metadata": {},
     "output_type": "display_data"
    }
   ],
   "source": [
    "\n",
    "class LineGraphConfigShell(DefaultConfigShell):\n",
    "    @validator(\"path_run\", always=True, pre=True)\n",
    "    def _set_path_run(cls, v, values):\n",
    "        return PATH_RUN\n",
    "\n",
    "    @validator(\"fpths_outputs\", always=True)\n",
    "    def _fpths_outputs(cls, v, values):\n",
    "        fdir = values[\"fdir_appdata\"]\n",
    "        key = values[\"key\"]\n",
    "        paths = [\n",
    "            fdir / (\"out-\" + key + \".csv\"),\n",
    "            fdir / (\"out-\" + key + \".plotly.json\"),\n",
    "        ]\n",
    "        return paths\n",
    "\n",
    "    @validator(\"autodisplay_definitions\", always=True)\n",
    "    def _autodisplay_definitions(cls, v, values):\n",
    "        return [\n",
    "            AutoDisplayDefinition(\n",
    "                path=FPTH_INPUTS_SCHEMA,\n",
    "                obj_name=\"LineGraph\",\n",
    "                ext=\".lg.json\",\n",
    "                ftype='in',\n",
    "            )\n",
    "        ]\n",
    "\n",
    "    @validator(\"autodisplay_inputs_kwargs\", always=True)\n",
    "    def _autodisplay_inputs_kwargs(cls, v, values):\n",
    "        return dict(patterns=\"*\")\n",
    "\n",
    "    @validator(\"autodisplay_outputs_kwargs\", always=True)\n",
    "    def _autodisplay_outputs_kwargs(cls, v, values):\n",
    "        return dict(patterns=\"*.plotly.json\")\n",
    "\n",
    "config = LineGraphConfigShell(fdir_appdata=DIR_APPDATA)\n",
    "run_app = RunApp(config, cls_actions=RunShellActions)  # cls_ui=RunUi,\n",
    "display(run_app)"
   ]
  },
  {
   "cell_type": "code",
   "execution_count": 18,
   "id": "972a773b-ec5f-4e95-a542-d5867b334500",
   "metadata": {},
   "outputs": [
    {
     "data": {
      "text/plain": [
       "{'fdir_root': PosixPath('/home/jovyan/git_mf/ipyrun/docs/examples/linegraph/linegraph_appdata'),\n",
       " 'fpth_config': PosixPath('config-shell_handler.json'),\n",
       " 'title': '# Plot Straight Lines\\n### example RunApp',\n",
       " 'status': None,\n",
       " 'configs': []}"
      ]
     },
     "metadata": {},
     "output_type": "display_data"
    },
    {
     "name": "stdout",
     "output_type": "stream",
     "text": [
      "---\n"
     ]
    }
   ],
   "source": [
    "config_batch = ConfigBatch(\n",
    "    fdir_root=DIR_APPDATA,\n",
    "    cls_config=LineGraphConfigShell,\n",
    "    title=\"\"\"# Plot Straight Lines\\n### example RunApp\"\"\",\n",
    ")\n",
    "\n",
    "display(config_batch.dict())\n",
    "print('---')"
   ]
  },
  {
   "cell_type": "markdown",
   "id": "e8f711de-5192-41c8-9746-2dda426a76ab",
   "metadata": {},
   "source": [
    "### Extend Batch Actions"
   ]
  },
  {
   "cell_type": "code",
   "execution_count": 19,
   "id": "ce0a2437-73c9-4de9-92ab-f527c704f14d",
   "metadata": {},
   "outputs": [
    {
     "data": {
      "application/vnd.jupyter.widget-view+json": {
       "model_id": "36e6662837ea4120a97cea260f3298db",
       "version_major": 2,
       "version_minor": 0
      },
      "text/plain": [
       "BatchApp(children=(VBox(children=(HTML(value='<h1>Plot Straight Lines</h1>\\n<h3>example RunApp</h3>'), HBox(ch…"
      ]
     },
     "metadata": {},
     "output_type": "display_data"
    }
   ],
   "source": [
    "class LineGraphConfigBatch(ConfigBatch):\n",
    "\n",
    "    @validator(\"cls_config\", always=True)\n",
    "    def _cls_config(cls, v, values):\n",
    "        \"\"\"bundles RunApp up as a single argument callable\"\"\"\n",
    "        return LineGraphConfigShell\n",
    "\n",
    "class LineGraphBatchActions(BatchShellActions):\n",
    "    @validator(\"config\", always=True)\n",
    "    def _config(cls, v, values):\n",
    "        \"\"\"bundles RunApp up as a single argument callable\"\"\"\n",
    "        if type(v) == dict:\n",
    "            v = LineGraphConfigBatch(**v)\n",
    "        return v\n",
    "\n",
    "    @validator(\"runlog_show\", always=True)\n",
    "    def _runlog_show(cls, v, values):\n",
    "        return None\n",
    "\n",
    "config_batch = LineGraphConfigBatch(\n",
    "    fdir_root=DIR_APPDATA,\n",
    "    # cls_config=MyConfigShell,\n",
    "    title=\"\"\"# Plot Straight Lines\\n### example RunApp\"\"\",\n",
    ")\n",
    "if config_batch.fpth_config.is_file():\n",
    "    config_batch = LineGraphConfigBatch.parse_file(config_batch.fpth_config)\n",
    "app = BatchApp(config_batch, cls_actions=LineGraphBatchActions)\n",
    "display(app)"
   ]
  },
  {
   "cell_type": "markdown",
   "id": "38089030-ea07-4d42-8af5-d38de4968c51",
   "metadata": {},
   "source": [
    "### Customise the BatchApp Interface\n",
    "\n",
    "#### Editable Names for each RunApp"
   ]
  },
  {
   "cell_type": "code",
   "execution_count": 20,
   "id": "fbbdbea0-288b-4369-8bc5-028df09dc898",
   "metadata": {},
   "outputs": [],
   "source": [
    "from ipyrun.ui_add import AddNamedRun\n",
    "import functools\n",
    "from IPython.display import clear_output\n",
    "import stringcase"
   ]
  },
  {
   "cell_type": "code",
   "execution_count": 21,
   "id": "76bfb8a4-6f6a-418f-967f-74b9ed91385f",
   "metadata": {},
   "outputs": [
    {
     "data": {
      "application/vnd.jupyter.widget-view+json": {
       "model_id": "ccdf69b2d17148e789c1f03bd39354f5",
       "version_major": 2,
       "version_minor": 0
      },
      "text/plain": [
       "BatchApp(children=(VBox(children=(HTML(value='<h1>Plot Straight Lines</h1>\\n<h3>example RunApp</h3>'), HBox(ch…"
      ]
     },
     "metadata": {},
     "output_type": "display_data"
    }
   ],
   "source": [
    "def fn_add_show(app):\n",
    "    clear_output()\n",
    "    display(AddNamedRun(fn_add=app.actions.add))\n",
    "\n",
    "\n",
    "class LineGraphConfigBatch(ConfigBatch):\n",
    "    \n",
    "    @validator(\"cls_config\", always=True)\n",
    "    def _cls_config(cls, v, values):\n",
    "        \"\"\"bundles RunApp up as a single argument callable\"\"\"\n",
    "        return LineGraphConfigShell\n",
    "\n",
    "class LineGraphBatchActions(BatchShellActions):\n",
    "    \n",
    "    @validator(\"add_show\", always=True)\n",
    "    def _add_show(cls, v, values):\n",
    "        return functools.partial(fn_add_show, values[\"app\"])\n",
    "    \n",
    "    @validator(\"config\", always=True)\n",
    "    def _config(cls, v, values):\n",
    "        \"\"\"bundles RunApp up as a single argument callable\"\"\"\n",
    "        if type(v) == dict:\n",
    "            v = LineGraphConfigBatch(**v)\n",
    "        return v\n",
    "\n",
    "    @validator(\"runlog_show\", always=True)\n",
    "    def _runlog_show(cls, v, values):\n",
    "        return None\n",
    "\n",
    "config_batch = LineGraphConfigBatch(\n",
    "    fdir_root=DIR_APPDATA,\n",
    "    # cls_config=MyConfigShell,\n",
    "    title=\"\"\"# Plot Straight Lines\\n### example RunApp\"\"\",\n",
    ")\n",
    "if config_batch.fpth_config.is_file():\n",
    "    config_batch = LineGraphConfigBatch.parse_file(config_batch.fpth_config)\n",
    "app = BatchApp(config_batch, cls_actions=LineGraphBatchActions)\n",
    "display(app)"
   ]
  },
  {
   "cell_type": "markdown",
   "id": "32b2db86-ad9f-4423-bc67-bec114d3b5a9",
   "metadata": {},
   "source": [
    "#### Drop the numbers from the \"long_name\" of the run, and from the \"key\" is used as the filename\n",
    "\n",
    "```{note}\n",
    "by removing the index from the key you are ensuring unique names\n",
    "```\n"
   ]
  },
  {
   "cell_type": "code",
   "execution_count": 22,
   "id": "7982e978-57ce-4964-9307-51c6cf97af55",
   "metadata": {},
   "outputs": [
    {
     "data": {
      "application/vnd.jupyter.widget-view+json": {
       "model_id": "544872d825c64c6ca6fcb7e594588899",
       "version_major": 2,
       "version_minor": 0
      },
      "text/plain": [
       "BatchApp(children=(VBox(children=(HTML(value='<h1>Plot Straight Lines</h1>\\n<h3>example RunApp</h3>'), HBox(ch…"
      ]
     },
     "metadata": {},
     "output_type": "display_data"
    }
   ],
   "source": [
    "class NewLineGraphConfigShell(DefaultConfigShell):\n",
    "    @validator(\"path_run\", always=True, pre=True)\n",
    "    def _set_path_run(cls, v, values):\n",
    "        return PATH_RUN\n",
    "\n",
    "    @validator(\"fpths_outputs\", always=True)\n",
    "    def _fpths_outputs(cls, v, values):\n",
    "        fdir = values[\"fdir_appdata\"]\n",
    "        key = values[\"key\"]\n",
    "        paths = [\n",
    "            fdir / (\"out-\" + key + \".csv\"),\n",
    "            fdir / (\"out-\" + key + \".plotly.json\"),\n",
    "        ]\n",
    "        return paths\n",
    "\n",
    "    @validator(\"autodisplay_definitions\", always=True)\n",
    "    def _autodisplay_definitions(cls, v, values):\n",
    "        return [\n",
    "            AutoDisplayDefinition(\n",
    "                path=FPTH_INPUTS_SCHEMA,\n",
    "                obj_name=\"LineGraph\",\n",
    "                ext=\".lg.json\",\n",
    "                ftype='in',\n",
    "            )\n",
    "        ]\n",
    "\n",
    "    @validator(\"autodisplay_inputs_kwargs\", always=True)\n",
    "    def _autodisplay_inputs_kwargs(cls, v, values):\n",
    "        return dict(patterns=\"*\")\n",
    "\n",
    "    @validator(\"autodisplay_outputs_kwargs\", always=True)\n",
    "    def _autodisplay_outputs_kwargs(cls, v, values):\n",
    "        return dict(patterns=\"*.plotly.json\")\n",
    "    \n",
    "    #####################################################\n",
    "    @validator(\"long_name\", always=True)\n",
    "    def _long_name(cls, v, values):\n",
    "        if v is None:\n",
    "            return stringcase.titlecase(values[\"name\"])\n",
    "        else:\n",
    "            return v\n",
    "\n",
    "    @validator(\"key\", always=True)\n",
    "    def _key(cls, v, values):\n",
    "        if v is None:\n",
    "            return values[\"name\"]\n",
    "        else:\n",
    "            return v\n",
    "    # ^ ADDED THIS BIT ###################################\n",
    "    \n",
    "    \n",
    "def fn_add_show(app):\n",
    "    clear_output()\n",
    "    display(AddNamedRun(fn_add=app.actions.add))\n",
    "\n",
    "\n",
    "class LineGraphConfigBatch(ConfigBatch):\n",
    "    \n",
    "    @validator(\"cls_config\", always=True)\n",
    "    def _cls_config(cls, v, values):\n",
    "        \"\"\"bundles RunApp up as a single argument callable\"\"\"\n",
    "        return NewLineGraphConfigShell\n",
    "\n",
    "class LineGraphBatchActions(BatchShellActions):\n",
    "    \n",
    "    @validator(\"add_show\", always=True)\n",
    "    def _add_show(cls, v, values):\n",
    "        return functools.partial(fn_add_show, values[\"app\"])\n",
    "    \n",
    "    @validator(\"config\", always=True)\n",
    "    def _config(cls, v, values):\n",
    "        \"\"\"bundles RunApp up as a single argument callable\"\"\"\n",
    "        if type(v) == dict:\n",
    "            v = LineGraphConfigBatch(**v)\n",
    "        return v\n",
    "\n",
    "    @validator(\"runlog_show\", always=True)\n",
    "    def _runlog_show(cls, v, values):\n",
    "        return None\n",
    "\n",
    "config_batch = LineGraphConfigBatch(\n",
    "    fdir_root=DIR_APPDATA,\n",
    "    # cls_config=MyConfigShell,\n",
    "    title=\"\"\"# Plot Straight Lines\\n### example RunApp\"\"\",\n",
    ")\n",
    "if config_batch.fpth_config.is_file():\n",
    "    config_batch = LineGraphConfigBatch.parse_file(config_batch.fpth_config)\n",
    "app = BatchApp(config_batch, cls_actions=LineGraphBatchActions)\n",
    "display(app)"
   ]
  },
  {
   "cell_type": "markdown",
   "id": "0b6a34ea-7a9e-4f5d-9248-04df7956afec",
   "metadata": {},
   "source": [
    "#### Edit default show/hide settings upon activating panel\n"
   ]
  },
  {
   "cell_type": "code",
   "execution_count": 23,
   "id": "060e1ff5-b285-426a-99d6-d2d1b3991174",
   "metadata": {},
   "outputs": [
    {
     "data": {
      "application/vnd.jupyter.widget-view+json": {
       "model_id": "622dd067929040b3a40f174a104c4e5b",
       "version_major": 2,
       "version_minor": 0
      },
      "text/plain": [
       "BatchApp(children=(VBox(children=(HTML(value='<h1>Plot Straight Lines</h1>\\n<h3>example RunApp</h3>'), HBox(ch…"
      ]
     },
     "metadata": {},
     "output_type": "display_data"
    }
   ],
   "source": [
    "def show(app):\n",
    "    print('show')\n",
    "    app.help_ui.value = False\n",
    "    app.help_run.value = False\n",
    "    app.help_config.value = False\n",
    "    app.inputs.value = True\n",
    "    app.outputs.value = False\n",
    "    app.runlog.value = True\n",
    "    \n",
    "    \n",
    "class LineGraphActions(RunShellActions):\n",
    "    @validator(\"activate\", always=True)\n",
    "    def _activate(cls, v, values):\n",
    "        return functools.partial(show, values['app'])\n",
    "    \n",
    "config_batch = LineGraphConfigBatch(\n",
    "    fdir_root=DIR_APPDATA,\n",
    "    # cls_config=MyConfigShell,\n",
    "    title=\"\"\"# Plot Straight Lines\\n### example RunApp\"\"\",\n",
    ")\n",
    "if config_batch.fpth_config.is_file():\n",
    "    config_batch = LineGraphConfigBatch.parse_file(config_batch.fpth_config)\n",
    "app = BatchApp(config_batch, cls_actions=LineGraphBatchActions)\n",
    "display(app)"
   ]
  },
  {
   "cell_type": "code",
   "execution_count": null,
   "id": "dcbdec06-f439-48c8-a4ce-09d0a893c2c3",
   "metadata": {},
   "outputs": [],
   "source": []
  }
 ],
 "metadata": {
  "kernelspec": {
   "display_name": "Python 3 (ipykernel)",
   "language": "python",
   "name": "python3"
  },
  "language_info": {
   "codemirror_mode": {
    "name": "ipython",
    "version": 3
   },
   "file_extension": ".py",
   "mimetype": "text/x-python",
   "name": "python",
   "nbconvert_exporter": "python",
   "pygments_lexer": "ipython3",
   "version": "3.9.15"
  },
  "toc-autonumbering": true
 },
 "nbformat": 4,
 "nbformat_minor": 5
}
